{
 "cells": [
  {
   "cell_type": "markdown",
   "id": "ffb986ee-7320-4f40-b00a-d98d4d95df7d",
   "metadata": {},
   "source": [
    "# **Cafe Sales Data Cleaning and Analysis Project**"
   ]
  },
  {
   "cell_type": "markdown",
   "id": "c32ccaa4-9bc9-4391-b35e-add96b6d0f56",
   "metadata": {},
   "source": [
    "## 1. Loading the data"
   ]
  },
  {
   "cell_type": "code",
   "execution_count": 179,
   "id": "1994f9d7-e65b-4d2d-8934-46f90aee807d",
   "metadata": {},
   "outputs": [],
   "source": [
    "import pandas as pd"
   ]
  },
  {
   "cell_type": "code",
   "execution_count": 180,
   "id": "908bf86c-3d7e-4925-9c33-6c7aeeb381ff",
   "metadata": {},
   "outputs": [],
   "source": [
    "import numpy as np"
   ]
  },
  {
   "cell_type": "code",
   "execution_count": 181,
   "id": "6ab9ce88-9f14-4546-ab11-924294101236",
   "metadata": {},
   "outputs": [],
   "source": [
    "df=pd.read_csv(\"dirty_cafe_sales.csv\")"
   ]
  },
  {
   "cell_type": "code",
   "execution_count": 182,
   "id": "e63099bb-fcf8-4cc0-bf05-86b4fbbc4dd1",
   "metadata": {},
   "outputs": [
    {
     "name": "stdout",
     "output_type": "stream",
     "text": [
      "<class 'pandas.core.frame.DataFrame'>\n",
      "RangeIndex: 10000 entries, 0 to 9999\n",
      "Data columns (total 8 columns):\n",
      " #   Column            Non-Null Count  Dtype \n",
      "---  ------            --------------  ----- \n",
      " 0   Transaction ID    10000 non-null  object\n",
      " 1   Item              9667 non-null   object\n",
      " 2   Quantity          9862 non-null   object\n",
      " 3   Price Per Unit    9821 non-null   object\n",
      " 4   Total Spent       9827 non-null   object\n",
      " 5   Payment Method    7421 non-null   object\n",
      " 6   Location          6735 non-null   object\n",
      " 7   Transaction Date  9841 non-null   object\n",
      "dtypes: object(8)\n",
      "memory usage: 4.6 MB\n"
     ]
    }
   ],
   "source": [
    "df.info(memory_usage='deep')"
   ]
  },
  {
   "cell_type": "code",
   "execution_count": 183,
   "id": "2dbee8fe-fd73-4083-8ccc-35e0cf94ddd7",
   "metadata": {},
   "outputs": [
    {
     "data": {
      "text/html": [
       "<div>\n",
       "<style scoped>\n",
       "    .dataframe tbody tr th:only-of-type {\n",
       "        vertical-align: middle;\n",
       "    }\n",
       "\n",
       "    .dataframe tbody tr th {\n",
       "        vertical-align: top;\n",
       "    }\n",
       "\n",
       "    .dataframe thead th {\n",
       "        text-align: right;\n",
       "    }\n",
       "</style>\n",
       "<table border=\"1\" class=\"dataframe\">\n",
       "  <thead>\n",
       "    <tr style=\"text-align: right;\">\n",
       "      <th></th>\n",
       "      <th>Transaction ID</th>\n",
       "      <th>Item</th>\n",
       "      <th>Quantity</th>\n",
       "      <th>Price Per Unit</th>\n",
       "      <th>Total Spent</th>\n",
       "      <th>Payment Method</th>\n",
       "      <th>Location</th>\n",
       "      <th>Transaction Date</th>\n",
       "    </tr>\n",
       "  </thead>\n",
       "  <tbody>\n",
       "    <tr>\n",
       "      <th>count</th>\n",
       "      <td>10000</td>\n",
       "      <td>9667</td>\n",
       "      <td>9862</td>\n",
       "      <td>9821</td>\n",
       "      <td>9827</td>\n",
       "      <td>7421</td>\n",
       "      <td>6735</td>\n",
       "      <td>9841</td>\n",
       "    </tr>\n",
       "    <tr>\n",
       "      <th>unique</th>\n",
       "      <td>10000</td>\n",
       "      <td>10</td>\n",
       "      <td>7</td>\n",
       "      <td>8</td>\n",
       "      <td>19</td>\n",
       "      <td>5</td>\n",
       "      <td>4</td>\n",
       "      <td>367</td>\n",
       "    </tr>\n",
       "    <tr>\n",
       "      <th>top</th>\n",
       "      <td>TXN_6170729</td>\n",
       "      <td>Juice</td>\n",
       "      <td>5</td>\n",
       "      <td>3.0</td>\n",
       "      <td>6.0</td>\n",
       "      <td>Digital Wallet</td>\n",
       "      <td>Takeaway</td>\n",
       "      <td>UNKNOWN</td>\n",
       "    </tr>\n",
       "    <tr>\n",
       "      <th>freq</th>\n",
       "      <td>1</td>\n",
       "      <td>1171</td>\n",
       "      <td>2013</td>\n",
       "      <td>2429</td>\n",
       "      <td>979</td>\n",
       "      <td>2291</td>\n",
       "      <td>3022</td>\n",
       "      <td>159</td>\n",
       "    </tr>\n",
       "  </tbody>\n",
       "</table>\n",
       "</div>"
      ],
      "text/plain": [
       "       Transaction ID   Item Quantity Price Per Unit Total Spent  \\\n",
       "count           10000   9667     9862           9821        9827   \n",
       "unique          10000     10        7              8          19   \n",
       "top       TXN_6170729  Juice        5            3.0         6.0   \n",
       "freq                1   1171     2013           2429         979   \n",
       "\n",
       "        Payment Method  Location Transaction Date  \n",
       "count             7421      6735             9841  \n",
       "unique               5         4              367  \n",
       "top     Digital Wallet  Takeaway          UNKNOWN  \n",
       "freq              2291      3022              159  "
      ]
     },
     "execution_count": 183,
     "metadata": {},
     "output_type": "execute_result"
    }
   ],
   "source": [
    "df.describe(include='all')"
   ]
  },
  {
   "cell_type": "code",
   "execution_count": 184,
   "id": "df88572d-d12d-4339-96ed-f4c985b992c8",
   "metadata": {},
   "outputs": [
    {
     "data": {
      "text/plain": [
       "(10000, 8)"
      ]
     },
     "execution_count": 184,
     "metadata": {},
     "output_type": "execute_result"
    }
   ],
   "source": [
    "df.shape"
   ]
  },
  {
   "cell_type": "markdown",
   "id": "7fee66b8-6dc2-4082-a1dd-8fa8379bc25e",
   "metadata": {},
   "source": [
    "## 2. Data Types Analysis\n",
    "\n",
    "From the data types of the attributes, it can be concluded that all columns are currently of type `object`. However, some columns should be converted to more appropriate data types for better memory optimization :\n",
    "\n",
    "- `Quantity`, `Price Per Unit`, and `Total Spent` should be converted to **numerical types** (e.g., `int` or `float`) to allow for mathematical operations and analysis.\n",
    "- And `Item` should be converted to `category` data type.\n",
    "- `Transaction Date` should be converted to a **datetime format** to enable time-based analysis such as sales trends by day, week, or month.\n"
   ]
  },
  {
   "cell_type": "markdown",
   "id": "207d87fb-f5da-4936-b2f2-fc7cacb28aeb",
   "metadata": {},
   "source": [
    "## 3, Data Cleaning\n",
    "This step involves handling missing values, handling duplicated values, converting data to proper types, and ensuring the data is ready for analysis."
   ]
  },
  {
   "cell_type": "code",
   "execution_count": 185,
   "id": "28d9d0e3-a3d1-4ec8-902f-bcc23254e35b",
   "metadata": {},
   "outputs": [
    {
     "data": {
      "text/plain": [
       "Transaction ID         0\n",
       "Item                 333\n",
       "Quantity             138\n",
       "Price Per Unit       179\n",
       "Total Spent          173\n",
       "Payment Method      2579\n",
       "Location            3265\n",
       "Transaction Date     159\n",
       "dtype: int64"
      ]
     },
     "execution_count": 185,
     "metadata": {},
     "output_type": "execute_result"
    }
   ],
   "source": [
    "df.isna().sum()"
   ]
  },
  {
   "cell_type": "markdown",
   "id": "feef4ef1-30d5-4dde-b874-88bdb4c13cc8",
   "metadata": {},
   "source": [
    "### Handling Missing Values and Invalid Values in `Item` column\n",
    "\n",
    "* For the missing values in the `Item` column, it would be appropriate to replace them with `\"Unknown Item\"`.\n",
    "* For the values that have `\"ERROR\"` or `\"UNKNOWN\"`, it would also be appropriate to replace them with `\"Unknown Item\"`.\n",
    "* Because the number of items are a few it would be great for memory optimization and performance if we convert the data type to `category`.\n"
   ]
  },
  {
   "cell_type": "code",
   "execution_count": 186,
   "id": "adf1e52e-1574-4daa-8ef6-355fd10d2748",
   "metadata": {},
   "outputs": [
    {
     "data": {
      "text/plain": [
       "array(['Coffee', 'Cake', 'Cookie', 'Salad', 'Smoothie', 'UNKNOWN',\n",
       "       'Sandwich', nan, 'ERROR', 'Juice', 'Tea'], dtype=object)"
      ]
     },
     "execution_count": 186,
     "metadata": {},
     "output_type": "execute_result"
    }
   ],
   "source": [
    "df.loc[:,\"Item\"].unique()"
   ]
  },
  {
   "cell_type": "code",
   "execution_count": 187,
   "id": "0f8c220b-8c83-4db3-98da-c3f47136913a",
   "metadata": {},
   "outputs": [],
   "source": [
    "df[\"Item\"]=df[\"Item\"].fillna(\"Unknown Item\")"
   ]
  },
  {
   "cell_type": "code",
   "execution_count": 188,
   "id": "a0adcc1e-9a83-4d7b-b274-a60f71169673",
   "metadata": {},
   "outputs": [
    {
     "data": {
      "text/plain": [
       "np.int64(0)"
      ]
     },
     "execution_count": 188,
     "metadata": {},
     "output_type": "execute_result"
    }
   ],
   "source": [
    "df[\"Item\"].isna().sum()"
   ]
  },
  {
   "cell_type": "code",
   "execution_count": 189,
   "id": "6b41f56d-90a5-43e0-a423-63ae3892ebcc",
   "metadata": {},
   "outputs": [],
   "source": [
    "df[\"Item\"]=np.where(df[\"Item\"].isin([\"ERROR\",\"UNKNOWN\"]),\"Unknown Item\",df[\"Item\"])"
   ]
  },
  {
   "cell_type": "code",
   "execution_count": 190,
   "id": "e6d58302-5db5-4e95-a0d0-d549cc21b1e3",
   "metadata": {},
   "outputs": [],
   "source": [
    "df[\"Item\"]=df[\"Item\"].astype('category')"
   ]
  },
  {
   "cell_type": "code",
   "execution_count": 191,
   "id": "74440254-8092-405e-9277-f2603563d70b",
   "metadata": {},
   "outputs": [
    {
     "name": "stdout",
     "output_type": "stream",
     "text": [
      "<class 'pandas.core.frame.DataFrame'>\n",
      "RangeIndex: 10000 entries, 0 to 9999\n",
      "Data columns (total 8 columns):\n",
      " #   Column            Non-Null Count  Dtype   \n",
      "---  ------            --------------  -----   \n",
      " 0   Transaction ID    10000 non-null  object  \n",
      " 1   Item              10000 non-null  category\n",
      " 2   Quantity          9862 non-null   object  \n",
      " 3   Price Per Unit    9821 non-null   object  \n",
      " 4   Total Spent       9827 non-null   object  \n",
      " 5   Payment Method    7421 non-null   object  \n",
      " 6   Location          6735 non-null   object  \n",
      " 7   Transaction Date  9841 non-null   object  \n",
      "dtypes: category(1), object(7)\n",
      "memory usage: 4.0 MB\n"
     ]
    }
   ],
   "source": [
    "df.info(memory_usage='deep')"
   ]
  },
  {
   "cell_type": "markdown",
   "id": "0d57aa88-a8c2-4584-bc52-5ed76ae659f4",
   "metadata": {},
   "source": [
    "#### Now the data type of the item is converted to `category`. This reduced the amount of memory used compared to when the data type was `object`."
   ]
  },
  {
   "cell_type": "markdown",
   "id": "84fc2d1f-c20b-4d0d-b5f8-afd8bc51b267",
   "metadata": {},
   "source": [
    "### Handling Missing Values and Invalid Values in `Quantity`\n",
    "\n",
    "- Missing values in the `Quantity` column will initially be replaced with `0` to handle invalid entries and allow for proper data type conversion.\n",
    "- Entries like `\"ERROR\"` and `\"UNKNOWN\"` will be replaced with `0` as a placeholder.\n",
    "- After converting the columns to the correct numeric format, these placeholder values can be further refined or updated based on related attributes if necessary(by dividing total spent and price).\n"
   ]
  },
  {
   "cell_type": "code",
   "execution_count": 192,
   "id": "ad892d11-f124-46fd-9854-c4f0ef119db2",
   "metadata": {},
   "outputs": [
    {
     "data": {
      "text/plain": [
       "array(['2', '4', '5', '3', '1', 'ERROR', 'UNKNOWN', nan], dtype=object)"
      ]
     },
     "execution_count": 192,
     "metadata": {},
     "output_type": "execute_result"
    }
   ],
   "source": [
    "df[\"Quantity\"].unique()"
   ]
  },
  {
   "cell_type": "code",
   "execution_count": 193,
   "id": "c7dec74d-7ddb-4ba4-b1ca-c6d9532c7c82",
   "metadata": {},
   "outputs": [],
   "source": [
    "df[\"Quantity\"]=df[\"Quantity\"].fillna(0)"
   ]
  },
  {
   "cell_type": "code",
   "execution_count": 194,
   "id": "c4085c9e-a504-4075-b650-c2f89ea1477c",
   "metadata": {},
   "outputs": [
    {
     "data": {
      "text/plain": [
       "np.int64(0)"
      ]
     },
     "execution_count": 194,
     "metadata": {},
     "output_type": "execute_result"
    }
   ],
   "source": [
    "df[\"Quantity\"].isna().sum()"
   ]
  },
  {
   "cell_type": "code",
   "execution_count": 195,
   "id": "fa070967-7e4f-4402-9059-6b9c44cdcc8f",
   "metadata": {},
   "outputs": [],
   "source": [
    "df[\"Quantity\"]=np.where(df[\"Quantity\"].isin([\"ERROR\",\"UNKNOWN\"]),0,df[\"Quantity\"])"
   ]
  },
  {
   "cell_type": "code",
   "execution_count": 196,
   "id": "accd0f28-85e7-494d-a430-ce81fa9a7c5e",
   "metadata": {},
   "outputs": [],
   "source": [
    "df[\"Quantity\"]=df[\"Quantity\"].astype(\"int8\")"
   ]
  },
  {
   "cell_type": "code",
   "execution_count": 197,
   "id": "7d7ab72f-7cae-496e-a916-1a495b516bbe",
   "metadata": {},
   "outputs": [
    {
     "name": "stdout",
     "output_type": "stream",
     "text": [
      "<class 'pandas.core.frame.DataFrame'>\n",
      "RangeIndex: 10000 entries, 0 to 9999\n",
      "Data columns (total 8 columns):\n",
      " #   Column            Non-Null Count  Dtype   \n",
      "---  ------            --------------  -----   \n",
      " 0   Transaction ID    10000 non-null  object  \n",
      " 1   Item              10000 non-null  category\n",
      " 2   Quantity          10000 non-null  int8    \n",
      " 3   Price Per Unit    9821 non-null   object  \n",
      " 4   Total Spent       9827 non-null   object  \n",
      " 5   Payment Method    7421 non-null   object  \n",
      " 6   Location          6735 non-null   object  \n",
      " 7   Transaction Date  9841 non-null   object  \n",
      "dtypes: category(1), int8(1), object(6)\n",
      "memory usage: 3.5 MB\n"
     ]
    }
   ],
   "source": [
    "df.info(memory_usage='deep')"
   ]
  },
  {
   "cell_type": "markdown",
   "id": "9fdf447f-829a-4ac1-ae61-6b885f110d81",
   "metadata": {},
   "source": [
    "#### Now the data type of the `Quantity` is converted to `int8`. This reduced the amount of memory used compared to when the data type was `object`."
   ]
  },
  {
   "cell_type": "markdown",
   "id": "1a2cd9ce-56ca-405f-bafd-5cef8eec13c5",
   "metadata": {},
   "source": [
    "### Handling Missing Values in `Price Per Unit`\n",
    "\n",
    "\n",
    "- Entries like `\"ERROR\"` and `\"UNKNOWN\"` will be replaced with `0` as a placeholder.\n",
    "- After converting the columns to the correct numeric format, these placeholder values can be further refined or updated based on related attributes if necessary."
   ]
  },
  {
   "cell_type": "code",
   "execution_count": 198,
   "id": "1a57fffe-5d76-4083-99cd-781c441899d6",
   "metadata": {},
   "outputs": [
    {
     "data": {
      "text/plain": [
       "array(['2.0', '3.0', '1.0', '5.0', '4.0', '1.5', nan, 'ERROR', 'UNKNOWN'],\n",
       "      dtype=object)"
      ]
     },
     "execution_count": 198,
     "metadata": {},
     "output_type": "execute_result"
    }
   ],
   "source": [
    "df[\"Price Per Unit\"].unique()"
   ]
  },
  {
   "cell_type": "code",
   "execution_count": 199,
   "id": "5ea5fce0-482f-438a-9cf7-b30d1a988b83",
   "metadata": {},
   "outputs": [],
   "source": [
    "df[\"Price Per Unit\"]=np.where(df[\"Price Per Unit\"].isin([\"ERROR\",\"UNKNOWN\"]),0,df[\"Price Per Unit\"])"
   ]
  },
  {
   "cell_type": "code",
   "execution_count": 200,
   "id": "35b9c106-8485-463b-b9f4-5bfbdc319d72",
   "metadata": {},
   "outputs": [],
   "source": [
    "df[\"Price Per Unit\"]=df[\"Price Per Unit\"].astype(\"float64\") # Data type is converted to float to make it easier to work when filling the na values"
   ]
  },
  {
   "cell_type": "code",
   "execution_count": 201,
   "id": "ecec2f1e-5353-4145-9b58-54e42d44676e",
   "metadata": {},
   "outputs": [
    {
     "name": "stdout",
     "output_type": "stream",
     "text": [
      "<class 'pandas.core.frame.DataFrame'>\n",
      "RangeIndex: 10000 entries, 0 to 9999\n",
      "Data columns (total 8 columns):\n",
      " #   Column            Non-Null Count  Dtype   \n",
      "---  ------            --------------  -----   \n",
      " 0   Transaction ID    10000 non-null  object  \n",
      " 1   Item              10000 non-null  category\n",
      " 2   Quantity          10000 non-null  int8    \n",
      " 3   Price Per Unit    9821 non-null   float64 \n",
      " 4   Total Spent       9827 non-null   object  \n",
      " 5   Payment Method    7421 non-null   object  \n",
      " 6   Location          6735 non-null   object  \n",
      " 7   Transaction Date  9841 non-null   object  \n",
      "dtypes: category(1), float64(1), int8(1), object(5)\n",
      "memory usage: 3.0 MB\n"
     ]
    }
   ],
   "source": [
    "df.info(memory_usage='deep')"
   ]
  },
  {
   "cell_type": "markdown",
   "id": "0426519e-ad66-4582-be2e-68cd7eefc204",
   "metadata": {},
   "source": [
    "#### Now the data type of the `Price Per Unit` is converted to `float64`. This reduced the amount of memory used compared to when the data type was `object`."
   ]
  },
  {
   "cell_type": "markdown",
   "id": "47202789-af3d-46d3-9c8c-77e6fff12db1",
   "metadata": {},
   "source": [
    "#### Group-Based Imputation for `Price Per Unit` to fill the missing values\n",
    "\n",
    "The DataFrame will be grouped by the `Item` column to calculate the average `Price Per Unit` for each item. These group-specific averages will then be used to fill in missing values in the `Price Per Unit` column. This method ensures the calculated values are contextually accurate while preserving the original number of rows in the dataset.\n"
   ]
  },
  {
   "cell_type": "code",
   "execution_count": 202,
   "id": "b49099a9-0764-465b-bd4a-a327ffca2fb1",
   "metadata": {},
   "outputs": [
    {
     "name": "stderr",
     "output_type": "stream",
     "text": [
      "C:\\Users\\blena\\AppData\\Local\\Temp\\ipykernel_3012\\2572232616.py:1: FutureWarning: The default of observed=False is deprecated and will be changed to True in a future version of pandas. Pass observed=False to retain current behavior or observed=True to adopt the future default and silence this warning.\n",
      "  df[\"Price Per Unit\"]=df.groupby('Item')[\"Price Per Unit\"].transform(lambda x: x.fillna(x.mean()) if x.name!='Unknown Item' else x)#mean of the price for each item\n"
     ]
    }
   ],
   "source": [
    "df[\"Price Per Unit\"]=df.groupby('Item')[\"Price Per Unit\"].transform(lambda x: x.fillna(x.mean()) if x.name!='Unknown Item' else x)#mean of the price for each item"
   ]
  },
  {
   "cell_type": "code",
   "execution_count": 203,
   "id": "65f2078b-4fc8-4fd9-870c-8fa2439e11e4",
   "metadata": {},
   "outputs": [
    {
     "data": {
      "text/html": [
       "<div>\n",
       "<style scoped>\n",
       "    .dataframe tbody tr th:only-of-type {\n",
       "        vertical-align: middle;\n",
       "    }\n",
       "\n",
       "    .dataframe tbody tr th {\n",
       "        vertical-align: top;\n",
       "    }\n",
       "\n",
       "    .dataframe thead th {\n",
       "        text-align: right;\n",
       "    }\n",
       "</style>\n",
       "<table border=\"1\" class=\"dataframe\">\n",
       "  <thead>\n",
       "    <tr style=\"text-align: right;\">\n",
       "      <th></th>\n",
       "      <th>Transaction ID</th>\n",
       "      <th>Item</th>\n",
       "      <th>Quantity</th>\n",
       "      <th>Price Per Unit</th>\n",
       "      <th>Total Spent</th>\n",
       "      <th>Payment Method</th>\n",
       "      <th>Location</th>\n",
       "      <th>Transaction Date</th>\n",
       "    </tr>\n",
       "  </thead>\n",
       "  <tbody>\n",
       "    <tr>\n",
       "      <th>118</th>\n",
       "      <td>TXN_4633784</td>\n",
       "      <td>Unknown Item</td>\n",
       "      <td>5</td>\n",
       "      <td>NaN</td>\n",
       "      <td>15.0</td>\n",
       "      <td>NaN</td>\n",
       "      <td>In-store</td>\n",
       "      <td>2023-02-06</td>\n",
       "    </tr>\n",
       "    <tr>\n",
       "      <th>151</th>\n",
       "      <td>TXN_4031509</td>\n",
       "      <td>Unknown Item</td>\n",
       "      <td>4</td>\n",
       "      <td>NaN</td>\n",
       "      <td>16.0</td>\n",
       "      <td>Credit Card</td>\n",
       "      <td>Takeaway</td>\n",
       "      <td>2023-01-04</td>\n",
       "    </tr>\n",
       "    <tr>\n",
       "      <th>334</th>\n",
       "      <td>TXN_2523298</td>\n",
       "      <td>Unknown Item</td>\n",
       "      <td>4</td>\n",
       "      <td>NaN</td>\n",
       "      <td>6.0</td>\n",
       "      <td>ERROR</td>\n",
       "      <td>In-store</td>\n",
       "      <td>2023-03-25</td>\n",
       "    </tr>\n",
       "    <tr>\n",
       "      <th>550</th>\n",
       "      <td>TXN_4186681</td>\n",
       "      <td>Unknown Item</td>\n",
       "      <td>4</td>\n",
       "      <td>NaN</td>\n",
       "      <td>6.0</td>\n",
       "      <td>Digital Wallet</td>\n",
       "      <td>NaN</td>\n",
       "      <td>2023-05-24</td>\n",
       "    </tr>\n",
       "    <tr>\n",
       "      <th>818</th>\n",
       "      <td>TXN_7940202</td>\n",
       "      <td>Unknown Item</td>\n",
       "      <td>1</td>\n",
       "      <td>NaN</td>\n",
       "      <td>4.0</td>\n",
       "      <td>Digital Wallet</td>\n",
       "      <td>NaN</td>\n",
       "      <td>2023-07-23</td>\n",
       "    </tr>\n",
       "    <tr>\n",
       "      <th>1154</th>\n",
       "      <td>TXN_2473090</td>\n",
       "      <td>Unknown Item</td>\n",
       "      <td>2</td>\n",
       "      <td>NaN</td>\n",
       "      <td>3.0</td>\n",
       "      <td>Credit Card</td>\n",
       "      <td>In-store</td>\n",
       "      <td>2023-03-03</td>\n",
       "    </tr>\n",
       "    <tr>\n",
       "      <th>1377</th>\n",
       "      <td>TXN_8396271</td>\n",
       "      <td>Unknown Item</td>\n",
       "      <td>2</td>\n",
       "      <td>NaN</td>\n",
       "      <td>2.0</td>\n",
       "      <td>NaN</td>\n",
       "      <td>NaN</td>\n",
       "      <td>2023-09-12</td>\n",
       "    </tr>\n",
       "    <tr>\n",
       "      <th>2962</th>\n",
       "      <td>TXN_9702662</td>\n",
       "      <td>Unknown Item</td>\n",
       "      <td>4</td>\n",
       "      <td>NaN</td>\n",
       "      <td>16.0</td>\n",
       "      <td>NaN</td>\n",
       "      <td>Takeaway</td>\n",
       "      <td>2023-07-10</td>\n",
       "    </tr>\n",
       "    <tr>\n",
       "      <th>3013</th>\n",
       "      <td>TXN_1842697</td>\n",
       "      <td>Unknown Item</td>\n",
       "      <td>5</td>\n",
       "      <td>NaN</td>\n",
       "      <td>15.0</td>\n",
       "      <td>NaN</td>\n",
       "      <td>NaN</td>\n",
       "      <td>2023-10-25</td>\n",
       "    </tr>\n",
       "    <tr>\n",
       "      <th>3739</th>\n",
       "      <td>TXN_4849180</td>\n",
       "      <td>Unknown Item</td>\n",
       "      <td>5</td>\n",
       "      <td>NaN</td>\n",
       "      <td>15.0</td>\n",
       "      <td>Credit Card</td>\n",
       "      <td>In-store</td>\n",
       "      <td>2023-10-14</td>\n",
       "    </tr>\n",
       "    <tr>\n",
       "      <th>4621</th>\n",
       "      <td>TXN_7844352</td>\n",
       "      <td>Unknown Item</td>\n",
       "      <td>2</td>\n",
       "      <td>NaN</td>\n",
       "      <td>6.0</td>\n",
       "      <td>Credit Card</td>\n",
       "      <td>NaN</td>\n",
       "      <td>2023-07-26</td>\n",
       "    </tr>\n",
       "    <tr>\n",
       "      <th>5039</th>\n",
       "      <td>TXN_9514452</td>\n",
       "      <td>Unknown Item</td>\n",
       "      <td>5</td>\n",
       "      <td>NaN</td>\n",
       "      <td>10.0</td>\n",
       "      <td>Credit Card</td>\n",
       "      <td>Takeaway</td>\n",
       "      <td>2023-07-29</td>\n",
       "    </tr>\n",
       "    <tr>\n",
       "      <th>6429</th>\n",
       "      <td>TXN_2536573</td>\n",
       "      <td>Unknown Item</td>\n",
       "      <td>2</td>\n",
       "      <td>NaN</td>\n",
       "      <td>8.0</td>\n",
       "      <td>Cash</td>\n",
       "      <td>In-store</td>\n",
       "      <td>2023-06-24</td>\n",
       "    </tr>\n",
       "    <tr>\n",
       "      <th>7478</th>\n",
       "      <td>TXN_9710982</td>\n",
       "      <td>Unknown Item</td>\n",
       "      <td>4</td>\n",
       "      <td>NaN</td>\n",
       "      <td>16.0</td>\n",
       "      <td>NaN</td>\n",
       "      <td>NaN</td>\n",
       "      <td>2023-03-03</td>\n",
       "    </tr>\n",
       "    <tr>\n",
       "      <th>7597</th>\n",
       "      <td>TXN_1082717</td>\n",
       "      <td>Unknown Item</td>\n",
       "      <td>0</td>\n",
       "      <td>NaN</td>\n",
       "      <td>9.0</td>\n",
       "      <td>Digital Wallet</td>\n",
       "      <td>In-store</td>\n",
       "      <td>2023-12-13</td>\n",
       "    </tr>\n",
       "    <tr>\n",
       "      <th>9382</th>\n",
       "      <td>TXN_4255580</td>\n",
       "      <td>Unknown Item</td>\n",
       "      <td>1</td>\n",
       "      <td>NaN</td>\n",
       "      <td>3.0</td>\n",
       "      <td>Cash</td>\n",
       "      <td>NaN</td>\n",
       "      <td>NaN</td>\n",
       "    </tr>\n",
       "    <tr>\n",
       "      <th>9673</th>\n",
       "      <td>TXN_2480808</td>\n",
       "      <td>Unknown Item</td>\n",
       "      <td>1</td>\n",
       "      <td>NaN</td>\n",
       "      <td>4.0</td>\n",
       "      <td>Credit Card</td>\n",
       "      <td>NaN</td>\n",
       "      <td>2023-03-30</td>\n",
       "    </tr>\n",
       "    <tr>\n",
       "      <th>9764</th>\n",
       "      <td>TXN_1688292</td>\n",
       "      <td>Unknown Item</td>\n",
       "      <td>3</td>\n",
       "      <td>NaN</td>\n",
       "      <td>9.0</td>\n",
       "      <td>Credit Card</td>\n",
       "      <td>In-store</td>\n",
       "      <td>NaN</td>\n",
       "    </tr>\n",
       "    <tr>\n",
       "      <th>9819</th>\n",
       "      <td>TXN_1208561</td>\n",
       "      <td>Unknown Item</td>\n",
       "      <td>0</td>\n",
       "      <td>NaN</td>\n",
       "      <td>20.0</td>\n",
       "      <td>Credit Card</td>\n",
       "      <td>NaN</td>\n",
       "      <td>2023-08-19</td>\n",
       "    </tr>\n",
       "    <tr>\n",
       "      <th>9820</th>\n",
       "      <td>TXN_8751702</td>\n",
       "      <td>Unknown Item</td>\n",
       "      <td>5</td>\n",
       "      <td>NaN</td>\n",
       "      <td>15.0</td>\n",
       "      <td>Cash</td>\n",
       "      <td>NaN</td>\n",
       "      <td>2023-02-13</td>\n",
       "    </tr>\n",
       "    <tr>\n",
       "      <th>9996</th>\n",
       "      <td>TXN_9659401</td>\n",
       "      <td>Unknown Item</td>\n",
       "      <td>3</td>\n",
       "      <td>NaN</td>\n",
       "      <td>3.0</td>\n",
       "      <td>Digital Wallet</td>\n",
       "      <td>NaN</td>\n",
       "      <td>2023-06-02</td>\n",
       "    </tr>\n",
       "  </tbody>\n",
       "</table>\n",
       "</div>"
      ],
      "text/plain": [
       "     Transaction ID          Item  Quantity  Price Per Unit Total Spent  \\\n",
       "118     TXN_4633784  Unknown Item         5             NaN        15.0   \n",
       "151     TXN_4031509  Unknown Item         4             NaN        16.0   \n",
       "334     TXN_2523298  Unknown Item         4             NaN         6.0   \n",
       "550     TXN_4186681  Unknown Item         4             NaN         6.0   \n",
       "818     TXN_7940202  Unknown Item         1             NaN         4.0   \n",
       "1154    TXN_2473090  Unknown Item         2             NaN         3.0   \n",
       "1377    TXN_8396271  Unknown Item         2             NaN         2.0   \n",
       "2962    TXN_9702662  Unknown Item         4             NaN        16.0   \n",
       "3013    TXN_1842697  Unknown Item         5             NaN        15.0   \n",
       "3739    TXN_4849180  Unknown Item         5             NaN        15.0   \n",
       "4621    TXN_7844352  Unknown Item         2             NaN         6.0   \n",
       "5039    TXN_9514452  Unknown Item         5             NaN        10.0   \n",
       "6429    TXN_2536573  Unknown Item         2             NaN         8.0   \n",
       "7478    TXN_9710982  Unknown Item         4             NaN        16.0   \n",
       "7597    TXN_1082717  Unknown Item         0             NaN         9.0   \n",
       "9382    TXN_4255580  Unknown Item         1             NaN         3.0   \n",
       "9673    TXN_2480808  Unknown Item         1             NaN         4.0   \n",
       "9764    TXN_1688292  Unknown Item         3             NaN         9.0   \n",
       "9819    TXN_1208561  Unknown Item         0             NaN        20.0   \n",
       "9820    TXN_8751702  Unknown Item         5             NaN        15.0   \n",
       "9996    TXN_9659401  Unknown Item         3             NaN         3.0   \n",
       "\n",
       "      Payment Method  Location Transaction Date  \n",
       "118              NaN  In-store       2023-02-06  \n",
       "151      Credit Card  Takeaway       2023-01-04  \n",
       "334            ERROR  In-store       2023-03-25  \n",
       "550   Digital Wallet       NaN       2023-05-24  \n",
       "818   Digital Wallet       NaN       2023-07-23  \n",
       "1154     Credit Card  In-store       2023-03-03  \n",
       "1377             NaN       NaN       2023-09-12  \n",
       "2962             NaN  Takeaway       2023-07-10  \n",
       "3013             NaN       NaN       2023-10-25  \n",
       "3739     Credit Card  In-store       2023-10-14  \n",
       "4621     Credit Card       NaN       2023-07-26  \n",
       "5039     Credit Card  Takeaway       2023-07-29  \n",
       "6429            Cash  In-store       2023-06-24  \n",
       "7478             NaN       NaN       2023-03-03  \n",
       "7597  Digital Wallet  In-store       2023-12-13  \n",
       "9382            Cash       NaN              NaN  \n",
       "9673     Credit Card       NaN       2023-03-30  \n",
       "9764     Credit Card  In-store              NaN  \n",
       "9819     Credit Card       NaN       2023-08-19  \n",
       "9820            Cash       NaN       2023-02-13  \n",
       "9996  Digital Wallet       NaN       2023-06-02  "
      ]
     },
     "execution_count": 203,
     "metadata": {},
     "output_type": "execute_result"
    }
   ],
   "source": [
    "df[(df['Item']=='Unknown Item') & (df['Price Per Unit'].isna()==True)]"
   ]
  },
  {
   "cell_type": "markdown",
   "id": "45e2463b-5a3a-4fbb-8909-418b7338d790",
   "metadata": {},
   "source": [
    "### Handling Missing Values in `Total Spent`\n",
    "\n",
    "\n",
    "- Entries like `\"ERROR\"`,`\"UNKNOWN\"` and `nan` will be replaced with `0` as a placeholder.\n",
    "- After converting the columns to the correct numeric format, these placeholder values can be further refined or updated based on related attributes if necessary."
   ]
  },
  {
   "cell_type": "code",
   "execution_count": 204,
   "id": "2e143a5f-841b-4857-acb0-1f00bd5d7c3a",
   "metadata": {},
   "outputs": [
    {
     "data": {
      "text/plain": [
       "array(['4.0', '12.0', 'ERROR', '10.0', '20.0', '9.0', '16.0', '15.0',\n",
       "       '25.0', '8.0', '5.0', '3.0', '6.0', nan, 'UNKNOWN', '2.0', '1.0',\n",
       "       '7.5', '4.5', '1.5'], dtype=object)"
      ]
     },
     "execution_count": 204,
     "metadata": {},
     "output_type": "execute_result"
    }
   ],
   "source": [
    "df[\"Total Spent\"].unique()"
   ]
  },
  {
   "cell_type": "code",
   "execution_count": 205,
   "id": "05bfe9b4-cbc8-4f26-8498-a3e8d38b1759",
   "metadata": {},
   "outputs": [],
   "source": [
    "df[\"Total Spent\"]=df[\"Total Spent\"].fillna(0)"
   ]
  },
  {
   "cell_type": "code",
   "execution_count": 206,
   "id": "4a5ac148-a0c5-4e2b-bfc0-e81d0dad1d8f",
   "metadata": {},
   "outputs": [],
   "source": [
    "df[\"Total Spent\"]=np.where(df[\"Total Spent\"].isin([\"ERROR\",\"UNKNOWN\"]),0,df[\"Total Spent\"])"
   ]
  },
  {
   "cell_type": "code",
   "execution_count": 207,
   "id": "4ebcf82e-c43f-4cf4-9f01-046983a42185",
   "metadata": {},
   "outputs": [],
   "source": [
    "df[\"Total Spent\"]=df[\"Total Spent\"].astype(\"float64\")"
   ]
  },
  {
   "cell_type": "code",
   "execution_count": 208,
   "id": "8b2b9a56-1323-49e7-97cc-25956dd905a5",
   "metadata": {},
   "outputs": [
    {
     "name": "stdout",
     "output_type": "stream",
     "text": [
      "<class 'pandas.core.frame.DataFrame'>\n",
      "RangeIndex: 10000 entries, 0 to 9999\n",
      "Data columns (total 8 columns):\n",
      " #   Column            Non-Null Count  Dtype   \n",
      "---  ------            --------------  -----   \n",
      " 0   Transaction ID    10000 non-null  object  \n",
      " 1   Item              10000 non-null  category\n",
      " 2   Quantity          10000 non-null  int8    \n",
      " 3   Price Per Unit    9979 non-null   float64 \n",
      " 4   Total Spent       10000 non-null  float64 \n",
      " 5   Payment Method    7421 non-null   object  \n",
      " 6   Location          6735 non-null   object  \n",
      " 7   Transaction Date  9841 non-null   object  \n",
      "dtypes: category(1), float64(2), int8(1), object(4)\n",
      "memory usage: 2.5 MB\n"
     ]
    }
   ],
   "source": [
    "df.info(memory_usage='deep')"
   ]
  },
  {
   "cell_type": "markdown",
   "id": "fdac95eb-471a-41d0-92a6-e23892687b65",
   "metadata": {},
   "source": [
    "#### Now the data type of the `Total Spent` is converted to `float64`. This reduced the amount of memory used compared to when the data type was `object`."
   ]
  },
  {
   "cell_type": "code",
   "execution_count": 209,
   "id": "02c030a0-8b42-4925-b29a-d2afd194e6e0",
   "metadata": {},
   "outputs": [
    {
     "data": {
      "text/plain": [
       "Transaction ID         0\n",
       "Item                   0\n",
       "Quantity               0\n",
       "Price Per Unit        21\n",
       "Total Spent            0\n",
       "Payment Method      2579\n",
       "Location            3265\n",
       "Transaction Date     159\n",
       "dtype: int64"
      ]
     },
     "execution_count": 209,
     "metadata": {},
     "output_type": "execute_result"
    }
   ],
   "source": [
    "df.isna().sum()"
   ]
  },
  {
   "cell_type": "markdown",
   "id": "73a27536-369e-4b5d-a18a-678c101e5aa1",
   "metadata": {},
   "source": [
    "#### Calculating the correct values for the `Quantity`, `Price Per Unit` and `Total Spent`."
   ]
  },
  {
   "cell_type": "code",
   "execution_count": 210,
   "id": "00c7427c-efda-43cc-acc6-6d2c0d1175d5",
   "metadata": {},
   "outputs": [],
   "source": [
    "df['Price Per Unit']=np.where(\n",
    "    ((df['Price Per Unit']==0) | (df['Price Per Unit'].isna()==True)) &\n",
    "    (df['Quantity']!=0) &\n",
    "    (df['Total Spent']!=0),\n",
    "    df['Total Spent']/df['Quantity'],\n",
    "    df['Price Per Unit'])"
   ]
  },
  {
   "cell_type": "code",
   "execution_count": 211,
   "id": "3da65817-1ce6-48ce-8fa6-3d59943b89cf",
   "metadata": {},
   "outputs": [
    {
     "data": {
      "text/plain": [
       "Transaction ID         0\n",
       "Item                   0\n",
       "Quantity               0\n",
       "Price Per Unit         2\n",
       "Total Spent            0\n",
       "Payment Method      2579\n",
       "Location            3265\n",
       "Transaction Date     159\n",
       "dtype: int64"
      ]
     },
     "execution_count": 211,
     "metadata": {},
     "output_type": "execute_result"
    }
   ],
   "source": [
    "df.isna().sum()"
   ]
  },
  {
   "cell_type": "code",
   "execution_count": null,
   "id": "ef1234e3-e0fc-4708-853e-ea1c36f8fa22",
   "metadata": {},
   "outputs": [],
   "source": []
  },
  {
   "cell_type": "code",
   "execution_count": 212,
   "id": "d5e0671b-5bb1-43ae-9215-367167ae34cd",
   "metadata": {},
   "outputs": [],
   "source": [
    "df['Quantity']=np.where(\n",
    "    ((df['Quantity']==0) | (df['Quantity'].isna()==True) ) &\n",
    "    (df['Price Per Unit']!=0) &\n",
    "    (df['Total Spent']!=0),\n",
    "    df['Total Spent']/df['Price Per Unit'],\n",
    "    df['Quantity'])"
   ]
  },
  {
   "cell_type": "code",
   "execution_count": 213,
   "id": "374c6d16-f4e1-431c-b3f8-9ad35c398cc2",
   "metadata": {},
   "outputs": [],
   "source": [
    "df['Total Spent']=np.where(\n",
    "    ((df['Total Spent']==0) | (df['Total Spent'].isna()==True)) &\n",
    "    (df['Quantity']!=0) &\n",
    "    (df['Price Per Unit']!=0),\n",
    "    df['Price Per Unit']*df['Quantity'],\n",
    "    df['Total Spent'])"
   ]
  },
  {
   "cell_type": "code",
   "execution_count": 214,
   "id": "3f91af90-017a-4db4-bc03-4d07740489fe",
   "metadata": {},
   "outputs": [
    {
     "data": {
      "text/html": [
       "<div>\n",
       "<style scoped>\n",
       "    .dataframe tbody tr th:only-of-type {\n",
       "        vertical-align: middle;\n",
       "    }\n",
       "\n",
       "    .dataframe tbody tr th {\n",
       "        vertical-align: top;\n",
       "    }\n",
       "\n",
       "    .dataframe thead th {\n",
       "        text-align: right;\n",
       "    }\n",
       "</style>\n",
       "<table border=\"1\" class=\"dataframe\">\n",
       "  <thead>\n",
       "    <tr style=\"text-align: right;\">\n",
       "      <th></th>\n",
       "      <th>Transaction ID</th>\n",
       "      <th>Item</th>\n",
       "      <th>Quantity</th>\n",
       "      <th>Price Per Unit</th>\n",
       "      <th>Total Spent</th>\n",
       "      <th>Payment Method</th>\n",
       "      <th>Location</th>\n",
       "      <th>Transaction Date</th>\n",
       "    </tr>\n",
       "  </thead>\n",
       "  <tbody>\n",
       "    <tr>\n",
       "      <th>1436</th>\n",
       "      <td>TXN_7590801</td>\n",
       "      <td>Tea</td>\n",
       "      <td>0.0</td>\n",
       "      <td>0.0</td>\n",
       "      <td>6.0</td>\n",
       "      <td>Cash</td>\n",
       "      <td>Takeaway</td>\n",
       "      <td>ERROR</td>\n",
       "    </tr>\n",
       "    <tr>\n",
       "      <th>1761</th>\n",
       "      <td>TXN_3611851</td>\n",
       "      <td>Unknown Item</td>\n",
       "      <td>4.0</td>\n",
       "      <td>0.0</td>\n",
       "      <td>0.0</td>\n",
       "      <td>Credit Card</td>\n",
       "      <td>NaN</td>\n",
       "      <td>2023-02-09</td>\n",
       "    </tr>\n",
       "    <tr>\n",
       "      <th>2229</th>\n",
       "      <td>TXN_8498613</td>\n",
       "      <td>Sandwich</td>\n",
       "      <td>2.0</td>\n",
       "      <td>0.0</td>\n",
       "      <td>0.0</td>\n",
       "      <td>NaN</td>\n",
       "      <td>NaN</td>\n",
       "      <td>2023-11-08</td>\n",
       "    </tr>\n",
       "    <tr>\n",
       "      <th>2289</th>\n",
       "      <td>TXN_7524977</td>\n",
       "      <td>Unknown Item</td>\n",
       "      <td>4.0</td>\n",
       "      <td>0.0</td>\n",
       "      <td>0.0</td>\n",
       "      <td>ERROR</td>\n",
       "      <td>NaN</td>\n",
       "      <td>2023-12-09</td>\n",
       "    </tr>\n",
       "    <tr>\n",
       "      <th>2330</th>\n",
       "      <td>TXN_3849488</td>\n",
       "      <td>Salad</td>\n",
       "      <td>0.0</td>\n",
       "      <td>0.0</td>\n",
       "      <td>5.0</td>\n",
       "      <td>NaN</td>\n",
       "      <td>In-store</td>\n",
       "      <td>2023-03-01</td>\n",
       "    </tr>\n",
       "    <tr>\n",
       "      <th>2585</th>\n",
       "      <td>TXN_1259340</td>\n",
       "      <td>Tea</td>\n",
       "      <td>3.0</td>\n",
       "      <td>0.0</td>\n",
       "      <td>0.0</td>\n",
       "      <td>Digital Wallet</td>\n",
       "      <td>NaN</td>\n",
       "      <td>2023-02-24</td>\n",
       "    </tr>\n",
       "    <tr>\n",
       "      <th>3598</th>\n",
       "      <td>TXN_2857444</td>\n",
       "      <td>Smoothie</td>\n",
       "      <td>1.0</td>\n",
       "      <td>0.0</td>\n",
       "      <td>0.0</td>\n",
       "      <td>Cash</td>\n",
       "      <td>Takeaway</td>\n",
       "      <td>2023-05-10</td>\n",
       "    </tr>\n",
       "    <tr>\n",
       "      <th>3635</th>\n",
       "      <td>TXN_6177081</td>\n",
       "      <td>Cookie</td>\n",
       "      <td>0.0</td>\n",
       "      <td>0.0</td>\n",
       "      <td>1.0</td>\n",
       "      <td>Cash</td>\n",
       "      <td>ERROR</td>\n",
       "      <td>2023-07-26</td>\n",
       "    </tr>\n",
       "    <tr>\n",
       "      <th>3673</th>\n",
       "      <td>TXN_6500126</td>\n",
       "      <td>Smoothie</td>\n",
       "      <td>2.0</td>\n",
       "      <td>0.0</td>\n",
       "      <td>0.0</td>\n",
       "      <td>NaN</td>\n",
       "      <td>UNKNOWN</td>\n",
       "      <td>NaN</td>\n",
       "    </tr>\n",
       "    <tr>\n",
       "      <th>3779</th>\n",
       "      <td>TXN_7376255</td>\n",
       "      <td>Unknown Item</td>\n",
       "      <td>0.0</td>\n",
       "      <td>0.0</td>\n",
       "      <td>25.0</td>\n",
       "      <td>NaN</td>\n",
       "      <td>In-store</td>\n",
       "      <td>2023-05-27</td>\n",
       "    </tr>\n",
       "    <tr>\n",
       "      <th>4021</th>\n",
       "      <td>TXN_6424202</td>\n",
       "      <td>Cookie</td>\n",
       "      <td>2.0</td>\n",
       "      <td>0.0</td>\n",
       "      <td>0.0</td>\n",
       "      <td>Credit Card</td>\n",
       "      <td>In-store</td>\n",
       "      <td>2023-11-20</td>\n",
       "    </tr>\n",
       "    <tr>\n",
       "      <th>4152</th>\n",
       "      <td>TXN_9646000</td>\n",
       "      <td>Unknown Item</td>\n",
       "      <td>2.0</td>\n",
       "      <td>0.0</td>\n",
       "      <td>0.0</td>\n",
       "      <td>NaN</td>\n",
       "      <td>In-store</td>\n",
       "      <td>2023-12-14</td>\n",
       "    </tr>\n",
       "    <tr>\n",
       "      <th>5639</th>\n",
       "      <td>TXN_6206792</td>\n",
       "      <td>Tea</td>\n",
       "      <td>0.0</td>\n",
       "      <td>0.0</td>\n",
       "      <td>6.0</td>\n",
       "      <td>Credit Card</td>\n",
       "      <td>NaN</td>\n",
       "      <td>2023-10-13</td>\n",
       "    </tr>\n",
       "    <tr>\n",
       "      <th>5845</th>\n",
       "      <td>TXN_8388462</td>\n",
       "      <td>Smoothie</td>\n",
       "      <td>0.0</td>\n",
       "      <td>0.0</td>\n",
       "      <td>8.0</td>\n",
       "      <td>UNKNOWN</td>\n",
       "      <td>Takeaway</td>\n",
       "      <td>2023-08-19</td>\n",
       "    </tr>\n",
       "    <tr>\n",
       "      <th>6661</th>\n",
       "      <td>TXN_5308047</td>\n",
       "      <td>Cookie</td>\n",
       "      <td>0.0</td>\n",
       "      <td>0.0</td>\n",
       "      <td>1.0</td>\n",
       "      <td>Credit Card</td>\n",
       "      <td>NaN</td>\n",
       "      <td>2023-10-28</td>\n",
       "    </tr>\n",
       "    <tr>\n",
       "      <th>6674</th>\n",
       "      <td>TXN_3071092</td>\n",
       "      <td>Coffee</td>\n",
       "      <td>0.0</td>\n",
       "      <td>0.0</td>\n",
       "      <td>4.0</td>\n",
       "      <td>ERROR</td>\n",
       "      <td>NaN</td>\n",
       "      <td>2023-09-08</td>\n",
       "    </tr>\n",
       "    <tr>\n",
       "      <th>7230</th>\n",
       "      <td>TXN_5118799</td>\n",
       "      <td>Cookie</td>\n",
       "      <td>2.0</td>\n",
       "      <td>0.0</td>\n",
       "      <td>0.0</td>\n",
       "      <td>Cash</td>\n",
       "      <td>Takeaway</td>\n",
       "      <td>2023-04-23</td>\n",
       "    </tr>\n",
       "    <tr>\n",
       "      <th>7244</th>\n",
       "      <td>TXN_2253622</td>\n",
       "      <td>Sandwich</td>\n",
       "      <td>5.0</td>\n",
       "      <td>0.0</td>\n",
       "      <td>0.0</td>\n",
       "      <td>Digital Wallet</td>\n",
       "      <td>Takeaway</td>\n",
       "      <td>2023-09-30</td>\n",
       "    </tr>\n",
       "    <tr>\n",
       "      <th>7568</th>\n",
       "      <td>TXN_3705445</td>\n",
       "      <td>Cookie</td>\n",
       "      <td>5.0</td>\n",
       "      <td>0.0</td>\n",
       "      <td>0.0</td>\n",
       "      <td>Cash</td>\n",
       "      <td>In-store</td>\n",
       "      <td>2023-09-13</td>\n",
       "    </tr>\n",
       "    <tr>\n",
       "      <th>7597</th>\n",
       "      <td>TXN_1082717</td>\n",
       "      <td>Unknown Item</td>\n",
       "      <td>NaN</td>\n",
       "      <td>NaN</td>\n",
       "      <td>9.0</td>\n",
       "      <td>Digital Wallet</td>\n",
       "      <td>In-store</td>\n",
       "      <td>2023-12-13</td>\n",
       "    </tr>\n",
       "    <tr>\n",
       "      <th>7686</th>\n",
       "      <td>TXN_6905143</td>\n",
       "      <td>Coffee</td>\n",
       "      <td>5.0</td>\n",
       "      <td>0.0</td>\n",
       "      <td>0.0</td>\n",
       "      <td>Cash</td>\n",
       "      <td>ERROR</td>\n",
       "      <td>2023-08-09</td>\n",
       "    </tr>\n",
       "    <tr>\n",
       "      <th>8128</th>\n",
       "      <td>TXN_6105807</td>\n",
       "      <td>Smoothie</td>\n",
       "      <td>3.0</td>\n",
       "      <td>0.0</td>\n",
       "      <td>0.0</td>\n",
       "      <td>Credit Card</td>\n",
       "      <td>Takeaway</td>\n",
       "      <td>2023-01-18</td>\n",
       "    </tr>\n",
       "    <tr>\n",
       "      <th>8497</th>\n",
       "      <td>TXN_1525583</td>\n",
       "      <td>Sandwich</td>\n",
       "      <td>3.0</td>\n",
       "      <td>0.0</td>\n",
       "      <td>0.0</td>\n",
       "      <td>Cash</td>\n",
       "      <td>Takeaway</td>\n",
       "      <td>2023-05-20</td>\n",
       "    </tr>\n",
       "    <tr>\n",
       "      <th>8669</th>\n",
       "      <td>TXN_7764304</td>\n",
       "      <td>Cake</td>\n",
       "      <td>0.0</td>\n",
       "      <td>0.0</td>\n",
       "      <td>3.0</td>\n",
       "      <td>Credit Card</td>\n",
       "      <td>Takeaway</td>\n",
       "      <td>2023-01-09</td>\n",
       "    </tr>\n",
       "    <tr>\n",
       "      <th>8975</th>\n",
       "      <td>TXN_8077367</td>\n",
       "      <td>Tea</td>\n",
       "      <td>0.0</td>\n",
       "      <td>0.0</td>\n",
       "      <td>7.5</td>\n",
       "      <td>Credit Card</td>\n",
       "      <td>NaN</td>\n",
       "      <td>2023-02-27</td>\n",
       "    </tr>\n",
       "    <tr>\n",
       "      <th>9212</th>\n",
       "      <td>TXN_7322317</td>\n",
       "      <td>Tea</td>\n",
       "      <td>1.0</td>\n",
       "      <td>0.0</td>\n",
       "      <td>0.0</td>\n",
       "      <td>NaN</td>\n",
       "      <td>NaN</td>\n",
       "      <td>2023-03-16</td>\n",
       "    </tr>\n",
       "    <tr>\n",
       "      <th>9464</th>\n",
       "      <td>TXN_5744797</td>\n",
       "      <td>Cake</td>\n",
       "      <td>0.0</td>\n",
       "      <td>0.0</td>\n",
       "      <td>3.0</td>\n",
       "      <td>Cash</td>\n",
       "      <td>In-store</td>\n",
       "      <td>2023-12-20</td>\n",
       "    </tr>\n",
       "    <tr>\n",
       "      <th>9819</th>\n",
       "      <td>TXN_1208561</td>\n",
       "      <td>Unknown Item</td>\n",
       "      <td>NaN</td>\n",
       "      <td>NaN</td>\n",
       "      <td>20.0</td>\n",
       "      <td>Credit Card</td>\n",
       "      <td>NaN</td>\n",
       "      <td>2023-08-19</td>\n",
       "    </tr>\n",
       "  </tbody>\n",
       "</table>\n",
       "</div>"
      ],
      "text/plain": [
       "     Transaction ID          Item  Quantity  Price Per Unit  Total Spent  \\\n",
       "1436    TXN_7590801           Tea       0.0             0.0          6.0   \n",
       "1761    TXN_3611851  Unknown Item       4.0             0.0          0.0   \n",
       "2229    TXN_8498613      Sandwich       2.0             0.0          0.0   \n",
       "2289    TXN_7524977  Unknown Item       4.0             0.0          0.0   \n",
       "2330    TXN_3849488         Salad       0.0             0.0          5.0   \n",
       "2585    TXN_1259340           Tea       3.0             0.0          0.0   \n",
       "3598    TXN_2857444      Smoothie       1.0             0.0          0.0   \n",
       "3635    TXN_6177081        Cookie       0.0             0.0          1.0   \n",
       "3673    TXN_6500126      Smoothie       2.0             0.0          0.0   \n",
       "3779    TXN_7376255  Unknown Item       0.0             0.0         25.0   \n",
       "4021    TXN_6424202        Cookie       2.0             0.0          0.0   \n",
       "4152    TXN_9646000  Unknown Item       2.0             0.0          0.0   \n",
       "5639    TXN_6206792           Tea       0.0             0.0          6.0   \n",
       "5845    TXN_8388462      Smoothie       0.0             0.0          8.0   \n",
       "6661    TXN_5308047        Cookie       0.0             0.0          1.0   \n",
       "6674    TXN_3071092        Coffee       0.0             0.0          4.0   \n",
       "7230    TXN_5118799        Cookie       2.0             0.0          0.0   \n",
       "7244    TXN_2253622      Sandwich       5.0             0.0          0.0   \n",
       "7568    TXN_3705445        Cookie       5.0             0.0          0.0   \n",
       "7597    TXN_1082717  Unknown Item       NaN             NaN          9.0   \n",
       "7686    TXN_6905143        Coffee       5.0             0.0          0.0   \n",
       "8128    TXN_6105807      Smoothie       3.0             0.0          0.0   \n",
       "8497    TXN_1525583      Sandwich       3.0             0.0          0.0   \n",
       "8669    TXN_7764304          Cake       0.0             0.0          3.0   \n",
       "8975    TXN_8077367           Tea       0.0             0.0          7.5   \n",
       "9212    TXN_7322317           Tea       1.0             0.0          0.0   \n",
       "9464    TXN_5744797          Cake       0.0             0.0          3.0   \n",
       "9819    TXN_1208561  Unknown Item       NaN             NaN         20.0   \n",
       "\n",
       "      Payment Method  Location Transaction Date  \n",
       "1436            Cash  Takeaway            ERROR  \n",
       "1761     Credit Card       NaN       2023-02-09  \n",
       "2229             NaN       NaN       2023-11-08  \n",
       "2289           ERROR       NaN       2023-12-09  \n",
       "2330             NaN  In-store       2023-03-01  \n",
       "2585  Digital Wallet       NaN       2023-02-24  \n",
       "3598            Cash  Takeaway       2023-05-10  \n",
       "3635            Cash     ERROR       2023-07-26  \n",
       "3673             NaN   UNKNOWN              NaN  \n",
       "3779             NaN  In-store       2023-05-27  \n",
       "4021     Credit Card  In-store       2023-11-20  \n",
       "4152             NaN  In-store       2023-12-14  \n",
       "5639     Credit Card       NaN       2023-10-13  \n",
       "5845         UNKNOWN  Takeaway       2023-08-19  \n",
       "6661     Credit Card       NaN       2023-10-28  \n",
       "6674           ERROR       NaN       2023-09-08  \n",
       "7230            Cash  Takeaway       2023-04-23  \n",
       "7244  Digital Wallet  Takeaway       2023-09-30  \n",
       "7568            Cash  In-store       2023-09-13  \n",
       "7597  Digital Wallet  In-store       2023-12-13  \n",
       "7686            Cash     ERROR       2023-08-09  \n",
       "8128     Credit Card  Takeaway       2023-01-18  \n",
       "8497            Cash  Takeaway       2023-05-20  \n",
       "8669     Credit Card  Takeaway       2023-01-09  \n",
       "8975     Credit Card       NaN       2023-02-27  \n",
       "9212             NaN       NaN       2023-03-16  \n",
       "9464            Cash  In-store       2023-12-20  \n",
       "9819     Credit Card       NaN       2023-08-19  "
      ]
     },
     "execution_count": 214,
     "metadata": {},
     "output_type": "execute_result"
    }
   ],
   "source": [
    "df[(df['Price Per Unit'].isna()==True) | (df['Price Per Unit']==0)]"
   ]
  },
  {
   "cell_type": "code",
   "execution_count": 215,
   "id": "4b2f6661-c49c-4d96-817d-e78e56bdd4c7",
   "metadata": {},
   "outputs": [
    {
     "data": {
      "text/html": [
       "<div>\n",
       "<style scoped>\n",
       "    .dataframe tbody tr th:only-of-type {\n",
       "        vertical-align: middle;\n",
       "    }\n",
       "\n",
       "    .dataframe tbody tr th {\n",
       "        vertical-align: top;\n",
       "    }\n",
       "\n",
       "    .dataframe thead th {\n",
       "        text-align: right;\n",
       "    }\n",
       "</style>\n",
       "<table border=\"1\" class=\"dataframe\">\n",
       "  <thead>\n",
       "    <tr style=\"text-align: right;\">\n",
       "      <th></th>\n",
       "      <th>Transaction ID</th>\n",
       "      <th>Item</th>\n",
       "      <th>Quantity</th>\n",
       "      <th>Price Per Unit</th>\n",
       "      <th>Total Spent</th>\n",
       "      <th>Payment Method</th>\n",
       "      <th>Location</th>\n",
       "      <th>Transaction Date</th>\n",
       "    </tr>\n",
       "  </thead>\n",
       "  <tbody>\n",
       "    <tr>\n",
       "      <th>236</th>\n",
       "      <td>TXN_8562645</td>\n",
       "      <td>Salad</td>\n",
       "      <td>0.0</td>\n",
       "      <td>5.0</td>\n",
       "      <td>0.0</td>\n",
       "      <td>NaN</td>\n",
       "      <td>In-store</td>\n",
       "      <td>2023-05-18</td>\n",
       "    </tr>\n",
       "    <tr>\n",
       "      <th>278</th>\n",
       "      <td>TXN_3229409</td>\n",
       "      <td>Juice</td>\n",
       "      <td>0.0</td>\n",
       "      <td>3.0</td>\n",
       "      <td>0.0</td>\n",
       "      <td>Cash</td>\n",
       "      <td>Takeaway</td>\n",
       "      <td>2023-04-15</td>\n",
       "    </tr>\n",
       "    <tr>\n",
       "      <th>641</th>\n",
       "      <td>TXN_2962976</td>\n",
       "      <td>Juice</td>\n",
       "      <td>0.0</td>\n",
       "      <td>3.0</td>\n",
       "      <td>0.0</td>\n",
       "      <td>NaN</td>\n",
       "      <td>NaN</td>\n",
       "      <td>2023-03-17</td>\n",
       "    </tr>\n",
       "    <tr>\n",
       "      <th>738</th>\n",
       "      <td>TXN_8696094</td>\n",
       "      <td>Sandwich</td>\n",
       "      <td>0.0</td>\n",
       "      <td>4.0</td>\n",
       "      <td>0.0</td>\n",
       "      <td>NaN</td>\n",
       "      <td>Takeaway</td>\n",
       "      <td>2023-05-14</td>\n",
       "    </tr>\n",
       "    <tr>\n",
       "      <th>1436</th>\n",
       "      <td>TXN_7590801</td>\n",
       "      <td>Tea</td>\n",
       "      <td>0.0</td>\n",
       "      <td>0.0</td>\n",
       "      <td>6.0</td>\n",
       "      <td>Cash</td>\n",
       "      <td>Takeaway</td>\n",
       "      <td>ERROR</td>\n",
       "    </tr>\n",
       "    <tr>\n",
       "      <th>2330</th>\n",
       "      <td>TXN_3849488</td>\n",
       "      <td>Salad</td>\n",
       "      <td>0.0</td>\n",
       "      <td>0.0</td>\n",
       "      <td>5.0</td>\n",
       "      <td>NaN</td>\n",
       "      <td>In-store</td>\n",
       "      <td>2023-03-01</td>\n",
       "    </tr>\n",
       "    <tr>\n",
       "      <th>2796</th>\n",
       "      <td>TXN_9188692</td>\n",
       "      <td>Cake</td>\n",
       "      <td>0.0</td>\n",
       "      <td>3.0</td>\n",
       "      <td>0.0</td>\n",
       "      <td>Credit Card</td>\n",
       "      <td>NaN</td>\n",
       "      <td>2023-12-01</td>\n",
       "    </tr>\n",
       "    <tr>\n",
       "      <th>3203</th>\n",
       "      <td>TXN_4565754</td>\n",
       "      <td>Smoothie</td>\n",
       "      <td>0.0</td>\n",
       "      <td>4.0</td>\n",
       "      <td>0.0</td>\n",
       "      <td>Digital Wallet</td>\n",
       "      <td>Takeaway</td>\n",
       "      <td>2023-10-06</td>\n",
       "    </tr>\n",
       "    <tr>\n",
       "      <th>3224</th>\n",
       "      <td>TXN_6297232</td>\n",
       "      <td>Coffee</td>\n",
       "      <td>0.0</td>\n",
       "      <td>2.0</td>\n",
       "      <td>0.0</td>\n",
       "      <td>NaN</td>\n",
       "      <td>NaN</td>\n",
       "      <td>2023-04-07</td>\n",
       "    </tr>\n",
       "    <tr>\n",
       "      <th>3401</th>\n",
       "      <td>TXN_3251829</td>\n",
       "      <td>Tea</td>\n",
       "      <td>0.0</td>\n",
       "      <td>1.5</td>\n",
       "      <td>0.0</td>\n",
       "      <td>Digital Wallet</td>\n",
       "      <td>In-store</td>\n",
       "      <td>2023-07-25</td>\n",
       "    </tr>\n",
       "    <tr>\n",
       "      <th>3635</th>\n",
       "      <td>TXN_6177081</td>\n",
       "      <td>Cookie</td>\n",
       "      <td>0.0</td>\n",
       "      <td>0.0</td>\n",
       "      <td>1.0</td>\n",
       "      <td>Cash</td>\n",
       "      <td>ERROR</td>\n",
       "      <td>2023-07-26</td>\n",
       "    </tr>\n",
       "    <tr>\n",
       "      <th>3779</th>\n",
       "      <td>TXN_7376255</td>\n",
       "      <td>Unknown Item</td>\n",
       "      <td>0.0</td>\n",
       "      <td>0.0</td>\n",
       "      <td>25.0</td>\n",
       "      <td>NaN</td>\n",
       "      <td>In-store</td>\n",
       "      <td>2023-05-27</td>\n",
       "    </tr>\n",
       "    <tr>\n",
       "      <th>4257</th>\n",
       "      <td>TXN_6470865</td>\n",
       "      <td>Coffee</td>\n",
       "      <td>0.0</td>\n",
       "      <td>2.0</td>\n",
       "      <td>0.0</td>\n",
       "      <td>Digital Wallet</td>\n",
       "      <td>Takeaway</td>\n",
       "      <td>2023-09-18</td>\n",
       "    </tr>\n",
       "    <tr>\n",
       "      <th>5639</th>\n",
       "      <td>TXN_6206792</td>\n",
       "      <td>Tea</td>\n",
       "      <td>0.0</td>\n",
       "      <td>0.0</td>\n",
       "      <td>6.0</td>\n",
       "      <td>Credit Card</td>\n",
       "      <td>NaN</td>\n",
       "      <td>2023-10-13</td>\n",
       "    </tr>\n",
       "    <tr>\n",
       "      <th>5841</th>\n",
       "      <td>TXN_5884081</td>\n",
       "      <td>Cookie</td>\n",
       "      <td>0.0</td>\n",
       "      <td>1.0</td>\n",
       "      <td>0.0</td>\n",
       "      <td>Digital Wallet</td>\n",
       "      <td>In-store</td>\n",
       "      <td>2023-07-05</td>\n",
       "    </tr>\n",
       "    <tr>\n",
       "      <th>5845</th>\n",
       "      <td>TXN_8388462</td>\n",
       "      <td>Smoothie</td>\n",
       "      <td>0.0</td>\n",
       "      <td>0.0</td>\n",
       "      <td>8.0</td>\n",
       "      <td>UNKNOWN</td>\n",
       "      <td>Takeaway</td>\n",
       "      <td>2023-08-19</td>\n",
       "    </tr>\n",
       "    <tr>\n",
       "      <th>6661</th>\n",
       "      <td>TXN_5308047</td>\n",
       "      <td>Cookie</td>\n",
       "      <td>0.0</td>\n",
       "      <td>0.0</td>\n",
       "      <td>1.0</td>\n",
       "      <td>Credit Card</td>\n",
       "      <td>NaN</td>\n",
       "      <td>2023-10-28</td>\n",
       "    </tr>\n",
       "    <tr>\n",
       "      <th>6674</th>\n",
       "      <td>TXN_3071092</td>\n",
       "      <td>Coffee</td>\n",
       "      <td>0.0</td>\n",
       "      <td>0.0</td>\n",
       "      <td>4.0</td>\n",
       "      <td>ERROR</td>\n",
       "      <td>NaN</td>\n",
       "      <td>2023-09-08</td>\n",
       "    </tr>\n",
       "    <tr>\n",
       "      <th>7029</th>\n",
       "      <td>TXN_4628338</td>\n",
       "      <td>Coffee</td>\n",
       "      <td>0.0</td>\n",
       "      <td>2.0</td>\n",
       "      <td>0.0</td>\n",
       "      <td>Cash</td>\n",
       "      <td>NaN</td>\n",
       "      <td>2023-12-25</td>\n",
       "    </tr>\n",
       "    <tr>\n",
       "      <th>7297</th>\n",
       "      <td>TXN_9944500</td>\n",
       "      <td>Smoothie</td>\n",
       "      <td>0.0</td>\n",
       "      <td>4.0</td>\n",
       "      <td>0.0</td>\n",
       "      <td>Cash</td>\n",
       "      <td>In-store</td>\n",
       "      <td>2023-01-03</td>\n",
       "    </tr>\n",
       "    <tr>\n",
       "      <th>7597</th>\n",
       "      <td>TXN_1082717</td>\n",
       "      <td>Unknown Item</td>\n",
       "      <td>NaN</td>\n",
       "      <td>NaN</td>\n",
       "      <td>9.0</td>\n",
       "      <td>Digital Wallet</td>\n",
       "      <td>In-store</td>\n",
       "      <td>2023-12-13</td>\n",
       "    </tr>\n",
       "    <tr>\n",
       "      <th>8021</th>\n",
       "      <td>TXN_2428781</td>\n",
       "      <td>Salad</td>\n",
       "      <td>0.0</td>\n",
       "      <td>5.0</td>\n",
       "      <td>0.0</td>\n",
       "      <td>NaN</td>\n",
       "      <td>In-store</td>\n",
       "      <td>2023-05-09</td>\n",
       "    </tr>\n",
       "    <tr>\n",
       "      <th>8443</th>\n",
       "      <td>TXN_2023651</td>\n",
       "      <td>Sandwich</td>\n",
       "      <td>0.0</td>\n",
       "      <td>4.0</td>\n",
       "      <td>0.0</td>\n",
       "      <td>Cash</td>\n",
       "      <td>In-store</td>\n",
       "      <td>2023-05-25</td>\n",
       "    </tr>\n",
       "    <tr>\n",
       "      <th>8465</th>\n",
       "      <td>TXN_9669616</td>\n",
       "      <td>Coffee</td>\n",
       "      <td>0.0</td>\n",
       "      <td>2.0</td>\n",
       "      <td>0.0</td>\n",
       "      <td>NaN</td>\n",
       "      <td>ERROR</td>\n",
       "      <td>2023-06-03</td>\n",
       "    </tr>\n",
       "    <tr>\n",
       "      <th>8479</th>\n",
       "      <td>TXN_1547245</td>\n",
       "      <td>Sandwich</td>\n",
       "      <td>0.0</td>\n",
       "      <td>4.0</td>\n",
       "      <td>0.0</td>\n",
       "      <td>NaN</td>\n",
       "      <td>Takeaway</td>\n",
       "      <td>2023-09-11</td>\n",
       "    </tr>\n",
       "    <tr>\n",
       "      <th>8574</th>\n",
       "      <td>TXN_2546684</td>\n",
       "      <td>Juice</td>\n",
       "      <td>0.0</td>\n",
       "      <td>3.0</td>\n",
       "      <td>0.0</td>\n",
       "      <td>Digital Wallet</td>\n",
       "      <td>Takeaway</td>\n",
       "      <td>2023-04-08</td>\n",
       "    </tr>\n",
       "    <tr>\n",
       "      <th>8669</th>\n",
       "      <td>TXN_7764304</td>\n",
       "      <td>Cake</td>\n",
       "      <td>0.0</td>\n",
       "      <td>0.0</td>\n",
       "      <td>3.0</td>\n",
       "      <td>Credit Card</td>\n",
       "      <td>Takeaway</td>\n",
       "      <td>2023-01-09</td>\n",
       "    </tr>\n",
       "    <tr>\n",
       "      <th>8732</th>\n",
       "      <td>TXN_4550558</td>\n",
       "      <td>Cookie</td>\n",
       "      <td>0.0</td>\n",
       "      <td>1.0</td>\n",
       "      <td>0.0</td>\n",
       "      <td>Credit Card</td>\n",
       "      <td>In-store</td>\n",
       "      <td>2023-08-04</td>\n",
       "    </tr>\n",
       "    <tr>\n",
       "      <th>8975</th>\n",
       "      <td>TXN_8077367</td>\n",
       "      <td>Tea</td>\n",
       "      <td>0.0</td>\n",
       "      <td>0.0</td>\n",
       "      <td>7.5</td>\n",
       "      <td>Credit Card</td>\n",
       "      <td>NaN</td>\n",
       "      <td>2023-02-27</td>\n",
       "    </tr>\n",
       "    <tr>\n",
       "      <th>9464</th>\n",
       "      <td>TXN_5744797</td>\n",
       "      <td>Cake</td>\n",
       "      <td>0.0</td>\n",
       "      <td>0.0</td>\n",
       "      <td>3.0</td>\n",
       "      <td>Cash</td>\n",
       "      <td>In-store</td>\n",
       "      <td>2023-12-20</td>\n",
       "    </tr>\n",
       "    <tr>\n",
       "      <th>9590</th>\n",
       "      <td>TXN_9924732</td>\n",
       "      <td>Sandwich</td>\n",
       "      <td>0.0</td>\n",
       "      <td>4.0</td>\n",
       "      <td>0.0</td>\n",
       "      <td>Credit Card</td>\n",
       "      <td>In-store</td>\n",
       "      <td>2023-01-18</td>\n",
       "    </tr>\n",
       "    <tr>\n",
       "      <th>9819</th>\n",
       "      <td>TXN_1208561</td>\n",
       "      <td>Unknown Item</td>\n",
       "      <td>NaN</td>\n",
       "      <td>NaN</td>\n",
       "      <td>20.0</td>\n",
       "      <td>Credit Card</td>\n",
       "      <td>NaN</td>\n",
       "      <td>2023-08-19</td>\n",
       "    </tr>\n",
       "    <tr>\n",
       "      <th>9869</th>\n",
       "      <td>TXN_1975184</td>\n",
       "      <td>Coffee</td>\n",
       "      <td>0.0</td>\n",
       "      <td>2.0</td>\n",
       "      <td>0.0</td>\n",
       "      <td>Digital Wallet</td>\n",
       "      <td>NaN</td>\n",
       "      <td>2023-01-15</td>\n",
       "    </tr>\n",
       "  </tbody>\n",
       "</table>\n",
       "</div>"
      ],
      "text/plain": [
       "     Transaction ID          Item  Quantity  Price Per Unit  Total Spent  \\\n",
       "236     TXN_8562645         Salad       0.0             5.0          0.0   \n",
       "278     TXN_3229409         Juice       0.0             3.0          0.0   \n",
       "641     TXN_2962976         Juice       0.0             3.0          0.0   \n",
       "738     TXN_8696094      Sandwich       0.0             4.0          0.0   \n",
       "1436    TXN_7590801           Tea       0.0             0.0          6.0   \n",
       "2330    TXN_3849488         Salad       0.0             0.0          5.0   \n",
       "2796    TXN_9188692          Cake       0.0             3.0          0.0   \n",
       "3203    TXN_4565754      Smoothie       0.0             4.0          0.0   \n",
       "3224    TXN_6297232        Coffee       0.0             2.0          0.0   \n",
       "3401    TXN_3251829           Tea       0.0             1.5          0.0   \n",
       "3635    TXN_6177081        Cookie       0.0             0.0          1.0   \n",
       "3779    TXN_7376255  Unknown Item       0.0             0.0         25.0   \n",
       "4257    TXN_6470865        Coffee       0.0             2.0          0.0   \n",
       "5639    TXN_6206792           Tea       0.0             0.0          6.0   \n",
       "5841    TXN_5884081        Cookie       0.0             1.0          0.0   \n",
       "5845    TXN_8388462      Smoothie       0.0             0.0          8.0   \n",
       "6661    TXN_5308047        Cookie       0.0             0.0          1.0   \n",
       "6674    TXN_3071092        Coffee       0.0             0.0          4.0   \n",
       "7029    TXN_4628338        Coffee       0.0             2.0          0.0   \n",
       "7297    TXN_9944500      Smoothie       0.0             4.0          0.0   \n",
       "7597    TXN_1082717  Unknown Item       NaN             NaN          9.0   \n",
       "8021    TXN_2428781         Salad       0.0             5.0          0.0   \n",
       "8443    TXN_2023651      Sandwich       0.0             4.0          0.0   \n",
       "8465    TXN_9669616        Coffee       0.0             2.0          0.0   \n",
       "8479    TXN_1547245      Sandwich       0.0             4.0          0.0   \n",
       "8574    TXN_2546684         Juice       0.0             3.0          0.0   \n",
       "8669    TXN_7764304          Cake       0.0             0.0          3.0   \n",
       "8732    TXN_4550558        Cookie       0.0             1.0          0.0   \n",
       "8975    TXN_8077367           Tea       0.0             0.0          7.5   \n",
       "9464    TXN_5744797          Cake       0.0             0.0          3.0   \n",
       "9590    TXN_9924732      Sandwich       0.0             4.0          0.0   \n",
       "9819    TXN_1208561  Unknown Item       NaN             NaN         20.0   \n",
       "9869    TXN_1975184        Coffee       0.0             2.0          0.0   \n",
       "\n",
       "      Payment Method  Location Transaction Date  \n",
       "236              NaN  In-store       2023-05-18  \n",
       "278             Cash  Takeaway       2023-04-15  \n",
       "641              NaN       NaN       2023-03-17  \n",
       "738              NaN  Takeaway       2023-05-14  \n",
       "1436            Cash  Takeaway            ERROR  \n",
       "2330             NaN  In-store       2023-03-01  \n",
       "2796     Credit Card       NaN       2023-12-01  \n",
       "3203  Digital Wallet  Takeaway       2023-10-06  \n",
       "3224             NaN       NaN       2023-04-07  \n",
       "3401  Digital Wallet  In-store       2023-07-25  \n",
       "3635            Cash     ERROR       2023-07-26  \n",
       "3779             NaN  In-store       2023-05-27  \n",
       "4257  Digital Wallet  Takeaway       2023-09-18  \n",
       "5639     Credit Card       NaN       2023-10-13  \n",
       "5841  Digital Wallet  In-store       2023-07-05  \n",
       "5845         UNKNOWN  Takeaway       2023-08-19  \n",
       "6661     Credit Card       NaN       2023-10-28  \n",
       "6674           ERROR       NaN       2023-09-08  \n",
       "7029            Cash       NaN       2023-12-25  \n",
       "7297            Cash  In-store       2023-01-03  \n",
       "7597  Digital Wallet  In-store       2023-12-13  \n",
       "8021             NaN  In-store       2023-05-09  \n",
       "8443            Cash  In-store       2023-05-25  \n",
       "8465             NaN     ERROR       2023-06-03  \n",
       "8479             NaN  Takeaway       2023-09-11  \n",
       "8574  Digital Wallet  Takeaway       2023-04-08  \n",
       "8669     Credit Card  Takeaway       2023-01-09  \n",
       "8732     Credit Card  In-store       2023-08-04  \n",
       "8975     Credit Card       NaN       2023-02-27  \n",
       "9464            Cash  In-store       2023-12-20  \n",
       "9590     Credit Card  In-store       2023-01-18  \n",
       "9819     Credit Card       NaN       2023-08-19  \n",
       "9869  Digital Wallet       NaN       2023-01-15  "
      ]
     },
     "execution_count": 215,
     "metadata": {},
     "output_type": "execute_result"
    }
   ],
   "source": [
    "df[(df['Quantity']==0) | (df['Price Per Unit'].isna()==True)]"
   ]
  },
  {
   "cell_type": "code",
   "execution_count": 216,
   "id": "47bd1c66-8a6c-4cb6-85af-f5491f042876",
   "metadata": {},
   "outputs": [
    {
     "data": {
      "text/html": [
       "<div>\n",
       "<style scoped>\n",
       "    .dataframe tbody tr th:only-of-type {\n",
       "        vertical-align: middle;\n",
       "    }\n",
       "\n",
       "    .dataframe tbody tr th {\n",
       "        vertical-align: top;\n",
       "    }\n",
       "\n",
       "    .dataframe thead th {\n",
       "        text-align: right;\n",
       "    }\n",
       "</style>\n",
       "<table border=\"1\" class=\"dataframe\">\n",
       "  <thead>\n",
       "    <tr style=\"text-align: right;\">\n",
       "      <th></th>\n",
       "      <th>Transaction ID</th>\n",
       "      <th>Item</th>\n",
       "      <th>Quantity</th>\n",
       "      <th>Price Per Unit</th>\n",
       "      <th>Total Spent</th>\n",
       "      <th>Payment Method</th>\n",
       "      <th>Location</th>\n",
       "      <th>Transaction Date</th>\n",
       "    </tr>\n",
       "  </thead>\n",
       "  <tbody>\n",
       "    <tr>\n",
       "      <th>236</th>\n",
       "      <td>TXN_8562645</td>\n",
       "      <td>Salad</td>\n",
       "      <td>0.0</td>\n",
       "      <td>5.0</td>\n",
       "      <td>0.0</td>\n",
       "      <td>NaN</td>\n",
       "      <td>In-store</td>\n",
       "      <td>2023-05-18</td>\n",
       "    </tr>\n",
       "    <tr>\n",
       "      <th>278</th>\n",
       "      <td>TXN_3229409</td>\n",
       "      <td>Juice</td>\n",
       "      <td>0.0</td>\n",
       "      <td>3.0</td>\n",
       "      <td>0.0</td>\n",
       "      <td>Cash</td>\n",
       "      <td>Takeaway</td>\n",
       "      <td>2023-04-15</td>\n",
       "    </tr>\n",
       "    <tr>\n",
       "      <th>641</th>\n",
       "      <td>TXN_2962976</td>\n",
       "      <td>Juice</td>\n",
       "      <td>0.0</td>\n",
       "      <td>3.0</td>\n",
       "      <td>0.0</td>\n",
       "      <td>NaN</td>\n",
       "      <td>NaN</td>\n",
       "      <td>2023-03-17</td>\n",
       "    </tr>\n",
       "    <tr>\n",
       "      <th>738</th>\n",
       "      <td>TXN_8696094</td>\n",
       "      <td>Sandwich</td>\n",
       "      <td>0.0</td>\n",
       "      <td>4.0</td>\n",
       "      <td>0.0</td>\n",
       "      <td>NaN</td>\n",
       "      <td>Takeaway</td>\n",
       "      <td>2023-05-14</td>\n",
       "    </tr>\n",
       "    <tr>\n",
       "      <th>1761</th>\n",
       "      <td>TXN_3611851</td>\n",
       "      <td>Unknown Item</td>\n",
       "      <td>4.0</td>\n",
       "      <td>0.0</td>\n",
       "      <td>0.0</td>\n",
       "      <td>Credit Card</td>\n",
       "      <td>NaN</td>\n",
       "      <td>2023-02-09</td>\n",
       "    </tr>\n",
       "    <tr>\n",
       "      <th>2229</th>\n",
       "      <td>TXN_8498613</td>\n",
       "      <td>Sandwich</td>\n",
       "      <td>2.0</td>\n",
       "      <td>0.0</td>\n",
       "      <td>0.0</td>\n",
       "      <td>NaN</td>\n",
       "      <td>NaN</td>\n",
       "      <td>2023-11-08</td>\n",
       "    </tr>\n",
       "    <tr>\n",
       "      <th>2289</th>\n",
       "      <td>TXN_7524977</td>\n",
       "      <td>Unknown Item</td>\n",
       "      <td>4.0</td>\n",
       "      <td>0.0</td>\n",
       "      <td>0.0</td>\n",
       "      <td>ERROR</td>\n",
       "      <td>NaN</td>\n",
       "      <td>2023-12-09</td>\n",
       "    </tr>\n",
       "    <tr>\n",
       "      <th>2585</th>\n",
       "      <td>TXN_1259340</td>\n",
       "      <td>Tea</td>\n",
       "      <td>3.0</td>\n",
       "      <td>0.0</td>\n",
       "      <td>0.0</td>\n",
       "      <td>Digital Wallet</td>\n",
       "      <td>NaN</td>\n",
       "      <td>2023-02-24</td>\n",
       "    </tr>\n",
       "    <tr>\n",
       "      <th>2796</th>\n",
       "      <td>TXN_9188692</td>\n",
       "      <td>Cake</td>\n",
       "      <td>0.0</td>\n",
       "      <td>3.0</td>\n",
       "      <td>0.0</td>\n",
       "      <td>Credit Card</td>\n",
       "      <td>NaN</td>\n",
       "      <td>2023-12-01</td>\n",
       "    </tr>\n",
       "    <tr>\n",
       "      <th>3203</th>\n",
       "      <td>TXN_4565754</td>\n",
       "      <td>Smoothie</td>\n",
       "      <td>0.0</td>\n",
       "      <td>4.0</td>\n",
       "      <td>0.0</td>\n",
       "      <td>Digital Wallet</td>\n",
       "      <td>Takeaway</td>\n",
       "      <td>2023-10-06</td>\n",
       "    </tr>\n",
       "    <tr>\n",
       "      <th>3224</th>\n",
       "      <td>TXN_6297232</td>\n",
       "      <td>Coffee</td>\n",
       "      <td>0.0</td>\n",
       "      <td>2.0</td>\n",
       "      <td>0.0</td>\n",
       "      <td>NaN</td>\n",
       "      <td>NaN</td>\n",
       "      <td>2023-04-07</td>\n",
       "    </tr>\n",
       "    <tr>\n",
       "      <th>3401</th>\n",
       "      <td>TXN_3251829</td>\n",
       "      <td>Tea</td>\n",
       "      <td>0.0</td>\n",
       "      <td>1.5</td>\n",
       "      <td>0.0</td>\n",
       "      <td>Digital Wallet</td>\n",
       "      <td>In-store</td>\n",
       "      <td>2023-07-25</td>\n",
       "    </tr>\n",
       "    <tr>\n",
       "      <th>3598</th>\n",
       "      <td>TXN_2857444</td>\n",
       "      <td>Smoothie</td>\n",
       "      <td>1.0</td>\n",
       "      <td>0.0</td>\n",
       "      <td>0.0</td>\n",
       "      <td>Cash</td>\n",
       "      <td>Takeaway</td>\n",
       "      <td>2023-05-10</td>\n",
       "    </tr>\n",
       "    <tr>\n",
       "      <th>3673</th>\n",
       "      <td>TXN_6500126</td>\n",
       "      <td>Smoothie</td>\n",
       "      <td>2.0</td>\n",
       "      <td>0.0</td>\n",
       "      <td>0.0</td>\n",
       "      <td>NaN</td>\n",
       "      <td>UNKNOWN</td>\n",
       "      <td>NaN</td>\n",
       "    </tr>\n",
       "    <tr>\n",
       "      <th>4021</th>\n",
       "      <td>TXN_6424202</td>\n",
       "      <td>Cookie</td>\n",
       "      <td>2.0</td>\n",
       "      <td>0.0</td>\n",
       "      <td>0.0</td>\n",
       "      <td>Credit Card</td>\n",
       "      <td>In-store</td>\n",
       "      <td>2023-11-20</td>\n",
       "    </tr>\n",
       "    <tr>\n",
       "      <th>4152</th>\n",
       "      <td>TXN_9646000</td>\n",
       "      <td>Unknown Item</td>\n",
       "      <td>2.0</td>\n",
       "      <td>0.0</td>\n",
       "      <td>0.0</td>\n",
       "      <td>NaN</td>\n",
       "      <td>In-store</td>\n",
       "      <td>2023-12-14</td>\n",
       "    </tr>\n",
       "    <tr>\n",
       "      <th>4257</th>\n",
       "      <td>TXN_6470865</td>\n",
       "      <td>Coffee</td>\n",
       "      <td>0.0</td>\n",
       "      <td>2.0</td>\n",
       "      <td>0.0</td>\n",
       "      <td>Digital Wallet</td>\n",
       "      <td>Takeaway</td>\n",
       "      <td>2023-09-18</td>\n",
       "    </tr>\n",
       "    <tr>\n",
       "      <th>5841</th>\n",
       "      <td>TXN_5884081</td>\n",
       "      <td>Cookie</td>\n",
       "      <td>0.0</td>\n",
       "      <td>1.0</td>\n",
       "      <td>0.0</td>\n",
       "      <td>Digital Wallet</td>\n",
       "      <td>In-store</td>\n",
       "      <td>2023-07-05</td>\n",
       "    </tr>\n",
       "    <tr>\n",
       "      <th>7029</th>\n",
       "      <td>TXN_4628338</td>\n",
       "      <td>Coffee</td>\n",
       "      <td>0.0</td>\n",
       "      <td>2.0</td>\n",
       "      <td>0.0</td>\n",
       "      <td>Cash</td>\n",
       "      <td>NaN</td>\n",
       "      <td>2023-12-25</td>\n",
       "    </tr>\n",
       "    <tr>\n",
       "      <th>7230</th>\n",
       "      <td>TXN_5118799</td>\n",
       "      <td>Cookie</td>\n",
       "      <td>2.0</td>\n",
       "      <td>0.0</td>\n",
       "      <td>0.0</td>\n",
       "      <td>Cash</td>\n",
       "      <td>Takeaway</td>\n",
       "      <td>2023-04-23</td>\n",
       "    </tr>\n",
       "    <tr>\n",
       "      <th>7244</th>\n",
       "      <td>TXN_2253622</td>\n",
       "      <td>Sandwich</td>\n",
       "      <td>5.0</td>\n",
       "      <td>0.0</td>\n",
       "      <td>0.0</td>\n",
       "      <td>Digital Wallet</td>\n",
       "      <td>Takeaway</td>\n",
       "      <td>2023-09-30</td>\n",
       "    </tr>\n",
       "    <tr>\n",
       "      <th>7297</th>\n",
       "      <td>TXN_9944500</td>\n",
       "      <td>Smoothie</td>\n",
       "      <td>0.0</td>\n",
       "      <td>4.0</td>\n",
       "      <td>0.0</td>\n",
       "      <td>Cash</td>\n",
       "      <td>In-store</td>\n",
       "      <td>2023-01-03</td>\n",
       "    </tr>\n",
       "    <tr>\n",
       "      <th>7568</th>\n",
       "      <td>TXN_3705445</td>\n",
       "      <td>Cookie</td>\n",
       "      <td>5.0</td>\n",
       "      <td>0.0</td>\n",
       "      <td>0.0</td>\n",
       "      <td>Cash</td>\n",
       "      <td>In-store</td>\n",
       "      <td>2023-09-13</td>\n",
       "    </tr>\n",
       "    <tr>\n",
       "      <th>7686</th>\n",
       "      <td>TXN_6905143</td>\n",
       "      <td>Coffee</td>\n",
       "      <td>5.0</td>\n",
       "      <td>0.0</td>\n",
       "      <td>0.0</td>\n",
       "      <td>Cash</td>\n",
       "      <td>ERROR</td>\n",
       "      <td>2023-08-09</td>\n",
       "    </tr>\n",
       "    <tr>\n",
       "      <th>8021</th>\n",
       "      <td>TXN_2428781</td>\n",
       "      <td>Salad</td>\n",
       "      <td>0.0</td>\n",
       "      <td>5.0</td>\n",
       "      <td>0.0</td>\n",
       "      <td>NaN</td>\n",
       "      <td>In-store</td>\n",
       "      <td>2023-05-09</td>\n",
       "    </tr>\n",
       "    <tr>\n",
       "      <th>8128</th>\n",
       "      <td>TXN_6105807</td>\n",
       "      <td>Smoothie</td>\n",
       "      <td>3.0</td>\n",
       "      <td>0.0</td>\n",
       "      <td>0.0</td>\n",
       "      <td>Credit Card</td>\n",
       "      <td>Takeaway</td>\n",
       "      <td>2023-01-18</td>\n",
       "    </tr>\n",
       "    <tr>\n",
       "      <th>8443</th>\n",
       "      <td>TXN_2023651</td>\n",
       "      <td>Sandwich</td>\n",
       "      <td>0.0</td>\n",
       "      <td>4.0</td>\n",
       "      <td>0.0</td>\n",
       "      <td>Cash</td>\n",
       "      <td>In-store</td>\n",
       "      <td>2023-05-25</td>\n",
       "    </tr>\n",
       "    <tr>\n",
       "      <th>8465</th>\n",
       "      <td>TXN_9669616</td>\n",
       "      <td>Coffee</td>\n",
       "      <td>0.0</td>\n",
       "      <td>2.0</td>\n",
       "      <td>0.0</td>\n",
       "      <td>NaN</td>\n",
       "      <td>ERROR</td>\n",
       "      <td>2023-06-03</td>\n",
       "    </tr>\n",
       "    <tr>\n",
       "      <th>8479</th>\n",
       "      <td>TXN_1547245</td>\n",
       "      <td>Sandwich</td>\n",
       "      <td>0.0</td>\n",
       "      <td>4.0</td>\n",
       "      <td>0.0</td>\n",
       "      <td>NaN</td>\n",
       "      <td>Takeaway</td>\n",
       "      <td>2023-09-11</td>\n",
       "    </tr>\n",
       "    <tr>\n",
       "      <th>8497</th>\n",
       "      <td>TXN_1525583</td>\n",
       "      <td>Sandwich</td>\n",
       "      <td>3.0</td>\n",
       "      <td>0.0</td>\n",
       "      <td>0.0</td>\n",
       "      <td>Cash</td>\n",
       "      <td>Takeaway</td>\n",
       "      <td>2023-05-20</td>\n",
       "    </tr>\n",
       "    <tr>\n",
       "      <th>8574</th>\n",
       "      <td>TXN_2546684</td>\n",
       "      <td>Juice</td>\n",
       "      <td>0.0</td>\n",
       "      <td>3.0</td>\n",
       "      <td>0.0</td>\n",
       "      <td>Digital Wallet</td>\n",
       "      <td>Takeaway</td>\n",
       "      <td>2023-04-08</td>\n",
       "    </tr>\n",
       "    <tr>\n",
       "      <th>8732</th>\n",
       "      <td>TXN_4550558</td>\n",
       "      <td>Cookie</td>\n",
       "      <td>0.0</td>\n",
       "      <td>1.0</td>\n",
       "      <td>0.0</td>\n",
       "      <td>Credit Card</td>\n",
       "      <td>In-store</td>\n",
       "      <td>2023-08-04</td>\n",
       "    </tr>\n",
       "    <tr>\n",
       "      <th>9212</th>\n",
       "      <td>TXN_7322317</td>\n",
       "      <td>Tea</td>\n",
       "      <td>1.0</td>\n",
       "      <td>0.0</td>\n",
       "      <td>0.0</td>\n",
       "      <td>NaN</td>\n",
       "      <td>NaN</td>\n",
       "      <td>2023-03-16</td>\n",
       "    </tr>\n",
       "    <tr>\n",
       "      <th>9590</th>\n",
       "      <td>TXN_9924732</td>\n",
       "      <td>Sandwich</td>\n",
       "      <td>0.0</td>\n",
       "      <td>4.0</td>\n",
       "      <td>0.0</td>\n",
       "      <td>Credit Card</td>\n",
       "      <td>In-store</td>\n",
       "      <td>2023-01-18</td>\n",
       "    </tr>\n",
       "    <tr>\n",
       "      <th>9869</th>\n",
       "      <td>TXN_1975184</td>\n",
       "      <td>Coffee</td>\n",
       "      <td>0.0</td>\n",
       "      <td>2.0</td>\n",
       "      <td>0.0</td>\n",
       "      <td>Digital Wallet</td>\n",
       "      <td>NaN</td>\n",
       "      <td>2023-01-15</td>\n",
       "    </tr>\n",
       "  </tbody>\n",
       "</table>\n",
       "</div>"
      ],
      "text/plain": [
       "     Transaction ID          Item  Quantity  Price Per Unit  Total Spent  \\\n",
       "236     TXN_8562645         Salad       0.0             5.0          0.0   \n",
       "278     TXN_3229409         Juice       0.0             3.0          0.0   \n",
       "641     TXN_2962976         Juice       0.0             3.0          0.0   \n",
       "738     TXN_8696094      Sandwich       0.0             4.0          0.0   \n",
       "1761    TXN_3611851  Unknown Item       4.0             0.0          0.0   \n",
       "2229    TXN_8498613      Sandwich       2.0             0.0          0.0   \n",
       "2289    TXN_7524977  Unknown Item       4.0             0.0          0.0   \n",
       "2585    TXN_1259340           Tea       3.0             0.0          0.0   \n",
       "2796    TXN_9188692          Cake       0.0             3.0          0.0   \n",
       "3203    TXN_4565754      Smoothie       0.0             4.0          0.0   \n",
       "3224    TXN_6297232        Coffee       0.0             2.0          0.0   \n",
       "3401    TXN_3251829           Tea       0.0             1.5          0.0   \n",
       "3598    TXN_2857444      Smoothie       1.0             0.0          0.0   \n",
       "3673    TXN_6500126      Smoothie       2.0             0.0          0.0   \n",
       "4021    TXN_6424202        Cookie       2.0             0.0          0.0   \n",
       "4152    TXN_9646000  Unknown Item       2.0             0.0          0.0   \n",
       "4257    TXN_6470865        Coffee       0.0             2.0          0.0   \n",
       "5841    TXN_5884081        Cookie       0.0             1.0          0.0   \n",
       "7029    TXN_4628338        Coffee       0.0             2.0          0.0   \n",
       "7230    TXN_5118799        Cookie       2.0             0.0          0.0   \n",
       "7244    TXN_2253622      Sandwich       5.0             0.0          0.0   \n",
       "7297    TXN_9944500      Smoothie       0.0             4.0          0.0   \n",
       "7568    TXN_3705445        Cookie       5.0             0.0          0.0   \n",
       "7686    TXN_6905143        Coffee       5.0             0.0          0.0   \n",
       "8021    TXN_2428781         Salad       0.0             5.0          0.0   \n",
       "8128    TXN_6105807      Smoothie       3.0             0.0          0.0   \n",
       "8443    TXN_2023651      Sandwich       0.0             4.0          0.0   \n",
       "8465    TXN_9669616        Coffee       0.0             2.0          0.0   \n",
       "8479    TXN_1547245      Sandwich       0.0             4.0          0.0   \n",
       "8497    TXN_1525583      Sandwich       3.0             0.0          0.0   \n",
       "8574    TXN_2546684         Juice       0.0             3.0          0.0   \n",
       "8732    TXN_4550558        Cookie       0.0             1.0          0.0   \n",
       "9212    TXN_7322317           Tea       1.0             0.0          0.0   \n",
       "9590    TXN_9924732      Sandwich       0.0             4.0          0.0   \n",
       "9869    TXN_1975184        Coffee       0.0             2.0          0.0   \n",
       "\n",
       "      Payment Method  Location Transaction Date  \n",
       "236              NaN  In-store       2023-05-18  \n",
       "278             Cash  Takeaway       2023-04-15  \n",
       "641              NaN       NaN       2023-03-17  \n",
       "738              NaN  Takeaway       2023-05-14  \n",
       "1761     Credit Card       NaN       2023-02-09  \n",
       "2229             NaN       NaN       2023-11-08  \n",
       "2289           ERROR       NaN       2023-12-09  \n",
       "2585  Digital Wallet       NaN       2023-02-24  \n",
       "2796     Credit Card       NaN       2023-12-01  \n",
       "3203  Digital Wallet  Takeaway       2023-10-06  \n",
       "3224             NaN       NaN       2023-04-07  \n",
       "3401  Digital Wallet  In-store       2023-07-25  \n",
       "3598            Cash  Takeaway       2023-05-10  \n",
       "3673             NaN   UNKNOWN              NaN  \n",
       "4021     Credit Card  In-store       2023-11-20  \n",
       "4152             NaN  In-store       2023-12-14  \n",
       "4257  Digital Wallet  Takeaway       2023-09-18  \n",
       "5841  Digital Wallet  In-store       2023-07-05  \n",
       "7029            Cash       NaN       2023-12-25  \n",
       "7230            Cash  Takeaway       2023-04-23  \n",
       "7244  Digital Wallet  Takeaway       2023-09-30  \n",
       "7297            Cash  In-store       2023-01-03  \n",
       "7568            Cash  In-store       2023-09-13  \n",
       "7686            Cash     ERROR       2023-08-09  \n",
       "8021             NaN  In-store       2023-05-09  \n",
       "8128     Credit Card  Takeaway       2023-01-18  \n",
       "8443            Cash  In-store       2023-05-25  \n",
       "8465             NaN     ERROR       2023-06-03  \n",
       "8479             NaN  Takeaway       2023-09-11  \n",
       "8497            Cash  Takeaway       2023-05-20  \n",
       "8574  Digital Wallet  Takeaway       2023-04-08  \n",
       "8732     Credit Card  In-store       2023-08-04  \n",
       "9212             NaN       NaN       2023-03-16  \n",
       "9590     Credit Card  In-store       2023-01-18  \n",
       "9869  Digital Wallet       NaN       2023-01-15  "
      ]
     },
     "execution_count": 216,
     "metadata": {},
     "output_type": "execute_result"
    }
   ],
   "source": [
    "df[(df[\"Total Spent\"]==0) | (df['Total Spent'].isna()==True)]"
   ]
  },
  {
   "cell_type": "markdown",
   "id": "6d6d4e6b-0394-4934-9514-97d3938ed1d7",
   "metadata": {},
   "source": [
    "## Now it is time to fill the remaining `0` values that are used as place holders if it is possible"
   ]
  },
  {
   "cell_type": "code",
   "execution_count": 217,
   "id": "96987b27-1b38-42bd-ad94-0d42d729c193",
   "metadata": {},
   "outputs": [
    {
     "data": {
      "text/plain": [
       "['Coffee', 'Cake', 'Cookie', 'Salad', 'Smoothie', 'Unknown Item', 'Sandwich', 'Juice', 'Tea']\n",
       "Categories (9, object): ['Cake', 'Coffee', 'Cookie', 'Juice', ..., 'Sandwich', 'Smoothie', 'Tea', 'Unknown Item']"
      ]
     },
     "execution_count": 217,
     "metadata": {},
     "output_type": "execute_result"
    }
   ],
   "source": [
    "df.Item.unique()"
   ]
  },
  {
   "cell_type": "markdown",
   "id": "eb86e420-ba66-40e9-9a85-54c5cc4701a7",
   "metadata": {},
   "source": [
    "#### It is possible to fill the `Price Per Unit` for `Item` coffee with frequent values."
   ]
  },
  {
   "cell_type": "code",
   "execution_count": 218,
   "id": "86737f4d-6c53-4a96-9f82-5129099bec3d",
   "metadata": {},
   "outputs": [
    {
     "data": {
      "text/plain": [
       "Price Per Unit\n",
       "2.000000    1144\n",
       "1.933682      19\n",
       "0.000000       2\n",
       "Name: count, dtype: int64"
      ]
     },
     "execution_count": 218,
     "metadata": {},
     "output_type": "execute_result"
    }
   ],
   "source": [
    "df[df.Item==\"Coffee\"][\"Price Per Unit\"].value_counts()"
   ]
  },
  {
   "cell_type": "code",
   "execution_count": 219,
   "id": "1f85be68-fa5d-4113-b5f4-c385d52c35c9",
   "metadata": {
    "jupyter": {
     "source_hidden": true
    }
   },
   "outputs": [],
   "source": [
    "df['Price Per Unit']=np.where(df[\"Item\"]==\"Coffee\",2,df[\"Price Per Unit\"]) #For the coffee we are filling 2 as the Price Per Unit"
   ]
  },
  {
   "cell_type": "code",
   "execution_count": 220,
   "id": "8b3fda06-9b30-4d4e-be94-4f6d3f59bdbc",
   "metadata": {},
   "outputs": [
    {
     "data": {
      "text/plain": [
       "Price Per Unit\n",
       "3.000000    1116\n",
       "2.911449      21\n",
       "0.000000       2\n",
       "Name: count, dtype: int64"
      ]
     },
     "execution_count": 220,
     "metadata": {},
     "output_type": "execute_result"
    }
   ],
   "source": [
    "df[df.Item==\"Cake\"][\"Price Per Unit\"].value_counts()"
   ]
  },
  {
   "cell_type": "code",
   "execution_count": 221,
   "id": "2722243a-54a4-446b-a669-4d486991dbfd",
   "metadata": {},
   "outputs": [],
   "source": [
    "df['Price Per Unit']=np.where(df[\"Item\"]==\"Cake\",3,df[\"Price Per Unit\"])"
   ]
  },
  {
   "cell_type": "code",
   "execution_count": 222,
   "id": "4383f56c-e2e2-4813-958d-bdbf4e4cd1ea",
   "metadata": {},
   "outputs": [
    {
     "data": {
      "text/plain": [
       "Price Per Unit\n",
       "1.000000    1063\n",
       "0.960674      24\n",
       "0.000000       5\n",
       "Name: count, dtype: int64"
      ]
     },
     "execution_count": 222,
     "metadata": {},
     "output_type": "execute_result"
    }
   ],
   "source": [
    "df[df.Item==\"Cookie\"][\"Price Per Unit\"].value_counts()"
   ]
  },
  {
   "cell_type": "code",
   "execution_count": 223,
   "id": "ec48ec45-ed2b-45e6-b23b-bed3c8105446",
   "metadata": {},
   "outputs": [],
   "source": [
    "df['Price Per Unit']=np.where(df[\"Item\"]==\"Cookie\",1,df[\"Price Per Unit\"])"
   ]
  },
  {
   "cell_type": "code",
   "execution_count": 224,
   "id": "7f510d50-238e-43c2-abdf-c542e0e799a1",
   "metadata": {},
   "outputs": [
    {
     "data": {
      "text/plain": [
       "Price Per Unit\n",
       "5.000000    1131\n",
       "4.779152      16\n",
       "0.000000       1\n",
       "Name: count, dtype: int64"
      ]
     },
     "execution_count": 224,
     "metadata": {},
     "output_type": "execute_result"
    }
   ],
   "source": [
    "df[df.Item==\"Salad\"][\"Price Per Unit\"].value_counts()"
   ]
  },
  {
   "cell_type": "code",
   "execution_count": 225,
   "id": "c7b5782d-5075-46e3-84cf-6ec7200ea156",
   "metadata": {},
   "outputs": [],
   "source": [
    "df['Price Per Unit']=np.where(df[\"Item\"]==\"Salad\",5,df[\"Price Per Unit\"])"
   ]
  },
  {
   "cell_type": "code",
   "execution_count": 226,
   "id": "464ceab8-056a-45d1-9653-6f2c1242e780",
   "metadata": {},
   "outputs": [
    {
     "data": {
      "text/plain": [
       "Price Per Unit\n",
       "4.000000    1068\n",
       "3.865672      24\n",
       "0.000000       4\n",
       "Name: count, dtype: int64"
      ]
     },
     "execution_count": 226,
     "metadata": {},
     "output_type": "execute_result"
    }
   ],
   "source": [
    "df[df.Item==\"Smoothie\"][\"Price Per Unit\"].value_counts()"
   ]
  },
  {
   "cell_type": "code",
   "execution_count": 227,
   "id": "3eacbb19-6f47-462e-be95-3cb2c8a48567",
   "metadata": {},
   "outputs": [],
   "source": [
    "df['Price Per Unit']=np.where(df[\"Item\"]==\"Smoothie\",4,df[\"Price Per Unit\"])"
   ]
  },
  {
   "cell_type": "code",
   "execution_count": 228,
   "id": "627aca5e-dea6-46d0-8921-94649d726191",
   "metadata": {},
   "outputs": [
    {
     "data": {
      "text/plain": [
       "Price Per Unit\n",
       "4.000000    1111\n",
       "3.885099      17\n",
       "0.000000       3\n",
       "Name: count, dtype: int64"
      ]
     },
     "execution_count": 228,
     "metadata": {},
     "output_type": "execute_result"
    }
   ],
   "source": [
    "df[df.Item==\"Sandwich\"][\"Price Per Unit\"].value_counts()"
   ]
  },
  {
   "cell_type": "code",
   "execution_count": 229,
   "id": "6f3de5b6-e792-4850-9968-5d0b8814ccbb",
   "metadata": {},
   "outputs": [],
   "source": [
    "df['Price Per Unit']=np.where(df[\"Item\"]==\"Sandwich\",4,df[\"Price Per Unit\"])"
   ]
  },
  {
   "cell_type": "code",
   "execution_count": 230,
   "id": "4791af3d-bb7a-4239-b487-06036d0e1a80",
   "metadata": {},
   "outputs": [
    {
     "data": {
      "text/plain": [
       "Price Per Unit\n",
       "3.000000    1154\n",
       "2.885615      17\n",
       "Name: count, dtype: int64"
      ]
     },
     "execution_count": 230,
     "metadata": {},
     "output_type": "execute_result"
    }
   ],
   "source": [
    "df[df.Item==\"Juice\"][\"Price Per Unit\"].value_counts()"
   ]
  },
  {
   "cell_type": "code",
   "execution_count": 231,
   "id": "da631738-db34-411a-8725-848f8793c45f",
   "metadata": {},
   "outputs": [],
   "source": [
    "df['Price Per Unit']=np.where(df[\"Item\"]==\"Juice\",3,df[\"Price Per Unit\"])"
   ]
  },
  {
   "cell_type": "code",
   "execution_count": 232,
   "id": "cffce281-7e5c-429d-881b-52ea8949198e",
   "metadata": {},
   "outputs": [
    {
     "data": {
      "text/plain": [
       "Price Per Unit\n",
       "1.500000    1064\n",
       "1.435454      20\n",
       "0.000000       5\n",
       "Name: count, dtype: int64"
      ]
     },
     "execution_count": 232,
     "metadata": {},
     "output_type": "execute_result"
    }
   ],
   "source": [
    "df[df.Item==\"Tea\"][\"Price Per Unit\"].value_counts()"
   ]
  },
  {
   "cell_type": "code",
   "execution_count": 233,
   "id": "9bf2ec84-89e2-4719-b017-71458e902774",
   "metadata": {},
   "outputs": [],
   "source": [
    "df['Price Per Unit']=np.where(df[\"Item\"]==\"Tea\",1.5,df[\"Price Per Unit\"])"
   ]
  },
  {
   "cell_type": "code",
   "execution_count": 234,
   "id": "d091d38a-5087-46c0-a535-b783df9bcd74",
   "metadata": {},
   "outputs": [],
   "source": [
    "df['Total Spent']=np.where(\n",
    "    (df[\"Total Spent\"]==0) & \n",
    "    (df[\"Price Per Unit\"]!=0) & \n",
    "    (df[\"Quantity\"]!=0),\n",
    "    df[\"Price Per Unit\"]*df[\"Quantity\"],\n",
    "    df[\"Total Spent\"])\n"
   ]
  },
  {
   "cell_type": "code",
   "execution_count": 235,
   "id": "58172c54-550b-49df-9583-37e99807a990",
   "metadata": {},
   "outputs": [],
   "source": [
    "df['Quantity']=np.where(\n",
    "    (df[\"Quantity\"]==0) & \n",
    "    (df[\"Price Per Unit\"]!=0) & \n",
    "    (df[\"Total Spent\"]!=0),\n",
    "    df[\"Total Spent\"]/df[\"Price Per Unit\"],\n",
    "    df[\"Quantity\"])"
   ]
  },
  {
   "cell_type": "code",
   "execution_count": 236,
   "id": "c1691b76-dd79-4bff-a57e-eea88e419c1f",
   "metadata": {},
   "outputs": [
    {
     "data": {
      "text/html": [
       "<div>\n",
       "<style scoped>\n",
       "    .dataframe tbody tr th:only-of-type {\n",
       "        vertical-align: middle;\n",
       "    }\n",
       "\n",
       "    .dataframe tbody tr th {\n",
       "        vertical-align: top;\n",
       "    }\n",
       "\n",
       "    .dataframe thead th {\n",
       "        text-align: right;\n",
       "    }\n",
       "</style>\n",
       "<table border=\"1\" class=\"dataframe\">\n",
       "  <thead>\n",
       "    <tr style=\"text-align: right;\">\n",
       "      <th></th>\n",
       "      <th>Transaction ID</th>\n",
       "      <th>Item</th>\n",
       "      <th>Quantity</th>\n",
       "      <th>Price Per Unit</th>\n",
       "      <th>Total Spent</th>\n",
       "      <th>Payment Method</th>\n",
       "      <th>Location</th>\n",
       "      <th>Transaction Date</th>\n",
       "    </tr>\n",
       "  </thead>\n",
       "  <tbody>\n",
       "    <tr>\n",
       "      <th>236</th>\n",
       "      <td>TXN_8562645</td>\n",
       "      <td>Salad</td>\n",
       "      <td>0.0</td>\n",
       "      <td>5.0</td>\n",
       "      <td>0.0</td>\n",
       "      <td>NaN</td>\n",
       "      <td>In-store</td>\n",
       "      <td>2023-05-18</td>\n",
       "    </tr>\n",
       "    <tr>\n",
       "      <th>278</th>\n",
       "      <td>TXN_3229409</td>\n",
       "      <td>Juice</td>\n",
       "      <td>0.0</td>\n",
       "      <td>3.0</td>\n",
       "      <td>0.0</td>\n",
       "      <td>Cash</td>\n",
       "      <td>Takeaway</td>\n",
       "      <td>2023-04-15</td>\n",
       "    </tr>\n",
       "    <tr>\n",
       "      <th>641</th>\n",
       "      <td>TXN_2962976</td>\n",
       "      <td>Juice</td>\n",
       "      <td>0.0</td>\n",
       "      <td>3.0</td>\n",
       "      <td>0.0</td>\n",
       "      <td>NaN</td>\n",
       "      <td>NaN</td>\n",
       "      <td>2023-03-17</td>\n",
       "    </tr>\n",
       "    <tr>\n",
       "      <th>738</th>\n",
       "      <td>TXN_8696094</td>\n",
       "      <td>Sandwich</td>\n",
       "      <td>0.0</td>\n",
       "      <td>4.0</td>\n",
       "      <td>0.0</td>\n",
       "      <td>NaN</td>\n",
       "      <td>Takeaway</td>\n",
       "      <td>2023-05-14</td>\n",
       "    </tr>\n",
       "    <tr>\n",
       "      <th>2796</th>\n",
       "      <td>TXN_9188692</td>\n",
       "      <td>Cake</td>\n",
       "      <td>0.0</td>\n",
       "      <td>3.0</td>\n",
       "      <td>0.0</td>\n",
       "      <td>Credit Card</td>\n",
       "      <td>NaN</td>\n",
       "      <td>2023-12-01</td>\n",
       "    </tr>\n",
       "    <tr>\n",
       "      <th>3203</th>\n",
       "      <td>TXN_4565754</td>\n",
       "      <td>Smoothie</td>\n",
       "      <td>0.0</td>\n",
       "      <td>4.0</td>\n",
       "      <td>0.0</td>\n",
       "      <td>Digital Wallet</td>\n",
       "      <td>Takeaway</td>\n",
       "      <td>2023-10-06</td>\n",
       "    </tr>\n",
       "    <tr>\n",
       "      <th>3224</th>\n",
       "      <td>TXN_6297232</td>\n",
       "      <td>Coffee</td>\n",
       "      <td>0.0</td>\n",
       "      <td>2.0</td>\n",
       "      <td>0.0</td>\n",
       "      <td>NaN</td>\n",
       "      <td>NaN</td>\n",
       "      <td>2023-04-07</td>\n",
       "    </tr>\n",
       "    <tr>\n",
       "      <th>3401</th>\n",
       "      <td>TXN_3251829</td>\n",
       "      <td>Tea</td>\n",
       "      <td>0.0</td>\n",
       "      <td>1.5</td>\n",
       "      <td>0.0</td>\n",
       "      <td>Digital Wallet</td>\n",
       "      <td>In-store</td>\n",
       "      <td>2023-07-25</td>\n",
       "    </tr>\n",
       "    <tr>\n",
       "      <th>3779</th>\n",
       "      <td>TXN_7376255</td>\n",
       "      <td>Unknown Item</td>\n",
       "      <td>0.0</td>\n",
       "      <td>0.0</td>\n",
       "      <td>25.0</td>\n",
       "      <td>NaN</td>\n",
       "      <td>In-store</td>\n",
       "      <td>2023-05-27</td>\n",
       "    </tr>\n",
       "    <tr>\n",
       "      <th>4257</th>\n",
       "      <td>TXN_6470865</td>\n",
       "      <td>Coffee</td>\n",
       "      <td>0.0</td>\n",
       "      <td>2.0</td>\n",
       "      <td>0.0</td>\n",
       "      <td>Digital Wallet</td>\n",
       "      <td>Takeaway</td>\n",
       "      <td>2023-09-18</td>\n",
       "    </tr>\n",
       "    <tr>\n",
       "      <th>5841</th>\n",
       "      <td>TXN_5884081</td>\n",
       "      <td>Cookie</td>\n",
       "      <td>0.0</td>\n",
       "      <td>1.0</td>\n",
       "      <td>0.0</td>\n",
       "      <td>Digital Wallet</td>\n",
       "      <td>In-store</td>\n",
       "      <td>2023-07-05</td>\n",
       "    </tr>\n",
       "    <tr>\n",
       "      <th>7029</th>\n",
       "      <td>TXN_4628338</td>\n",
       "      <td>Coffee</td>\n",
       "      <td>0.0</td>\n",
       "      <td>2.0</td>\n",
       "      <td>0.0</td>\n",
       "      <td>Cash</td>\n",
       "      <td>NaN</td>\n",
       "      <td>2023-12-25</td>\n",
       "    </tr>\n",
       "    <tr>\n",
       "      <th>7297</th>\n",
       "      <td>TXN_9944500</td>\n",
       "      <td>Smoothie</td>\n",
       "      <td>0.0</td>\n",
       "      <td>4.0</td>\n",
       "      <td>0.0</td>\n",
       "      <td>Cash</td>\n",
       "      <td>In-store</td>\n",
       "      <td>2023-01-03</td>\n",
       "    </tr>\n",
       "    <tr>\n",
       "      <th>8021</th>\n",
       "      <td>TXN_2428781</td>\n",
       "      <td>Salad</td>\n",
       "      <td>0.0</td>\n",
       "      <td>5.0</td>\n",
       "      <td>0.0</td>\n",
       "      <td>NaN</td>\n",
       "      <td>In-store</td>\n",
       "      <td>2023-05-09</td>\n",
       "    </tr>\n",
       "    <tr>\n",
       "      <th>8443</th>\n",
       "      <td>TXN_2023651</td>\n",
       "      <td>Sandwich</td>\n",
       "      <td>0.0</td>\n",
       "      <td>4.0</td>\n",
       "      <td>0.0</td>\n",
       "      <td>Cash</td>\n",
       "      <td>In-store</td>\n",
       "      <td>2023-05-25</td>\n",
       "    </tr>\n",
       "    <tr>\n",
       "      <th>8465</th>\n",
       "      <td>TXN_9669616</td>\n",
       "      <td>Coffee</td>\n",
       "      <td>0.0</td>\n",
       "      <td>2.0</td>\n",
       "      <td>0.0</td>\n",
       "      <td>NaN</td>\n",
       "      <td>ERROR</td>\n",
       "      <td>2023-06-03</td>\n",
       "    </tr>\n",
       "    <tr>\n",
       "      <th>8479</th>\n",
       "      <td>TXN_1547245</td>\n",
       "      <td>Sandwich</td>\n",
       "      <td>0.0</td>\n",
       "      <td>4.0</td>\n",
       "      <td>0.0</td>\n",
       "      <td>NaN</td>\n",
       "      <td>Takeaway</td>\n",
       "      <td>2023-09-11</td>\n",
       "    </tr>\n",
       "    <tr>\n",
       "      <th>8574</th>\n",
       "      <td>TXN_2546684</td>\n",
       "      <td>Juice</td>\n",
       "      <td>0.0</td>\n",
       "      <td>3.0</td>\n",
       "      <td>0.0</td>\n",
       "      <td>Digital Wallet</td>\n",
       "      <td>Takeaway</td>\n",
       "      <td>2023-04-08</td>\n",
       "    </tr>\n",
       "    <tr>\n",
       "      <th>8732</th>\n",
       "      <td>TXN_4550558</td>\n",
       "      <td>Cookie</td>\n",
       "      <td>0.0</td>\n",
       "      <td>1.0</td>\n",
       "      <td>0.0</td>\n",
       "      <td>Credit Card</td>\n",
       "      <td>In-store</td>\n",
       "      <td>2023-08-04</td>\n",
       "    </tr>\n",
       "    <tr>\n",
       "      <th>9590</th>\n",
       "      <td>TXN_9924732</td>\n",
       "      <td>Sandwich</td>\n",
       "      <td>0.0</td>\n",
       "      <td>4.0</td>\n",
       "      <td>0.0</td>\n",
       "      <td>Credit Card</td>\n",
       "      <td>In-store</td>\n",
       "      <td>2023-01-18</td>\n",
       "    </tr>\n",
       "    <tr>\n",
       "      <th>9869</th>\n",
       "      <td>TXN_1975184</td>\n",
       "      <td>Coffee</td>\n",
       "      <td>0.0</td>\n",
       "      <td>2.0</td>\n",
       "      <td>0.0</td>\n",
       "      <td>Digital Wallet</td>\n",
       "      <td>NaN</td>\n",
       "      <td>2023-01-15</td>\n",
       "    </tr>\n",
       "  </tbody>\n",
       "</table>\n",
       "</div>"
      ],
      "text/plain": [
       "     Transaction ID          Item  Quantity  Price Per Unit  Total Spent  \\\n",
       "236     TXN_8562645         Salad       0.0             5.0          0.0   \n",
       "278     TXN_3229409         Juice       0.0             3.0          0.0   \n",
       "641     TXN_2962976         Juice       0.0             3.0          0.0   \n",
       "738     TXN_8696094      Sandwich       0.0             4.0          0.0   \n",
       "2796    TXN_9188692          Cake       0.0             3.0          0.0   \n",
       "3203    TXN_4565754      Smoothie       0.0             4.0          0.0   \n",
       "3224    TXN_6297232        Coffee       0.0             2.0          0.0   \n",
       "3401    TXN_3251829           Tea       0.0             1.5          0.0   \n",
       "3779    TXN_7376255  Unknown Item       0.0             0.0         25.0   \n",
       "4257    TXN_6470865        Coffee       0.0             2.0          0.0   \n",
       "5841    TXN_5884081        Cookie       0.0             1.0          0.0   \n",
       "7029    TXN_4628338        Coffee       0.0             2.0          0.0   \n",
       "7297    TXN_9944500      Smoothie       0.0             4.0          0.0   \n",
       "8021    TXN_2428781         Salad       0.0             5.0          0.0   \n",
       "8443    TXN_2023651      Sandwich       0.0             4.0          0.0   \n",
       "8465    TXN_9669616        Coffee       0.0             2.0          0.0   \n",
       "8479    TXN_1547245      Sandwich       0.0             4.0          0.0   \n",
       "8574    TXN_2546684         Juice       0.0             3.0          0.0   \n",
       "8732    TXN_4550558        Cookie       0.0             1.0          0.0   \n",
       "9590    TXN_9924732      Sandwich       0.0             4.0          0.0   \n",
       "9869    TXN_1975184        Coffee       0.0             2.0          0.0   \n",
       "\n",
       "      Payment Method  Location Transaction Date  \n",
       "236              NaN  In-store       2023-05-18  \n",
       "278             Cash  Takeaway       2023-04-15  \n",
       "641              NaN       NaN       2023-03-17  \n",
       "738              NaN  Takeaway       2023-05-14  \n",
       "2796     Credit Card       NaN       2023-12-01  \n",
       "3203  Digital Wallet  Takeaway       2023-10-06  \n",
       "3224             NaN       NaN       2023-04-07  \n",
       "3401  Digital Wallet  In-store       2023-07-25  \n",
       "3779             NaN  In-store       2023-05-27  \n",
       "4257  Digital Wallet  Takeaway       2023-09-18  \n",
       "5841  Digital Wallet  In-store       2023-07-05  \n",
       "7029            Cash       NaN       2023-12-25  \n",
       "7297            Cash  In-store       2023-01-03  \n",
       "8021             NaN  In-store       2023-05-09  \n",
       "8443            Cash  In-store       2023-05-25  \n",
       "8465             NaN     ERROR       2023-06-03  \n",
       "8479             NaN  Takeaway       2023-09-11  \n",
       "8574  Digital Wallet  Takeaway       2023-04-08  \n",
       "8732     Credit Card  In-store       2023-08-04  \n",
       "9590     Credit Card  In-store       2023-01-18  \n",
       "9869  Digital Wallet       NaN       2023-01-15  "
      ]
     },
     "execution_count": 236,
     "metadata": {},
     "output_type": "execute_result"
    }
   ],
   "source": [
    "df[df['Quantity']==0]"
   ]
  },
  {
   "cell_type": "code",
   "execution_count": 237,
   "id": "6cf9ae74-6a92-4719-96c5-969f4dcc37a4",
   "metadata": {},
   "outputs": [
    {
     "data": {
      "text/html": [
       "<div>\n",
       "<style scoped>\n",
       "    .dataframe tbody tr th:only-of-type {\n",
       "        vertical-align: middle;\n",
       "    }\n",
       "\n",
       "    .dataframe tbody tr th {\n",
       "        vertical-align: top;\n",
       "    }\n",
       "\n",
       "    .dataframe thead th {\n",
       "        text-align: right;\n",
       "    }\n",
       "</style>\n",
       "<table border=\"1\" class=\"dataframe\">\n",
       "  <thead>\n",
       "    <tr style=\"text-align: right;\">\n",
       "      <th></th>\n",
       "      <th>Transaction ID</th>\n",
       "      <th>Item</th>\n",
       "      <th>Quantity</th>\n",
       "      <th>Price Per Unit</th>\n",
       "      <th>Total Spent</th>\n",
       "      <th>Payment Method</th>\n",
       "      <th>Location</th>\n",
       "      <th>Transaction Date</th>\n",
       "    </tr>\n",
       "  </thead>\n",
       "  <tbody>\n",
       "    <tr>\n",
       "      <th>1761</th>\n",
       "      <td>TXN_3611851</td>\n",
       "      <td>Unknown Item</td>\n",
       "      <td>4.0</td>\n",
       "      <td>0.0</td>\n",
       "      <td>0.0</td>\n",
       "      <td>Credit Card</td>\n",
       "      <td>NaN</td>\n",
       "      <td>2023-02-09</td>\n",
       "    </tr>\n",
       "    <tr>\n",
       "      <th>2289</th>\n",
       "      <td>TXN_7524977</td>\n",
       "      <td>Unknown Item</td>\n",
       "      <td>4.0</td>\n",
       "      <td>0.0</td>\n",
       "      <td>0.0</td>\n",
       "      <td>ERROR</td>\n",
       "      <td>NaN</td>\n",
       "      <td>2023-12-09</td>\n",
       "    </tr>\n",
       "    <tr>\n",
       "      <th>3779</th>\n",
       "      <td>TXN_7376255</td>\n",
       "      <td>Unknown Item</td>\n",
       "      <td>0.0</td>\n",
       "      <td>0.0</td>\n",
       "      <td>25.0</td>\n",
       "      <td>NaN</td>\n",
       "      <td>In-store</td>\n",
       "      <td>2023-05-27</td>\n",
       "    </tr>\n",
       "    <tr>\n",
       "      <th>4152</th>\n",
       "      <td>TXN_9646000</td>\n",
       "      <td>Unknown Item</td>\n",
       "      <td>2.0</td>\n",
       "      <td>0.0</td>\n",
       "      <td>0.0</td>\n",
       "      <td>NaN</td>\n",
       "      <td>In-store</td>\n",
       "      <td>2023-12-14</td>\n",
       "    </tr>\n",
       "  </tbody>\n",
       "</table>\n",
       "</div>"
      ],
      "text/plain": [
       "     Transaction ID          Item  Quantity  Price Per Unit  Total Spent  \\\n",
       "1761    TXN_3611851  Unknown Item       4.0             0.0          0.0   \n",
       "2289    TXN_7524977  Unknown Item       4.0             0.0          0.0   \n",
       "3779    TXN_7376255  Unknown Item       0.0             0.0         25.0   \n",
       "4152    TXN_9646000  Unknown Item       2.0             0.0          0.0   \n",
       "\n",
       "     Payment Method  Location Transaction Date  \n",
       "1761    Credit Card       NaN       2023-02-09  \n",
       "2289          ERROR       NaN       2023-12-09  \n",
       "3779            NaN  In-store       2023-05-27  \n",
       "4152            NaN  In-store       2023-12-14  "
      ]
     },
     "execution_count": 237,
     "metadata": {},
     "output_type": "execute_result"
    }
   ],
   "source": [
    "df[df['Price Per Unit']==0]"
   ]
  },
  {
   "cell_type": "code",
   "execution_count": 238,
   "id": "ca19dcdc-21c0-4b23-a1e9-aca93535c65b",
   "metadata": {},
   "outputs": [
    {
     "data": {
      "text/html": [
       "<div>\n",
       "<style scoped>\n",
       "    .dataframe tbody tr th:only-of-type {\n",
       "        vertical-align: middle;\n",
       "    }\n",
       "\n",
       "    .dataframe tbody tr th {\n",
       "        vertical-align: top;\n",
       "    }\n",
       "\n",
       "    .dataframe thead th {\n",
       "        text-align: right;\n",
       "    }\n",
       "</style>\n",
       "<table border=\"1\" class=\"dataframe\">\n",
       "  <thead>\n",
       "    <tr style=\"text-align: right;\">\n",
       "      <th></th>\n",
       "      <th>Transaction ID</th>\n",
       "      <th>Item</th>\n",
       "      <th>Quantity</th>\n",
       "      <th>Price Per Unit</th>\n",
       "      <th>Total Spent</th>\n",
       "      <th>Payment Method</th>\n",
       "      <th>Location</th>\n",
       "      <th>Transaction Date</th>\n",
       "    </tr>\n",
       "  </thead>\n",
       "  <tbody>\n",
       "    <tr>\n",
       "      <th>236</th>\n",
       "      <td>TXN_8562645</td>\n",
       "      <td>Salad</td>\n",
       "      <td>0.0</td>\n",
       "      <td>5.0</td>\n",
       "      <td>0.0</td>\n",
       "      <td>NaN</td>\n",
       "      <td>In-store</td>\n",
       "      <td>2023-05-18</td>\n",
       "    </tr>\n",
       "    <tr>\n",
       "      <th>278</th>\n",
       "      <td>TXN_3229409</td>\n",
       "      <td>Juice</td>\n",
       "      <td>0.0</td>\n",
       "      <td>3.0</td>\n",
       "      <td>0.0</td>\n",
       "      <td>Cash</td>\n",
       "      <td>Takeaway</td>\n",
       "      <td>2023-04-15</td>\n",
       "    </tr>\n",
       "    <tr>\n",
       "      <th>641</th>\n",
       "      <td>TXN_2962976</td>\n",
       "      <td>Juice</td>\n",
       "      <td>0.0</td>\n",
       "      <td>3.0</td>\n",
       "      <td>0.0</td>\n",
       "      <td>NaN</td>\n",
       "      <td>NaN</td>\n",
       "      <td>2023-03-17</td>\n",
       "    </tr>\n",
       "    <tr>\n",
       "      <th>738</th>\n",
       "      <td>TXN_8696094</td>\n",
       "      <td>Sandwich</td>\n",
       "      <td>0.0</td>\n",
       "      <td>4.0</td>\n",
       "      <td>0.0</td>\n",
       "      <td>NaN</td>\n",
       "      <td>Takeaway</td>\n",
       "      <td>2023-05-14</td>\n",
       "    </tr>\n",
       "    <tr>\n",
       "      <th>1761</th>\n",
       "      <td>TXN_3611851</td>\n",
       "      <td>Unknown Item</td>\n",
       "      <td>4.0</td>\n",
       "      <td>0.0</td>\n",
       "      <td>0.0</td>\n",
       "      <td>Credit Card</td>\n",
       "      <td>NaN</td>\n",
       "      <td>2023-02-09</td>\n",
       "    </tr>\n",
       "    <tr>\n",
       "      <th>2289</th>\n",
       "      <td>TXN_7524977</td>\n",
       "      <td>Unknown Item</td>\n",
       "      <td>4.0</td>\n",
       "      <td>0.0</td>\n",
       "      <td>0.0</td>\n",
       "      <td>ERROR</td>\n",
       "      <td>NaN</td>\n",
       "      <td>2023-12-09</td>\n",
       "    </tr>\n",
       "    <tr>\n",
       "      <th>2796</th>\n",
       "      <td>TXN_9188692</td>\n",
       "      <td>Cake</td>\n",
       "      <td>0.0</td>\n",
       "      <td>3.0</td>\n",
       "      <td>0.0</td>\n",
       "      <td>Credit Card</td>\n",
       "      <td>NaN</td>\n",
       "      <td>2023-12-01</td>\n",
       "    </tr>\n",
       "    <tr>\n",
       "      <th>3203</th>\n",
       "      <td>TXN_4565754</td>\n",
       "      <td>Smoothie</td>\n",
       "      <td>0.0</td>\n",
       "      <td>4.0</td>\n",
       "      <td>0.0</td>\n",
       "      <td>Digital Wallet</td>\n",
       "      <td>Takeaway</td>\n",
       "      <td>2023-10-06</td>\n",
       "    </tr>\n",
       "    <tr>\n",
       "      <th>3224</th>\n",
       "      <td>TXN_6297232</td>\n",
       "      <td>Coffee</td>\n",
       "      <td>0.0</td>\n",
       "      <td>2.0</td>\n",
       "      <td>0.0</td>\n",
       "      <td>NaN</td>\n",
       "      <td>NaN</td>\n",
       "      <td>2023-04-07</td>\n",
       "    </tr>\n",
       "    <tr>\n",
       "      <th>3401</th>\n",
       "      <td>TXN_3251829</td>\n",
       "      <td>Tea</td>\n",
       "      <td>0.0</td>\n",
       "      <td>1.5</td>\n",
       "      <td>0.0</td>\n",
       "      <td>Digital Wallet</td>\n",
       "      <td>In-store</td>\n",
       "      <td>2023-07-25</td>\n",
       "    </tr>\n",
       "    <tr>\n",
       "      <th>4152</th>\n",
       "      <td>TXN_9646000</td>\n",
       "      <td>Unknown Item</td>\n",
       "      <td>2.0</td>\n",
       "      <td>0.0</td>\n",
       "      <td>0.0</td>\n",
       "      <td>NaN</td>\n",
       "      <td>In-store</td>\n",
       "      <td>2023-12-14</td>\n",
       "    </tr>\n",
       "    <tr>\n",
       "      <th>4257</th>\n",
       "      <td>TXN_6470865</td>\n",
       "      <td>Coffee</td>\n",
       "      <td>0.0</td>\n",
       "      <td>2.0</td>\n",
       "      <td>0.0</td>\n",
       "      <td>Digital Wallet</td>\n",
       "      <td>Takeaway</td>\n",
       "      <td>2023-09-18</td>\n",
       "    </tr>\n",
       "    <tr>\n",
       "      <th>5841</th>\n",
       "      <td>TXN_5884081</td>\n",
       "      <td>Cookie</td>\n",
       "      <td>0.0</td>\n",
       "      <td>1.0</td>\n",
       "      <td>0.0</td>\n",
       "      <td>Digital Wallet</td>\n",
       "      <td>In-store</td>\n",
       "      <td>2023-07-05</td>\n",
       "    </tr>\n",
       "    <tr>\n",
       "      <th>7029</th>\n",
       "      <td>TXN_4628338</td>\n",
       "      <td>Coffee</td>\n",
       "      <td>0.0</td>\n",
       "      <td>2.0</td>\n",
       "      <td>0.0</td>\n",
       "      <td>Cash</td>\n",
       "      <td>NaN</td>\n",
       "      <td>2023-12-25</td>\n",
       "    </tr>\n",
       "    <tr>\n",
       "      <th>7297</th>\n",
       "      <td>TXN_9944500</td>\n",
       "      <td>Smoothie</td>\n",
       "      <td>0.0</td>\n",
       "      <td>4.0</td>\n",
       "      <td>0.0</td>\n",
       "      <td>Cash</td>\n",
       "      <td>In-store</td>\n",
       "      <td>2023-01-03</td>\n",
       "    </tr>\n",
       "    <tr>\n",
       "      <th>8021</th>\n",
       "      <td>TXN_2428781</td>\n",
       "      <td>Salad</td>\n",
       "      <td>0.0</td>\n",
       "      <td>5.0</td>\n",
       "      <td>0.0</td>\n",
       "      <td>NaN</td>\n",
       "      <td>In-store</td>\n",
       "      <td>2023-05-09</td>\n",
       "    </tr>\n",
       "    <tr>\n",
       "      <th>8443</th>\n",
       "      <td>TXN_2023651</td>\n",
       "      <td>Sandwich</td>\n",
       "      <td>0.0</td>\n",
       "      <td>4.0</td>\n",
       "      <td>0.0</td>\n",
       "      <td>Cash</td>\n",
       "      <td>In-store</td>\n",
       "      <td>2023-05-25</td>\n",
       "    </tr>\n",
       "    <tr>\n",
       "      <th>8465</th>\n",
       "      <td>TXN_9669616</td>\n",
       "      <td>Coffee</td>\n",
       "      <td>0.0</td>\n",
       "      <td>2.0</td>\n",
       "      <td>0.0</td>\n",
       "      <td>NaN</td>\n",
       "      <td>ERROR</td>\n",
       "      <td>2023-06-03</td>\n",
       "    </tr>\n",
       "    <tr>\n",
       "      <th>8479</th>\n",
       "      <td>TXN_1547245</td>\n",
       "      <td>Sandwich</td>\n",
       "      <td>0.0</td>\n",
       "      <td>4.0</td>\n",
       "      <td>0.0</td>\n",
       "      <td>NaN</td>\n",
       "      <td>Takeaway</td>\n",
       "      <td>2023-09-11</td>\n",
       "    </tr>\n",
       "    <tr>\n",
       "      <th>8574</th>\n",
       "      <td>TXN_2546684</td>\n",
       "      <td>Juice</td>\n",
       "      <td>0.0</td>\n",
       "      <td>3.0</td>\n",
       "      <td>0.0</td>\n",
       "      <td>Digital Wallet</td>\n",
       "      <td>Takeaway</td>\n",
       "      <td>2023-04-08</td>\n",
       "    </tr>\n",
       "    <tr>\n",
       "      <th>8732</th>\n",
       "      <td>TXN_4550558</td>\n",
       "      <td>Cookie</td>\n",
       "      <td>0.0</td>\n",
       "      <td>1.0</td>\n",
       "      <td>0.0</td>\n",
       "      <td>Credit Card</td>\n",
       "      <td>In-store</td>\n",
       "      <td>2023-08-04</td>\n",
       "    </tr>\n",
       "    <tr>\n",
       "      <th>9590</th>\n",
       "      <td>TXN_9924732</td>\n",
       "      <td>Sandwich</td>\n",
       "      <td>0.0</td>\n",
       "      <td>4.0</td>\n",
       "      <td>0.0</td>\n",
       "      <td>Credit Card</td>\n",
       "      <td>In-store</td>\n",
       "      <td>2023-01-18</td>\n",
       "    </tr>\n",
       "    <tr>\n",
       "      <th>9869</th>\n",
       "      <td>TXN_1975184</td>\n",
       "      <td>Coffee</td>\n",
       "      <td>0.0</td>\n",
       "      <td>2.0</td>\n",
       "      <td>0.0</td>\n",
       "      <td>Digital Wallet</td>\n",
       "      <td>NaN</td>\n",
       "      <td>2023-01-15</td>\n",
       "    </tr>\n",
       "  </tbody>\n",
       "</table>\n",
       "</div>"
      ],
      "text/plain": [
       "     Transaction ID          Item  Quantity  Price Per Unit  Total Spent  \\\n",
       "236     TXN_8562645         Salad       0.0             5.0          0.0   \n",
       "278     TXN_3229409         Juice       0.0             3.0          0.0   \n",
       "641     TXN_2962976         Juice       0.0             3.0          0.0   \n",
       "738     TXN_8696094      Sandwich       0.0             4.0          0.0   \n",
       "1761    TXN_3611851  Unknown Item       4.0             0.0          0.0   \n",
       "2289    TXN_7524977  Unknown Item       4.0             0.0          0.0   \n",
       "2796    TXN_9188692          Cake       0.0             3.0          0.0   \n",
       "3203    TXN_4565754      Smoothie       0.0             4.0          0.0   \n",
       "3224    TXN_6297232        Coffee       0.0             2.0          0.0   \n",
       "3401    TXN_3251829           Tea       0.0             1.5          0.0   \n",
       "4152    TXN_9646000  Unknown Item       2.0             0.0          0.0   \n",
       "4257    TXN_6470865        Coffee       0.0             2.0          0.0   \n",
       "5841    TXN_5884081        Cookie       0.0             1.0          0.0   \n",
       "7029    TXN_4628338        Coffee       0.0             2.0          0.0   \n",
       "7297    TXN_9944500      Smoothie       0.0             4.0          0.0   \n",
       "8021    TXN_2428781         Salad       0.0             5.0          0.0   \n",
       "8443    TXN_2023651      Sandwich       0.0             4.0          0.0   \n",
       "8465    TXN_9669616        Coffee       0.0             2.0          0.0   \n",
       "8479    TXN_1547245      Sandwich       0.0             4.0          0.0   \n",
       "8574    TXN_2546684         Juice       0.0             3.0          0.0   \n",
       "8732    TXN_4550558        Cookie       0.0             1.0          0.0   \n",
       "9590    TXN_9924732      Sandwich       0.0             4.0          0.0   \n",
       "9869    TXN_1975184        Coffee       0.0             2.0          0.0   \n",
       "\n",
       "      Payment Method  Location Transaction Date  \n",
       "236              NaN  In-store       2023-05-18  \n",
       "278             Cash  Takeaway       2023-04-15  \n",
       "641              NaN       NaN       2023-03-17  \n",
       "738              NaN  Takeaway       2023-05-14  \n",
       "1761     Credit Card       NaN       2023-02-09  \n",
       "2289           ERROR       NaN       2023-12-09  \n",
       "2796     Credit Card       NaN       2023-12-01  \n",
       "3203  Digital Wallet  Takeaway       2023-10-06  \n",
       "3224             NaN       NaN       2023-04-07  \n",
       "3401  Digital Wallet  In-store       2023-07-25  \n",
       "4152             NaN  In-store       2023-12-14  \n",
       "4257  Digital Wallet  Takeaway       2023-09-18  \n",
       "5841  Digital Wallet  In-store       2023-07-05  \n",
       "7029            Cash       NaN       2023-12-25  \n",
       "7297            Cash  In-store       2023-01-03  \n",
       "8021             NaN  In-store       2023-05-09  \n",
       "8443            Cash  In-store       2023-05-25  \n",
       "8465             NaN     ERROR       2023-06-03  \n",
       "8479             NaN  Takeaway       2023-09-11  \n",
       "8574  Digital Wallet  Takeaway       2023-04-08  \n",
       "8732     Credit Card  In-store       2023-08-04  \n",
       "9590     Credit Card  In-store       2023-01-18  \n",
       "9869  Digital Wallet       NaN       2023-01-15  "
      ]
     },
     "execution_count": 238,
     "metadata": {},
     "output_type": "execute_result"
    }
   ],
   "source": [
    "df[df['Total Spent']==0]"
   ]
  },
  {
   "cell_type": "code",
   "execution_count": 239,
   "id": "68f43373-93e2-4087-9391-39c533ba9f2a",
   "metadata": {},
   "outputs": [
    {
     "data": {
      "text/plain": [
       "Transaction ID         0\n",
       "Item                   0\n",
       "Quantity               2\n",
       "Price Per Unit         2\n",
       "Total Spent            0\n",
       "Payment Method      2579\n",
       "Location            3265\n",
       "Transaction Date     159\n",
       "dtype: int64"
      ]
     },
     "execution_count": 239,
     "metadata": {},
     "output_type": "execute_result"
    }
   ],
   "source": [
    "df.isna().sum()"
   ]
  },
  {
   "cell_type": "code",
   "execution_count": 240,
   "id": "ad5924c2-ee65-4b4f-b00c-9cdd3a402cb3",
   "metadata": {},
   "outputs": [
    {
     "data": {
      "text/html": [
       "<div>\n",
       "<style scoped>\n",
       "    .dataframe tbody tr th:only-of-type {\n",
       "        vertical-align: middle;\n",
       "    }\n",
       "\n",
       "    .dataframe tbody tr th {\n",
       "        vertical-align: top;\n",
       "    }\n",
       "\n",
       "    .dataframe thead th {\n",
       "        text-align: right;\n",
       "    }\n",
       "</style>\n",
       "<table border=\"1\" class=\"dataframe\">\n",
       "  <thead>\n",
       "    <tr style=\"text-align: right;\">\n",
       "      <th></th>\n",
       "      <th>Transaction ID</th>\n",
       "      <th>Item</th>\n",
       "      <th>Quantity</th>\n",
       "      <th>Price Per Unit</th>\n",
       "      <th>Total Spent</th>\n",
       "      <th>Payment Method</th>\n",
       "      <th>Location</th>\n",
       "      <th>Transaction Date</th>\n",
       "    </tr>\n",
       "  </thead>\n",
       "  <tbody>\n",
       "    <tr>\n",
       "      <th>7597</th>\n",
       "      <td>TXN_1082717</td>\n",
       "      <td>Unknown Item</td>\n",
       "      <td>NaN</td>\n",
       "      <td>NaN</td>\n",
       "      <td>9.0</td>\n",
       "      <td>Digital Wallet</td>\n",
       "      <td>In-store</td>\n",
       "      <td>2023-12-13</td>\n",
       "    </tr>\n",
       "    <tr>\n",
       "      <th>9819</th>\n",
       "      <td>TXN_1208561</td>\n",
       "      <td>Unknown Item</td>\n",
       "      <td>NaN</td>\n",
       "      <td>NaN</td>\n",
       "      <td>20.0</td>\n",
       "      <td>Credit Card</td>\n",
       "      <td>NaN</td>\n",
       "      <td>2023-08-19</td>\n",
       "    </tr>\n",
       "  </tbody>\n",
       "</table>\n",
       "</div>"
      ],
      "text/plain": [
       "     Transaction ID          Item  Quantity  Price Per Unit  Total Spent  \\\n",
       "7597    TXN_1082717  Unknown Item       NaN             NaN          9.0   \n",
       "9819    TXN_1208561  Unknown Item       NaN             NaN         20.0   \n",
       "\n",
       "      Payment Method  Location Transaction Date  \n",
       "7597  Digital Wallet  In-store       2023-12-13  \n",
       "9819     Credit Card       NaN       2023-08-19  "
      ]
     },
     "execution_count": 240,
     "metadata": {},
     "output_type": "execute_result"
    }
   ],
   "source": [
    "df[df[\"Quantity\"].isna()==True]"
   ]
  },
  {
   "cell_type": "markdown",
   "id": "098610ed-e2f3-4170-9c10-4228d2acbabd",
   "metadata": {},
   "source": [
    "#### There are two rows with `NaN` for both quantity and price. This happened because we are not sure which item is consumed"
   ]
  },
  {
   "cell_type": "markdown",
   "id": "311ac39c-2bfa-446e-ad99-20d4023fa2d0",
   "metadata": {},
   "source": [
    "### Handling Missing and Invalid Values in `Payment Method`\n",
    "\n",
    "- Missing values in the `Payment Method` column are replaced with `\"Unknown\"` since the transaction was completed, indicating the customer must have paid in some way (it's just not recorded).\n",
    "- Entries labeled as `\"ERROR\"` are kept as they are to preserve data integrity.\n"
   ]
  },
  {
   "cell_type": "code",
   "execution_count": 241,
   "id": "7b9c9637-f2ee-493c-8abf-e65316110e20",
   "metadata": {},
   "outputs": [
    {
     "data": {
      "text/plain": [
       "array(['Credit Card', 'Cash', 'UNKNOWN', 'Digital Wallet', 'ERROR', nan],\n",
       "      dtype=object)"
      ]
     },
     "execution_count": 241,
     "metadata": {},
     "output_type": "execute_result"
    }
   ],
   "source": [
    "df[\"Payment Method\"].unique()"
   ]
  },
  {
   "cell_type": "code",
   "execution_count": 242,
   "id": "f014f576-115b-4f8b-b106-9d8d627bafdc",
   "metadata": {},
   "outputs": [],
   "source": [
    "df[\"Payment Method\"]=df[\"Payment Method\"].fillna(\"UNKNOWN\")"
   ]
  },
  {
   "cell_type": "code",
   "execution_count": 243,
   "id": "67f31efd-39ff-4575-82f6-cc9be8db8544",
   "metadata": {},
   "outputs": [
    {
     "name": "stdout",
     "output_type": "stream",
     "text": [
      "<class 'pandas.core.frame.DataFrame'>\n",
      "RangeIndex: 10000 entries, 0 to 9999\n",
      "Data columns (total 8 columns):\n",
      " #   Column            Non-Null Count  Dtype   \n",
      "---  ------            --------------  -----   \n",
      " 0   Transaction ID    10000 non-null  object  \n",
      " 1   Item              10000 non-null  category\n",
      " 2   Quantity          9998 non-null   float64 \n",
      " 3   Price Per Unit    9998 non-null   float64 \n",
      " 4   Total Spent       10000 non-null  float64 \n",
      " 5   Payment Method    10000 non-null  object  \n",
      " 6   Location          6735 non-null   object  \n",
      " 7   Transaction Date  9841 non-null   object  \n",
      "dtypes: category(1), float64(3), object(4)\n",
      "memory usage: 2.7 MB\n"
     ]
    }
   ],
   "source": [
    "df.info(memory_usage='deep')"
   ]
  },
  {
   "cell_type": "code",
   "execution_count": 244,
   "id": "836e0e98-1d7a-43e8-9d2f-43e6c7619c81",
   "metadata": {},
   "outputs": [],
   "source": [
    "df['Payment Method']=df['Payment Method'].astype('category')"
   ]
  },
  {
   "cell_type": "markdown",
   "id": "44f20792-ff8b-4f00-b859-afba0565340c",
   "metadata": {},
   "source": [
    "#### Now the data type of the `Payment Method` is converted to `category`. This reduced the amount of memory used compared to when the data type was `object`."
   ]
  },
  {
   "cell_type": "code",
   "execution_count": 245,
   "id": "2161b8a8-5013-4a93-81c8-2539ecc5f5df",
   "metadata": {},
   "outputs": [
    {
     "name": "stdout",
     "output_type": "stream",
     "text": [
      "<class 'pandas.core.frame.DataFrame'>\n",
      "RangeIndex: 10000 entries, 0 to 9999\n",
      "Data columns (total 8 columns):\n",
      " #   Column            Non-Null Count  Dtype   \n",
      "---  ------            --------------  -----   \n",
      " 0   Transaction ID    10000 non-null  object  \n",
      " 1   Item              10000 non-null  category\n",
      " 2   Quantity          9998 non-null   float64 \n",
      " 3   Price Per Unit    9998 non-null   float64 \n",
      " 4   Total Spent       10000 non-null  float64 \n",
      " 5   Payment Method    10000 non-null  category\n",
      " 6   Location          6735 non-null   object  \n",
      " 7   Transaction Date  9841 non-null   object  \n",
      "dtypes: category(2), float64(3), object(3)\n",
      "memory usage: 2.0 MB\n"
     ]
    }
   ],
   "source": [
    "df.info(memory_usage='deep')"
   ]
  },
  {
   "cell_type": "markdown",
   "id": "f39d6e80-7424-45e1-be5b-41a8db62c8ab",
   "metadata": {},
   "source": [
    "### Handling Missing and Invalid Values in `Location`\n",
    "\n",
    "- Missing values in the `Location` column are replaced with `\"Unknown\"` since the transaction still occurred, even if the specific location wasn't recorded.\n",
    "- Entries labeled as `\"ERROR\"` are left as-is to indicate potential data issues that might need manual review or further clarification.\n"
   ]
  },
  {
   "cell_type": "code",
   "execution_count": 246,
   "id": "27736628-85c1-44f6-8cf6-901da2fd3489",
   "metadata": {},
   "outputs": [
    {
     "data": {
      "text/plain": [
       "array(['Takeaway', 'In-store', 'UNKNOWN', nan, 'ERROR'], dtype=object)"
      ]
     },
     "execution_count": 246,
     "metadata": {},
     "output_type": "execute_result"
    }
   ],
   "source": [
    "df[\"Location\"].unique()"
   ]
  },
  {
   "cell_type": "code",
   "execution_count": 247,
   "id": "83165415-0022-4fa0-8022-961e839ea704",
   "metadata": {},
   "outputs": [],
   "source": [
    "df[\"Location\"]=df[\"Location\"].fillna(\"UNKNOWN\")"
   ]
  },
  {
   "cell_type": "code",
   "execution_count": 248,
   "id": "e83a9942-5de9-476c-a420-6cde27afea46",
   "metadata": {},
   "outputs": [],
   "source": [
    "df['Location']=df['Location'].astype('category')"
   ]
  },
  {
   "cell_type": "code",
   "execution_count": 249,
   "id": "465ed210-8132-4bce-ae4c-8036b91c102e",
   "metadata": {},
   "outputs": [
    {
     "name": "stdout",
     "output_type": "stream",
     "text": [
      "<class 'pandas.core.frame.DataFrame'>\n",
      "RangeIndex: 10000 entries, 0 to 9999\n",
      "Data columns (total 8 columns):\n",
      " #   Column            Non-Null Count  Dtype   \n",
      "---  ------            --------------  -----   \n",
      " 0   Transaction ID    10000 non-null  object  \n",
      " 1   Item              10000 non-null  category\n",
      " 2   Quantity          9998 non-null   float64 \n",
      " 3   Price Per Unit    9998 non-null   float64 \n",
      " 4   Total Spent       10000 non-null  float64 \n",
      " 5   Payment Method    10000 non-null  category\n",
      " 6   Location          10000 non-null  category\n",
      " 7   Transaction Date  9841 non-null   object  \n",
      "dtypes: category(3), float64(3), object(2)\n",
      "memory usage: 1.5 MB\n"
     ]
    }
   ],
   "source": [
    "df.info(memory_usage='deep')"
   ]
  },
  {
   "cell_type": "markdown",
   "id": "55793412-5158-4ff0-931e-845d2dbbe646",
   "metadata": {},
   "source": [
    "#### Now the data type of the `Location` is converted to `category`. This reduced the amount of memory used compared to when the data type was `object`."
   ]
  },
  {
   "cell_type": "markdown",
   "id": "f5589fea-a1b5-42ac-a28b-3fe9ba9b6ca5",
   "metadata": {},
   "source": [
    "### Handling Missing and Invalid Values in `Transaction Date`"
   ]
  },
  {
   "cell_type": "code",
   "execution_count": 250,
   "id": "f4b1728a-9523-46a2-988a-43f567b47a96",
   "metadata": {},
   "outputs": [
    {
     "data": {
      "text/plain": [
       "array(['2023-09-08', '2023-05-16', '2023-07-19', '2023-04-27',\n",
       "       '2023-06-11', '2023-03-31', '2023-10-06', '2023-10-28',\n",
       "       '2023-07-28', '2023-12-31', '2023-11-07', 'ERROR', '2023-05-03',\n",
       "       '2023-06-01', '2023-03-21', '2023-11-15', '2023-06-10',\n",
       "       '2023-02-24', '2023-03-25', '2023-01-15', '2023-04-04',\n",
       "       '2023-03-30', '2023-12-01', '2023-09-18', '2023-06-03',\n",
       "       '2023-12-13', '2023-04-20', '2023-04-10', '2023-03-11',\n",
       "       '2023-06-02', '2023-11-06', '2023-08-15', '2023-10-09',\n",
       "       '2023-05-28', '2023-07-17', '2023-04-29', '2023-06-08',\n",
       "       '2023-06-29', '2023-04-17', '2023-12-22', '2023-01-10',\n",
       "       '2023-10-02', '2023-02-23', '2023-03-22', '2023-11-03',\n",
       "       '2023-03-02', '2023-06-26', '2023-05-02', '2023-09-05',\n",
       "       '2023-01-08', '2023-03-15', '2023-11-25', '2023-12-05',\n",
       "       '2023-03-19', '2023-06-27', '2023-04-19', '2023-10-07',\n",
       "       '2023-09-30', '2023-05-27', '2023-11-18', '2023-10-20',\n",
       "       '2023-10-03', '2023-10-27', '2023-04-06', '2023-01-31',\n",
       "       '2023-12-08', '2023-06-19', '2023-12-14', '2023-07-16',\n",
       "       '2023-02-22', nan, '2023-06-15', '2023-12-09', '2023-04-18',\n",
       "       '2023-10-29', '2023-04-30', '2023-04-02', '2023-05-24',\n",
       "       '2023-03-12', '2023-08-16', '2023-09-10', '2023-03-07',\n",
       "       '2023-08-07', '2023-08-20', '2023-04-15', '2023-07-25',\n",
       "       '2023-10-30', '2023-12-15', '2023-02-25', '2023-04-03',\n",
       "       '2023-10-08', '2023-12-28', '2023-08-30', '2023-02-03',\n",
       "       '2023-09-12', '2023-05-04', '2023-02-21', 'UNKNOWN', '2023-03-16',\n",
       "       '2023-02-06', '2023-03-29', '2023-06-18', '2023-09-23',\n",
       "       '2023-01-14', '2023-09-14', '2023-09-16', '2023-04-08',\n",
       "       '2023-12-19', '2023-07-14', '2023-12-12', '2023-01-05',\n",
       "       '2023-01-23', '2023-02-20', '2023-12-06', '2023-05-31',\n",
       "       '2023-08-11', '2023-09-03', '2023-07-11', '2023-06-06',\n",
       "       '2023-01-18', '2023-03-23', '2023-01-04', '2023-06-23',\n",
       "       '2023-08-03', '2023-07-12', '2023-11-02', '2023-07-31',\n",
       "       '2023-09-19', '2023-02-09', '2023-09-04', '2023-05-21',\n",
       "       '2023-07-02', '2023-07-10', '2023-11-21', '2023-12-02',\n",
       "       '2023-03-13', '2023-08-12', '2023-02-16', '2023-04-11',\n",
       "       '2023-03-26', '2023-11-01', '2023-07-22', '2023-07-26',\n",
       "       '2023-02-28', '2023-01-27', '2023-01-19', '2023-04-07',\n",
       "       '2023-03-20', '2023-12-27', '2023-10-26', '2023-02-18',\n",
       "       '2023-05-15', '2023-12-10', '2023-04-21', '2023-02-04',\n",
       "       '2023-11-12', '2023-08-05', '2023-05-10', '2023-07-15',\n",
       "       '2023-01-11', '2023-10-01', '2023-04-26', '2023-08-25',\n",
       "       '2023-03-01', '2023-11-13', '2023-07-09', '2023-05-13',\n",
       "       '2023-05-18', '2023-01-17', '2023-09-22', '2023-08-22',\n",
       "       '2023-07-27', '2023-12-30', '2023-12-21', '2023-09-28',\n",
       "       '2023-11-16', '2023-04-14', '2023-01-03', '2023-01-12',\n",
       "       '2023-08-31', '2023-07-07', '2023-09-15', '2023-10-21',\n",
       "       '2023-09-02', '2023-08-19', '2023-01-06', '2023-10-13',\n",
       "       '2023-05-29', '2023-05-22', '2023-11-23', '2023-10-15',\n",
       "       '2023-11-14', '2023-11-26', '2023-12-17', '2023-05-09',\n",
       "       '2023-10-22', '2023-06-30', '2023-04-25', '2023-02-19',\n",
       "       '2023-12-11', '2023-10-12', '2023-07-04', '2023-01-28',\n",
       "       '2023-10-04', '2023-02-26', '2023-10-11', '2023-02-14',\n",
       "       '2023-04-28', '2023-09-06', '2023-04-23', '2023-01-22',\n",
       "       '2023-03-10', '2023-01-09', '2023-12-03', '2023-08-06',\n",
       "       '2023-12-29', '2023-02-15', '2023-05-25', '2023-10-31',\n",
       "       '2023-02-27', '2023-03-03', '2023-09-27', '2023-08-18',\n",
       "       '2023-12-16', '2023-06-07', '2023-05-12', '2023-07-06',\n",
       "       '2023-06-20', '2023-08-09', '2023-05-14', '2023-07-18',\n",
       "       '2023-10-10', '2023-02-02', '2023-08-14', '2023-09-26',\n",
       "       '2023-01-13', '2023-10-16', '2023-11-17', '2023-12-20',\n",
       "       '2023-12-04', '2023-02-08', '2023-09-11', '2023-02-01',\n",
       "       '2023-02-12', '2023-03-14', '2023-09-29', '2023-04-22',\n",
       "       '2023-06-13', '2023-12-24', '2023-03-28', '2023-03-06',\n",
       "       '2023-02-11', '2023-01-30', '2023-04-09', '2023-04-16',\n",
       "       '2023-12-23', '2023-03-05', '2023-03-24', '2023-07-23',\n",
       "       '2023-07-29', '2023-06-05', '2023-10-19', '2023-01-07',\n",
       "       '2023-11-29', '2023-07-05', '2023-07-20', '2023-05-07',\n",
       "       '2023-08-10', '2023-10-24', '2023-08-13', '2023-08-28',\n",
       "       '2023-06-21', '2023-11-10', '2023-10-18', '2023-05-19',\n",
       "       '2023-11-09', '2023-06-24', '2023-05-11', '2023-12-07',\n",
       "       '2023-09-01', '2023-09-25', '2023-06-22', '2023-05-30',\n",
       "       '2023-04-24', '2023-09-20', '2023-02-07', '2023-05-05',\n",
       "       '2023-02-10', '2023-11-24', '2023-10-25', '2023-10-05',\n",
       "       '2023-07-21', '2023-07-08', '2023-03-17', '2023-10-14',\n",
       "       '2023-06-28', '2023-09-09', '2023-08-21', '2023-07-01',\n",
       "       '2023-06-14', '2023-03-09', '2023-11-08', '2023-12-26',\n",
       "       '2023-09-13', '2023-05-23', '2023-08-24', '2023-04-01',\n",
       "       '2023-06-09', '2023-08-23', '2023-08-08', '2023-08-27',\n",
       "       '2023-05-26', '2023-06-16', '2023-12-25', '2023-01-25',\n",
       "       '2023-10-23', '2023-05-06', '2023-01-29', '2023-08-29',\n",
       "       '2023-01-01', '2023-07-24', '2023-04-12', '2023-12-18',\n",
       "       '2023-09-21', '2023-05-01', '2023-02-05', '2023-01-24',\n",
       "       '2023-01-02', '2023-06-12', '2023-01-16', '2023-10-17',\n",
       "       '2023-03-04', '2023-06-17', '2023-03-18', '2023-08-26',\n",
       "       '2023-05-17', '2023-11-22', '2023-08-17', '2023-11-19',\n",
       "       '2023-11-27', '2023-06-04', '2023-09-17', '2023-11-04',\n",
       "       '2023-11-28', '2023-06-25', '2023-04-13', '2023-01-26',\n",
       "       '2023-08-04', '2023-05-08', '2023-11-20', '2023-07-13',\n",
       "       '2023-09-24', '2023-01-21', '2023-03-08', '2023-09-07',\n",
       "       '2023-11-30', '2023-08-02', '2023-04-05', '2023-08-01',\n",
       "       '2023-01-20', '2023-11-11', '2023-02-13', '2023-07-30',\n",
       "       '2023-02-17', '2023-05-20', '2023-11-05', '2023-03-27',\n",
       "       '2023-07-03'], dtype=object)"
      ]
     },
     "execution_count": 250,
     "metadata": {},
     "output_type": "execute_result"
    }
   ],
   "source": [
    "df[\"Transaction Date\"].unique()"
   ]
  },
  {
   "cell_type": "code",
   "execution_count": 251,
   "id": "a7f3b7e8-e25b-4730-8f5a-a6c0b1a394f1",
   "metadata": {},
   "outputs": [],
   "source": [
    "df[\"Transaction Date\"]=df[\"Transaction Date\"].str.lower().str.strip()"
   ]
  },
  {
   "cell_type": "markdown",
   "id": "2859ca55-627f-48be-8c1c-3f2d7182c306",
   "metadata": {},
   "source": [
    "* Then, we used `pd.to_datetime()` with `errors='coerce'` to convert valid date strings to datetime format and set any invalid entries to `NaT` (Not a Time), which behaves like `NaN` for datetime objects."
   ]
  },
  {
   "cell_type": "code",
   "execution_count": 252,
   "id": "c6160ffd-900e-4c60-8b15-9b05eaf0b8e8",
   "metadata": {},
   "outputs": [],
   "source": [
    "df['Transaction Date']=pd.to_datetime(df['Transaction Date'],errors='coerce')"
   ]
  },
  {
   "cell_type": "code",
   "execution_count": 253,
   "id": "faf842b8-e31a-4861-aa44-c49c7661d371",
   "metadata": {},
   "outputs": [
    {
     "data": {
      "text/plain": [
       "np.int64(460)"
      ]
     },
     "execution_count": 253,
     "metadata": {},
     "output_type": "execute_result"
    }
   ],
   "source": [
    "df[\"Transaction Date\"].isna().sum()"
   ]
  },
  {
   "cell_type": "code",
   "execution_count": 254,
   "id": "6bcb946c-6b5a-452b-8bef-7d7eaedd09ca",
   "metadata": {},
   "outputs": [],
   "source": [
    "df[\"Transaction Date\"]=df[\"Transaction Date\"].fillna(pd.Timestamp(\"1900-01-01\"))# A place holder for the unknown dates"
   ]
  },
  {
   "cell_type": "markdown",
   "id": "6072ae09-c157-40be-96fc-7031fca75a83",
   "metadata": {},
   "source": [
    "* Finally, we filled these missing dates with a placeholder date of `1900-01-01`."
   ]
  },
  {
   "cell_type": "code",
   "execution_count": 255,
   "id": "f51c399a-8e26-4e9b-9a61-1bdd067f6a47",
   "metadata": {},
   "outputs": [
    {
     "data": {
      "text/plain": [
       "Transaction ID      0\n",
       "Item                0\n",
       "Quantity            2\n",
       "Price Per Unit      2\n",
       "Total Spent         0\n",
       "Payment Method      0\n",
       "Location            0\n",
       "Transaction Date    0\n",
       "dtype: int64"
      ]
     },
     "execution_count": 255,
     "metadata": {},
     "output_type": "execute_result"
    }
   ],
   "source": [
    "df.isna().sum()"
   ]
  },
  {
   "cell_type": "markdown",
   "id": "7c2d6109-4f35-4f81-bbe9-6f6cd95ca77f",
   "metadata": {},
   "source": [
    "### Final Note on Data Cleaning\n",
    "\n",
    "*Now the data is cleaned. A value of `0` in any of the numerical columns indicates that the original entry was either `NaN`, `ERROR`, or `UNKNOWN` before the cleaning process.*\n"
   ]
  },
  {
   "cell_type": "markdown",
   "id": "155603f6-ad06-4959-baae-02b2d8728b5e",
   "metadata": {},
   "source": [
    "### Analytical Questions"
   ]
  },
  {
   "cell_type": "markdown",
   "id": "24be1d0e-9341-4a5c-89b3-4661c0706c85",
   "metadata": {},
   "source": [
    "#### 1. Which items bring in the highest total revenue?"
   ]
  },
  {
   "cell_type": "code",
   "execution_count": 256,
   "id": "80d78574-1468-49d3-ae3e-cb947e4c3896",
   "metadata": {},
   "outputs": [
    {
     "name": "stderr",
     "output_type": "stream",
     "text": [
      "C:\\Users\\blena\\AppData\\Local\\Temp\\ipykernel_3012\\1077078561.py:1: FutureWarning: The default of observed=False is deprecated and will be changed to True in a future version of pandas. Pass observed=False to retain current behavior or observed=True to adopt the future default and silence this warning.\n",
      "  item_with_highest_revenue=df.groupby([\"Item\"])[[\"Total Spent\"]].sum().sort_values(by=\"Total Spent\", ascending=False).round(1).iloc[0,:]\n"
     ]
    }
   ],
   "source": [
    "item_with_highest_revenue=df.groupby([\"Item\"])[[\"Total Spent\"]].sum().sort_values(by=\"Total Spent\", ascending=False).round(1).iloc[0,:]"
   ]
  },
  {
   "cell_type": "code",
   "execution_count": 257,
   "id": "630d1789-865f-478d-a978-e1cb475fd26a",
   "metadata": {},
   "outputs": [
    {
     "data": {
      "text/plain": [
       "Total Spent    17343.9\n",
       "Name: Salad, dtype: float64"
      ]
     },
     "execution_count": 257,
     "metadata": {},
     "output_type": "execute_result"
    }
   ],
   "source": [
    "item_with_highest_revenue"
   ]
  },
  {
   "cell_type": "markdown",
   "id": "2d242a7c-c645-49c2-a131-96dba7e8ca5c",
   "metadata": {},
   "source": [
    "### Item with the Highest Revenue\n",
    "#### The item that brings in the most revenue is **`Salad`**, with a total revenue of $`17,343.90`."
   ]
  },
  {
   "cell_type": "markdown",
   "id": "4031a314-51d8-4f80-943d-e153100c56f0",
   "metadata": {},
   "source": [
    "### 2. Which items are sold most frequently (by quantity)?"
   ]
  },
  {
   "cell_type": "code",
   "execution_count": 258,
   "id": "647720dd-98f4-4b71-8c5a-a4fbaf3dcbd5",
   "metadata": {},
   "outputs": [
    {
     "name": "stderr",
     "output_type": "stream",
     "text": [
      "C:\\Users\\blena\\AppData\\Local\\Temp\\ipykernel_3012\\246637000.py:1: FutureWarning: The default of observed=False is deprecated and will be changed to True in a future version of pandas. Pass observed=False to retain current behavior or observed=True to adopt the future default and silence this warning.\n",
      "  item_frequently_sold=df.groupby(\"Item\")[[\"Quantity\"]].sum().sort_values(by=\"Quantity\", ascending=False).iloc[0,:]\n"
     ]
    }
   ],
   "source": [
    "item_frequently_sold=df.groupby(\"Item\")[[\"Quantity\"]].sum().sort_values(by=\"Quantity\", ascending=False).iloc[0,:]"
   ]
  },
  {
   "cell_type": "code",
   "execution_count": 259,
   "id": "eaf77258-9262-4cc1-8def-1eed0ac9bf67",
   "metadata": {},
   "outputs": [
    {
     "data": {
      "text/plain": [
       "Quantity    3536.0\n",
       "Name: Coffee, dtype: float64"
      ]
     },
     "execution_count": 259,
     "metadata": {},
     "output_type": "execute_result"
    }
   ],
   "source": [
    "item_frequently_sold"
   ]
  },
  {
   "cell_type": "markdown",
   "id": "dac75e0a-0154-48ab-bcd4-76f9d9a9859d",
   "metadata": {},
   "source": [
    "#### The item that is frequently sold is **`Coffee`**, with a total quantity of `3536`."
   ]
  },
  {
   "cell_type": "markdown",
   "id": "1ff092f1-fe30-4ab9-a4ae-1b28621f6c69",
   "metadata": {},
   "source": [
    "### 3. What is the average total spent per transaction?"
   ]
  },
  {
   "cell_type": "code",
   "execution_count": 260,
   "id": "4baaa09b-ee9f-45c9-a7a7-adee30a9fe2c",
   "metadata": {},
   "outputs": [],
   "source": [
    "avg_amount_spent_per_transaction = df[\"Total Spent\"].mean().round(1)"
   ]
  },
  {
   "cell_type": "code",
   "execution_count": 261,
   "id": "f92de113-5525-48f4-98b9-5b960c52ef35",
   "metadata": {},
   "outputs": [
    {
     "data": {
      "text/plain": [
       "np.float64(8.9)"
      ]
     },
     "execution_count": 261,
     "metadata": {},
     "output_type": "execute_result"
    }
   ],
   "source": [
    "avg_amount_spent_per_transaction"
   ]
  },
  {
   "cell_type": "code",
   "execution_count": 262,
   "id": "c56ad3c5-0a1d-40d7-a7a3-272927d3396e",
   "metadata": {},
   "outputs": [
    {
     "data": {
      "text/plain": [
       "np.float64(8.0)"
      ]
     },
     "execution_count": 262,
     "metadata": {},
     "output_type": "execute_result"
    }
   ],
   "source": [
    "df[\"Total Spent\"].median()"
   ]
  },
  {
   "cell_type": "code",
   "execution_count": 263,
   "id": "d3d7c6ca-cd8f-47a0-a0cd-0e963dd8fa91",
   "metadata": {},
   "outputs": [
    {
     "data": {
      "text/plain": [
       "np.float64(6.012969770680291)"
      ]
     },
     "execution_count": 263,
     "metadata": {},
     "output_type": "execute_result"
    }
   ],
   "source": [
    "df[\"Total Spent\"].std()"
   ]
  },
  {
   "cell_type": "markdown",
   "id": "1e5d9c60-4d3f-4d05-9529-97a2eee4d634",
   "metadata": {},
   "source": [
    "#### Average Total Spent Per Transaction\n",
    "\n",
    "The average total spent per transaction is **`$8.90`**, with a standard deviation of **`$6.01`**.  \n",
    "This indicates that spending varies considerably between transactions. While some customers make small purchases, others spend significantly more, suggesting a wide range of spending behavior **`($8.90 ± $6.01)`**.\n"
   ]
  },
  {
   "cell_type": "markdown",
   "id": "cb135f58-8b89-47a6-98a3-65d2e84b7a03",
   "metadata": {},
   "source": [
    "### 4.Which location generates the most revenue overall?"
   ]
  },
  {
   "cell_type": "code",
   "execution_count": 264,
   "id": "45eee88d-f0d3-4e7a-ac5c-b0c15e597068",
   "metadata": {},
   "outputs": [
    {
     "name": "stderr",
     "output_type": "stream",
     "text": [
      "C:\\Users\\blena\\AppData\\Local\\Temp\\ipykernel_3012\\2904226222.py:1: FutureWarning: The default of observed=False is deprecated and will be changed to True in a future version of pandas. Pass observed=False to retain current behavior or observed=True to adopt the future default and silence this warning.\n",
      "  location_with_highest_revenue=df.groupby(\"Location\")[[\"Total Spent\"]].sum().sort_values(by=\"Total Spent\", ascending=False)\n"
     ]
    }
   ],
   "source": [
    "location_with_highest_revenue=df.groupby(\"Location\")[[\"Total Spent\"]].sum().sort_values(by=\"Total Spent\", ascending=False)"
   ]
  },
  {
   "cell_type": "code",
   "execution_count": 265,
   "id": "8be6cfe7-4db2-4cf1-ab2f-4bc9862faa5b",
   "metadata": {},
   "outputs": [
    {
     "data": {
      "text/html": [
       "<div>\n",
       "<style scoped>\n",
       "    .dataframe tbody tr th:only-of-type {\n",
       "        vertical-align: middle;\n",
       "    }\n",
       "\n",
       "    .dataframe tbody tr th {\n",
       "        vertical-align: top;\n",
       "    }\n",
       "\n",
       "    .dataframe thead th {\n",
       "        text-align: right;\n",
       "    }\n",
       "</style>\n",
       "<table border=\"1\" class=\"dataframe\">\n",
       "  <thead>\n",
       "    <tr style=\"text-align: right;\">\n",
       "      <th></th>\n",
       "      <th>Total Spent</th>\n",
       "    </tr>\n",
       "    <tr>\n",
       "      <th>Location</th>\n",
       "      <th></th>\n",
       "    </tr>\n",
       "  </thead>\n",
       "  <tbody>\n",
       "    <tr>\n",
       "      <th>UNKNOWN</th>\n",
       "      <td>32128.000000</td>\n",
       "    </tr>\n",
       "    <tr>\n",
       "      <th>In-store</th>\n",
       "      <td>27172.421963</td>\n",
       "    </tr>\n",
       "    <tr>\n",
       "      <th>Takeaway</th>\n",
       "      <td>26552.005578</td>\n",
       "    </tr>\n",
       "    <tr>\n",
       "      <th>ERROR</th>\n",
       "      <td>3241.500000</td>\n",
       "    </tr>\n",
       "  </tbody>\n",
       "</table>\n",
       "</div>"
      ],
      "text/plain": [
       "           Total Spent\n",
       "Location              \n",
       "UNKNOWN   32128.000000\n",
       "In-store  27172.421963\n",
       "Takeaway  26552.005578\n",
       "ERROR      3241.500000"
      ]
     },
     "execution_count": 265,
     "metadata": {},
     "output_type": "execute_result"
    }
   ],
   "source": [
    "location_with_highest_revenue"
   ]
  },
  {
   "cell_type": "markdown",
   "id": "5aff2b18-e6c1-46f1-978f-c469a2287ccd",
   "metadata": {},
   "source": [
    "### `Location` with the Highest Revenue\n",
    "* `UNKNOWN` is the top revenue-generating location.\n",
    "However, this category likely includes transactions where the original location data was missing or labeled as `\"UNKNOWN\"`, and therefore it lacks clarity. It may represent online orders, third-party apps, or any unspecified channel.\n",
    "\n",
    "* `ERROR` has the lowest revenue, which may indicate:\n",
    "Transactions that were partially completed,\n",
    " system issues during logging\n",
    " or cases where payment still went through despite an error.\n",
    "\n",
    "**NOTICE**\n",
    "* When interpreting the `UNKNOWN` and `ERROR` categories, it's important to acknowledge the data limitations and avoid over-reliance on incomplete labels."
   ]
  },
  {
   "cell_type": "markdown",
   "id": "a84d06ba-d658-4b23-9f92-cf2f6eeaac1b",
   "metadata": {},
   "source": [
    "### 5. Which days of the week have the highest number of transactions?"
   ]
  },
  {
   "cell_type": "code",
   "execution_count": 266,
   "id": "d68d9280-5e02-4e72-b388-de7446ebd905",
   "metadata": {},
   "outputs": [],
   "source": [
    "day_with_high_revenue=df.groupby(df[df[\"Transaction Date\"]!=\"1900-01-01\"][\"Transaction Date\"].dt.dayofweek)[[\"Total Spent\"]].sum().sort_values(by=\"Total Spent\", ascending=False)"
   ]
  },
  {
   "cell_type": "code",
   "execution_count": 267,
   "id": "1447bb40-a864-4c31-8822-6f229431355b",
   "metadata": {},
   "outputs": [],
   "source": [
    "day_map = {0: 'Monday', 1: 'Tuesday', 2: 'Wednesday', 3: 'Thursday', 4: 'Friday', 5: 'Saturday', 6: 'Sunday'}"
   ]
  },
  {
   "cell_type": "code",
   "execution_count": 268,
   "id": "e69df6ad-2a9c-4438-8741-3677fe0e25e7",
   "metadata": {},
   "outputs": [
    {
     "data": {
      "text/html": [
       "<div>\n",
       "<style scoped>\n",
       "    .dataframe tbody tr th:only-of-type {\n",
       "        vertical-align: middle;\n",
       "    }\n",
       "\n",
       "    .dataframe tbody tr th {\n",
       "        vertical-align: top;\n",
       "    }\n",
       "\n",
       "    .dataframe thead th {\n",
       "        text-align: right;\n",
       "    }\n",
       "</style>\n",
       "<table border=\"1\" class=\"dataframe\">\n",
       "  <thead>\n",
       "    <tr style=\"text-align: right;\">\n",
       "      <th></th>\n",
       "      <th>Total Spent</th>\n",
       "    </tr>\n",
       "    <tr>\n",
       "      <th>Transaction Date</th>\n",
       "      <th></th>\n",
       "    </tr>\n",
       "  </thead>\n",
       "  <tbody>\n",
       "    <tr>\n",
       "      <th>3.0</th>\n",
       "      <td>12401.271231</td>\n",
       "    </tr>\n",
       "    <tr>\n",
       "      <th>4.0</th>\n",
       "      <td>12333.655296</td>\n",
       "    </tr>\n",
       "    <tr>\n",
       "      <th>6.0</th>\n",
       "      <td>12287.500000</td>\n",
       "    </tr>\n",
       "    <tr>\n",
       "      <th>0.0</th>\n",
       "      <td>12139.870907</td>\n",
       "    </tr>\n",
       "    <tr>\n",
       "      <th>5.0</th>\n",
       "      <td>12039.500000</td>\n",
       "    </tr>\n",
       "    <tr>\n",
       "      <th>1.0</th>\n",
       "      <td>12039.234347</td>\n",
       "    </tr>\n",
       "    <tr>\n",
       "      <th>2.0</th>\n",
       "      <td>11679.395760</td>\n",
       "    </tr>\n",
       "  </tbody>\n",
       "</table>\n",
       "</div>"
      ],
      "text/plain": [
       "                   Total Spent\n",
       "Transaction Date              \n",
       "3.0               12401.271231\n",
       "4.0               12333.655296\n",
       "6.0               12287.500000\n",
       "0.0               12139.870907\n",
       "5.0               12039.500000\n",
       "1.0               12039.234347\n",
       "2.0               11679.395760"
      ]
     },
     "execution_count": 268,
     "metadata": {},
     "output_type": "execute_result"
    }
   ],
   "source": [
    "day_with_high_revenue"
   ]
  },
  {
   "cell_type": "code",
   "execution_count": 269,
   "id": "4f0c01a4-bb7e-4728-84d2-c948a7cce428",
   "metadata": {},
   "outputs": [],
   "source": [
    "day_with_high_revenue.index=day_with_high_revenue.index.map(day_map)"
   ]
  },
  {
   "cell_type": "code",
   "execution_count": 270,
   "id": "ce4f6f4c-9777-4205-a742-560ea9f42675",
   "metadata": {},
   "outputs": [
    {
     "data": {
      "text/html": [
       "<div>\n",
       "<style scoped>\n",
       "    .dataframe tbody tr th:only-of-type {\n",
       "        vertical-align: middle;\n",
       "    }\n",
       "\n",
       "    .dataframe tbody tr th {\n",
       "        vertical-align: top;\n",
       "    }\n",
       "\n",
       "    .dataframe thead th {\n",
       "        text-align: right;\n",
       "    }\n",
       "</style>\n",
       "<table border=\"1\" class=\"dataframe\">\n",
       "  <thead>\n",
       "    <tr style=\"text-align: right;\">\n",
       "      <th></th>\n",
       "      <th>Total Spent</th>\n",
       "    </tr>\n",
       "    <tr>\n",
       "      <th>Transaction Date</th>\n",
       "      <th></th>\n",
       "    </tr>\n",
       "  </thead>\n",
       "  <tbody>\n",
       "    <tr>\n",
       "      <th>Thursday</th>\n",
       "      <td>12401.271231</td>\n",
       "    </tr>\n",
       "    <tr>\n",
       "      <th>Friday</th>\n",
       "      <td>12333.655296</td>\n",
       "    </tr>\n",
       "    <tr>\n",
       "      <th>Sunday</th>\n",
       "      <td>12287.500000</td>\n",
       "    </tr>\n",
       "    <tr>\n",
       "      <th>Monday</th>\n",
       "      <td>12139.870907</td>\n",
       "    </tr>\n",
       "    <tr>\n",
       "      <th>Saturday</th>\n",
       "      <td>12039.500000</td>\n",
       "    </tr>\n",
       "    <tr>\n",
       "      <th>Tuesday</th>\n",
       "      <td>12039.234347</td>\n",
       "    </tr>\n",
       "    <tr>\n",
       "      <th>Wednesday</th>\n",
       "      <td>11679.395760</td>\n",
       "    </tr>\n",
       "  </tbody>\n",
       "</table>\n",
       "</div>"
      ],
      "text/plain": [
       "                   Total Spent\n",
       "Transaction Date              \n",
       "Thursday          12401.271231\n",
       "Friday            12333.655296\n",
       "Sunday            12287.500000\n",
       "Monday            12139.870907\n",
       "Saturday          12039.500000\n",
       "Tuesday           12039.234347\n",
       "Wednesday         11679.395760"
      ]
     },
     "execution_count": 270,
     "metadata": {},
     "output_type": "execute_result"
    }
   ],
   "source": [
    "day_with_high_revenue"
   ]
  },
  {
   "cell_type": "markdown",
   "id": "326c2bcc-5861-4ac9-95e7-53fe05f208f5",
   "metadata": {},
   "source": [
    "* The day with the **highest total revenue** is **Thursday**.\n",
    "* The day with the **lowest total revenue** is **Wednesday**."
   ]
  },
  {
   "cell_type": "markdown",
   "id": "7d79dc01-7dd7-4b2a-9e69-60b76232d698",
   "metadata": {},
   "source": [
    "\n",
    "### 6. Which payment method is used most often?"
   ]
  },
  {
   "cell_type": "code",
   "execution_count": 271,
   "id": "9b5d2c5e-1127-421b-8d55-c9ff8459a659",
   "metadata": {},
   "outputs": [],
   "source": [
    "freq_paym_meth=df[\"Payment Method\"].value_counts()"
   ]
  },
  {
   "cell_type": "code",
   "execution_count": 272,
   "id": "edaede51-4efd-4467-979f-97dc9c188bf8",
   "metadata": {},
   "outputs": [
    {
     "data": {
      "text/plain": [
       "Payment Method\n",
       "UNKNOWN           2872\n",
       "Digital Wallet    2291\n",
       "Credit Card       2273\n",
       "Cash              2258\n",
       "ERROR              306\n",
       "Name: count, dtype: int64"
      ]
     },
     "execution_count": 272,
     "metadata": {},
     "output_type": "execute_result"
    }
   ],
   "source": [
    "freq_paym_meth"
   ]
  },
  {
   "cell_type": "markdown",
   "id": "e92b02ad-8eed-4031-8027-a154bbc19ce6",
   "metadata": {},
   "source": [
    "### Most Frequently Used Payment Method\n",
    "\n",
    "- `UNKNOWN` is the most frequently recorded payment method. However, this label likely includes entries where the actual method was missing, mislabeled, or not properly captured.\n",
    "\n",
    "- `Digital Wallet`, `Credit Card`, and `Cash` follow as the most common explicit payment methods, indicating a diverse range of customer preferences.\n",
    "\n",
    "- `ERROR` entries are minimal and may reflect system glitches or improperly logged transactions.\n",
    "\n",
    "**NOTICE**\n",
    "\n",
    "Just like with location data, the `UNKNOWN` and `ERROR` categories should be interpreted cautiously, as they represent data quality issues rather than true customer behavior.\n"
   ]
  },
  {
   "cell_type": "markdown",
   "id": "34f4e363-9528-4f5d-9840-52ff3d80a6a7",
   "metadata": {},
   "source": [
    "### 7. Which items are most often purchased in bulk (highest average quantity)?"
   ]
  },
  {
   "cell_type": "code",
   "execution_count": 273,
   "id": "41b65c5a-0f54-4d7d-ac72-4cbc5e50fdb1",
   "metadata": {},
   "outputs": [
    {
     "name": "stderr",
     "output_type": "stream",
     "text": [
      "C:\\Users\\blena\\AppData\\Local\\Temp\\ipykernel_3012\\1140503668.py:1: FutureWarning: The default of observed=False is deprecated and will be changed to True in a future version of pandas. Pass observed=False to retain current behavior or observed=True to adopt the future default and silence this warning.\n",
      "  bulk_items = df[df[\"Quantity\"] > 0].groupby(\"Item\")[[\"Quantity\"]].mean().sort_values(by='Quantity',ascending=False)\n"
     ]
    }
   ],
   "source": [
    "bulk_items = df[df[\"Quantity\"] > 0].groupby(\"Item\")[[\"Quantity\"]].mean().sort_values(by='Quantity',ascending=False)\n"
   ]
  },
  {
   "cell_type": "code",
   "execution_count": 274,
   "id": "87880e74-7f66-448a-b8b3-b43226e08310",
   "metadata": {},
   "outputs": [
    {
     "data": {
      "text/html": [
       "<div>\n",
       "<style scoped>\n",
       "    .dataframe tbody tr th:only-of-type {\n",
       "        vertical-align: middle;\n",
       "    }\n",
       "\n",
       "    .dataframe tbody tr th {\n",
       "        vertical-align: top;\n",
       "    }\n",
       "\n",
       "    .dataframe thead th {\n",
       "        text-align: right;\n",
       "    }\n",
       "</style>\n",
       "<table border=\"1\" class=\"dataframe\">\n",
       "  <thead>\n",
       "    <tr style=\"text-align: right;\">\n",
       "      <th></th>\n",
       "      <th>Quantity</th>\n",
       "    </tr>\n",
       "    <tr>\n",
       "      <th>Item</th>\n",
       "      <th></th>\n",
       "    </tr>\n",
       "  </thead>\n",
       "  <tbody>\n",
       "    <tr>\n",
       "      <th>Smoothie</th>\n",
       "      <td>3.049487</td>\n",
       "    </tr>\n",
       "    <tr>\n",
       "      <th>Coffee</th>\n",
       "      <td>3.048276</td>\n",
       "    </tr>\n",
       "    <tr>\n",
       "      <th>Cake</th>\n",
       "      <td>3.047559</td>\n",
       "    </tr>\n",
       "    <tr>\n",
       "      <th>Sandwich</th>\n",
       "      <td>3.042722</td>\n",
       "    </tr>\n",
       "    <tr>\n",
       "      <th>Tea</th>\n",
       "      <td>3.039605</td>\n",
       "    </tr>\n",
       "    <tr>\n",
       "      <th>Salad</th>\n",
       "      <td>3.027051</td>\n",
       "    </tr>\n",
       "    <tr>\n",
       "      <th>Juice</th>\n",
       "      <td>3.000856</td>\n",
       "    </tr>\n",
       "    <tr>\n",
       "      <th>Unknown Item</th>\n",
       "      <td>3.000000</td>\n",
       "    </tr>\n",
       "    <tr>\n",
       "      <th>Cookie</th>\n",
       "      <td>2.965213</td>\n",
       "    </tr>\n",
       "  </tbody>\n",
       "</table>\n",
       "</div>"
      ],
      "text/plain": [
       "              Quantity\n",
       "Item                  \n",
       "Smoothie      3.049487\n",
       "Coffee        3.048276\n",
       "Cake          3.047559\n",
       "Sandwich      3.042722\n",
       "Tea           3.039605\n",
       "Salad         3.027051\n",
       "Juice         3.000856\n",
       "Unknown Item  3.000000\n",
       "Cookie        2.965213"
      ]
     },
     "execution_count": 274,
     "metadata": {},
     "output_type": "execute_result"
    }
   ],
   "source": [
    "bulk_items"
   ]
  },
  {
   "cell_type": "markdown",
   "id": "7b4439c7-b4de-47ad-b71a-061c88215a2e",
   "metadata": {},
   "source": [
    "**Note**\n",
    "All listed items have an average `Quantity` of around `3`, showing a consistent trend in bulk ordering behavior across product types. This may suggest frequent group or repeat purchases."
   ]
  },
  {
   "cell_type": "markdown",
   "id": "dd8aaca8-10d1-4c6a-8528-e47091b9ff37",
   "metadata": {},
   "source": [
    "### 8. How has revenue trended over months? "
   ]
  },
  {
   "cell_type": "code",
   "execution_count": 275,
   "id": "e76e63fc-9447-4a52-bcff-1bec8fd30f76",
   "metadata": {},
   "outputs": [],
   "source": [
    "highest_monthly_revenue=df.groupby(df[df[\"Transaction Date\"]!=\"1900-01-01\"][\"Transaction Date\"].dt.month)[[\"Total Spent\"]].sum().sort_values(by=\"Total Spent\", ascending=False)"
   ]
  },
  {
   "cell_type": "code",
   "execution_count": 276,
   "id": "5843ff9f-a028-4e4e-ac7b-56ef781ead06",
   "metadata": {},
   "outputs": [
    {
     "data": {
      "text/html": [
       "<div>\n",
       "<style scoped>\n",
       "    .dataframe tbody tr th:only-of-type {\n",
       "        vertical-align: middle;\n",
       "    }\n",
       "\n",
       "    .dataframe tbody tr th {\n",
       "        vertical-align: top;\n",
       "    }\n",
       "\n",
       "    .dataframe thead th {\n",
       "        text-align: right;\n",
       "    }\n",
       "</style>\n",
       "<table border=\"1\" class=\"dataframe\">\n",
       "  <thead>\n",
       "    <tr style=\"text-align: right;\">\n",
       "      <th></th>\n",
       "      <th>Total Spent</th>\n",
       "    </tr>\n",
       "    <tr>\n",
       "      <th>Transaction Date</th>\n",
       "      <th></th>\n",
       "    </tr>\n",
       "  </thead>\n",
       "  <tbody>\n",
       "    <tr>\n",
       "      <th>6.0</th>\n",
       "      <td>7352.870907</td>\n",
       "    </tr>\n",
       "    <tr>\n",
       "      <th>10.0</th>\n",
       "      <td>7313.655296</td>\n",
       "    </tr>\n",
       "    <tr>\n",
       "      <th>1.0</th>\n",
       "      <td>7254.000000</td>\n",
       "    </tr>\n",
       "    <tr>\n",
       "      <th>3.0</th>\n",
       "      <td>7216.000000</td>\n",
       "    </tr>\n",
       "    <tr>\n",
       "      <th>4.0</th>\n",
       "      <td>7178.734347</td>\n",
       "    </tr>\n",
       "    <tr>\n",
       "      <th>12.0</th>\n",
       "      <td>7177.000000</td>\n",
       "    </tr>\n",
       "    <tr>\n",
       "      <th>8.0</th>\n",
       "      <td>7111.395760</td>\n",
       "    </tr>\n",
       "    <tr>\n",
       "      <th>11.0</th>\n",
       "      <td>6967.000000</td>\n",
       "    </tr>\n",
       "    <tr>\n",
       "      <th>5.0</th>\n",
       "      <td>6957.500000</td>\n",
       "    </tr>\n",
       "    <tr>\n",
       "      <th>7.0</th>\n",
       "      <td>6877.500000</td>\n",
       "    </tr>\n",
       "    <tr>\n",
       "      <th>9.0</th>\n",
       "      <td>6871.000000</td>\n",
       "    </tr>\n",
       "    <tr>\n",
       "      <th>2.0</th>\n",
       "      <td>6643.771231</td>\n",
       "    </tr>\n",
       "  </tbody>\n",
       "</table>\n",
       "</div>"
      ],
      "text/plain": [
       "                  Total Spent\n",
       "Transaction Date             \n",
       "6.0               7352.870907\n",
       "10.0              7313.655296\n",
       "1.0               7254.000000\n",
       "3.0               7216.000000\n",
       "4.0               7178.734347\n",
       "12.0              7177.000000\n",
       "8.0               7111.395760\n",
       "11.0              6967.000000\n",
       "5.0               6957.500000\n",
       "7.0               6877.500000\n",
       "9.0               6871.000000\n",
       "2.0               6643.771231"
      ]
     },
     "execution_count": 276,
     "metadata": {},
     "output_type": "execute_result"
    }
   ],
   "source": [
    "highest_monthly_revenue"
   ]
  },
  {
   "cell_type": "code",
   "execution_count": 277,
   "id": "66594035-7192-47da-a4d8-72c171772307",
   "metadata": {},
   "outputs": [],
   "source": [
    "month_map = {1: \"January\",2: \"February\",3: \"March\",4: \"April\",5: \"May\",6: \"June\",7: \"July\",8: \"August\",9: \"September\",\n",
    "    10: \"October\",11: \"November\",12: \"December\"\n",
    "}"
   ]
  },
  {
   "cell_type": "code",
   "execution_count": 278,
   "id": "5a1658f8-fecc-4b24-81ec-e42218c90a4b",
   "metadata": {},
   "outputs": [],
   "source": [
    "highest_monthly_revenue.index=highest_monthly_revenue.index.map(month_map)"
   ]
  },
  {
   "cell_type": "code",
   "execution_count": 279,
   "id": "e0031785-6ac6-4b52-b46a-8ac976171e3a",
   "metadata": {},
   "outputs": [
    {
     "data": {
      "text/html": [
       "<div>\n",
       "<style scoped>\n",
       "    .dataframe tbody tr th:only-of-type {\n",
       "        vertical-align: middle;\n",
       "    }\n",
       "\n",
       "    .dataframe tbody tr th {\n",
       "        vertical-align: top;\n",
       "    }\n",
       "\n",
       "    .dataframe thead th {\n",
       "        text-align: right;\n",
       "    }\n",
       "</style>\n",
       "<table border=\"1\" class=\"dataframe\">\n",
       "  <thead>\n",
       "    <tr style=\"text-align: right;\">\n",
       "      <th></th>\n",
       "      <th>Total Spent</th>\n",
       "    </tr>\n",
       "    <tr>\n",
       "      <th>Transaction Date</th>\n",
       "      <th></th>\n",
       "    </tr>\n",
       "  </thead>\n",
       "  <tbody>\n",
       "    <tr>\n",
       "      <th>June</th>\n",
       "      <td>7352.870907</td>\n",
       "    </tr>\n",
       "    <tr>\n",
       "      <th>October</th>\n",
       "      <td>7313.655296</td>\n",
       "    </tr>\n",
       "    <tr>\n",
       "      <th>January</th>\n",
       "      <td>7254.000000</td>\n",
       "    </tr>\n",
       "    <tr>\n",
       "      <th>March</th>\n",
       "      <td>7216.000000</td>\n",
       "    </tr>\n",
       "    <tr>\n",
       "      <th>April</th>\n",
       "      <td>7178.734347</td>\n",
       "    </tr>\n",
       "    <tr>\n",
       "      <th>December</th>\n",
       "      <td>7177.000000</td>\n",
       "    </tr>\n",
       "    <tr>\n",
       "      <th>August</th>\n",
       "      <td>7111.395760</td>\n",
       "    </tr>\n",
       "    <tr>\n",
       "      <th>November</th>\n",
       "      <td>6967.000000</td>\n",
       "    </tr>\n",
       "    <tr>\n",
       "      <th>May</th>\n",
       "      <td>6957.500000</td>\n",
       "    </tr>\n",
       "    <tr>\n",
       "      <th>July</th>\n",
       "      <td>6877.500000</td>\n",
       "    </tr>\n",
       "    <tr>\n",
       "      <th>September</th>\n",
       "      <td>6871.000000</td>\n",
       "    </tr>\n",
       "    <tr>\n",
       "      <th>February</th>\n",
       "      <td>6643.771231</td>\n",
       "    </tr>\n",
       "  </tbody>\n",
       "</table>\n",
       "</div>"
      ],
      "text/plain": [
       "                  Total Spent\n",
       "Transaction Date             \n",
       "June              7352.870907\n",
       "October           7313.655296\n",
       "January           7254.000000\n",
       "March             7216.000000\n",
       "April             7178.734347\n",
       "December          7177.000000\n",
       "August            7111.395760\n",
       "November          6967.000000\n",
       "May               6957.500000\n",
       "July              6877.500000\n",
       "September         6871.000000\n",
       "February          6643.771231"
      ]
     },
     "execution_count": 279,
     "metadata": {},
     "output_type": "execute_result"
    }
   ],
   "source": [
    "highest_monthly_revenue"
   ]
  },
  {
   "cell_type": "code",
   "execution_count": 280,
   "id": "1e08f094-3ba5-4f33-b4ff-92dac880e132",
   "metadata": {},
   "outputs": [
    {
     "data": {
      "text/plain": [
       "<matplotlib.legend.Legend at 0x1d9e8ccf130>"
      ]
     },
     "execution_count": 280,
     "metadata": {},
     "output_type": "execute_result"
    },
    {
     "data": {
      "image/png": "[encoded data removed]",
      "text/plain": [
       "<Figure size 800x800 with 1 Axes>"
      ]
     },
     "metadata": {},
     "output_type": "display_data"
    }
   ],
   "source": [
    "highest_monthly_revenue.sort_values(by=\"Total Spent\",ascending=False).plot.bar(figsize=(8,8)).legend(bbox_to_anchor=(1.3,1))"
   ]
  },
  {
   "cell_type": "markdown",
   "id": "6ecff524-9b4a-4b2f-a70b-5b529b264505",
   "metadata": {},
   "source": [
    "### Month-wise Revenue Analysis\n",
    "#### The bar chart above shows that the **total revenue per month is relatively consistent**, with no extreme fluctuations between most months. However, there are a few notable differences:\n",
    "* **June** appears to be the **best-performing month**, showing the highest revenue among all months.\n",
    "* In contrast, **February** records the **lowest revenue**, making it the weakest month in terms of performance.\n"
   ]
  },
  {
   "cell_type": "markdown",
   "id": "8d5b46cc-3047-428a-ab69-189a24dd10db",
   "metadata": {},
   "source": [
    "### 9. How do items contribute to the highest revenue-generating month?"
   ]
  },
  {
   "cell_type": "markdown",
   "id": "1891bf28-bdd0-4bb0-8131-dcd39a77c3c4",
   "metadata": {},
   "source": [
    "* #### Setting the index of the dataframe will make it easier to work with time based analysis."
   ]
  },
  {
   "cell_type": "code",
   "execution_count": 281,
   "id": "aa489d53-9967-4e08-ad32-a0260b0caf50",
   "metadata": {},
   "outputs": [],
   "source": [
    "df2=df\n",
    "df2=df2.set_index(\"Transaction Date\").sort_index()"
   ]
  },
  {
   "cell_type": "markdown",
   "id": "eb53967b-d3eb-491d-8752-de3b0a26ad8d",
   "metadata": {},
   "source": [
    "* #### Removing `1900-01-01` because it's used as a placeholder and the actual time is not known."
   ]
  },
  {
   "cell_type": "code",
   "execution_count": 282,
   "id": "0324aefc-98c5-47cb-a008-9d4c4f576204",
   "metadata": {},
   "outputs": [],
   "source": [
    "df2=df2[df2.index!=\"1900-01-01\"]"
   ]
  },
  {
   "cell_type": "markdown",
   "id": "002bb10e-7dae-41ca-918f-3c5a6db9db29",
   "metadata": {},
   "source": [
    "* #### Because the highest revenue was generated in the month `June` the dataframe can be further filtered to month `6`."
   ]
  },
  {
   "cell_type": "code",
   "execution_count": 283,
   "id": "111af8c0-7e7d-4884-8135-2aa746f8edf6",
   "metadata": {},
   "outputs": [],
   "source": [
    "df2_june=df2[df2.index.month==6]"
   ]
  },
  {
   "cell_type": "markdown",
   "id": "6c087c68-91b7-4f8e-8efd-498e89e692d0",
   "metadata": {},
   "source": [
    "* #### A pie chart to show how each items are distributed out of `100%` in the month `June`."
   ]
  },
  {
   "cell_type": "code",
   "execution_count": 284,
   "id": "47042d90-a560-4d4a-9d71-36f2d862c455",
   "metadata": {},
   "outputs": [
    {
     "name": "stderr",
     "output_type": "stream",
     "text": [
      "C:\\Users\\blena\\AppData\\Local\\Temp\\ipykernel_3012\\2186190675.py:1: FutureWarning: The default of observed=False is deprecated and will be changed to True in a future version of pandas. Pass observed=False to retain current behavior or observed=True to adopt the future default and silence this warning.\n",
      "  df2_june.groupby(\"Item\")[[\"Total Spent\"]].sum().plot.pie(\n"
     ]
    },
    {
     "data": {
      "text/plain": [
       "<Axes: title={'center': \"June's Total Spent per Item out of 100%\"}>"
      ]
     },
     "execution_count": 284,
     "metadata": {},
     "output_type": "execute_result"
    },
    {
     "data": {
      "image/png": "[encoded data removed]",
      "text/plain": [
       "<Figure size 800x800 with 1 Axes>"
      ]
     },
     "metadata": {},
     "output_type": "display_data"
    }
   ],
   "source": [
    "df2_june.groupby(\"Item\")[[\"Total Spent\"]].sum().plot.pie(\n",
    "    y=\"Total Spent\",\n",
    "    title=\"June's Total Spent per Item out of 100%\",\n",
    "    legend=False,\n",
    "    ylabel=\"\",\n",
    "    figsize=(8,8),\n",
    "    autopct=\"%.1f%%\" #To create a peercentage with 1 decimal point\n",
    "    )"
   ]
  },
  {
   "cell_type": "markdown",
   "id": "1baa5881-6f27-4d40-a27b-8daf159bbb8a",
   "metadata": {},
   "source": [
    "### Pie Chart Insights: Item Contribution in June\n",
    "\n",
    "* The pie chart shows that `Salad` accounts for **20.5%** of the total revenue in June, further supporting previous observations that it is a top-performing item.\n",
    "\n",
    "* On the other hand, `Cookie` contributes only **3.5%**, making it the **lowest revenue-generating item** during the month. This reinforces earlier insights that Cookie has minimal impact on overall sales.\n"
   ]
  },
  {
   "cell_type": "markdown",
   "id": "9435f584-2d3b-489d-8822-09c9d13c2135",
   "metadata": {},
   "source": [
    "### 10. How does revenue vary by item and payment method?"
   ]
  },
  {
   "cell_type": "code",
   "execution_count": 285,
   "id": "ce06528a-7fd4-431d-bda2-ec615a0177a2",
   "metadata": {},
   "outputs": [
    {
     "name": "stderr",
     "output_type": "stream",
     "text": [
      "C:\\Users\\blena\\AppData\\Local\\Temp\\ipykernel_3012\\2702996294.py:1: FutureWarning: The default value of observed=False is deprecated and will change to observed=True in a future version of pandas. Specify observed=False to silence this warning and retain the current behavior\n",
      "  df.pivot_table(index=\"Item\",columns=\"Location\",values=\"Total Spent\",aggfunc=\"sum\").round(2).style.background_gradient(cmap=\"RdYlGn\")\n"
     ]
    },
    {
     "data": {
      "text/html": [
       "<style type=\"text/css\">\n",
       "#T_b4c52_row0_col0 {\n",
       "  background-color: #91d068;\n",
       "  color: #000000;\n",
       "}\n",
       "#T_b4c52_row0_col1 {\n",
       "  background-color: #fee999;\n",
       "  color: #000000;\n",
       "}\n",
       "#T_b4c52_row0_col2 {\n",
       "  background-color: #f8fcb6;\n",
       "  color: #000000;\n",
       "}\n",
       "#T_b4c52_row0_col3 {\n",
       "  background-color: #ebf7a3;\n",
       "  color: #000000;\n",
       "}\n",
       "#T_b4c52_row1_col0, #T_b4c52_row7_col1 {\n",
       "  background-color: #db382b;\n",
       "  color: #f1f1f1;\n",
       "}\n",
       "#T_b4c52_row1_col1 {\n",
       "  background-color: #f47044;\n",
       "  color: #f1f1f1;\n",
       "}\n",
       "#T_b4c52_row1_col2, #T_b4c52_row8_col0 {\n",
       "  background-color: #fb9d59;\n",
       "  color: #000000;\n",
       "}\n",
       "#T_b4c52_row1_col3 {\n",
       "  background-color: #fdc574;\n",
       "  color: #000000;\n",
       "}\n",
       "#T_b4c52_row2_col0, #T_b4c52_row2_col1, #T_b4c52_row2_col2, #T_b4c52_row2_col3 {\n",
       "  background-color: #a50026;\n",
       "  color: #f1f1f1;\n",
       "}\n",
       "#T_b4c52_row3_col0 {\n",
       "  background-color: #fdc171;\n",
       "  color: #000000;\n",
       "}\n",
       "#T_b4c52_row3_col1 {\n",
       "  background-color: #fffebe;\n",
       "  color: #000000;\n",
       "}\n",
       "#T_b4c52_row3_col2 {\n",
       "  background-color: #fff7b2;\n",
       "  color: #000000;\n",
       "}\n",
       "#T_b4c52_row3_col3 {\n",
       "  background-color: #e0f295;\n",
       "  color: #000000;\n",
       "}\n",
       "#T_b4c52_row4_col0 {\n",
       "  background-color: #118848;\n",
       "  color: #f1f1f1;\n",
       "}\n",
       "#T_b4c52_row4_col1, #T_b4c52_row4_col2, #T_b4c52_row4_col3, #T_b4c52_row6_col0 {\n",
       "  background-color: #006837;\n",
       "  color: #f1f1f1;\n",
       "}\n",
       "#T_b4c52_row5_col0 {\n",
       "  background-color: #4bb05c;\n",
       "  color: #f1f1f1;\n",
       "}\n",
       "#T_b4c52_row5_col1 {\n",
       "  background-color: #84ca66;\n",
       "  color: #000000;\n",
       "}\n",
       "#T_b4c52_row5_col2 {\n",
       "  background-color: #6ec064;\n",
       "  color: #000000;\n",
       "}\n",
       "#T_b4c52_row5_col3 {\n",
       "  background-color: #addc6f;\n",
       "  color: #000000;\n",
       "}\n",
       "#T_b4c52_row6_col1 {\n",
       "  background-color: #d7ee8a;\n",
       "  color: #000000;\n",
       "}\n",
       "#T_b4c52_row6_col2 {\n",
       "  background-color: #bde379;\n",
       "  color: #000000;\n",
       "}\n",
       "#T_b4c52_row6_col3 {\n",
       "  background-color: #45ad5b;\n",
       "  color: #f1f1f1;\n",
       "}\n",
       "#T_b4c52_row7_col0 {\n",
       "  background-color: #d93429;\n",
       "  color: #f1f1f1;\n",
       "}\n",
       "#T_b4c52_row7_col2 {\n",
       "  background-color: #da362a;\n",
       "  color: #f1f1f1;\n",
       "}\n",
       "#T_b4c52_row7_col3 {\n",
       "  background-color: #e24731;\n",
       "  color: #f1f1f1;\n",
       "}\n",
       "#T_b4c52_row8_col1 {\n",
       "  background-color: #fdb96a;\n",
       "  color: #000000;\n",
       "}\n",
       "#T_b4c52_row8_col2 {\n",
       "  background-color: #fedc88;\n",
       "  color: #000000;\n",
       "}\n",
       "#T_b4c52_row8_col3 {\n",
       "  background-color: #fee593;\n",
       "  color: #000000;\n",
       "}\n",
       "</style>\n",
       "<table id=\"T_b4c52\">\n",
       "  <thead>\n",
       "    <tr>\n",
       "      <th class=\"index_name level0\" >Location</th>\n",
       "      <th id=\"T_b4c52_level0_col0\" class=\"col_heading level0 col0\" >ERROR</th>\n",
       "      <th id=\"T_b4c52_level0_col1\" class=\"col_heading level0 col1\" >In-store</th>\n",
       "      <th id=\"T_b4c52_level0_col2\" class=\"col_heading level0 col2\" >Takeaway</th>\n",
       "      <th id=\"T_b4c52_level0_col3\" class=\"col_heading level0 col3\" >UNKNOWN</th>\n",
       "    </tr>\n",
       "    <tr>\n",
       "      <th class=\"index_name level0\" >Item</th>\n",
       "      <th class=\"blank col0\" >&nbsp;</th>\n",
       "      <th class=\"blank col1\" >&nbsp;</th>\n",
       "      <th class=\"blank col2\" >&nbsp;</th>\n",
       "      <th class=\"blank col3\" >&nbsp;</th>\n",
       "    </tr>\n",
       "  </thead>\n",
       "  <tbody>\n",
       "    <tr>\n",
       "      <th id=\"T_b4c52_level0_row0\" class=\"row_heading level0 row0\" >Cake</th>\n",
       "      <td id=\"T_b4c52_row0_col0\" class=\"data row0 col0\" >480.000000</td>\n",
       "      <td id=\"T_b4c52_row0_col1\" class=\"data row0 col1\" >2973.000000</td>\n",
       "      <td id=\"T_b4c52_row0_col2\" class=\"data row0 col2\" >3143.730000</td>\n",
       "      <td id=\"T_b4c52_row0_col3\" class=\"data row0 col3\" >3807.000000</td>\n",
       "    </tr>\n",
       "    <tr>\n",
       "      <th id=\"T_b4c52_level0_row1\" class=\"row_heading level0 row1\" >Coffee</th>\n",
       "      <td id=\"T_b4c52_row1_col0\" class=\"data row1 col0\" >186.000000</td>\n",
       "      <td id=\"T_b4c52_row1_col1\" class=\"data row1 col1\" >1940.000000</td>\n",
       "      <td id=\"T_b4c52_row1_col2\" class=\"data row1 col2\" >2182.000000</td>\n",
       "      <td id=\"T_b4c52_row1_col3\" class=\"data row1 col3\" >2764.000000</td>\n",
       "    </tr>\n",
       "    <tr>\n",
       "      <th id=\"T_b4c52_level0_row2\" class=\"row_heading level0 row2\" >Cookie</th>\n",
       "      <td id=\"T_b4c52_row2_col0\" class=\"data row2 col0\" >130.000000</td>\n",
       "      <td id=\"T_b4c52_row2_col1\" class=\"data row2 col1\" >972.000000</td>\n",
       "      <td id=\"T_b4c52_row2_col2\" class=\"data row2 col2\" >1090.000000</td>\n",
       "      <td id=\"T_b4c52_row2_col3\" class=\"data row2 col3\" >1040.000000</td>\n",
       "    </tr>\n",
       "    <tr>\n",
       "      <th id=\"T_b4c52_level0_row3\" class=\"row_heading level0 row3\" >Juice</th>\n",
       "      <td id=\"T_b4c52_row3_col0\" class=\"data row3 col0\" >291.000000</td>\n",
       "      <td id=\"T_b4c52_row3_col1\" class=\"data row3 col1\" >3309.000000</td>\n",
       "      <td id=\"T_b4c52_row3_col2\" class=\"data row3 col2\" >2975.770000</td>\n",
       "      <td id=\"T_b4c52_row3_col3\" class=\"data row3 col3\" >3939.000000</td>\n",
       "    </tr>\n",
       "    <tr>\n",
       "      <th id=\"T_b4c52_level0_row4\" class=\"row_heading level0 row4\" >Salad</th>\n",
       "      <td id=\"T_b4c52_row4_col0\" class=\"data row4 col0\" >575.000000</td>\n",
       "      <td id=\"T_b4c52_row4_col1\" class=\"data row4 col1\" >5663.900000</td>\n",
       "      <td id=\"T_b4c52_row4_col2\" class=\"data row4 col2\" >5070.000000</td>\n",
       "      <td id=\"T_b4c52_row4_col3\" class=\"data row4 col3\" >6035.000000</td>\n",
       "    </tr>\n",
       "    <tr>\n",
       "      <th id=\"T_b4c52_level0_row5\" class=\"row_heading level0 row5\" >Sandwich</th>\n",
       "      <td id=\"T_b4c52_row5_col0\" class=\"data row5 col0\" >528.000000</td>\n",
       "      <td id=\"T_b4c52_row5_col1\" class=\"data row5 col1\" >4507.660000</td>\n",
       "      <td id=\"T_b4c52_row5_col2\" class=\"data row5 col2\" >4216.000000</td>\n",
       "      <td id=\"T_b4c52_row5_col3\" class=\"data row5 col3\" >4464.000000</td>\n",
       "    </tr>\n",
       "    <tr>\n",
       "      <th id=\"T_b4c52_level0_row6\" class=\"row_heading level0 row6\" >Smoothie</th>\n",
       "      <td id=\"T_b4c52_row6_col0\" class=\"data row6 col0\" >608.000000</td>\n",
       "      <td id=\"T_b4c52_row6_col1\" class=\"data row6 col1\" >3812.000000</td>\n",
       "      <td id=\"T_b4c52_row6_col2\" class=\"data row6 col2\" >3688.000000</td>\n",
       "      <td id=\"T_b4c52_row6_col3\" class=\"data row6 col3\" >5236.000000</td>\n",
       "    </tr>\n",
       "    <tr>\n",
       "      <th id=\"T_b4c52_level0_row7\" class=\"row_heading level0 row7\" >Tea</th>\n",
       "      <td id=\"T_b4c52_row7_col0\" class=\"data row7 col0\" >181.500000</td>\n",
       "      <td id=\"T_b4c52_row7_col1\" class=\"data row7 col1\" >1517.870000</td>\n",
       "      <td id=\"T_b4c52_row7_col2\" class=\"data row7 col2\" >1530.000000</td>\n",
       "      <td id=\"T_b4c52_row7_col3\" class=\"data row7 col3\" >1731.000000</td>\n",
       "    </tr>\n",
       "    <tr>\n",
       "      <th id=\"T_b4c52_level0_row8\" class=\"row_heading level0 row8\" >Unknown Item</th>\n",
       "      <td id=\"T_b4c52_row8_col0\" class=\"data row8 col0\" >262.000000</td>\n",
       "      <td id=\"T_b4c52_row8_col1\" class=\"data row8 col1\" >2477.000000</td>\n",
       "      <td id=\"T_b4c52_row8_col2\" class=\"data row8 col2\" >2656.500000</td>\n",
       "      <td id=\"T_b4c52_row8_col3\" class=\"data row8 col3\" >3112.000000</td>\n",
       "    </tr>\n",
       "  </tbody>\n",
       "</table>\n"
      ],
      "text/plain": [
       "<pandas.io.formats.style.Styler at 0x1d9e889fee0>"
      ]
     },
     "execution_count": 285,
     "metadata": {},
     "output_type": "execute_result"
    }
   ],
   "source": [
    "df.pivot_table(index=\"Item\",columns=\"Location\",values=\"Total Spent\",aggfunc=\"sum\").round(2).style.background_gradient(cmap=\"RdYlGn\")"
   ]
  },
  {
   "cell_type": "markdown",
   "id": "23c07263-d64c-431d-b930-dcc72c427056",
   "metadata": {},
   "source": [
    "#### Heatmap Insights: Locations vs. Items\n",
    "\n",
    "* The heatmap reveals a **strong relationship** between most locations and the item `Salad`. This supports the earlier conclusion that **Salad generates the highest revenue** among all items.\n",
    "\n",
    "* Additionally, the heatmap suggests that the item `Smoothie` may contain data inconsistencies or errors, as its relationship with `ERROR` is higher than the other items.\n",
    "\n",
    "* On the other hand, the item `Cookie` shows the weakest relationship with all locations, which stands in contrast to the strong relations observed for Salad.\n",
    "\n",
    "* These patterns highlight Salad as a key revenue driver, while also signaling areas (like Smoothie) that may require further data validation.\n"
   ]
  }
 ],
 "metadata": {
  "kernelspec": {
   "display_name": "Python 3 (ipykernel)",
   "language": "python",
   "name": "python3"
  },
  "language_info": {
   "codemirror_mode": {
    "name": "ipython",
    "version": 3
   },
   "file_extension": ".py",
   "mimetype": "text/x-python",
   "name": "python",
   "nbconvert_exporter": "python",
   "pygments_lexer": "ipython3",
   "version": "3.10.0"
  }
 },
 "nbformat": 4,
 "nbformat_minor": 5
}

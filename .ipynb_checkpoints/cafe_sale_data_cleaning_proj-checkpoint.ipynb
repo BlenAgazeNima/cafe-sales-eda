{
 "cells": [
  {
   "cell_type": "markdown",
   "id": "f44b0148-5f4c-4dd6-81f4-9479f40c9417",
   "metadata": {},
   "source": [
    "# **Cafe Sales Data Cleaning and Analysis Project**"
   ]
  },
  {
   "cell_type": "markdown",
   "id": "985d2614-0190-4591-b234-d40a53c8359e",
   "metadata": {},
   "source": [
    "This project involves cleaning a real-world dirty dataset from kaggle, a cafe's sales records, using Pandas and NumPy. After cleaning, I’ll perform exploratory data analysis (EDA) to extract insights."
   ]
  },
  {
   "cell_type": "markdown",
   "id": "c7e17e6c-a4f2-4913-a70a-e501f5cb889f",
   "metadata": {},
   "source": [
    "## 1. Loading the Data\n",
    "\n",
    "In this step, I load the dataset and perform a basic inspection to understand its structure."
   ]
  },
  {
   "cell_type": "code",
   "execution_count": 159,
   "id": "3e70eee4-5430-416f-bbbe-7399a5529ae2",
   "metadata": {},
   "outputs": [],
   "source": [
    "import pandas as pd"
   ]
  },
  {
   "cell_type": "code",
   "execution_count": 160,
   "id": "a647672e-0059-4429-99f0-9977587e5fa4",
   "metadata": {},
   "outputs": [],
   "source": [
    "import numpy as np"
   ]
  },
  {
   "cell_type": "code",
   "execution_count": 161,
   "id": "9a8e4214-4925-43d1-8dd9-70f968b22883",
   "metadata": {},
   "outputs": [],
   "source": [
    "df=pd.read_csv(\"dirty_cafe_sales.csv\")"
   ]
  },
  {
   "cell_type": "code",
   "execution_count": 162,
   "id": "a969ac35-d2b4-4306-a95a-a399e8de1709",
   "metadata": {
    "scrolled": true
   },
   "outputs": [
    {
     "name": "stdout",
     "output_type": "stream",
     "text": [
      "<class 'pandas.core.frame.DataFrame'>\n",
      "RangeIndex: 10000 entries, 0 to 9999\n",
      "Data columns (total 8 columns):\n",
      " #   Column            Non-Null Count  Dtype \n",
      "---  ------            --------------  ----- \n",
      " 0   Transaction ID    10000 non-null  object\n",
      " 1   Item              9667 non-null   object\n",
      " 2   Quantity          9862 non-null   object\n",
      " 3   Price Per Unit    9821 non-null   object\n",
      " 4   Total Spent       9827 non-null   object\n",
      " 5   Payment Method    7421 non-null   object\n",
      " 6   Location          6735 non-null   object\n",
      " 7   Transaction Date  9841 non-null   object\n",
      "dtypes: object(8)\n",
      "memory usage: 625.1+ KB\n"
     ]
    }
   ],
   "source": [
    "df.info()"
   ]
  },
  {
   "cell_type": "code",
   "execution_count": 163,
   "id": "cb4bd8ec-357b-4ccc-b280-15f4c8230bce",
   "metadata": {},
   "outputs": [
    {
     "data": {
      "text/html": [
       "<div>\n",
       "<style scoped>\n",
       "    .dataframe tbody tr th:only-of-type {\n",
       "        vertical-align: middle;\n",
       "    }\n",
       "\n",
       "    .dataframe tbody tr th {\n",
       "        vertical-align: top;\n",
       "    }\n",
       "\n",
       "    .dataframe thead th {\n",
       "        text-align: right;\n",
       "    }\n",
       "</style>\n",
       "<table border=\"1\" class=\"dataframe\">\n",
       "  <thead>\n",
       "    <tr style=\"text-align: right;\">\n",
       "      <th></th>\n",
       "      <th>Transaction ID</th>\n",
       "      <th>Item</th>\n",
       "      <th>Quantity</th>\n",
       "      <th>Price Per Unit</th>\n",
       "      <th>Total Spent</th>\n",
       "      <th>Payment Method</th>\n",
       "      <th>Location</th>\n",
       "      <th>Transaction Date</th>\n",
       "    </tr>\n",
       "  </thead>\n",
       "  <tbody>\n",
       "    <tr>\n",
       "      <th>count</th>\n",
       "      <td>10000</td>\n",
       "      <td>9667</td>\n",
       "      <td>9862</td>\n",
       "      <td>9821</td>\n",
       "      <td>9827</td>\n",
       "      <td>7421</td>\n",
       "      <td>6735</td>\n",
       "      <td>9841</td>\n",
       "    </tr>\n",
       "    <tr>\n",
       "      <th>unique</th>\n",
       "      <td>10000</td>\n",
       "      <td>10</td>\n",
       "      <td>7</td>\n",
       "      <td>8</td>\n",
       "      <td>19</td>\n",
       "      <td>5</td>\n",
       "      <td>4</td>\n",
       "      <td>367</td>\n",
       "    </tr>\n",
       "    <tr>\n",
       "      <th>top</th>\n",
       "      <td>TXN_1961373</td>\n",
       "      <td>Juice</td>\n",
       "      <td>5</td>\n",
       "      <td>3.0</td>\n",
       "      <td>6.0</td>\n",
       "      <td>Digital Wallet</td>\n",
       "      <td>Takeaway</td>\n",
       "      <td>UNKNOWN</td>\n",
       "    </tr>\n",
       "    <tr>\n",
       "      <th>freq</th>\n",
       "      <td>1</td>\n",
       "      <td>1171</td>\n",
       "      <td>2013</td>\n",
       "      <td>2429</td>\n",
       "      <td>979</td>\n",
       "      <td>2291</td>\n",
       "      <td>3022</td>\n",
       "      <td>159</td>\n",
       "    </tr>\n",
       "  </tbody>\n",
       "</table>\n",
       "</div>"
      ],
      "text/plain": [
       "       Transaction ID   Item Quantity Price Per Unit Total Spent  \\\n",
       "count           10000   9667     9862           9821        9827   \n",
       "unique          10000     10        7              8          19   \n",
       "top       TXN_1961373  Juice        5            3.0         6.0   \n",
       "freq                1   1171     2013           2429         979   \n",
       "\n",
       "        Payment Method  Location Transaction Date  \n",
       "count             7421      6735             9841  \n",
       "unique               5         4              367  \n",
       "top     Digital Wallet  Takeaway          UNKNOWN  \n",
       "freq              2291      3022              159  "
      ]
     },
     "execution_count": 163,
     "metadata": {},
     "output_type": "execute_result"
    }
   ],
   "source": [
    "df.describe()"
   ]
  },
  {
   "cell_type": "code",
   "execution_count": 164,
   "id": "defea972-8f91-4e0b-9d80-6e3dfad6eda3",
   "metadata": {},
   "outputs": [
    {
     "data": {
      "text/plain": [
       "(10000, 8)"
      ]
     },
     "execution_count": 164,
     "metadata": {},
     "output_type": "execute_result"
    }
   ],
   "source": [
    "df.shape"
   ]
  },
  {
   "cell_type": "markdown",
   "id": "d1e73f87-8fbb-4ccb-9682-f1e390c2cec3",
   "metadata": {
    "jp-MarkdownHeadingCollapsed": true
   },
   "source": [
    "## 2. Data Types Analysis\n",
    "\n",
    "From the data types of the attributes, it can be concluded that all columns are currently of type `object`. However, some columns should be converted to more appropriate data types:\n",
    "\n",
    "- `Quantity`, `Price Per Unit`, and `Total Spent` should be converted to **numerical types** (e.g., `int` or `float`) to allow for mathematical operations and analysis.  \n",
    "- `Transaction Date` should be converted to a **datetime format** to enable time-based analysis such as sales trends by day, week, or month.\n"
   ]
  },
  {
   "cell_type": "markdown",
   "id": "6841c752-913a-4ebd-b2bb-0e6ac606bcb2",
   "metadata": {},
   "source": [
    "## 3, Data Cleaning\n",
    "This step involves handling missing values, handling duplicated values, converting data to proper types, and ensuring the data is ready for analysis."
   ]
  },
  {
   "cell_type": "code",
   "execution_count": 165,
   "id": "c0bba875-9244-4cb3-b311-811c38e3a421",
   "metadata": {},
   "outputs": [
    {
     "data": {
      "text/plain": [
       "Transaction ID         0\n",
       "Item                 333\n",
       "Quantity             138\n",
       "Price Per Unit       179\n",
       "Total Spent          173\n",
       "Payment Method      2579\n",
       "Location            3265\n",
       "Transaction Date     159\n",
       "dtype: int64"
      ]
     },
     "execution_count": 165,
     "metadata": {},
     "output_type": "execute_result"
    }
   ],
   "source": [
    "df.isna().sum()"
   ]
  },
  {
   "cell_type": "markdown",
   "id": "c0db88eb-2197-4fdf-b64d-c4a684511c21",
   "metadata": {},
   "source": [
    "### Missing Values Analysis\n",
    "\n",
    "From the output above, we can conclude that almost all columns contain missing values, except for `Transaction ID`. Each of these missing values will need to be handled appropriately based on the context and importance of the column.\n"
   ]
  },
  {
   "cell_type": "markdown",
   "id": "5a3aec0e-e4ca-4976-8687-7846f2864e5d",
   "metadata": {},
   "source": [
    "### Handling Missing Values and Invalid Values in `Item` column\n",
    "\n",
    "* For the missing values in the `Item` column, it would be appropriate to replace them with `\"Unknown Item\"`.\n",
    "* For the values that have `\"ERROR\"` or `\"UNKNOWN\"`, it would also be appropriate to replace them with `\"Unknown Item\"`. \n"
   ]
  },
  {
   "cell_type": "code",
   "execution_count": 166,
   "id": "0e4be864-7a7c-4475-be68-506d6851b54c",
   "metadata": {},
   "outputs": [
    {
     "data": {
      "text/plain": [
       "array(['Coffee', 'Cake', 'Cookie', 'Salad', 'Smoothie', 'UNKNOWN',\n",
       "       'Sandwich', nan, 'ERROR', 'Juice', 'Tea'], dtype=object)"
      ]
     },
     "execution_count": 166,
     "metadata": {},
     "output_type": "execute_result"
    }
   ],
   "source": [
    "df.loc[:,\"Item\"].unique()"
   ]
  },
  {
   "cell_type": "code",
   "execution_count": 167,
   "id": "fbc2e98e-6045-4cd2-bcbd-769a85e6e8ec",
   "metadata": {},
   "outputs": [],
   "source": [
    "df[\"Item\"]=df[\"Item\"].fillna(\"Unknown Item\")"
   ]
  },
  {
   "cell_type": "code",
   "execution_count": 168,
   "id": "0036ce40-6c2c-4a24-907f-db4ae21d92f2",
   "metadata": {},
   "outputs": [
    {
     "data": {
      "text/plain": [
       "0"
      ]
     },
     "execution_count": 168,
     "metadata": {},
     "output_type": "execute_result"
    }
   ],
   "source": [
    "df[\"Item\"].isna().sum()"
   ]
  },
  {
   "cell_type": "code",
   "execution_count": 169,
   "id": "2ba38c36-705a-4bce-a39d-b399544f5301",
   "metadata": {},
   "outputs": [],
   "source": [
    "df[\"Item\"]=np.where(df[\"Item\"].isin([\"ERROR\",\"UNKNOWN\"]),\"Unknown Item\",df[\"Item\"])"
   ]
  },
  {
   "cell_type": "markdown",
   "id": "61c2ffff-5c7d-4f99-b73c-5d4c716507df",
   "metadata": {},
   "source": [
    "### Handling Missing Values and Invalid Values in `Quantity`\n",
    "\n",
    "- Missing values in the `Quantity` column will initially be replaced with `0` to handle invalid entries and allow for proper data type conversion.\n",
    "- Entries like `\"ERROR\"` and `\"UNKNOWN\"` will be replaced with `0` as a placeholder.\n",
    "- After converting the columns to the correct numeric format, these placeholder values can be further refined or updated based on related attributes if necessary.\n"
   ]
  },
  {
   "cell_type": "code",
   "execution_count": 170,
   "id": "42bd8cf5-2d3f-46e7-97a8-08afcc1751f1",
   "metadata": {},
   "outputs": [
    {
     "data": {
      "text/plain": [
       "array(['2', '4', '5', '3', '1', 'ERROR', 'UNKNOWN', nan], dtype=object)"
      ]
     },
     "execution_count": 170,
     "metadata": {},
     "output_type": "execute_result"
    }
   ],
   "source": [
    "df[\"Quantity\"].unique()"
   ]
  },
  {
   "cell_type": "code",
   "execution_count": 171,
   "id": "994fc4b1-5ea0-4731-bf44-55aaf42c2bd5",
   "metadata": {},
   "outputs": [],
   "source": [
    "df[\"Quantity\"]=df[\"Quantity\"].fillna(0)"
   ]
  },
  {
   "cell_type": "code",
   "execution_count": 172,
   "id": "78a94b3a-31f2-4d64-b574-9b3e2c217cca",
   "metadata": {},
   "outputs": [
    {
     "data": {
      "text/plain": [
       "0"
      ]
     },
     "execution_count": 172,
     "metadata": {},
     "output_type": "execute_result"
    }
   ],
   "source": [
    "df[\"Quantity\"].isna().sum()"
   ]
  },
  {
   "cell_type": "code",
   "execution_count": 173,
   "id": "30282ee4-ad2f-4343-a5c4-ad7afefeb010",
   "metadata": {},
   "outputs": [],
   "source": [
    "df[\"Quantity\"]=np.where(df[\"Quantity\"].isin([\"ERROR\",\"UNKNOWN\"]),0,df[\"Quantity\"])"
   ]
  },
  {
   "cell_type": "code",
   "execution_count": 174,
   "id": "d8d0705e-68cd-4f80-b6d3-3e317b7507ff",
   "metadata": {},
   "outputs": [],
   "source": [
    "df[\"Quantity\"]=df[\"Quantity\"].astype(\"int8\")"
   ]
  },
  {
   "cell_type": "markdown",
   "id": "bc076844-c0e9-48aa-b393-05f7f348ec6e",
   "metadata": {},
   "source": [
    "### Handling Missing Values in `Price Per Unit`\n",
    "\n",
    "- Missing values in the `Price Per Unit` column will initially be replaced with `0` to handle invalid entries and allow for proper data type conversion.\n",
    "- Entries like `\"ERROR\"` and `\"UNKNOWN\"` will be replaced with `0` as a placeholder.\n",
    "- After converting the columns to the correct numeric format, these placeholder values can be further refined or updated based on related attributes if necessary."
   ]
  },
  {
   "cell_type": "code",
   "execution_count": 175,
   "id": "2fb75cdd-b706-4074-b631-9670e9f95f2c",
   "metadata": {},
   "outputs": [
    {
     "data": {
      "text/plain": [
       "array(['2.0', '3.0', '1.0', '5.0', '4.0', '1.5', nan, 'ERROR', 'UNKNOWN'],\n",
       "      dtype=object)"
      ]
     },
     "execution_count": 175,
     "metadata": {},
     "output_type": "execute_result"
    }
   ],
   "source": [
    "df[\"Price Per Unit\"].unique()"
   ]
  },
  {
   "cell_type": "code",
   "execution_count": 176,
   "id": "26c5185c-f0ff-48ca-9064-1af4fecb4e01",
   "metadata": {},
   "outputs": [],
   "source": [
    "df[\"Price Per Unit\"]=np.where(df[\"Price Per Unit\"].isin([\"ERROR\",\"UNKNOWN\"]),0,df[\"Price Per Unit\"])"
   ]
  },
  {
   "cell_type": "code",
   "execution_count": 177,
   "id": "12ff131c-3a46-47d7-9c99-e47b611393d0",
   "metadata": {
    "scrolled": true
   },
   "outputs": [],
   "source": [
    "df[\"Price Per Unit\"]=df[\"Price Per Unit\"].astype(\"float64\") # Data type is converted to float to make it easier to work when filling the na values"
   ]
  },
  {
   "cell_type": "markdown",
   "id": "17478bbf-b4b6-440c-bc5e-f66163bfe916",
   "metadata": {},
   "source": [
    "#### Group-Based Imputation for `Price Per Unit` to fill the missing values\n",
    "\n",
    "The DataFrame will be grouped by the `Item` column to calculate the average `Price Per Unit` for each item. These group-specific averages will then be used to fill in missing values in the `Price Per Unit` column. This method ensures the imputed values are contextually accurate while preserving the original number of rows in the dataset.\n"
   ]
  },
  {
   "cell_type": "code",
   "execution_count": 178,
   "id": "0361773d-1c15-40c2-963d-ea554169ea9d",
   "metadata": {},
   "outputs": [],
   "source": [
    "df[\"Price Per Unit\"]=df.groupby('Item')[\"Price Per Unit\"].transform(lambda x: x.fillna(x.mean()))#mean of the price for each item"
   ]
  },
  {
   "cell_type": "markdown",
   "id": "4a80b36c-78e7-4142-b284-bf019a2fa5d4",
   "metadata": {},
   "source": [
    "### Handling Missing Values and Invalid Values in `Total Spent`\n",
    "\n",
    "* Missing values in the `Total Spent` column will initially be replaced with `0` to handle invalid entries and allow for proper data type conversion.\n",
    "* Entries like `\"ERROR\"` and `\"UNKNOWN\"` will be replaced with `0` as a placeholder.\n",
    "* After converting the columns to the correct numeric format, these placeholder values can be further refined or updated based on related attributes if necessary."
   ]
  },
  {
   "cell_type": "code",
   "execution_count": 179,
   "id": "dce3614c-05fd-47c0-9bc1-6d9ab0028882",
   "metadata": {},
   "outputs": [
    {
     "data": {
      "text/plain": [
       "array(['4.0', '12.0', 'ERROR', '10.0', '20.0', '9.0', '16.0', '15.0',\n",
       "       '25.0', '8.0', '5.0', '3.0', '6.0', nan, 'UNKNOWN', '2.0', '1.0',\n",
       "       '7.5', '4.5', '1.5'], dtype=object)"
      ]
     },
     "execution_count": 179,
     "metadata": {},
     "output_type": "execute_result"
    }
   ],
   "source": [
    "df[\"Total Spent\"].unique()"
   ]
  },
  {
   "cell_type": "code",
   "execution_count": 180,
   "id": "0358ef99-52da-45ce-a3e9-32d28a5b849c",
   "metadata": {},
   "outputs": [],
   "source": [
    "df[\"Total Spent\"]=df[\"Total Spent\"].fillna(0)"
   ]
  },
  {
   "cell_type": "code",
   "execution_count": 181,
   "id": "55565ac9-1560-4e7b-9077-aa87fa231e10",
   "metadata": {},
   "outputs": [],
   "source": [
    "df[\"Total Spent\"]=np.where(df[\"Total Spent\"].isin([\"ERROR\",\"UNKNOWN\"]),0,df[\"Total Spent\"])"
   ]
  },
  {
   "cell_type": "code",
   "execution_count": 182,
   "id": "1e69cd03-a120-4bda-b6d7-8015caf328c8",
   "metadata": {},
   "outputs": [],
   "source": [
    "df[\"Total Spent\"]=df[\"Total Spent\"].astype(\"float64\")"
   ]
  },
  {
   "cell_type": "code",
   "execution_count": 183,
   "id": "de93888f-9df8-405a-b6e0-5c965bada509",
   "metadata": {},
   "outputs": [
    {
     "data": {
      "text/plain": [
       "Transaction ID         0\n",
       "Item                   0\n",
       "Quantity               0\n",
       "Price Per Unit         0\n",
       "Total Spent            0\n",
       "Payment Method      2579\n",
       "Location            3265\n",
       "Transaction Date     159\n",
       "dtype: int64"
      ]
     },
     "execution_count": 183,
     "metadata": {},
     "output_type": "execute_result"
    }
   ],
   "source": [
    "df.isna().sum()"
   ]
  },
  {
   "cell_type": "markdown",
   "id": "7a913cda-5646-4bff-8dec-f9f40af6a246",
   "metadata": {},
   "source": [
    "### Handling Missing and Invalid Values in `Payment Method`\n",
    "\n",
    "- Missing values in the `Payment Method` column are replaced with `\"Unknown\"` since the transaction was completed, indicating the customer must have paid in some way (it's just not recorded).\n",
    "- Entries labeled as `\"ERROR\"` are kept as they are to preserve data integrity.\n"
   ]
  },
  {
   "cell_type": "code",
   "execution_count": 184,
   "id": "fdaa2337-fba8-4e9e-a0f6-a4716054fa2c",
   "metadata": {},
   "outputs": [
    {
     "data": {
      "text/plain": [
       "array(['Credit Card', 'Cash', 'UNKNOWN', 'Digital Wallet', 'ERROR', nan],\n",
       "      dtype=object)"
      ]
     },
     "execution_count": 184,
     "metadata": {},
     "output_type": "execute_result"
    }
   ],
   "source": [
    "df[\"Payment Method\"].unique()"
   ]
  },
  {
   "cell_type": "code",
   "execution_count": 185,
   "id": "93134d56-9d1d-4815-b9e2-73ce52e4e246",
   "metadata": {},
   "outputs": [],
   "source": [
    "df[\"Payment Method\"]=df[\"Payment Method\"].fillna(\"UNKNOWN\")"
   ]
  },
  {
   "cell_type": "markdown",
   "id": "b9a90abe-6ae5-46a9-bf9e-bb854c91e688",
   "metadata": {},
   "source": [
    "### Handling Missing and Invalid Values in `Location`\n",
    "\n",
    "- Missing values in the `Location` column are replaced with `\"Unknown\"` since the transaction still occurred, even if the specific location wasn't recorded.\n",
    "- Entries labeled as `\"ERROR\"` are left as-is to indicate potential data issues that might need manual review or further clarification.\n"
   ]
  },
  {
   "cell_type": "code",
   "execution_count": 186,
   "id": "ec43e749-6730-4a82-a724-399c73e256f6",
   "metadata": {},
   "outputs": [
    {
     "data": {
      "text/plain": [
       "array(['Takeaway', 'In-store', 'UNKNOWN', nan, 'ERROR'], dtype=object)"
      ]
     },
     "execution_count": 186,
     "metadata": {},
     "output_type": "execute_result"
    }
   ],
   "source": [
    "df[\"Location\"].unique()"
   ]
  },
  {
   "cell_type": "code",
   "execution_count": 187,
   "id": "ff44ef6c-2a60-48ce-a087-c88b59edd700",
   "metadata": {},
   "outputs": [],
   "source": [
    "df[\"Location\"]=df[\"Location\"].fillna(\"UNKNOWN\")"
   ]
  },
  {
   "cell_type": "markdown",
   "id": "b2513402-a107-4d9a-bd9e-42902fcd40c4",
   "metadata": {},
   "source": [
    "### Handling Missing and Invalid Values in `Transaction Date`"
   ]
  },
  {
   "cell_type": "code",
   "execution_count": 188,
   "id": "effd54f3-775c-43a6-ac76-49b410b08394",
   "metadata": {},
   "outputs": [
    {
     "data": {
      "text/plain": [
       "array(['2023-09-08', '2023-05-16', '2023-07-19', '2023-04-27',\n",
       "       '2023-06-11', '2023-03-31', '2023-10-06', '2023-10-28',\n",
       "       '2023-07-28', '2023-12-31', '2023-11-07', 'ERROR', '2023-05-03',\n",
       "       '2023-06-01', '2023-03-21', '2023-11-15', '2023-06-10',\n",
       "       '2023-02-24', '2023-03-25', '2023-01-15', '2023-04-04',\n",
       "       '2023-03-30', '2023-12-01', '2023-09-18', '2023-06-03',\n",
       "       '2023-12-13', '2023-04-20', '2023-04-10', '2023-03-11',\n",
       "       '2023-06-02', '2023-11-06', '2023-08-15', '2023-10-09',\n",
       "       '2023-05-28', '2023-07-17', '2023-04-29', '2023-06-08',\n",
       "       '2023-06-29', '2023-04-17', '2023-12-22', '2023-01-10',\n",
       "       '2023-10-02', '2023-02-23', '2023-03-22', '2023-11-03',\n",
       "       '2023-03-02', '2023-06-26', '2023-05-02', '2023-09-05',\n",
       "       '2023-01-08', '2023-03-15', '2023-11-25', '2023-12-05',\n",
       "       '2023-03-19', '2023-06-27', '2023-04-19', '2023-10-07',\n",
       "       '2023-09-30', '2023-05-27', '2023-11-18', '2023-10-20',\n",
       "       '2023-10-03', '2023-10-27', '2023-04-06', '2023-01-31',\n",
       "       '2023-12-08', '2023-06-19', '2023-12-14', '2023-07-16',\n",
       "       '2023-02-22', nan, '2023-06-15', '2023-12-09', '2023-04-18',\n",
       "       '2023-10-29', '2023-04-30', '2023-04-02', '2023-05-24',\n",
       "       '2023-03-12', '2023-08-16', '2023-09-10', '2023-03-07',\n",
       "       '2023-08-07', '2023-08-20', '2023-04-15', '2023-07-25',\n",
       "       '2023-10-30', '2023-12-15', '2023-02-25', '2023-04-03',\n",
       "       '2023-10-08', '2023-12-28', '2023-08-30', '2023-02-03',\n",
       "       '2023-09-12', '2023-05-04', '2023-02-21', 'UNKNOWN', '2023-03-16',\n",
       "       '2023-02-06', '2023-03-29', '2023-06-18', '2023-09-23',\n",
       "       '2023-01-14', '2023-09-14', '2023-09-16', '2023-04-08',\n",
       "       '2023-12-19', '2023-07-14', '2023-12-12', '2023-01-05',\n",
       "       '2023-01-23', '2023-02-20', '2023-12-06', '2023-05-31',\n",
       "       '2023-08-11', '2023-09-03', '2023-07-11', '2023-06-06',\n",
       "       '2023-01-18', '2023-03-23', '2023-01-04', '2023-06-23',\n",
       "       '2023-08-03', '2023-07-12', '2023-11-02', '2023-07-31',\n",
       "       '2023-09-19', '2023-02-09', '2023-09-04', '2023-05-21',\n",
       "       '2023-07-02', '2023-07-10', '2023-11-21', '2023-12-02',\n",
       "       '2023-03-13', '2023-08-12', '2023-02-16', '2023-04-11',\n",
       "       '2023-03-26', '2023-11-01', '2023-07-22', '2023-07-26',\n",
       "       '2023-02-28', '2023-01-27', '2023-01-19', '2023-04-07',\n",
       "       '2023-03-20', '2023-12-27', '2023-10-26', '2023-02-18',\n",
       "       '2023-05-15', '2023-12-10', '2023-04-21', '2023-02-04',\n",
       "       '2023-11-12', '2023-08-05', '2023-05-10', '2023-07-15',\n",
       "       '2023-01-11', '2023-10-01', '2023-04-26', '2023-08-25',\n",
       "       '2023-03-01', '2023-11-13', '2023-07-09', '2023-05-13',\n",
       "       '2023-05-18', '2023-01-17', '2023-09-22', '2023-08-22',\n",
       "       '2023-07-27', '2023-12-30', '2023-12-21', '2023-09-28',\n",
       "       '2023-11-16', '2023-04-14', '2023-01-03', '2023-01-12',\n",
       "       '2023-08-31', '2023-07-07', '2023-09-15', '2023-10-21',\n",
       "       '2023-09-02', '2023-08-19', '2023-01-06', '2023-10-13',\n",
       "       '2023-05-29', '2023-05-22', '2023-11-23', '2023-10-15',\n",
       "       '2023-11-14', '2023-11-26', '2023-12-17', '2023-05-09',\n",
       "       '2023-10-22', '2023-06-30', '2023-04-25', '2023-02-19',\n",
       "       '2023-12-11', '2023-10-12', '2023-07-04', '2023-01-28',\n",
       "       '2023-10-04', '2023-02-26', '2023-10-11', '2023-02-14',\n",
       "       '2023-04-28', '2023-09-06', '2023-04-23', '2023-01-22',\n",
       "       '2023-03-10', '2023-01-09', '2023-12-03', '2023-08-06',\n",
       "       '2023-12-29', '2023-02-15', '2023-05-25', '2023-10-31',\n",
       "       '2023-02-27', '2023-03-03', '2023-09-27', '2023-08-18',\n",
       "       '2023-12-16', '2023-06-07', '2023-05-12', '2023-07-06',\n",
       "       '2023-06-20', '2023-08-09', '2023-05-14', '2023-07-18',\n",
       "       '2023-10-10', '2023-02-02', '2023-08-14', '2023-09-26',\n",
       "       '2023-01-13', '2023-10-16', '2023-11-17', '2023-12-20',\n",
       "       '2023-12-04', '2023-02-08', '2023-09-11', '2023-02-01',\n",
       "       '2023-02-12', '2023-03-14', '2023-09-29', '2023-04-22',\n",
       "       '2023-06-13', '2023-12-24', '2023-03-28', '2023-03-06',\n",
       "       '2023-02-11', '2023-01-30', '2023-04-09', '2023-04-16',\n",
       "       '2023-12-23', '2023-03-05', '2023-03-24', '2023-07-23',\n",
       "       '2023-07-29', '2023-06-05', '2023-10-19', '2023-01-07',\n",
       "       '2023-11-29', '2023-07-05', '2023-07-20', '2023-05-07',\n",
       "       '2023-08-10', '2023-10-24', '2023-08-13', '2023-08-28',\n",
       "       '2023-06-21', '2023-11-10', '2023-10-18', '2023-05-19',\n",
       "       '2023-11-09', '2023-06-24', '2023-05-11', '2023-12-07',\n",
       "       '2023-09-01', '2023-09-25', '2023-06-22', '2023-05-30',\n",
       "       '2023-04-24', '2023-09-20', '2023-02-07', '2023-05-05',\n",
       "       '2023-02-10', '2023-11-24', '2023-10-25', '2023-10-05',\n",
       "       '2023-07-21', '2023-07-08', '2023-03-17', '2023-10-14',\n",
       "       '2023-06-28', '2023-09-09', '2023-08-21', '2023-07-01',\n",
       "       '2023-06-14', '2023-03-09', '2023-11-08', '2023-12-26',\n",
       "       '2023-09-13', '2023-05-23', '2023-08-24', '2023-04-01',\n",
       "       '2023-06-09', '2023-08-23', '2023-08-08', '2023-08-27',\n",
       "       '2023-05-26', '2023-06-16', '2023-12-25', '2023-01-25',\n",
       "       '2023-10-23', '2023-05-06', '2023-01-29', '2023-08-29',\n",
       "       '2023-01-01', '2023-07-24', '2023-04-12', '2023-12-18',\n",
       "       '2023-09-21', '2023-05-01', '2023-02-05', '2023-01-24',\n",
       "       '2023-01-02', '2023-06-12', '2023-01-16', '2023-10-17',\n",
       "       '2023-03-04', '2023-06-17', '2023-03-18', '2023-08-26',\n",
       "       '2023-05-17', '2023-11-22', '2023-08-17', '2023-11-19',\n",
       "       '2023-11-27', '2023-06-04', '2023-09-17', '2023-11-04',\n",
       "       '2023-11-28', '2023-06-25', '2023-04-13', '2023-01-26',\n",
       "       '2023-08-04', '2023-05-08', '2023-11-20', '2023-07-13',\n",
       "       '2023-09-24', '2023-01-21', '2023-03-08', '2023-09-07',\n",
       "       '2023-11-30', '2023-08-02', '2023-04-05', '2023-08-01',\n",
       "       '2023-01-20', '2023-11-11', '2023-02-13', '2023-07-30',\n",
       "       '2023-02-17', '2023-05-20', '2023-11-05', '2023-03-27',\n",
       "       '2023-07-03'], dtype=object)"
      ]
     },
     "execution_count": 188,
     "metadata": {},
     "output_type": "execute_result"
    }
   ],
   "source": [
    "df[\"Transaction Date\"].unique()"
   ]
  },
  {
   "cell_type": "markdown",
   "id": "e48271c7-9652-4939-a0e9-bb901085c8fa",
   "metadata": {},
   "source": [
    "* First, we converted all values in the column to lowercase strings and removed any leading or trailing spaces:"
   ]
  },
  {
   "cell_type": "code",
   "execution_count": 189,
   "id": "53fac966-8b5f-42fe-bd11-e760d7cb988a",
   "metadata": {},
   "outputs": [],
   "source": [
    "df[\"Transaction Date\"]=df[\"Transaction Date\"].str.lower().str.strip()"
   ]
  },
  {
   "cell_type": "markdown",
   "id": "c9375ecb-2c43-4497-98f5-39eff6021797",
   "metadata": {},
   "source": [
    "* Then, we used `pd.to_datetime()` with `errors='coerce'` to convert valid date strings to datetime format and set any invalid entries to `NaT` (Not a Time), which behaves like `NaN` for datetime objects."
   ]
  },
  {
   "cell_type": "code",
   "execution_count": 190,
   "id": "97c7c452-59f0-4ca2-af5b-fcc733738de0",
   "metadata": {},
   "outputs": [],
   "source": [
    "df[\"Transaction Date\"]=pd.to_datetime(df[\"Transaction Date\"],errors=\"coerce\") \n",
    "#This will convert any values that are not date to NaT which is like NaN but for time"
   ]
  },
  {
   "cell_type": "code",
   "execution_count": 191,
   "id": "88a231b2-c2f4-4dd2-b5da-6f29cbc081be",
   "metadata": {},
   "outputs": [
    {
     "data": {
      "text/plain": [
       "460"
      ]
     },
     "execution_count": 191,
     "metadata": {},
     "output_type": "execute_result"
    }
   ],
   "source": [
    "df[\"Transaction Date\"].isna().sum()"
   ]
  },
  {
   "cell_type": "markdown",
   "id": "2f8b8961-15e1-462a-90e1-2f6aa291991e",
   "metadata": {},
   "source": [
    "* Finally, we filled these missing dates with a placeholder date of `1900-01-01`."
   ]
  },
  {
   "cell_type": "code",
   "execution_count": 192,
   "id": "0c7790e6-5311-4045-91ec-8e96b09876f3",
   "metadata": {},
   "outputs": [],
   "source": [
    "df[\"Transaction Date\"]=df[\"Transaction Date\"].fillna(pd.Timestamp(\"1900-01-01\"))# A place holder for the unknown dates"
   ]
  },
  {
   "cell_type": "code",
   "execution_count": 193,
   "id": "7973ab06-6b8c-4583-aa1b-d7044727fecd",
   "metadata": {},
   "outputs": [
    {
     "data": {
      "text/plain": [
       "Transaction ID      0\n",
       "Item                0\n",
       "Quantity            0\n",
       "Price Per Unit      0\n",
       "Total Spent         0\n",
       "Payment Method      0\n",
       "Location            0\n",
       "Transaction Date    0\n",
       "dtype: int64"
      ]
     },
     "execution_count": 193,
     "metadata": {},
     "output_type": "execute_result"
    }
   ],
   "source": [
    "df.isna().sum()"
   ]
  },
  {
   "cell_type": "markdown",
   "id": "7b384cad-acb2-40f2-a667-eea61b163e09",
   "metadata": {},
   "source": [
    "### Since now there are no missing values it is time to calculate the correct numerical values for \n",
    "* `Quantity`\n",
    "* `Price Per Unit`\n",
    "* `Total Spent`"
   ]
  },
  {
   "cell_type": "markdown",
   "id": "116732a1-3b88-420e-9512-e5785ba39f78",
   "metadata": {},
   "source": [
    "### 1.Calculating the correct **`Total Spent`**"
   ]
  },
  {
   "cell_type": "markdown",
   "id": "6a951985-8ed8-4e4e-b719-689bcf9aeaa2",
   "metadata": {},
   "source": [
    "#### The correct `Total Spent` will be calculated in cases where `0` was initially used as a placeholder. This is done by multiplying `Price Per Unit` and `Quantity`, only when both values are not equal to `0`.\n"
   ]
  },
  {
   "cell_type": "code",
   "execution_count": 194,
   "id": "ec0f24af-ec79-4f01-b2fb-2e778ce2e8b9",
   "metadata": {},
   "outputs": [],
   "source": [
    "df[\"Total Spent\"]=np.where(\n",
    "    (df[\"Total Spent\"]==0) & \n",
    "    (df[\"Price Per Unit\"]!=0) & \n",
    "    (df[\"Quantity\"]!=0),\n",
    "    df[\"Price Per Unit\"]*df[\"Quantity\"],\n",
    "    df[\"Total Spent\"])"
   ]
  },
  {
   "cell_type": "markdown",
   "id": "98224466-3993-4dea-8f09-311fec4eb293",
   "metadata": {},
   "source": [
    "### 2.Calculating the correct **`Price Per Unit`**"
   ]
  },
  {
   "cell_type": "markdown",
   "id": "e3bf0daf-9391-45c1-a43e-13079eebaca2",
   "metadata": {},
   "source": [
    "#### The correct `Price Per Unit` will be calculated in cases where `0` was initially used as a placeholder. This is done by dividing `Total Spent` and `Quantity`, only when both values are not equal to `0`."
   ]
  },
  {
   "cell_type": "code",
   "execution_count": 195,
   "id": "cbe633e8-58d2-4692-a787-4f2e534015c5",
   "metadata": {},
   "outputs": [],
   "source": [
    "df[\"Price Per Unit\"]=np.where(\n",
    "    (df[\"Price Per Unit\"]==0) & \n",
    "    (df[\"Total Spent\"]!=0) & \n",
    "    (df[\"Quantity\"]!=0),\n",
    "    df[\"Total Spent\"]/df[\"Quantity\"],\n",
    "    df[\"Price Per Unit\"])"
   ]
  },
  {
   "cell_type": "markdown",
   "id": "106fe516-b24d-4c3c-9d15-6b94218978b6",
   "metadata": {},
   "source": [
    "### 3.Calculating the correct **`Quantity`**"
   ]
  },
  {
   "cell_type": "markdown",
   "id": "7d2b66f2-dabc-44cd-aafa-577c76fc59b4",
   "metadata": {},
   "source": [
    "#### The correct `Quantity` will be calculated in cases where `0` was initially used as a placeholder. This is done by dividing `Total Spent` and `Price Per Unit`, only when both values are not equal to `0`."
   ]
  },
  {
   "cell_type": "code",
   "execution_count": 196,
   "id": "84d246aa-fb56-48f0-a294-5fbee78d14c6",
   "metadata": {},
   "outputs": [],
   "source": [
    "df[\"Quantity\"]=np.where(\n",
    "    (df[\"Quantity\"]==0) & \n",
    "    (df[\"Total Spent\"]!=0) & \n",
    "    (df[\"Price Per Unit\"]!=0),\n",
    "    df[\"Total Spent\"]/df[\"Price Per Unit\"],\n",
    "    df[\"Quantity\"])"
   ]
  },
  {
   "cell_type": "code",
   "execution_count": 197,
   "id": "6fc33bbb-2254-46a1-99d8-485d8f30fa24",
   "metadata": {},
   "outputs": [],
   "source": [
    "df[\"Quantity\"]=df[\"Quantity\"].astype(\"int8\") #It needxs to be countable number as it is quantity"
   ]
  },
  {
   "cell_type": "markdown",
   "id": "83c850d5-163a-48c3-b5c4-35396fb3f43c",
   "metadata": {},
   "source": [
    "## Now it is time to fill the remaining `0` values that are used as place holders if it is possible"
   ]
  },
  {
   "cell_type": "code",
   "execution_count": 198,
   "id": "3004497e-8ad1-4ba1-a857-25c6c8a6fe2c",
   "metadata": {},
   "outputs": [
    {
     "data": {
      "text/plain": [
       "array(['Coffee', 'Cake', 'Cookie', 'Salad', 'Smoothie', 'Unknown Item',\n",
       "       'Sandwich', 'Juice', 'Tea'], dtype=object)"
      ]
     },
     "execution_count": 198,
     "metadata": {},
     "output_type": "execute_result"
    }
   ],
   "source": [
    "df.Item.unique()"
   ]
  },
  {
   "cell_type": "markdown",
   "id": "276bb943-6ea1-45c6-bac3-320b347d8d26",
   "metadata": {},
   "source": [
    "#### It is possible to fill the `Price Per Unit` for `Item` coffee with `2` because it is frequent."
   ]
  },
  {
   "cell_type": "code",
   "execution_count": 199,
   "id": "eda51106-9d52-4079-b3ae-fa3acbf5cb61",
   "metadata": {
    "scrolled": true
   },
   "outputs": [
    {
     "data": {
      "text/plain": [
       "Price Per Unit\n",
       "2.000000    1144\n",
       "1.933682      19\n",
       "0.000000       2\n",
       "Name: count, dtype: int64"
      ]
     },
     "execution_count": 199,
     "metadata": {},
     "output_type": "execute_result"
    }
   ],
   "source": [
    "df[df.Item==\"Coffee\"][\"Price Per Unit\"].value_counts()"
   ]
  },
  {
   "cell_type": "code",
   "execution_count": 200,
   "id": "074c7b68-384f-4ebb-9ed9-9f2572e3482f",
   "metadata": {},
   "outputs": [],
   "source": [
    "df['Price Per Unit']=np.where(df[\"Item\"]==\"Coffee\",2,df[\"Price Per Unit\"]) #For the coffee we are filling 2 as the Price Per Unit"
   ]
  },
  {
   "cell_type": "markdown",
   "id": "85e98337-bff3-4042-ba0a-4a76138a98af",
   "metadata": {},
   "source": [
    "#### It is possible to fill the `Price Per Unit` for `Item` cake with `3` because it is frequent."
   ]
  },
  {
   "cell_type": "code",
   "execution_count": 201,
   "id": "a2d17f74-01a8-4a83-af03-71dfa6f5adf1",
   "metadata": {},
   "outputs": [
    {
     "data": {
      "text/plain": [
       "Price Per Unit\n",
       "3.000000    1116\n",
       "2.911449      21\n",
       "0.000000       2\n",
       "Name: count, dtype: int64"
      ]
     },
     "execution_count": 201,
     "metadata": {},
     "output_type": "execute_result"
    }
   ],
   "source": [
    "df[df.Item==\"Cake\"][\"Price Per Unit\"].value_counts()"
   ]
  },
  {
   "cell_type": "code",
   "execution_count": 202,
   "id": "f28e8567-93d6-420d-ad94-a40d96ff68ff",
   "metadata": {},
   "outputs": [],
   "source": [
    "df['Price Per Unit']=np.where(df[\"Item\"]==\"Cake\",3,df[\"Price Per Unit\"])"
   ]
  },
  {
   "cell_type": "markdown",
   "id": "56d3fa42-3c2f-4b86-9456-aec5f7068b5c",
   "metadata": {},
   "source": [
    "#### It is possible to fill the `Price Per Unit` for `Item` Cookie with `1` because it is frequent."
   ]
  },
  {
   "cell_type": "code",
   "execution_count": 203,
   "id": "4936ac1c-181f-402d-b8e4-01b931cfefa6",
   "metadata": {},
   "outputs": [
    {
     "data": {
      "text/plain": [
       "Price Per Unit\n",
       "1.000000    1063\n",
       "0.960674      24\n",
       "0.000000       5\n",
       "Name: count, dtype: int64"
      ]
     },
     "execution_count": 203,
     "metadata": {},
     "output_type": "execute_result"
    }
   ],
   "source": [
    "df[df.Item==\"Cookie\"][\"Price Per Unit\"].value_counts()"
   ]
  },
  {
   "cell_type": "code",
   "execution_count": 204,
   "id": "a4d6380d-c5c0-4f57-88d5-5ded38216309",
   "metadata": {},
   "outputs": [],
   "source": [
    "df['Price Per Unit']=np.where(df[\"Item\"]==\"Cookie\",1,df[\"Price Per Unit\"])"
   ]
  },
  {
   "cell_type": "markdown",
   "id": "610b116f-3860-4d73-a6cb-59375212e2a4",
   "metadata": {},
   "source": [
    "#### It is possible to fill the `Price Per Unit` for `Item` Salad with `5` because it is frequent."
   ]
  },
  {
   "cell_type": "code",
   "execution_count": 205,
   "id": "d7e2f0cb-14a4-4df0-ae24-ef237ef9ced0",
   "metadata": {},
   "outputs": [
    {
     "data": {
      "text/plain": [
       "Price Per Unit\n",
       "5.000000    1131\n",
       "4.779152      16\n",
       "0.000000       1\n",
       "Name: count, dtype: int64"
      ]
     },
     "execution_count": 205,
     "metadata": {},
     "output_type": "execute_result"
    }
   ],
   "source": [
    "df[df.Item==\"Salad\"][\"Price Per Unit\"].value_counts()"
   ]
  },
  {
   "cell_type": "code",
   "execution_count": 206,
   "id": "efbdd9f5-c91f-4e75-904e-e452751c02bf",
   "metadata": {},
   "outputs": [],
   "source": [
    "df['Price Per Unit']=np.where(df[\"Item\"]==\"Salad\",5,df[\"Price Per Unit\"])"
   ]
  },
  {
   "cell_type": "markdown",
   "id": "3d96b95d-d5d8-4538-aa0f-f350549fa6a3",
   "metadata": {},
   "source": [
    "#### It is possible to fill the `Price Per Unit` for `Item` Smoothie with `4` because it is frequent."
   ]
  },
  {
   "cell_type": "code",
   "execution_count": 207,
   "id": "6a14f65c-d0b8-4931-8948-c66ff9545dbc",
   "metadata": {},
   "outputs": [
    {
     "data": {
      "text/plain": [
       "Price Per Unit\n",
       "4.000000    1068\n",
       "3.865672      24\n",
       "0.000000       4\n",
       "Name: count, dtype: int64"
      ]
     },
     "execution_count": 207,
     "metadata": {},
     "output_type": "execute_result"
    }
   ],
   "source": [
    "df[df.Item==\"Smoothie\"][\"Price Per Unit\"].value_counts()"
   ]
  },
  {
   "cell_type": "code",
   "execution_count": 208,
   "id": "09fcf91e-7689-412a-9bcb-3f216a2eb6ef",
   "metadata": {},
   "outputs": [],
   "source": [
    "df['Price Per Unit']=np.where(df[\"Item\"]==\"Smoothie\",4,df[\"Price Per Unit\"])"
   ]
  },
  {
   "cell_type": "markdown",
   "id": "2be7e036-fb35-48ca-a8be-b2889e165277",
   "metadata": {},
   "source": [
    "#### It is possible to fill the `Price Per Unit` for `Item` Sandwich with `4` because it is frequent."
   ]
  },
  {
   "cell_type": "code",
   "execution_count": 209,
   "id": "33faf902-c6f9-4d86-91eb-151869720fc0",
   "metadata": {},
   "outputs": [
    {
     "data": {
      "text/plain": [
       "Price Per Unit\n",
       "4.000000    1111\n",
       "3.885099      17\n",
       "0.000000       3\n",
       "Name: count, dtype: int64"
      ]
     },
     "execution_count": 209,
     "metadata": {},
     "output_type": "execute_result"
    }
   ],
   "source": [
    "df[df.Item==\"Sandwich\"][\"Price Per Unit\"].value_counts()"
   ]
  },
  {
   "cell_type": "code",
   "execution_count": 210,
   "id": "e51d15ee-1702-481b-8823-9750b2e3b63b",
   "metadata": {},
   "outputs": [],
   "source": [
    "df['Price Per Unit']=np.where(df[\"Item\"]==\"Sandwich\",4,df[\"Price Per Unit\"])"
   ]
  },
  {
   "cell_type": "markdown",
   "id": "c4cb10b6-7880-4f9c-9a71-9a8fec7f0926",
   "metadata": {},
   "source": [
    "#### It is possible to fill the `Price Per Unit` for `Item` Juice with `3` because it is frequent."
   ]
  },
  {
   "cell_type": "code",
   "execution_count": 211,
   "id": "1b7b76d4-15ab-4930-9fa5-623a7540b2a8",
   "metadata": {},
   "outputs": [
    {
     "data": {
      "text/plain": [
       "Price Per Unit\n",
       "3.000000    1154\n",
       "2.885615      17\n",
       "Name: count, dtype: int64"
      ]
     },
     "execution_count": 211,
     "metadata": {},
     "output_type": "execute_result"
    }
   ],
   "source": [
    "df[df.Item==\"Juice\"][\"Price Per Unit\"].value_counts()"
   ]
  },
  {
   "cell_type": "code",
   "execution_count": 212,
   "id": "fdfabd28-3207-468b-b3c5-684fa959d0d4",
   "metadata": {},
   "outputs": [],
   "source": [
    "df['Price Per Unit']=np.where(df[\"Item\"]==\"Juice\",3,df[\"Price Per Unit\"])"
   ]
  },
  {
   "cell_type": "markdown",
   "id": "cbfa7b8f-1ce3-42d8-90d8-d41dc0a77392",
   "metadata": {},
   "source": [
    "#### It is possible to fill the `Price Per Unit` for `Item` Tea with `1.5` because it is frequent."
   ]
  },
  {
   "cell_type": "code",
   "execution_count": 213,
   "id": "e52bb0a0-f70c-4c5c-ac89-c4d6fbffbd40",
   "metadata": {},
   "outputs": [
    {
     "data": {
      "text/plain": [
       "Price Per Unit\n",
       "1.500000    1064\n",
       "1.435454      20\n",
       "0.000000       5\n",
       "Name: count, dtype: int64"
      ]
     },
     "execution_count": 213,
     "metadata": {},
     "output_type": "execute_result"
    }
   ],
   "source": [
    "df[df.Item==\"Tea\"][\"Price Per Unit\"].value_counts()"
   ]
  },
  {
   "cell_type": "code",
   "execution_count": 214,
   "id": "24e45332-a306-4b86-a763-78a65032d878",
   "metadata": {},
   "outputs": [],
   "source": [
    "df['Price Per Unit']=np.where(df[\"Item\"]==\"Tea\",1.5,df[\"Price Per Unit\"])"
   ]
  },
  {
   "cell_type": "markdown",
   "id": "e167eada-ff75-45e9-8b7f-de4914f2d5f2",
   "metadata": {},
   "source": [
    "### Now the data have known prices except where the items are unknown"
   ]
  },
  {
   "cell_type": "code",
   "execution_count": 215,
   "id": "6f39fa13-3d0d-4f24-87de-e6587193fffc",
   "metadata": {},
   "outputs": [
    {
     "data": {
      "text/html": [
       "<div>\n",
       "<style scoped>\n",
       "    .dataframe tbody tr th:only-of-type {\n",
       "        vertical-align: middle;\n",
       "    }\n",
       "\n",
       "    .dataframe tbody tr th {\n",
       "        vertical-align: top;\n",
       "    }\n",
       "\n",
       "    .dataframe thead th {\n",
       "        text-align: right;\n",
       "    }\n",
       "</style>\n",
       "<table border=\"1\" class=\"dataframe\">\n",
       "  <thead>\n",
       "    <tr style=\"text-align: right;\">\n",
       "      <th></th>\n",
       "      <th>Transaction ID</th>\n",
       "      <th>Item</th>\n",
       "      <th>Quantity</th>\n",
       "      <th>Price Per Unit</th>\n",
       "      <th>Total Spent</th>\n",
       "      <th>Payment Method</th>\n",
       "      <th>Location</th>\n",
       "      <th>Transaction Date</th>\n",
       "    </tr>\n",
       "  </thead>\n",
       "  <tbody>\n",
       "    <tr>\n",
       "      <th>1761</th>\n",
       "      <td>TXN_3611851</td>\n",
       "      <td>Unknown Item</td>\n",
       "      <td>4</td>\n",
       "      <td>0.0</td>\n",
       "      <td>0.0</td>\n",
       "      <td>Credit Card</td>\n",
       "      <td>UNKNOWN</td>\n",
       "      <td>2023-02-09</td>\n",
       "    </tr>\n",
       "    <tr>\n",
       "      <th>2289</th>\n",
       "      <td>TXN_7524977</td>\n",
       "      <td>Unknown Item</td>\n",
       "      <td>4</td>\n",
       "      <td>0.0</td>\n",
       "      <td>0.0</td>\n",
       "      <td>ERROR</td>\n",
       "      <td>UNKNOWN</td>\n",
       "      <td>2023-12-09</td>\n",
       "    </tr>\n",
       "    <tr>\n",
       "      <th>3779</th>\n",
       "      <td>TXN_7376255</td>\n",
       "      <td>Unknown Item</td>\n",
       "      <td>0</td>\n",
       "      <td>0.0</td>\n",
       "      <td>25.0</td>\n",
       "      <td>UNKNOWN</td>\n",
       "      <td>In-store</td>\n",
       "      <td>2023-05-27</td>\n",
       "    </tr>\n",
       "    <tr>\n",
       "      <th>4152</th>\n",
       "      <td>TXN_9646000</td>\n",
       "      <td>Unknown Item</td>\n",
       "      <td>2</td>\n",
       "      <td>0.0</td>\n",
       "      <td>0.0</td>\n",
       "      <td>UNKNOWN</td>\n",
       "      <td>In-store</td>\n",
       "      <td>2023-12-14</td>\n",
       "    </tr>\n",
       "  </tbody>\n",
       "</table>\n",
       "</div>"
      ],
      "text/plain": [
       "     Transaction ID          Item  Quantity  Price Per Unit  Total Spent  \\\n",
       "1761    TXN_3611851  Unknown Item         4             0.0          0.0   \n",
       "2289    TXN_7524977  Unknown Item         4             0.0          0.0   \n",
       "3779    TXN_7376255  Unknown Item         0             0.0         25.0   \n",
       "4152    TXN_9646000  Unknown Item         2             0.0          0.0   \n",
       "\n",
       "     Payment Method  Location Transaction Date  \n",
       "1761    Credit Card   UNKNOWN       2023-02-09  \n",
       "2289          ERROR   UNKNOWN       2023-12-09  \n",
       "3779        UNKNOWN  In-store       2023-05-27  \n",
       "4152        UNKNOWN  In-store       2023-12-14  "
      ]
     },
     "execution_count": 215,
     "metadata": {},
     "output_type": "execute_result"
    }
   ],
   "source": [
    "df[df['Price Per Unit']==0]"
   ]
  },
  {
   "cell_type": "markdown",
   "id": "25475bdd-7a95-4c41-8b24-22d9b9b443ac",
   "metadata": {},
   "source": [
    "### The `Total Spent` can be recalculated now with the new `Price Per Unit`"
   ]
  },
  {
   "cell_type": "code",
   "execution_count": 216,
   "id": "8bbdd72b-c86e-4dc0-b34f-65ba2d69d406",
   "metadata": {},
   "outputs": [
    {
     "data": {
      "text/html": [
       "<div>\n",
       "<style scoped>\n",
       "    .dataframe tbody tr th:only-of-type {\n",
       "        vertical-align: middle;\n",
       "    }\n",
       "\n",
       "    .dataframe tbody tr th {\n",
       "        vertical-align: top;\n",
       "    }\n",
       "\n",
       "    .dataframe thead th {\n",
       "        text-align: right;\n",
       "    }\n",
       "</style>\n",
       "<table border=\"1\" class=\"dataframe\">\n",
       "  <thead>\n",
       "    <tr style=\"text-align: right;\">\n",
       "      <th></th>\n",
       "      <th>Transaction ID</th>\n",
       "      <th>Item</th>\n",
       "      <th>Quantity</th>\n",
       "      <th>Price Per Unit</th>\n",
       "      <th>Total Spent</th>\n",
       "      <th>Payment Method</th>\n",
       "      <th>Location</th>\n",
       "      <th>Transaction Date</th>\n",
       "    </tr>\n",
       "  </thead>\n",
       "  <tbody>\n",
       "    <tr>\n",
       "      <th>236</th>\n",
       "      <td>TXN_8562645</td>\n",
       "      <td>Salad</td>\n",
       "      <td>0</td>\n",
       "      <td>5.0</td>\n",
       "      <td>0.0</td>\n",
       "      <td>UNKNOWN</td>\n",
       "      <td>In-store</td>\n",
       "      <td>2023-05-18</td>\n",
       "    </tr>\n",
       "    <tr>\n",
       "      <th>278</th>\n",
       "      <td>TXN_3229409</td>\n",
       "      <td>Juice</td>\n",
       "      <td>0</td>\n",
       "      <td>3.0</td>\n",
       "      <td>0.0</td>\n",
       "      <td>Cash</td>\n",
       "      <td>Takeaway</td>\n",
       "      <td>2023-04-15</td>\n",
       "    </tr>\n",
       "    <tr>\n",
       "      <th>641</th>\n",
       "      <td>TXN_2962976</td>\n",
       "      <td>Juice</td>\n",
       "      <td>0</td>\n",
       "      <td>3.0</td>\n",
       "      <td>0.0</td>\n",
       "      <td>UNKNOWN</td>\n",
       "      <td>UNKNOWN</td>\n",
       "      <td>2023-03-17</td>\n",
       "    </tr>\n",
       "    <tr>\n",
       "      <th>738</th>\n",
       "      <td>TXN_8696094</td>\n",
       "      <td>Sandwich</td>\n",
       "      <td>0</td>\n",
       "      <td>4.0</td>\n",
       "      <td>0.0</td>\n",
       "      <td>UNKNOWN</td>\n",
       "      <td>Takeaway</td>\n",
       "      <td>2023-05-14</td>\n",
       "    </tr>\n",
       "    <tr>\n",
       "      <th>1761</th>\n",
       "      <td>TXN_3611851</td>\n",
       "      <td>Unknown Item</td>\n",
       "      <td>4</td>\n",
       "      <td>0.0</td>\n",
       "      <td>0.0</td>\n",
       "      <td>Credit Card</td>\n",
       "      <td>UNKNOWN</td>\n",
       "      <td>2023-02-09</td>\n",
       "    </tr>\n",
       "    <tr>\n",
       "      <th>2229</th>\n",
       "      <td>TXN_8498613</td>\n",
       "      <td>Sandwich</td>\n",
       "      <td>2</td>\n",
       "      <td>4.0</td>\n",
       "      <td>0.0</td>\n",
       "      <td>UNKNOWN</td>\n",
       "      <td>UNKNOWN</td>\n",
       "      <td>2023-11-08</td>\n",
       "    </tr>\n",
       "    <tr>\n",
       "      <th>2289</th>\n",
       "      <td>TXN_7524977</td>\n",
       "      <td>Unknown Item</td>\n",
       "      <td>4</td>\n",
       "      <td>0.0</td>\n",
       "      <td>0.0</td>\n",
       "      <td>ERROR</td>\n",
       "      <td>UNKNOWN</td>\n",
       "      <td>2023-12-09</td>\n",
       "    </tr>\n",
       "    <tr>\n",
       "      <th>2585</th>\n",
       "      <td>TXN_1259340</td>\n",
       "      <td>Tea</td>\n",
       "      <td>3</td>\n",
       "      <td>1.5</td>\n",
       "      <td>0.0</td>\n",
       "      <td>Digital Wallet</td>\n",
       "      <td>UNKNOWN</td>\n",
       "      <td>2023-02-24</td>\n",
       "    </tr>\n",
       "    <tr>\n",
       "      <th>2796</th>\n",
       "      <td>TXN_9188692</td>\n",
       "      <td>Cake</td>\n",
       "      <td>0</td>\n",
       "      <td>3.0</td>\n",
       "      <td>0.0</td>\n",
       "      <td>Credit Card</td>\n",
       "      <td>UNKNOWN</td>\n",
       "      <td>2023-12-01</td>\n",
       "    </tr>\n",
       "    <tr>\n",
       "      <th>3203</th>\n",
       "      <td>TXN_4565754</td>\n",
       "      <td>Smoothie</td>\n",
       "      <td>0</td>\n",
       "      <td>4.0</td>\n",
       "      <td>0.0</td>\n",
       "      <td>Digital Wallet</td>\n",
       "      <td>Takeaway</td>\n",
       "      <td>2023-10-06</td>\n",
       "    </tr>\n",
       "    <tr>\n",
       "      <th>3224</th>\n",
       "      <td>TXN_6297232</td>\n",
       "      <td>Coffee</td>\n",
       "      <td>0</td>\n",
       "      <td>2.0</td>\n",
       "      <td>0.0</td>\n",
       "      <td>UNKNOWN</td>\n",
       "      <td>UNKNOWN</td>\n",
       "      <td>2023-04-07</td>\n",
       "    </tr>\n",
       "    <tr>\n",
       "      <th>3401</th>\n",
       "      <td>TXN_3251829</td>\n",
       "      <td>Tea</td>\n",
       "      <td>0</td>\n",
       "      <td>1.5</td>\n",
       "      <td>0.0</td>\n",
       "      <td>Digital Wallet</td>\n",
       "      <td>In-store</td>\n",
       "      <td>2023-07-25</td>\n",
       "    </tr>\n",
       "    <tr>\n",
       "      <th>3598</th>\n",
       "      <td>TXN_2857444</td>\n",
       "      <td>Smoothie</td>\n",
       "      <td>1</td>\n",
       "      <td>4.0</td>\n",
       "      <td>0.0</td>\n",
       "      <td>Cash</td>\n",
       "      <td>Takeaway</td>\n",
       "      <td>2023-05-10</td>\n",
       "    </tr>\n",
       "    <tr>\n",
       "      <th>3673</th>\n",
       "      <td>TXN_6500126</td>\n",
       "      <td>Smoothie</td>\n",
       "      <td>2</td>\n",
       "      <td>4.0</td>\n",
       "      <td>0.0</td>\n",
       "      <td>UNKNOWN</td>\n",
       "      <td>UNKNOWN</td>\n",
       "      <td>1900-01-01</td>\n",
       "    </tr>\n",
       "    <tr>\n",
       "      <th>4021</th>\n",
       "      <td>TXN_6424202</td>\n",
       "      <td>Cookie</td>\n",
       "      <td>2</td>\n",
       "      <td>1.0</td>\n",
       "      <td>0.0</td>\n",
       "      <td>Credit Card</td>\n",
       "      <td>In-store</td>\n",
       "      <td>2023-11-20</td>\n",
       "    </tr>\n",
       "    <tr>\n",
       "      <th>4152</th>\n",
       "      <td>TXN_9646000</td>\n",
       "      <td>Unknown Item</td>\n",
       "      <td>2</td>\n",
       "      <td>0.0</td>\n",
       "      <td>0.0</td>\n",
       "      <td>UNKNOWN</td>\n",
       "      <td>In-store</td>\n",
       "      <td>2023-12-14</td>\n",
       "    </tr>\n",
       "    <tr>\n",
       "      <th>4257</th>\n",
       "      <td>TXN_6470865</td>\n",
       "      <td>Coffee</td>\n",
       "      <td>0</td>\n",
       "      <td>2.0</td>\n",
       "      <td>0.0</td>\n",
       "      <td>Digital Wallet</td>\n",
       "      <td>Takeaway</td>\n",
       "      <td>2023-09-18</td>\n",
       "    </tr>\n",
       "    <tr>\n",
       "      <th>5841</th>\n",
       "      <td>TXN_5884081</td>\n",
       "      <td>Cookie</td>\n",
       "      <td>0</td>\n",
       "      <td>1.0</td>\n",
       "      <td>0.0</td>\n",
       "      <td>Digital Wallet</td>\n",
       "      <td>In-store</td>\n",
       "      <td>2023-07-05</td>\n",
       "    </tr>\n",
       "    <tr>\n",
       "      <th>7029</th>\n",
       "      <td>TXN_4628338</td>\n",
       "      <td>Coffee</td>\n",
       "      <td>0</td>\n",
       "      <td>2.0</td>\n",
       "      <td>0.0</td>\n",
       "      <td>Cash</td>\n",
       "      <td>UNKNOWN</td>\n",
       "      <td>2023-12-25</td>\n",
       "    </tr>\n",
       "    <tr>\n",
       "      <th>7230</th>\n",
       "      <td>TXN_5118799</td>\n",
       "      <td>Cookie</td>\n",
       "      <td>2</td>\n",
       "      <td>1.0</td>\n",
       "      <td>0.0</td>\n",
       "      <td>Cash</td>\n",
       "      <td>Takeaway</td>\n",
       "      <td>2023-04-23</td>\n",
       "    </tr>\n",
       "    <tr>\n",
       "      <th>7244</th>\n",
       "      <td>TXN_2253622</td>\n",
       "      <td>Sandwich</td>\n",
       "      <td>5</td>\n",
       "      <td>4.0</td>\n",
       "      <td>0.0</td>\n",
       "      <td>Digital Wallet</td>\n",
       "      <td>Takeaway</td>\n",
       "      <td>2023-09-30</td>\n",
       "    </tr>\n",
       "    <tr>\n",
       "      <th>7297</th>\n",
       "      <td>TXN_9944500</td>\n",
       "      <td>Smoothie</td>\n",
       "      <td>0</td>\n",
       "      <td>4.0</td>\n",
       "      <td>0.0</td>\n",
       "      <td>Cash</td>\n",
       "      <td>In-store</td>\n",
       "      <td>2023-01-03</td>\n",
       "    </tr>\n",
       "    <tr>\n",
       "      <th>7568</th>\n",
       "      <td>TXN_3705445</td>\n",
       "      <td>Cookie</td>\n",
       "      <td>5</td>\n",
       "      <td>1.0</td>\n",
       "      <td>0.0</td>\n",
       "      <td>Cash</td>\n",
       "      <td>In-store</td>\n",
       "      <td>2023-09-13</td>\n",
       "    </tr>\n",
       "    <tr>\n",
       "      <th>7686</th>\n",
       "      <td>TXN_6905143</td>\n",
       "      <td>Coffee</td>\n",
       "      <td>5</td>\n",
       "      <td>2.0</td>\n",
       "      <td>0.0</td>\n",
       "      <td>Cash</td>\n",
       "      <td>ERROR</td>\n",
       "      <td>2023-08-09</td>\n",
       "    </tr>\n",
       "    <tr>\n",
       "      <th>8021</th>\n",
       "      <td>TXN_2428781</td>\n",
       "      <td>Salad</td>\n",
       "      <td>0</td>\n",
       "      <td>5.0</td>\n",
       "      <td>0.0</td>\n",
       "      <td>UNKNOWN</td>\n",
       "      <td>In-store</td>\n",
       "      <td>2023-05-09</td>\n",
       "    </tr>\n",
       "    <tr>\n",
       "      <th>8128</th>\n",
       "      <td>TXN_6105807</td>\n",
       "      <td>Smoothie</td>\n",
       "      <td>3</td>\n",
       "      <td>4.0</td>\n",
       "      <td>0.0</td>\n",
       "      <td>Credit Card</td>\n",
       "      <td>Takeaway</td>\n",
       "      <td>2023-01-18</td>\n",
       "    </tr>\n",
       "    <tr>\n",
       "      <th>8443</th>\n",
       "      <td>TXN_2023651</td>\n",
       "      <td>Sandwich</td>\n",
       "      <td>0</td>\n",
       "      <td>4.0</td>\n",
       "      <td>0.0</td>\n",
       "      <td>Cash</td>\n",
       "      <td>In-store</td>\n",
       "      <td>2023-05-25</td>\n",
       "    </tr>\n",
       "    <tr>\n",
       "      <th>8465</th>\n",
       "      <td>TXN_9669616</td>\n",
       "      <td>Coffee</td>\n",
       "      <td>0</td>\n",
       "      <td>2.0</td>\n",
       "      <td>0.0</td>\n",
       "      <td>UNKNOWN</td>\n",
       "      <td>ERROR</td>\n",
       "      <td>2023-06-03</td>\n",
       "    </tr>\n",
       "    <tr>\n",
       "      <th>8479</th>\n",
       "      <td>TXN_1547245</td>\n",
       "      <td>Sandwich</td>\n",
       "      <td>0</td>\n",
       "      <td>4.0</td>\n",
       "      <td>0.0</td>\n",
       "      <td>UNKNOWN</td>\n",
       "      <td>Takeaway</td>\n",
       "      <td>2023-09-11</td>\n",
       "    </tr>\n",
       "    <tr>\n",
       "      <th>8497</th>\n",
       "      <td>TXN_1525583</td>\n",
       "      <td>Sandwich</td>\n",
       "      <td>3</td>\n",
       "      <td>4.0</td>\n",
       "      <td>0.0</td>\n",
       "      <td>Cash</td>\n",
       "      <td>Takeaway</td>\n",
       "      <td>2023-05-20</td>\n",
       "    </tr>\n",
       "    <tr>\n",
       "      <th>8574</th>\n",
       "      <td>TXN_2546684</td>\n",
       "      <td>Juice</td>\n",
       "      <td>0</td>\n",
       "      <td>3.0</td>\n",
       "      <td>0.0</td>\n",
       "      <td>Digital Wallet</td>\n",
       "      <td>Takeaway</td>\n",
       "      <td>2023-04-08</td>\n",
       "    </tr>\n",
       "    <tr>\n",
       "      <th>8732</th>\n",
       "      <td>TXN_4550558</td>\n",
       "      <td>Cookie</td>\n",
       "      <td>0</td>\n",
       "      <td>1.0</td>\n",
       "      <td>0.0</td>\n",
       "      <td>Credit Card</td>\n",
       "      <td>In-store</td>\n",
       "      <td>2023-08-04</td>\n",
       "    </tr>\n",
       "    <tr>\n",
       "      <th>9212</th>\n",
       "      <td>TXN_7322317</td>\n",
       "      <td>Tea</td>\n",
       "      <td>1</td>\n",
       "      <td>1.5</td>\n",
       "      <td>0.0</td>\n",
       "      <td>UNKNOWN</td>\n",
       "      <td>UNKNOWN</td>\n",
       "      <td>2023-03-16</td>\n",
       "    </tr>\n",
       "    <tr>\n",
       "      <th>9590</th>\n",
       "      <td>TXN_9924732</td>\n",
       "      <td>Sandwich</td>\n",
       "      <td>0</td>\n",
       "      <td>4.0</td>\n",
       "      <td>0.0</td>\n",
       "      <td>Credit Card</td>\n",
       "      <td>In-store</td>\n",
       "      <td>2023-01-18</td>\n",
       "    </tr>\n",
       "    <tr>\n",
       "      <th>9869</th>\n",
       "      <td>TXN_1975184</td>\n",
       "      <td>Coffee</td>\n",
       "      <td>0</td>\n",
       "      <td>2.0</td>\n",
       "      <td>0.0</td>\n",
       "      <td>Digital Wallet</td>\n",
       "      <td>UNKNOWN</td>\n",
       "      <td>2023-01-15</td>\n",
       "    </tr>\n",
       "  </tbody>\n",
       "</table>\n",
       "</div>"
      ],
      "text/plain": [
       "     Transaction ID          Item  Quantity  Price Per Unit  Total Spent  \\\n",
       "236     TXN_8562645         Salad         0             5.0          0.0   \n",
       "278     TXN_3229409         Juice         0             3.0          0.0   \n",
       "641     TXN_2962976         Juice         0             3.0          0.0   \n",
       "738     TXN_8696094      Sandwich         0             4.0          0.0   \n",
       "1761    TXN_3611851  Unknown Item         4             0.0          0.0   \n",
       "2229    TXN_8498613      Sandwich         2             4.0          0.0   \n",
       "2289    TXN_7524977  Unknown Item         4             0.0          0.0   \n",
       "2585    TXN_1259340           Tea         3             1.5          0.0   \n",
       "2796    TXN_9188692          Cake         0             3.0          0.0   \n",
       "3203    TXN_4565754      Smoothie         0             4.0          0.0   \n",
       "3224    TXN_6297232        Coffee         0             2.0          0.0   \n",
       "3401    TXN_3251829           Tea         0             1.5          0.0   \n",
       "3598    TXN_2857444      Smoothie         1             4.0          0.0   \n",
       "3673    TXN_6500126      Smoothie         2             4.0          0.0   \n",
       "4021    TXN_6424202        Cookie         2             1.0          0.0   \n",
       "4152    TXN_9646000  Unknown Item         2             0.0          0.0   \n",
       "4257    TXN_6470865        Coffee         0             2.0          0.0   \n",
       "5841    TXN_5884081        Cookie         0             1.0          0.0   \n",
       "7029    TXN_4628338        Coffee         0             2.0          0.0   \n",
       "7230    TXN_5118799        Cookie         2             1.0          0.0   \n",
       "7244    TXN_2253622      Sandwich         5             4.0          0.0   \n",
       "7297    TXN_9944500      Smoothie         0             4.0          0.0   \n",
       "7568    TXN_3705445        Cookie         5             1.0          0.0   \n",
       "7686    TXN_6905143        Coffee         5             2.0          0.0   \n",
       "8021    TXN_2428781         Salad         0             5.0          0.0   \n",
       "8128    TXN_6105807      Smoothie         3             4.0          0.0   \n",
       "8443    TXN_2023651      Sandwich         0             4.0          0.0   \n",
       "8465    TXN_9669616        Coffee         0             2.0          0.0   \n",
       "8479    TXN_1547245      Sandwich         0             4.0          0.0   \n",
       "8497    TXN_1525583      Sandwich         3             4.0          0.0   \n",
       "8574    TXN_2546684         Juice         0             3.0          0.0   \n",
       "8732    TXN_4550558        Cookie         0             1.0          0.0   \n",
       "9212    TXN_7322317           Tea         1             1.5          0.0   \n",
       "9590    TXN_9924732      Sandwich         0             4.0          0.0   \n",
       "9869    TXN_1975184        Coffee         0             2.0          0.0   \n",
       "\n",
       "      Payment Method  Location Transaction Date  \n",
       "236          UNKNOWN  In-store       2023-05-18  \n",
       "278             Cash  Takeaway       2023-04-15  \n",
       "641          UNKNOWN   UNKNOWN       2023-03-17  \n",
       "738          UNKNOWN  Takeaway       2023-05-14  \n",
       "1761     Credit Card   UNKNOWN       2023-02-09  \n",
       "2229         UNKNOWN   UNKNOWN       2023-11-08  \n",
       "2289           ERROR   UNKNOWN       2023-12-09  \n",
       "2585  Digital Wallet   UNKNOWN       2023-02-24  \n",
       "2796     Credit Card   UNKNOWN       2023-12-01  \n",
       "3203  Digital Wallet  Takeaway       2023-10-06  \n",
       "3224         UNKNOWN   UNKNOWN       2023-04-07  \n",
       "3401  Digital Wallet  In-store       2023-07-25  \n",
       "3598            Cash  Takeaway       2023-05-10  \n",
       "3673         UNKNOWN   UNKNOWN       1900-01-01  \n",
       "4021     Credit Card  In-store       2023-11-20  \n",
       "4152         UNKNOWN  In-store       2023-12-14  \n",
       "4257  Digital Wallet  Takeaway       2023-09-18  \n",
       "5841  Digital Wallet  In-store       2023-07-05  \n",
       "7029            Cash   UNKNOWN       2023-12-25  \n",
       "7230            Cash  Takeaway       2023-04-23  \n",
       "7244  Digital Wallet  Takeaway       2023-09-30  \n",
       "7297            Cash  In-store       2023-01-03  \n",
       "7568            Cash  In-store       2023-09-13  \n",
       "7686            Cash     ERROR       2023-08-09  \n",
       "8021         UNKNOWN  In-store       2023-05-09  \n",
       "8128     Credit Card  Takeaway       2023-01-18  \n",
       "8443            Cash  In-store       2023-05-25  \n",
       "8465         UNKNOWN     ERROR       2023-06-03  \n",
       "8479         UNKNOWN  Takeaway       2023-09-11  \n",
       "8497            Cash  Takeaway       2023-05-20  \n",
       "8574  Digital Wallet  Takeaway       2023-04-08  \n",
       "8732     Credit Card  In-store       2023-08-04  \n",
       "9212         UNKNOWN   UNKNOWN       2023-03-16  \n",
       "9590     Credit Card  In-store       2023-01-18  \n",
       "9869  Digital Wallet   UNKNOWN       2023-01-15  "
      ]
     },
     "execution_count": 216,
     "metadata": {},
     "output_type": "execute_result"
    }
   ],
   "source": [
    "df[df['Total Spent']==0]"
   ]
  },
  {
   "cell_type": "code",
   "execution_count": 217,
   "id": "9be04321-0650-4e05-8f98-998a2cc6369c",
   "metadata": {},
   "outputs": [],
   "source": [
    "df['Total Spent']=np.where(\n",
    "    (df[\"Total Spent\"]==0) & \n",
    "    (df[\"Price Per Unit\"]!=0) & \n",
    "    (df[\"Quantity\"]!=0),\n",
    "    df[\"Price Per Unit\"]*df[\"Quantity\"],\n",
    "    df[\"Total Spent\"])\n"
   ]
  },
  {
   "cell_type": "markdown",
   "id": "43d543f6-e7ea-42b2-b1b2-3e9adb9f684c",
   "metadata": {},
   "source": [
    "### The `Quantity` can be recalculated now with the new `Price Per Unit` and `Total Spent`"
   ]
  },
  {
   "cell_type": "code",
   "execution_count": 218,
   "id": "bee7e67e-eab5-432c-a34a-0f49e80278b8",
   "metadata": {},
   "outputs": [
    {
     "data": {
      "text/html": [
       "<div>\n",
       "<style scoped>\n",
       "    .dataframe tbody tr th:only-of-type {\n",
       "        vertical-align: middle;\n",
       "    }\n",
       "\n",
       "    .dataframe tbody tr th {\n",
       "        vertical-align: top;\n",
       "    }\n",
       "\n",
       "    .dataframe thead th {\n",
       "        text-align: right;\n",
       "    }\n",
       "</style>\n",
       "<table border=\"1\" class=\"dataframe\">\n",
       "  <thead>\n",
       "    <tr style=\"text-align: right;\">\n",
       "      <th></th>\n",
       "      <th>Transaction ID</th>\n",
       "      <th>Item</th>\n",
       "      <th>Quantity</th>\n",
       "      <th>Price Per Unit</th>\n",
       "      <th>Total Spent</th>\n",
       "      <th>Payment Method</th>\n",
       "      <th>Location</th>\n",
       "      <th>Transaction Date</th>\n",
       "    </tr>\n",
       "  </thead>\n",
       "  <tbody>\n",
       "    <tr>\n",
       "      <th>236</th>\n",
       "      <td>TXN_8562645</td>\n",
       "      <td>Salad</td>\n",
       "      <td>0</td>\n",
       "      <td>5.0</td>\n",
       "      <td>0.0</td>\n",
       "      <td>UNKNOWN</td>\n",
       "      <td>In-store</td>\n",
       "      <td>2023-05-18</td>\n",
       "    </tr>\n",
       "    <tr>\n",
       "      <th>278</th>\n",
       "      <td>TXN_3229409</td>\n",
       "      <td>Juice</td>\n",
       "      <td>0</td>\n",
       "      <td>3.0</td>\n",
       "      <td>0.0</td>\n",
       "      <td>Cash</td>\n",
       "      <td>Takeaway</td>\n",
       "      <td>2023-04-15</td>\n",
       "    </tr>\n",
       "    <tr>\n",
       "      <th>641</th>\n",
       "      <td>TXN_2962976</td>\n",
       "      <td>Juice</td>\n",
       "      <td>0</td>\n",
       "      <td>3.0</td>\n",
       "      <td>0.0</td>\n",
       "      <td>UNKNOWN</td>\n",
       "      <td>UNKNOWN</td>\n",
       "      <td>2023-03-17</td>\n",
       "    </tr>\n",
       "    <tr>\n",
       "      <th>738</th>\n",
       "      <td>TXN_8696094</td>\n",
       "      <td>Sandwich</td>\n",
       "      <td>0</td>\n",
       "      <td>4.0</td>\n",
       "      <td>0.0</td>\n",
       "      <td>UNKNOWN</td>\n",
       "      <td>Takeaway</td>\n",
       "      <td>2023-05-14</td>\n",
       "    </tr>\n",
       "    <tr>\n",
       "      <th>1436</th>\n",
       "      <td>TXN_7590801</td>\n",
       "      <td>Tea</td>\n",
       "      <td>0</td>\n",
       "      <td>1.5</td>\n",
       "      <td>6.0</td>\n",
       "      <td>Cash</td>\n",
       "      <td>Takeaway</td>\n",
       "      <td>1900-01-01</td>\n",
       "    </tr>\n",
       "    <tr>\n",
       "      <th>2330</th>\n",
       "      <td>TXN_3849488</td>\n",
       "      <td>Salad</td>\n",
       "      <td>0</td>\n",
       "      <td>5.0</td>\n",
       "      <td>5.0</td>\n",
       "      <td>UNKNOWN</td>\n",
       "      <td>In-store</td>\n",
       "      <td>2023-03-01</td>\n",
       "    </tr>\n",
       "    <tr>\n",
       "      <th>2796</th>\n",
       "      <td>TXN_9188692</td>\n",
       "      <td>Cake</td>\n",
       "      <td>0</td>\n",
       "      <td>3.0</td>\n",
       "      <td>0.0</td>\n",
       "      <td>Credit Card</td>\n",
       "      <td>UNKNOWN</td>\n",
       "      <td>2023-12-01</td>\n",
       "    </tr>\n",
       "    <tr>\n",
       "      <th>3203</th>\n",
       "      <td>TXN_4565754</td>\n",
       "      <td>Smoothie</td>\n",
       "      <td>0</td>\n",
       "      <td>4.0</td>\n",
       "      <td>0.0</td>\n",
       "      <td>Digital Wallet</td>\n",
       "      <td>Takeaway</td>\n",
       "      <td>2023-10-06</td>\n",
       "    </tr>\n",
       "    <tr>\n",
       "      <th>3224</th>\n",
       "      <td>TXN_6297232</td>\n",
       "      <td>Coffee</td>\n",
       "      <td>0</td>\n",
       "      <td>2.0</td>\n",
       "      <td>0.0</td>\n",
       "      <td>UNKNOWN</td>\n",
       "      <td>UNKNOWN</td>\n",
       "      <td>2023-04-07</td>\n",
       "    </tr>\n",
       "    <tr>\n",
       "      <th>3401</th>\n",
       "      <td>TXN_3251829</td>\n",
       "      <td>Tea</td>\n",
       "      <td>0</td>\n",
       "      <td>1.5</td>\n",
       "      <td>0.0</td>\n",
       "      <td>Digital Wallet</td>\n",
       "      <td>In-store</td>\n",
       "      <td>2023-07-25</td>\n",
       "    </tr>\n",
       "    <tr>\n",
       "      <th>3635</th>\n",
       "      <td>TXN_6177081</td>\n",
       "      <td>Cookie</td>\n",
       "      <td>0</td>\n",
       "      <td>1.0</td>\n",
       "      <td>1.0</td>\n",
       "      <td>Cash</td>\n",
       "      <td>ERROR</td>\n",
       "      <td>2023-07-26</td>\n",
       "    </tr>\n",
       "    <tr>\n",
       "      <th>3779</th>\n",
       "      <td>TXN_7376255</td>\n",
       "      <td>Unknown Item</td>\n",
       "      <td>0</td>\n",
       "      <td>0.0</td>\n",
       "      <td>25.0</td>\n",
       "      <td>UNKNOWN</td>\n",
       "      <td>In-store</td>\n",
       "      <td>2023-05-27</td>\n",
       "    </tr>\n",
       "    <tr>\n",
       "      <th>4257</th>\n",
       "      <td>TXN_6470865</td>\n",
       "      <td>Coffee</td>\n",
       "      <td>0</td>\n",
       "      <td>2.0</td>\n",
       "      <td>0.0</td>\n",
       "      <td>Digital Wallet</td>\n",
       "      <td>Takeaway</td>\n",
       "      <td>2023-09-18</td>\n",
       "    </tr>\n",
       "    <tr>\n",
       "      <th>5639</th>\n",
       "      <td>TXN_6206792</td>\n",
       "      <td>Tea</td>\n",
       "      <td>0</td>\n",
       "      <td>1.5</td>\n",
       "      <td>6.0</td>\n",
       "      <td>Credit Card</td>\n",
       "      <td>UNKNOWN</td>\n",
       "      <td>2023-10-13</td>\n",
       "    </tr>\n",
       "    <tr>\n",
       "      <th>5841</th>\n",
       "      <td>TXN_5884081</td>\n",
       "      <td>Cookie</td>\n",
       "      <td>0</td>\n",
       "      <td>1.0</td>\n",
       "      <td>0.0</td>\n",
       "      <td>Digital Wallet</td>\n",
       "      <td>In-store</td>\n",
       "      <td>2023-07-05</td>\n",
       "    </tr>\n",
       "    <tr>\n",
       "      <th>5845</th>\n",
       "      <td>TXN_8388462</td>\n",
       "      <td>Smoothie</td>\n",
       "      <td>0</td>\n",
       "      <td>4.0</td>\n",
       "      <td>8.0</td>\n",
       "      <td>UNKNOWN</td>\n",
       "      <td>Takeaway</td>\n",
       "      <td>2023-08-19</td>\n",
       "    </tr>\n",
       "    <tr>\n",
       "      <th>6661</th>\n",
       "      <td>TXN_5308047</td>\n",
       "      <td>Cookie</td>\n",
       "      <td>0</td>\n",
       "      <td>1.0</td>\n",
       "      <td>1.0</td>\n",
       "      <td>Credit Card</td>\n",
       "      <td>UNKNOWN</td>\n",
       "      <td>2023-10-28</td>\n",
       "    </tr>\n",
       "    <tr>\n",
       "      <th>6674</th>\n",
       "      <td>TXN_3071092</td>\n",
       "      <td>Coffee</td>\n",
       "      <td>0</td>\n",
       "      <td>2.0</td>\n",
       "      <td>4.0</td>\n",
       "      <td>ERROR</td>\n",
       "      <td>UNKNOWN</td>\n",
       "      <td>2023-09-08</td>\n",
       "    </tr>\n",
       "    <tr>\n",
       "      <th>7029</th>\n",
       "      <td>TXN_4628338</td>\n",
       "      <td>Coffee</td>\n",
       "      <td>0</td>\n",
       "      <td>2.0</td>\n",
       "      <td>0.0</td>\n",
       "      <td>Cash</td>\n",
       "      <td>UNKNOWN</td>\n",
       "      <td>2023-12-25</td>\n",
       "    </tr>\n",
       "    <tr>\n",
       "      <th>7297</th>\n",
       "      <td>TXN_9944500</td>\n",
       "      <td>Smoothie</td>\n",
       "      <td>0</td>\n",
       "      <td>4.0</td>\n",
       "      <td>0.0</td>\n",
       "      <td>Cash</td>\n",
       "      <td>In-store</td>\n",
       "      <td>2023-01-03</td>\n",
       "    </tr>\n",
       "    <tr>\n",
       "      <th>8021</th>\n",
       "      <td>TXN_2428781</td>\n",
       "      <td>Salad</td>\n",
       "      <td>0</td>\n",
       "      <td>5.0</td>\n",
       "      <td>0.0</td>\n",
       "      <td>UNKNOWN</td>\n",
       "      <td>In-store</td>\n",
       "      <td>2023-05-09</td>\n",
       "    </tr>\n",
       "    <tr>\n",
       "      <th>8443</th>\n",
       "      <td>TXN_2023651</td>\n",
       "      <td>Sandwich</td>\n",
       "      <td>0</td>\n",
       "      <td>4.0</td>\n",
       "      <td>0.0</td>\n",
       "      <td>Cash</td>\n",
       "      <td>In-store</td>\n",
       "      <td>2023-05-25</td>\n",
       "    </tr>\n",
       "    <tr>\n",
       "      <th>8465</th>\n",
       "      <td>TXN_9669616</td>\n",
       "      <td>Coffee</td>\n",
       "      <td>0</td>\n",
       "      <td>2.0</td>\n",
       "      <td>0.0</td>\n",
       "      <td>UNKNOWN</td>\n",
       "      <td>ERROR</td>\n",
       "      <td>2023-06-03</td>\n",
       "    </tr>\n",
       "    <tr>\n",
       "      <th>8479</th>\n",
       "      <td>TXN_1547245</td>\n",
       "      <td>Sandwich</td>\n",
       "      <td>0</td>\n",
       "      <td>4.0</td>\n",
       "      <td>0.0</td>\n",
       "      <td>UNKNOWN</td>\n",
       "      <td>Takeaway</td>\n",
       "      <td>2023-09-11</td>\n",
       "    </tr>\n",
       "    <tr>\n",
       "      <th>8574</th>\n",
       "      <td>TXN_2546684</td>\n",
       "      <td>Juice</td>\n",
       "      <td>0</td>\n",
       "      <td>3.0</td>\n",
       "      <td>0.0</td>\n",
       "      <td>Digital Wallet</td>\n",
       "      <td>Takeaway</td>\n",
       "      <td>2023-04-08</td>\n",
       "    </tr>\n",
       "    <tr>\n",
       "      <th>8669</th>\n",
       "      <td>TXN_7764304</td>\n",
       "      <td>Cake</td>\n",
       "      <td>0</td>\n",
       "      <td>3.0</td>\n",
       "      <td>3.0</td>\n",
       "      <td>Credit Card</td>\n",
       "      <td>Takeaway</td>\n",
       "      <td>2023-01-09</td>\n",
       "    </tr>\n",
       "    <tr>\n",
       "      <th>8732</th>\n",
       "      <td>TXN_4550558</td>\n",
       "      <td>Cookie</td>\n",
       "      <td>0</td>\n",
       "      <td>1.0</td>\n",
       "      <td>0.0</td>\n",
       "      <td>Credit Card</td>\n",
       "      <td>In-store</td>\n",
       "      <td>2023-08-04</td>\n",
       "    </tr>\n",
       "    <tr>\n",
       "      <th>8975</th>\n",
       "      <td>TXN_8077367</td>\n",
       "      <td>Tea</td>\n",
       "      <td>0</td>\n",
       "      <td>1.5</td>\n",
       "      <td>7.5</td>\n",
       "      <td>Credit Card</td>\n",
       "      <td>UNKNOWN</td>\n",
       "      <td>2023-02-27</td>\n",
       "    </tr>\n",
       "    <tr>\n",
       "      <th>9464</th>\n",
       "      <td>TXN_5744797</td>\n",
       "      <td>Cake</td>\n",
       "      <td>0</td>\n",
       "      <td>3.0</td>\n",
       "      <td>3.0</td>\n",
       "      <td>Cash</td>\n",
       "      <td>In-store</td>\n",
       "      <td>2023-12-20</td>\n",
       "    </tr>\n",
       "    <tr>\n",
       "      <th>9590</th>\n",
       "      <td>TXN_9924732</td>\n",
       "      <td>Sandwich</td>\n",
       "      <td>0</td>\n",
       "      <td>4.0</td>\n",
       "      <td>0.0</td>\n",
       "      <td>Credit Card</td>\n",
       "      <td>In-store</td>\n",
       "      <td>2023-01-18</td>\n",
       "    </tr>\n",
       "    <tr>\n",
       "      <th>9869</th>\n",
       "      <td>TXN_1975184</td>\n",
       "      <td>Coffee</td>\n",
       "      <td>0</td>\n",
       "      <td>2.0</td>\n",
       "      <td>0.0</td>\n",
       "      <td>Digital Wallet</td>\n",
       "      <td>UNKNOWN</td>\n",
       "      <td>2023-01-15</td>\n",
       "    </tr>\n",
       "  </tbody>\n",
       "</table>\n",
       "</div>"
      ],
      "text/plain": [
       "     Transaction ID          Item  Quantity  Price Per Unit  Total Spent  \\\n",
       "236     TXN_8562645         Salad         0             5.0          0.0   \n",
       "278     TXN_3229409         Juice         0             3.0          0.0   \n",
       "641     TXN_2962976         Juice         0             3.0          0.0   \n",
       "738     TXN_8696094      Sandwich         0             4.0          0.0   \n",
       "1436    TXN_7590801           Tea         0             1.5          6.0   \n",
       "2330    TXN_3849488         Salad         0             5.0          5.0   \n",
       "2796    TXN_9188692          Cake         0             3.0          0.0   \n",
       "3203    TXN_4565754      Smoothie         0             4.0          0.0   \n",
       "3224    TXN_6297232        Coffee         0             2.0          0.0   \n",
       "3401    TXN_3251829           Tea         0             1.5          0.0   \n",
       "3635    TXN_6177081        Cookie         0             1.0          1.0   \n",
       "3779    TXN_7376255  Unknown Item         0             0.0         25.0   \n",
       "4257    TXN_6470865        Coffee         0             2.0          0.0   \n",
       "5639    TXN_6206792           Tea         0             1.5          6.0   \n",
       "5841    TXN_5884081        Cookie         0             1.0          0.0   \n",
       "5845    TXN_8388462      Smoothie         0             4.0          8.0   \n",
       "6661    TXN_5308047        Cookie         0             1.0          1.0   \n",
       "6674    TXN_3071092        Coffee         0             2.0          4.0   \n",
       "7029    TXN_4628338        Coffee         0             2.0          0.0   \n",
       "7297    TXN_9944500      Smoothie         0             4.0          0.0   \n",
       "8021    TXN_2428781         Salad         0             5.0          0.0   \n",
       "8443    TXN_2023651      Sandwich         0             4.0          0.0   \n",
       "8465    TXN_9669616        Coffee         0             2.0          0.0   \n",
       "8479    TXN_1547245      Sandwich         0             4.0          0.0   \n",
       "8574    TXN_2546684         Juice         0             3.0          0.0   \n",
       "8669    TXN_7764304          Cake         0             3.0          3.0   \n",
       "8732    TXN_4550558        Cookie         0             1.0          0.0   \n",
       "8975    TXN_8077367           Tea         0             1.5          7.5   \n",
       "9464    TXN_5744797          Cake         0             3.0          3.0   \n",
       "9590    TXN_9924732      Sandwich         0             4.0          0.0   \n",
       "9869    TXN_1975184        Coffee         0             2.0          0.0   \n",
       "\n",
       "      Payment Method  Location Transaction Date  \n",
       "236          UNKNOWN  In-store       2023-05-18  \n",
       "278             Cash  Takeaway       2023-04-15  \n",
       "641          UNKNOWN   UNKNOWN       2023-03-17  \n",
       "738          UNKNOWN  Takeaway       2023-05-14  \n",
       "1436            Cash  Takeaway       1900-01-01  \n",
       "2330         UNKNOWN  In-store       2023-03-01  \n",
       "2796     Credit Card   UNKNOWN       2023-12-01  \n",
       "3203  Digital Wallet  Takeaway       2023-10-06  \n",
       "3224         UNKNOWN   UNKNOWN       2023-04-07  \n",
       "3401  Digital Wallet  In-store       2023-07-25  \n",
       "3635            Cash     ERROR       2023-07-26  \n",
       "3779         UNKNOWN  In-store       2023-05-27  \n",
       "4257  Digital Wallet  Takeaway       2023-09-18  \n",
       "5639     Credit Card   UNKNOWN       2023-10-13  \n",
       "5841  Digital Wallet  In-store       2023-07-05  \n",
       "5845         UNKNOWN  Takeaway       2023-08-19  \n",
       "6661     Credit Card   UNKNOWN       2023-10-28  \n",
       "6674           ERROR   UNKNOWN       2023-09-08  \n",
       "7029            Cash   UNKNOWN       2023-12-25  \n",
       "7297            Cash  In-store       2023-01-03  \n",
       "8021         UNKNOWN  In-store       2023-05-09  \n",
       "8443            Cash  In-store       2023-05-25  \n",
       "8465         UNKNOWN     ERROR       2023-06-03  \n",
       "8479         UNKNOWN  Takeaway       2023-09-11  \n",
       "8574  Digital Wallet  Takeaway       2023-04-08  \n",
       "8669     Credit Card  Takeaway       2023-01-09  \n",
       "8732     Credit Card  In-store       2023-08-04  \n",
       "8975     Credit Card   UNKNOWN       2023-02-27  \n",
       "9464            Cash  In-store       2023-12-20  \n",
       "9590     Credit Card  In-store       2023-01-18  \n",
       "9869  Digital Wallet   UNKNOWN       2023-01-15  "
      ]
     },
     "execution_count": 218,
     "metadata": {},
     "output_type": "execute_result"
    }
   ],
   "source": [
    "df[df['Quantity']==0]"
   ]
  },
  {
   "cell_type": "code",
   "execution_count": 219,
   "id": "6e8b0de3-801e-45ef-83ff-97f1904f83af",
   "metadata": {},
   "outputs": [],
   "source": [
    "df['Quantity']=np.where(\n",
    "    (df[\"Quantity\"]==0) & \n",
    "    (df[\"Price Per Unit\"]!=0) & \n",
    "    (df[\"Total Spent\"]!=0),\n",
    "    df[\"Total Spent\"]/df[\"Price Per Unit\"],\n",
    "    df[\"Quantity\"])"
   ]
  },
  {
   "cell_type": "code",
   "execution_count": 220,
   "id": "7abe13ef-ff8b-4600-810b-0482cde538e6",
   "metadata": {},
   "outputs": [],
   "source": [
    "df[\"Quantity\"]=df[\"Quantity\"].astype(\"int8\")"
   ]
  },
  {
   "cell_type": "code",
   "execution_count": 221,
   "id": "46f5fc8f-a209-4979-8407-adeee45d6471",
   "metadata": {},
   "outputs": [
    {
     "data": {
      "text/html": [
       "<div>\n",
       "<style scoped>\n",
       "    .dataframe tbody tr th:only-of-type {\n",
       "        vertical-align: middle;\n",
       "    }\n",
       "\n",
       "    .dataframe tbody tr th {\n",
       "        vertical-align: top;\n",
       "    }\n",
       "\n",
       "    .dataframe thead th {\n",
       "        text-align: right;\n",
       "    }\n",
       "</style>\n",
       "<table border=\"1\" class=\"dataframe\">\n",
       "  <thead>\n",
       "    <tr style=\"text-align: right;\">\n",
       "      <th></th>\n",
       "      <th>Transaction ID</th>\n",
       "      <th>Item</th>\n",
       "      <th>Quantity</th>\n",
       "      <th>Price Per Unit</th>\n",
       "      <th>Total Spent</th>\n",
       "      <th>Payment Method</th>\n",
       "      <th>Location</th>\n",
       "      <th>Transaction Date</th>\n",
       "    </tr>\n",
       "  </thead>\n",
       "  <tbody>\n",
       "    <tr>\n",
       "      <th>0</th>\n",
       "      <td>TXN_1961373</td>\n",
       "      <td>Coffee</td>\n",
       "      <td>2</td>\n",
       "      <td>2.000000</td>\n",
       "      <td>4.0</td>\n",
       "      <td>Credit Card</td>\n",
       "      <td>Takeaway</td>\n",
       "      <td>2023-09-08</td>\n",
       "    </tr>\n",
       "    <tr>\n",
       "      <th>1</th>\n",
       "      <td>TXN_4977031</td>\n",
       "      <td>Cake</td>\n",
       "      <td>4</td>\n",
       "      <td>3.000000</td>\n",
       "      <td>12.0</td>\n",
       "      <td>Cash</td>\n",
       "      <td>In-store</td>\n",
       "      <td>2023-05-16</td>\n",
       "    </tr>\n",
       "    <tr>\n",
       "      <th>2</th>\n",
       "      <td>TXN_4271903</td>\n",
       "      <td>Cookie</td>\n",
       "      <td>4</td>\n",
       "      <td>1.000000</td>\n",
       "      <td>4.0</td>\n",
       "      <td>Credit Card</td>\n",
       "      <td>In-store</td>\n",
       "      <td>2023-07-19</td>\n",
       "    </tr>\n",
       "    <tr>\n",
       "      <th>3</th>\n",
       "      <td>TXN_7034554</td>\n",
       "      <td>Salad</td>\n",
       "      <td>2</td>\n",
       "      <td>5.000000</td>\n",
       "      <td>10.0</td>\n",
       "      <td>UNKNOWN</td>\n",
       "      <td>UNKNOWN</td>\n",
       "      <td>2023-04-27</td>\n",
       "    </tr>\n",
       "    <tr>\n",
       "      <th>4</th>\n",
       "      <td>TXN_3160411</td>\n",
       "      <td>Coffee</td>\n",
       "      <td>2</td>\n",
       "      <td>2.000000</td>\n",
       "      <td>4.0</td>\n",
       "      <td>Digital Wallet</td>\n",
       "      <td>In-store</td>\n",
       "      <td>2023-06-11</td>\n",
       "    </tr>\n",
       "    <tr>\n",
       "      <th>...</th>\n",
       "      <td>...</td>\n",
       "      <td>...</td>\n",
       "      <td>...</td>\n",
       "      <td>...</td>\n",
       "      <td>...</td>\n",
       "      <td>...</td>\n",
       "      <td>...</td>\n",
       "      <td>...</td>\n",
       "    </tr>\n",
       "    <tr>\n",
       "      <th>9995</th>\n",
       "      <td>TXN_7672686</td>\n",
       "      <td>Coffee</td>\n",
       "      <td>2</td>\n",
       "      <td>2.000000</td>\n",
       "      <td>4.0</td>\n",
       "      <td>UNKNOWN</td>\n",
       "      <td>UNKNOWN</td>\n",
       "      <td>2023-08-30</td>\n",
       "    </tr>\n",
       "    <tr>\n",
       "      <th>9996</th>\n",
       "      <td>TXN_9659401</td>\n",
       "      <td>Unknown Item</td>\n",
       "      <td>3</td>\n",
       "      <td>2.831224</td>\n",
       "      <td>3.0</td>\n",
       "      <td>Digital Wallet</td>\n",
       "      <td>UNKNOWN</td>\n",
       "      <td>2023-06-02</td>\n",
       "    </tr>\n",
       "    <tr>\n",
       "      <th>9997</th>\n",
       "      <td>TXN_5255387</td>\n",
       "      <td>Coffee</td>\n",
       "      <td>4</td>\n",
       "      <td>2.000000</td>\n",
       "      <td>8.0</td>\n",
       "      <td>Digital Wallet</td>\n",
       "      <td>UNKNOWN</td>\n",
       "      <td>2023-03-02</td>\n",
       "    </tr>\n",
       "    <tr>\n",
       "      <th>9998</th>\n",
       "      <td>TXN_7695629</td>\n",
       "      <td>Cookie</td>\n",
       "      <td>3</td>\n",
       "      <td>1.000000</td>\n",
       "      <td>3.0</td>\n",
       "      <td>Digital Wallet</td>\n",
       "      <td>UNKNOWN</td>\n",
       "      <td>2023-12-02</td>\n",
       "    </tr>\n",
       "    <tr>\n",
       "      <th>9999</th>\n",
       "      <td>TXN_6170729</td>\n",
       "      <td>Sandwich</td>\n",
       "      <td>3</td>\n",
       "      <td>4.000000</td>\n",
       "      <td>12.0</td>\n",
       "      <td>Cash</td>\n",
       "      <td>In-store</td>\n",
       "      <td>2023-11-07</td>\n",
       "    </tr>\n",
       "  </tbody>\n",
       "</table>\n",
       "<p>10000 rows × 8 columns</p>\n",
       "</div>"
      ],
      "text/plain": [
       "     Transaction ID          Item  Quantity  Price Per Unit  Total Spent  \\\n",
       "0       TXN_1961373        Coffee         2        2.000000          4.0   \n",
       "1       TXN_4977031          Cake         4        3.000000         12.0   \n",
       "2       TXN_4271903        Cookie         4        1.000000          4.0   \n",
       "3       TXN_7034554         Salad         2        5.000000         10.0   \n",
       "4       TXN_3160411        Coffee         2        2.000000          4.0   \n",
       "...             ...           ...       ...             ...          ...   \n",
       "9995    TXN_7672686        Coffee         2        2.000000          4.0   \n",
       "9996    TXN_9659401  Unknown Item         3        2.831224          3.0   \n",
       "9997    TXN_5255387        Coffee         4        2.000000          8.0   \n",
       "9998    TXN_7695629        Cookie         3        1.000000          3.0   \n",
       "9999    TXN_6170729      Sandwich         3        4.000000         12.0   \n",
       "\n",
       "      Payment Method  Location Transaction Date  \n",
       "0        Credit Card  Takeaway       2023-09-08  \n",
       "1               Cash  In-store       2023-05-16  \n",
       "2        Credit Card  In-store       2023-07-19  \n",
       "3            UNKNOWN   UNKNOWN       2023-04-27  \n",
       "4     Digital Wallet  In-store       2023-06-11  \n",
       "...              ...       ...              ...  \n",
       "9995         UNKNOWN   UNKNOWN       2023-08-30  \n",
       "9996  Digital Wallet   UNKNOWN       2023-06-02  \n",
       "9997  Digital Wallet   UNKNOWN       2023-03-02  \n",
       "9998  Digital Wallet   UNKNOWN       2023-12-02  \n",
       "9999            Cash  In-store       2023-11-07  \n",
       "\n",
       "[10000 rows x 8 columns]"
      ]
     },
     "execution_count": 221,
     "metadata": {},
     "output_type": "execute_result"
    }
   ],
   "source": [
    "df"
   ]
  },
  {
   "cell_type": "code",
   "execution_count": 222,
   "id": "455058c9-9efa-40c7-bc4e-a7e74c935642",
   "metadata": {},
   "outputs": [
    {
     "data": {
      "text/html": [
       "<div>\n",
       "<style scoped>\n",
       "    .dataframe tbody tr th:only-of-type {\n",
       "        vertical-align: middle;\n",
       "    }\n",
       "\n",
       "    .dataframe tbody tr th {\n",
       "        vertical-align: top;\n",
       "    }\n",
       "\n",
       "    .dataframe thead th {\n",
       "        text-align: right;\n",
       "    }\n",
       "</style>\n",
       "<table border=\"1\" class=\"dataframe\">\n",
       "  <thead>\n",
       "    <tr style=\"text-align: right;\">\n",
       "      <th></th>\n",
       "      <th>Transaction ID</th>\n",
       "      <th>Item</th>\n",
       "      <th>Quantity</th>\n",
       "      <th>Price Per Unit</th>\n",
       "      <th>Total Spent</th>\n",
       "      <th>Payment Method</th>\n",
       "      <th>Location</th>\n",
       "      <th>Transaction Date</th>\n",
       "    </tr>\n",
       "  </thead>\n",
       "  <tbody>\n",
       "    <tr>\n",
       "      <th>236</th>\n",
       "      <td>TXN_8562645</td>\n",
       "      <td>Salad</td>\n",
       "      <td>0</td>\n",
       "      <td>5.0</td>\n",
       "      <td>0.0</td>\n",
       "      <td>UNKNOWN</td>\n",
       "      <td>In-store</td>\n",
       "      <td>2023-05-18</td>\n",
       "    </tr>\n",
       "    <tr>\n",
       "      <th>278</th>\n",
       "      <td>TXN_3229409</td>\n",
       "      <td>Juice</td>\n",
       "      <td>0</td>\n",
       "      <td>3.0</td>\n",
       "      <td>0.0</td>\n",
       "      <td>Cash</td>\n",
       "      <td>Takeaway</td>\n",
       "      <td>2023-04-15</td>\n",
       "    </tr>\n",
       "    <tr>\n",
       "      <th>641</th>\n",
       "      <td>TXN_2962976</td>\n",
       "      <td>Juice</td>\n",
       "      <td>0</td>\n",
       "      <td>3.0</td>\n",
       "      <td>0.0</td>\n",
       "      <td>UNKNOWN</td>\n",
       "      <td>UNKNOWN</td>\n",
       "      <td>2023-03-17</td>\n",
       "    </tr>\n",
       "    <tr>\n",
       "      <th>738</th>\n",
       "      <td>TXN_8696094</td>\n",
       "      <td>Sandwich</td>\n",
       "      <td>0</td>\n",
       "      <td>4.0</td>\n",
       "      <td>0.0</td>\n",
       "      <td>UNKNOWN</td>\n",
       "      <td>Takeaway</td>\n",
       "      <td>2023-05-14</td>\n",
       "    </tr>\n",
       "    <tr>\n",
       "      <th>2796</th>\n",
       "      <td>TXN_9188692</td>\n",
       "      <td>Cake</td>\n",
       "      <td>0</td>\n",
       "      <td>3.0</td>\n",
       "      <td>0.0</td>\n",
       "      <td>Credit Card</td>\n",
       "      <td>UNKNOWN</td>\n",
       "      <td>2023-12-01</td>\n",
       "    </tr>\n",
       "    <tr>\n",
       "      <th>3203</th>\n",
       "      <td>TXN_4565754</td>\n",
       "      <td>Smoothie</td>\n",
       "      <td>0</td>\n",
       "      <td>4.0</td>\n",
       "      <td>0.0</td>\n",
       "      <td>Digital Wallet</td>\n",
       "      <td>Takeaway</td>\n",
       "      <td>2023-10-06</td>\n",
       "    </tr>\n",
       "    <tr>\n",
       "      <th>3224</th>\n",
       "      <td>TXN_6297232</td>\n",
       "      <td>Coffee</td>\n",
       "      <td>0</td>\n",
       "      <td>2.0</td>\n",
       "      <td>0.0</td>\n",
       "      <td>UNKNOWN</td>\n",
       "      <td>UNKNOWN</td>\n",
       "      <td>2023-04-07</td>\n",
       "    </tr>\n",
       "    <tr>\n",
       "      <th>3401</th>\n",
       "      <td>TXN_3251829</td>\n",
       "      <td>Tea</td>\n",
       "      <td>0</td>\n",
       "      <td>1.5</td>\n",
       "      <td>0.0</td>\n",
       "      <td>Digital Wallet</td>\n",
       "      <td>In-store</td>\n",
       "      <td>2023-07-25</td>\n",
       "    </tr>\n",
       "    <tr>\n",
       "      <th>3779</th>\n",
       "      <td>TXN_7376255</td>\n",
       "      <td>Unknown Item</td>\n",
       "      <td>0</td>\n",
       "      <td>0.0</td>\n",
       "      <td>25.0</td>\n",
       "      <td>UNKNOWN</td>\n",
       "      <td>In-store</td>\n",
       "      <td>2023-05-27</td>\n",
       "    </tr>\n",
       "    <tr>\n",
       "      <th>4257</th>\n",
       "      <td>TXN_6470865</td>\n",
       "      <td>Coffee</td>\n",
       "      <td>0</td>\n",
       "      <td>2.0</td>\n",
       "      <td>0.0</td>\n",
       "      <td>Digital Wallet</td>\n",
       "      <td>Takeaway</td>\n",
       "      <td>2023-09-18</td>\n",
       "    </tr>\n",
       "    <tr>\n",
       "      <th>5841</th>\n",
       "      <td>TXN_5884081</td>\n",
       "      <td>Cookie</td>\n",
       "      <td>0</td>\n",
       "      <td>1.0</td>\n",
       "      <td>0.0</td>\n",
       "      <td>Digital Wallet</td>\n",
       "      <td>In-store</td>\n",
       "      <td>2023-07-05</td>\n",
       "    </tr>\n",
       "    <tr>\n",
       "      <th>7029</th>\n",
       "      <td>TXN_4628338</td>\n",
       "      <td>Coffee</td>\n",
       "      <td>0</td>\n",
       "      <td>2.0</td>\n",
       "      <td>0.0</td>\n",
       "      <td>Cash</td>\n",
       "      <td>UNKNOWN</td>\n",
       "      <td>2023-12-25</td>\n",
       "    </tr>\n",
       "    <tr>\n",
       "      <th>7297</th>\n",
       "      <td>TXN_9944500</td>\n",
       "      <td>Smoothie</td>\n",
       "      <td>0</td>\n",
       "      <td>4.0</td>\n",
       "      <td>0.0</td>\n",
       "      <td>Cash</td>\n",
       "      <td>In-store</td>\n",
       "      <td>2023-01-03</td>\n",
       "    </tr>\n",
       "    <tr>\n",
       "      <th>8021</th>\n",
       "      <td>TXN_2428781</td>\n",
       "      <td>Salad</td>\n",
       "      <td>0</td>\n",
       "      <td>5.0</td>\n",
       "      <td>0.0</td>\n",
       "      <td>UNKNOWN</td>\n",
       "      <td>In-store</td>\n",
       "      <td>2023-05-09</td>\n",
       "    </tr>\n",
       "    <tr>\n",
       "      <th>8443</th>\n",
       "      <td>TXN_2023651</td>\n",
       "      <td>Sandwich</td>\n",
       "      <td>0</td>\n",
       "      <td>4.0</td>\n",
       "      <td>0.0</td>\n",
       "      <td>Cash</td>\n",
       "      <td>In-store</td>\n",
       "      <td>2023-05-25</td>\n",
       "    </tr>\n",
       "    <tr>\n",
       "      <th>8465</th>\n",
       "      <td>TXN_9669616</td>\n",
       "      <td>Coffee</td>\n",
       "      <td>0</td>\n",
       "      <td>2.0</td>\n",
       "      <td>0.0</td>\n",
       "      <td>UNKNOWN</td>\n",
       "      <td>ERROR</td>\n",
       "      <td>2023-06-03</td>\n",
       "    </tr>\n",
       "    <tr>\n",
       "      <th>8479</th>\n",
       "      <td>TXN_1547245</td>\n",
       "      <td>Sandwich</td>\n",
       "      <td>0</td>\n",
       "      <td>4.0</td>\n",
       "      <td>0.0</td>\n",
       "      <td>UNKNOWN</td>\n",
       "      <td>Takeaway</td>\n",
       "      <td>2023-09-11</td>\n",
       "    </tr>\n",
       "    <tr>\n",
       "      <th>8574</th>\n",
       "      <td>TXN_2546684</td>\n",
       "      <td>Juice</td>\n",
       "      <td>0</td>\n",
       "      <td>3.0</td>\n",
       "      <td>0.0</td>\n",
       "      <td>Digital Wallet</td>\n",
       "      <td>Takeaway</td>\n",
       "      <td>2023-04-08</td>\n",
       "    </tr>\n",
       "    <tr>\n",
       "      <th>8732</th>\n",
       "      <td>TXN_4550558</td>\n",
       "      <td>Cookie</td>\n",
       "      <td>0</td>\n",
       "      <td>1.0</td>\n",
       "      <td>0.0</td>\n",
       "      <td>Credit Card</td>\n",
       "      <td>In-store</td>\n",
       "      <td>2023-08-04</td>\n",
       "    </tr>\n",
       "    <tr>\n",
       "      <th>9590</th>\n",
       "      <td>TXN_9924732</td>\n",
       "      <td>Sandwich</td>\n",
       "      <td>0</td>\n",
       "      <td>4.0</td>\n",
       "      <td>0.0</td>\n",
       "      <td>Credit Card</td>\n",
       "      <td>In-store</td>\n",
       "      <td>2023-01-18</td>\n",
       "    </tr>\n",
       "    <tr>\n",
       "      <th>9869</th>\n",
       "      <td>TXN_1975184</td>\n",
       "      <td>Coffee</td>\n",
       "      <td>0</td>\n",
       "      <td>2.0</td>\n",
       "      <td>0.0</td>\n",
       "      <td>Digital Wallet</td>\n",
       "      <td>UNKNOWN</td>\n",
       "      <td>2023-01-15</td>\n",
       "    </tr>\n",
       "  </tbody>\n",
       "</table>\n",
       "</div>"
      ],
      "text/plain": [
       "     Transaction ID          Item  Quantity  Price Per Unit  Total Spent  \\\n",
       "236     TXN_8562645         Salad         0             5.0          0.0   \n",
       "278     TXN_3229409         Juice         0             3.0          0.0   \n",
       "641     TXN_2962976         Juice         0             3.0          0.0   \n",
       "738     TXN_8696094      Sandwich         0             4.0          0.0   \n",
       "2796    TXN_9188692          Cake         0             3.0          0.0   \n",
       "3203    TXN_4565754      Smoothie         0             4.0          0.0   \n",
       "3224    TXN_6297232        Coffee         0             2.0          0.0   \n",
       "3401    TXN_3251829           Tea         0             1.5          0.0   \n",
       "3779    TXN_7376255  Unknown Item         0             0.0         25.0   \n",
       "4257    TXN_6470865        Coffee         0             2.0          0.0   \n",
       "5841    TXN_5884081        Cookie         0             1.0          0.0   \n",
       "7029    TXN_4628338        Coffee         0             2.0          0.0   \n",
       "7297    TXN_9944500      Smoothie         0             4.0          0.0   \n",
       "8021    TXN_2428781         Salad         0             5.0          0.0   \n",
       "8443    TXN_2023651      Sandwich         0             4.0          0.0   \n",
       "8465    TXN_9669616        Coffee         0             2.0          0.0   \n",
       "8479    TXN_1547245      Sandwich         0             4.0          0.0   \n",
       "8574    TXN_2546684         Juice         0             3.0          0.0   \n",
       "8732    TXN_4550558        Cookie         0             1.0          0.0   \n",
       "9590    TXN_9924732      Sandwich         0             4.0          0.0   \n",
       "9869    TXN_1975184        Coffee         0             2.0          0.0   \n",
       "\n",
       "      Payment Method  Location Transaction Date  \n",
       "236          UNKNOWN  In-store       2023-05-18  \n",
       "278             Cash  Takeaway       2023-04-15  \n",
       "641          UNKNOWN   UNKNOWN       2023-03-17  \n",
       "738          UNKNOWN  Takeaway       2023-05-14  \n",
       "2796     Credit Card   UNKNOWN       2023-12-01  \n",
       "3203  Digital Wallet  Takeaway       2023-10-06  \n",
       "3224         UNKNOWN   UNKNOWN       2023-04-07  \n",
       "3401  Digital Wallet  In-store       2023-07-25  \n",
       "3779         UNKNOWN  In-store       2023-05-27  \n",
       "4257  Digital Wallet  Takeaway       2023-09-18  \n",
       "5841  Digital Wallet  In-store       2023-07-05  \n",
       "7029            Cash   UNKNOWN       2023-12-25  \n",
       "7297            Cash  In-store       2023-01-03  \n",
       "8021         UNKNOWN  In-store       2023-05-09  \n",
       "8443            Cash  In-store       2023-05-25  \n",
       "8465         UNKNOWN     ERROR       2023-06-03  \n",
       "8479         UNKNOWN  Takeaway       2023-09-11  \n",
       "8574  Digital Wallet  Takeaway       2023-04-08  \n",
       "8732     Credit Card  In-store       2023-08-04  \n",
       "9590     Credit Card  In-store       2023-01-18  \n",
       "9869  Digital Wallet   UNKNOWN       2023-01-15  "
      ]
     },
     "execution_count": 222,
     "metadata": {},
     "output_type": "execute_result"
    }
   ],
   "source": [
    "df[df['Quantity']==0]"
   ]
  },
  {
   "cell_type": "code",
   "execution_count": 223,
   "id": "2a09e6d7-1e8b-4741-9b5e-c3564c61bb3b",
   "metadata": {},
   "outputs": [
    {
     "data": {
      "text/html": [
       "<div>\n",
       "<style scoped>\n",
       "    .dataframe tbody tr th:only-of-type {\n",
       "        vertical-align: middle;\n",
       "    }\n",
       "\n",
       "    .dataframe tbody tr th {\n",
       "        vertical-align: top;\n",
       "    }\n",
       "\n",
       "    .dataframe thead th {\n",
       "        text-align: right;\n",
       "    }\n",
       "</style>\n",
       "<table border=\"1\" class=\"dataframe\">\n",
       "  <thead>\n",
       "    <tr style=\"text-align: right;\">\n",
       "      <th></th>\n",
       "      <th>Transaction ID</th>\n",
       "      <th>Item</th>\n",
       "      <th>Quantity</th>\n",
       "      <th>Price Per Unit</th>\n",
       "      <th>Total Spent</th>\n",
       "      <th>Payment Method</th>\n",
       "      <th>Location</th>\n",
       "      <th>Transaction Date</th>\n",
       "    </tr>\n",
       "  </thead>\n",
       "  <tbody>\n",
       "    <tr>\n",
       "      <th>1761</th>\n",
       "      <td>TXN_3611851</td>\n",
       "      <td>Unknown Item</td>\n",
       "      <td>4</td>\n",
       "      <td>0.0</td>\n",
       "      <td>0.0</td>\n",
       "      <td>Credit Card</td>\n",
       "      <td>UNKNOWN</td>\n",
       "      <td>2023-02-09</td>\n",
       "    </tr>\n",
       "    <tr>\n",
       "      <th>2289</th>\n",
       "      <td>TXN_7524977</td>\n",
       "      <td>Unknown Item</td>\n",
       "      <td>4</td>\n",
       "      <td>0.0</td>\n",
       "      <td>0.0</td>\n",
       "      <td>ERROR</td>\n",
       "      <td>UNKNOWN</td>\n",
       "      <td>2023-12-09</td>\n",
       "    </tr>\n",
       "    <tr>\n",
       "      <th>3779</th>\n",
       "      <td>TXN_7376255</td>\n",
       "      <td>Unknown Item</td>\n",
       "      <td>0</td>\n",
       "      <td>0.0</td>\n",
       "      <td>25.0</td>\n",
       "      <td>UNKNOWN</td>\n",
       "      <td>In-store</td>\n",
       "      <td>2023-05-27</td>\n",
       "    </tr>\n",
       "    <tr>\n",
       "      <th>4152</th>\n",
       "      <td>TXN_9646000</td>\n",
       "      <td>Unknown Item</td>\n",
       "      <td>2</td>\n",
       "      <td>0.0</td>\n",
       "      <td>0.0</td>\n",
       "      <td>UNKNOWN</td>\n",
       "      <td>In-store</td>\n",
       "      <td>2023-12-14</td>\n",
       "    </tr>\n",
       "  </tbody>\n",
       "</table>\n",
       "</div>"
      ],
      "text/plain": [
       "     Transaction ID          Item  Quantity  Price Per Unit  Total Spent  \\\n",
       "1761    TXN_3611851  Unknown Item         4             0.0          0.0   \n",
       "2289    TXN_7524977  Unknown Item         4             0.0          0.0   \n",
       "3779    TXN_7376255  Unknown Item         0             0.0         25.0   \n",
       "4152    TXN_9646000  Unknown Item         2             0.0          0.0   \n",
       "\n",
       "     Payment Method  Location Transaction Date  \n",
       "1761    Credit Card   UNKNOWN       2023-02-09  \n",
       "2289          ERROR   UNKNOWN       2023-12-09  \n",
       "3779        UNKNOWN  In-store       2023-05-27  \n",
       "4152        UNKNOWN  In-store       2023-12-14  "
      ]
     },
     "execution_count": 223,
     "metadata": {},
     "output_type": "execute_result"
    }
   ],
   "source": [
    "df[df['Price Per Unit']==0]"
   ]
  },
  {
   "cell_type": "code",
   "execution_count": 224,
   "id": "6f7c541c-4a27-42a1-a8bb-88919329b992",
   "metadata": {},
   "outputs": [
    {
     "data": {
      "text/html": [
       "<div>\n",
       "<style scoped>\n",
       "    .dataframe tbody tr th:only-of-type {\n",
       "        vertical-align: middle;\n",
       "    }\n",
       "\n",
       "    .dataframe tbody tr th {\n",
       "        vertical-align: top;\n",
       "    }\n",
       "\n",
       "    .dataframe thead th {\n",
       "        text-align: right;\n",
       "    }\n",
       "</style>\n",
       "<table border=\"1\" class=\"dataframe\">\n",
       "  <thead>\n",
       "    <tr style=\"text-align: right;\">\n",
       "      <th></th>\n",
       "      <th>Transaction ID</th>\n",
       "      <th>Item</th>\n",
       "      <th>Quantity</th>\n",
       "      <th>Price Per Unit</th>\n",
       "      <th>Total Spent</th>\n",
       "      <th>Payment Method</th>\n",
       "      <th>Location</th>\n",
       "      <th>Transaction Date</th>\n",
       "    </tr>\n",
       "  </thead>\n",
       "  <tbody>\n",
       "    <tr>\n",
       "      <th>236</th>\n",
       "      <td>TXN_8562645</td>\n",
       "      <td>Salad</td>\n",
       "      <td>0</td>\n",
       "      <td>5.0</td>\n",
       "      <td>0.0</td>\n",
       "      <td>UNKNOWN</td>\n",
       "      <td>In-store</td>\n",
       "      <td>2023-05-18</td>\n",
       "    </tr>\n",
       "    <tr>\n",
       "      <th>278</th>\n",
       "      <td>TXN_3229409</td>\n",
       "      <td>Juice</td>\n",
       "      <td>0</td>\n",
       "      <td>3.0</td>\n",
       "      <td>0.0</td>\n",
       "      <td>Cash</td>\n",
       "      <td>Takeaway</td>\n",
       "      <td>2023-04-15</td>\n",
       "    </tr>\n",
       "    <tr>\n",
       "      <th>641</th>\n",
       "      <td>TXN_2962976</td>\n",
       "      <td>Juice</td>\n",
       "      <td>0</td>\n",
       "      <td>3.0</td>\n",
       "      <td>0.0</td>\n",
       "      <td>UNKNOWN</td>\n",
       "      <td>UNKNOWN</td>\n",
       "      <td>2023-03-17</td>\n",
       "    </tr>\n",
       "    <tr>\n",
       "      <th>738</th>\n",
       "      <td>TXN_8696094</td>\n",
       "      <td>Sandwich</td>\n",
       "      <td>0</td>\n",
       "      <td>4.0</td>\n",
       "      <td>0.0</td>\n",
       "      <td>UNKNOWN</td>\n",
       "      <td>Takeaway</td>\n",
       "      <td>2023-05-14</td>\n",
       "    </tr>\n",
       "    <tr>\n",
       "      <th>1761</th>\n",
       "      <td>TXN_3611851</td>\n",
       "      <td>Unknown Item</td>\n",
       "      <td>4</td>\n",
       "      <td>0.0</td>\n",
       "      <td>0.0</td>\n",
       "      <td>Credit Card</td>\n",
       "      <td>UNKNOWN</td>\n",
       "      <td>2023-02-09</td>\n",
       "    </tr>\n",
       "    <tr>\n",
       "      <th>2289</th>\n",
       "      <td>TXN_7524977</td>\n",
       "      <td>Unknown Item</td>\n",
       "      <td>4</td>\n",
       "      <td>0.0</td>\n",
       "      <td>0.0</td>\n",
       "      <td>ERROR</td>\n",
       "      <td>UNKNOWN</td>\n",
       "      <td>2023-12-09</td>\n",
       "    </tr>\n",
       "    <tr>\n",
       "      <th>2796</th>\n",
       "      <td>TXN_9188692</td>\n",
       "      <td>Cake</td>\n",
       "      <td>0</td>\n",
       "      <td>3.0</td>\n",
       "      <td>0.0</td>\n",
       "      <td>Credit Card</td>\n",
       "      <td>UNKNOWN</td>\n",
       "      <td>2023-12-01</td>\n",
       "    </tr>\n",
       "    <tr>\n",
       "      <th>3203</th>\n",
       "      <td>TXN_4565754</td>\n",
       "      <td>Smoothie</td>\n",
       "      <td>0</td>\n",
       "      <td>4.0</td>\n",
       "      <td>0.0</td>\n",
       "      <td>Digital Wallet</td>\n",
       "      <td>Takeaway</td>\n",
       "      <td>2023-10-06</td>\n",
       "    </tr>\n",
       "    <tr>\n",
       "      <th>3224</th>\n",
       "      <td>TXN_6297232</td>\n",
       "      <td>Coffee</td>\n",
       "      <td>0</td>\n",
       "      <td>2.0</td>\n",
       "      <td>0.0</td>\n",
       "      <td>UNKNOWN</td>\n",
       "      <td>UNKNOWN</td>\n",
       "      <td>2023-04-07</td>\n",
       "    </tr>\n",
       "    <tr>\n",
       "      <th>3401</th>\n",
       "      <td>TXN_3251829</td>\n",
       "      <td>Tea</td>\n",
       "      <td>0</td>\n",
       "      <td>1.5</td>\n",
       "      <td>0.0</td>\n",
       "      <td>Digital Wallet</td>\n",
       "      <td>In-store</td>\n",
       "      <td>2023-07-25</td>\n",
       "    </tr>\n",
       "    <tr>\n",
       "      <th>4152</th>\n",
       "      <td>TXN_9646000</td>\n",
       "      <td>Unknown Item</td>\n",
       "      <td>2</td>\n",
       "      <td>0.0</td>\n",
       "      <td>0.0</td>\n",
       "      <td>UNKNOWN</td>\n",
       "      <td>In-store</td>\n",
       "      <td>2023-12-14</td>\n",
       "    </tr>\n",
       "    <tr>\n",
       "      <th>4257</th>\n",
       "      <td>TXN_6470865</td>\n",
       "      <td>Coffee</td>\n",
       "      <td>0</td>\n",
       "      <td>2.0</td>\n",
       "      <td>0.0</td>\n",
       "      <td>Digital Wallet</td>\n",
       "      <td>Takeaway</td>\n",
       "      <td>2023-09-18</td>\n",
       "    </tr>\n",
       "    <tr>\n",
       "      <th>5841</th>\n",
       "      <td>TXN_5884081</td>\n",
       "      <td>Cookie</td>\n",
       "      <td>0</td>\n",
       "      <td>1.0</td>\n",
       "      <td>0.0</td>\n",
       "      <td>Digital Wallet</td>\n",
       "      <td>In-store</td>\n",
       "      <td>2023-07-05</td>\n",
       "    </tr>\n",
       "    <tr>\n",
       "      <th>7029</th>\n",
       "      <td>TXN_4628338</td>\n",
       "      <td>Coffee</td>\n",
       "      <td>0</td>\n",
       "      <td>2.0</td>\n",
       "      <td>0.0</td>\n",
       "      <td>Cash</td>\n",
       "      <td>UNKNOWN</td>\n",
       "      <td>2023-12-25</td>\n",
       "    </tr>\n",
       "    <tr>\n",
       "      <th>7297</th>\n",
       "      <td>TXN_9944500</td>\n",
       "      <td>Smoothie</td>\n",
       "      <td>0</td>\n",
       "      <td>4.0</td>\n",
       "      <td>0.0</td>\n",
       "      <td>Cash</td>\n",
       "      <td>In-store</td>\n",
       "      <td>2023-01-03</td>\n",
       "    </tr>\n",
       "    <tr>\n",
       "      <th>8021</th>\n",
       "      <td>TXN_2428781</td>\n",
       "      <td>Salad</td>\n",
       "      <td>0</td>\n",
       "      <td>5.0</td>\n",
       "      <td>0.0</td>\n",
       "      <td>UNKNOWN</td>\n",
       "      <td>In-store</td>\n",
       "      <td>2023-05-09</td>\n",
       "    </tr>\n",
       "    <tr>\n",
       "      <th>8443</th>\n",
       "      <td>TXN_2023651</td>\n",
       "      <td>Sandwich</td>\n",
       "      <td>0</td>\n",
       "      <td>4.0</td>\n",
       "      <td>0.0</td>\n",
       "      <td>Cash</td>\n",
       "      <td>In-store</td>\n",
       "      <td>2023-05-25</td>\n",
       "    </tr>\n",
       "    <tr>\n",
       "      <th>8465</th>\n",
       "      <td>TXN_9669616</td>\n",
       "      <td>Coffee</td>\n",
       "      <td>0</td>\n",
       "      <td>2.0</td>\n",
       "      <td>0.0</td>\n",
       "      <td>UNKNOWN</td>\n",
       "      <td>ERROR</td>\n",
       "      <td>2023-06-03</td>\n",
       "    </tr>\n",
       "    <tr>\n",
       "      <th>8479</th>\n",
       "      <td>TXN_1547245</td>\n",
       "      <td>Sandwich</td>\n",
       "      <td>0</td>\n",
       "      <td>4.0</td>\n",
       "      <td>0.0</td>\n",
       "      <td>UNKNOWN</td>\n",
       "      <td>Takeaway</td>\n",
       "      <td>2023-09-11</td>\n",
       "    </tr>\n",
       "    <tr>\n",
       "      <th>8574</th>\n",
       "      <td>TXN_2546684</td>\n",
       "      <td>Juice</td>\n",
       "      <td>0</td>\n",
       "      <td>3.0</td>\n",
       "      <td>0.0</td>\n",
       "      <td>Digital Wallet</td>\n",
       "      <td>Takeaway</td>\n",
       "      <td>2023-04-08</td>\n",
       "    </tr>\n",
       "    <tr>\n",
       "      <th>8732</th>\n",
       "      <td>TXN_4550558</td>\n",
       "      <td>Cookie</td>\n",
       "      <td>0</td>\n",
       "      <td>1.0</td>\n",
       "      <td>0.0</td>\n",
       "      <td>Credit Card</td>\n",
       "      <td>In-store</td>\n",
       "      <td>2023-08-04</td>\n",
       "    </tr>\n",
       "    <tr>\n",
       "      <th>9590</th>\n",
       "      <td>TXN_9924732</td>\n",
       "      <td>Sandwich</td>\n",
       "      <td>0</td>\n",
       "      <td>4.0</td>\n",
       "      <td>0.0</td>\n",
       "      <td>Credit Card</td>\n",
       "      <td>In-store</td>\n",
       "      <td>2023-01-18</td>\n",
       "    </tr>\n",
       "    <tr>\n",
       "      <th>9869</th>\n",
       "      <td>TXN_1975184</td>\n",
       "      <td>Coffee</td>\n",
       "      <td>0</td>\n",
       "      <td>2.0</td>\n",
       "      <td>0.0</td>\n",
       "      <td>Digital Wallet</td>\n",
       "      <td>UNKNOWN</td>\n",
       "      <td>2023-01-15</td>\n",
       "    </tr>\n",
       "  </tbody>\n",
       "</table>\n",
       "</div>"
      ],
      "text/plain": [
       "     Transaction ID          Item  Quantity  Price Per Unit  Total Spent  \\\n",
       "236     TXN_8562645         Salad         0             5.0          0.0   \n",
       "278     TXN_3229409         Juice         0             3.0          0.0   \n",
       "641     TXN_2962976         Juice         0             3.0          0.0   \n",
       "738     TXN_8696094      Sandwich         0             4.0          0.0   \n",
       "1761    TXN_3611851  Unknown Item         4             0.0          0.0   \n",
       "2289    TXN_7524977  Unknown Item         4             0.0          0.0   \n",
       "2796    TXN_9188692          Cake         0             3.0          0.0   \n",
       "3203    TXN_4565754      Smoothie         0             4.0          0.0   \n",
       "3224    TXN_6297232        Coffee         0             2.0          0.0   \n",
       "3401    TXN_3251829           Tea         0             1.5          0.0   \n",
       "4152    TXN_9646000  Unknown Item         2             0.0          0.0   \n",
       "4257    TXN_6470865        Coffee         0             2.0          0.0   \n",
       "5841    TXN_5884081        Cookie         0             1.0          0.0   \n",
       "7029    TXN_4628338        Coffee         0             2.0          0.0   \n",
       "7297    TXN_9944500      Smoothie         0             4.0          0.0   \n",
       "8021    TXN_2428781         Salad         0             5.0          0.0   \n",
       "8443    TXN_2023651      Sandwich         0             4.0          0.0   \n",
       "8465    TXN_9669616        Coffee         0             2.0          0.0   \n",
       "8479    TXN_1547245      Sandwich         0             4.0          0.0   \n",
       "8574    TXN_2546684         Juice         0             3.0          0.0   \n",
       "8732    TXN_4550558        Cookie         0             1.0          0.0   \n",
       "9590    TXN_9924732      Sandwich         0             4.0          0.0   \n",
       "9869    TXN_1975184        Coffee         0             2.0          0.0   \n",
       "\n",
       "      Payment Method  Location Transaction Date  \n",
       "236          UNKNOWN  In-store       2023-05-18  \n",
       "278             Cash  Takeaway       2023-04-15  \n",
       "641          UNKNOWN   UNKNOWN       2023-03-17  \n",
       "738          UNKNOWN  Takeaway       2023-05-14  \n",
       "1761     Credit Card   UNKNOWN       2023-02-09  \n",
       "2289           ERROR   UNKNOWN       2023-12-09  \n",
       "2796     Credit Card   UNKNOWN       2023-12-01  \n",
       "3203  Digital Wallet  Takeaway       2023-10-06  \n",
       "3224         UNKNOWN   UNKNOWN       2023-04-07  \n",
       "3401  Digital Wallet  In-store       2023-07-25  \n",
       "4152         UNKNOWN  In-store       2023-12-14  \n",
       "4257  Digital Wallet  Takeaway       2023-09-18  \n",
       "5841  Digital Wallet  In-store       2023-07-05  \n",
       "7029            Cash   UNKNOWN       2023-12-25  \n",
       "7297            Cash  In-store       2023-01-03  \n",
       "8021         UNKNOWN  In-store       2023-05-09  \n",
       "8443            Cash  In-store       2023-05-25  \n",
       "8465         UNKNOWN     ERROR       2023-06-03  \n",
       "8479         UNKNOWN  Takeaway       2023-09-11  \n",
       "8574  Digital Wallet  Takeaway       2023-04-08  \n",
       "8732     Credit Card  In-store       2023-08-04  \n",
       "9590     Credit Card  In-store       2023-01-18  \n",
       "9869  Digital Wallet   UNKNOWN       2023-01-15  "
      ]
     },
     "execution_count": 224,
     "metadata": {},
     "output_type": "execute_result"
    }
   ],
   "source": [
    "df[df['Total Spent']==0]"
   ]
  },
  {
   "cell_type": "markdown",
   "id": "6fadbc22-18e7-47f4-9be4-9633faae6477",
   "metadata": {},
   "source": [
    "### Final Note on Data Cleaning\n",
    "\n",
    "*Now the data is cleaned. A value of `0` in any of the numerical columns indicates that the original entry was either `NaN`, `ERROR`, or `UNKNOWN` before the cleaning process.*\n"
   ]
  },
  {
   "cell_type": "markdown",
   "id": "a2683a1b-1b88-4869-96d0-d250c23f7ddd",
   "metadata": {},
   "source": [
    "### Analytical Questions"
   ]
  },
  {
   "cell_type": "markdown",
   "id": "9fab19b4-15f3-4867-9e82-e10f0b82d75e",
   "metadata": {},
   "source": [
    "#### 1. Which items bring in the highest total revenue?"
   ]
  },
  {
   "cell_type": "code",
   "execution_count": 225,
   "id": "51e74f64-4de5-4809-ae46-fa497af333f5",
   "metadata": {},
   "outputs": [],
   "source": [
    "item_with_highest_revenue=df.groupby([\"Item\"])[[\"Total Spent\"]].sum().sort_values(by=\"Total Spent\", ascending=False).round(1).iloc[0,:]"
   ]
  },
  {
   "cell_type": "code",
   "execution_count": 226,
   "id": "0da8ddf7-e8b2-44e3-aaad-a7bef892ce5d",
   "metadata": {},
   "outputs": [
    {
     "data": {
      "text/plain": [
       "Total Spent    17343.9\n",
       "Name: Salad, dtype: float64"
      ]
     },
     "execution_count": 226,
     "metadata": {},
     "output_type": "execute_result"
    }
   ],
   "source": [
    "item_with_highest_revenue"
   ]
  },
  {
   "cell_type": "markdown",
   "id": "37594429-96b0-48ac-90e3-307297e6af2f",
   "metadata": {},
   "source": [
    "### Item with the Highest Revenue\n",
    "#### The item that brings in the most revenue is **`Salad`**, with a total revenue of $`17,343.90`.\n"
   ]
  },
  {
   "cell_type": "markdown",
   "id": "53f486c6-1021-4fe8-adc9-3ba4a411ef6d",
   "metadata": {},
   "source": [
    "### 2. Which items are sold most frequently (by quantity)?"
   ]
  },
  {
   "cell_type": "code",
   "execution_count": 227,
   "id": "4ef6ebe3-71de-43af-9109-624ea3ff4a4d",
   "metadata": {},
   "outputs": [],
   "source": [
    "item_frequently_sold=df.groupby(\"Item\")[[\"Quantity\"]].sum().sort_values(by=\"Quantity\", ascending=False).iloc[0,:]"
   ]
  },
  {
   "cell_type": "code",
   "execution_count": 228,
   "id": "bca30908-4d14-426d-9abd-99c3cd8c78ae",
   "metadata": {},
   "outputs": [
    {
     "data": {
      "text/plain": [
       "Quantity    3536\n",
       "Name: Coffee, dtype: int64"
      ]
     },
     "execution_count": 228,
     "metadata": {},
     "output_type": "execute_result"
    }
   ],
   "source": [
    "item_frequently_sold"
   ]
  },
  {
   "cell_type": "markdown",
   "id": "a40a1ab4-626a-4958-bfef-b0858526c68b",
   "metadata": {},
   "source": [
    "### Item Frequently Sold"
   ]
  },
  {
   "cell_type": "markdown",
   "id": "056a6799-5289-4ff5-95b6-fcc774f48856",
   "metadata": {},
   "source": [
    "#### The item that is frequently sold is **`Coffee`**, with a total quantity of `3536`."
   ]
  },
  {
   "cell_type": "markdown",
   "id": "f6bd8bf7-66dc-469a-a110-0272a6b2e011",
   "metadata": {},
   "source": [
    "### 3. What is the average total spent per transaction?"
   ]
  },
  {
   "cell_type": "code",
   "execution_count": 229,
   "id": "2463e251-c0a1-4597-8837-b769b56fdc16",
   "metadata": {},
   "outputs": [],
   "source": [
    "avg_amount_spent_per_transaction = df[\"Total Spent\"].mean().round(1)"
   ]
  },
  {
   "cell_type": "code",
   "execution_count": 230,
   "id": "fb5ea49f-25da-4fe0-9250-005760c75e1b",
   "metadata": {},
   "outputs": [
    {
     "data": {
      "text/plain": [
       "8.9"
      ]
     },
     "execution_count": 230,
     "metadata": {},
     "output_type": "execute_result"
    }
   ],
   "source": [
    "avg_amount_spent_per_transaction"
   ]
  },
  {
   "cell_type": "code",
   "execution_count": 231,
   "id": "3b544ad1-9b74-4d8b-85ce-9df768bd28e1",
   "metadata": {},
   "outputs": [
    {
     "data": {
      "text/plain": [
       "8.0"
      ]
     },
     "execution_count": 231,
     "metadata": {},
     "output_type": "execute_result"
    }
   ],
   "source": [
    "df[\"Total Spent\"].median()"
   ]
  },
  {
   "cell_type": "code",
   "execution_count": 232,
   "id": "3f861c36-61fb-497d-8927-e3333a500563",
   "metadata": {},
   "outputs": [
    {
     "data": {
      "text/plain": [
       "6.0129697706803045"
      ]
     },
     "execution_count": 232,
     "metadata": {},
     "output_type": "execute_result"
    }
   ],
   "source": [
    "df[\"Total Spent\"].std()"
   ]
  },
  {
   "cell_type": "markdown",
   "id": "9a4e4be0-804b-4c6f-898e-765b7d63af9e",
   "metadata": {},
   "source": [
    "#### Average Total Spent Per Transaction\n",
    "\n",
    "The average total spent per transaction is **`$8.90`**, with a standard deviation of **`$6.01`**.  \n",
    "This indicates that spending varies considerably between transactions. While some customers make small purchases, others spend significantly more, suggesting a wide range of spending behavior **`($8.90 ± $6.01)`**.\n"
   ]
  },
  {
   "cell_type": "markdown",
   "id": "78b6aa9a-0b28-4c77-857e-f50272f6b1bb",
   "metadata": {},
   "source": [
    "### 4.Which location generates the most revenue overall?"
   ]
  },
  {
   "cell_type": "code",
   "execution_count": 233,
   "id": "fa95f7b9-1c7a-476e-a238-74d38d91a4d9",
   "metadata": {},
   "outputs": [],
   "source": [
    "location_with_highest_revenue=df.groupby(\"Location\")[[\"Total Spent\"]].sum().sort_values(by=\"Total Spent\", ascending=False)"
   ]
  },
  {
   "cell_type": "code",
   "execution_count": 234,
   "id": "4dcd550a-e23c-478a-a4f7-dd9ce8331e62",
   "metadata": {},
   "outputs": [
    {
     "data": {
      "text/html": [
       "<div>\n",
       "<style scoped>\n",
       "    .dataframe tbody tr th:only-of-type {\n",
       "        vertical-align: middle;\n",
       "    }\n",
       "\n",
       "    .dataframe tbody tr th {\n",
       "        vertical-align: top;\n",
       "    }\n",
       "\n",
       "    .dataframe thead th {\n",
       "        text-align: right;\n",
       "    }\n",
       "</style>\n",
       "<table border=\"1\" class=\"dataframe\">\n",
       "  <thead>\n",
       "    <tr style=\"text-align: right;\">\n",
       "      <th></th>\n",
       "      <th>Total Spent</th>\n",
       "    </tr>\n",
       "    <tr>\n",
       "      <th>Location</th>\n",
       "      <th></th>\n",
       "    </tr>\n",
       "  </thead>\n",
       "  <tbody>\n",
       "    <tr>\n",
       "      <th>UNKNOWN</th>\n",
       "      <td>32128.000000</td>\n",
       "    </tr>\n",
       "    <tr>\n",
       "      <th>In-store</th>\n",
       "      <td>27172.421963</td>\n",
       "    </tr>\n",
       "    <tr>\n",
       "      <th>Takeaway</th>\n",
       "      <td>26552.005578</td>\n",
       "    </tr>\n",
       "    <tr>\n",
       "      <th>ERROR</th>\n",
       "      <td>3241.500000</td>\n",
       "    </tr>\n",
       "  </tbody>\n",
       "</table>\n",
       "</div>"
      ],
      "text/plain": [
       "           Total Spent\n",
       "Location              \n",
       "UNKNOWN   32128.000000\n",
       "In-store  27172.421963\n",
       "Takeaway  26552.005578\n",
       "ERROR      3241.500000"
      ]
     },
     "execution_count": 234,
     "metadata": {},
     "output_type": "execute_result"
    }
   ],
   "source": [
    "location_with_highest_revenue"
   ]
  },
  {
   "cell_type": "markdown",
   "id": "c281c85c-34e6-4d5b-bf4e-e037414b7dc7",
   "metadata": {
    "jp-MarkdownHeadingCollapsed": true
   },
   "source": [
    "### `Location` with the Highest Revenue\n",
    "* `UNKNOWN` is the top revenue-generating location.\n",
    "However, this category likely includes transactions where the original location data was missing or labeled as `\"UNKNOWN\"`, and therefore it lacks clarity. It may represent online orders, third-party apps, or any unspecified channel.\n",
    "\n",
    "* `ERROR` has the lowest revenue, which may indicate:\n",
    "Transactions that were partially completed,\n",
    " system issues during logging\n",
    " or cases where payment still went through despite an error.\n",
    "\n",
    "**NOTICE**\n",
    "* When interpreting the `UNKNOWN` and `ERROR` categories, it's important to acknowledge the data limitations and avoid over-reliance on incomplete labels."
   ]
  },
  {
   "cell_type": "markdown",
   "id": "a124b958-437f-4d6b-ae5b-4fbe0b06ca4c",
   "metadata": {},
   "source": [
    "### 5. Which days of the week have the highest number of transactions?"
   ]
  },
  {
   "cell_type": "code",
   "execution_count": 235,
   "id": "771c47a0-844c-4d2d-834c-d67e9e58612a",
   "metadata": {},
   "outputs": [],
   "source": [
    "day_with_high_revenue=df.groupby(df[df[\"Transaction Date\"]!=\"1900-01-01\"][\"Transaction Date\"].dt.dayofweek)[[\"Total Spent\"]].sum().sort_values(by=\"Total Spent\", ascending=False)"
   ]
  },
  {
   "cell_type": "code",
   "execution_count": 236,
   "id": "e757e497-c3c7-4605-b3f2-96c6fae1a732",
   "metadata": {},
   "outputs": [
    {
     "data": {
      "text/html": [
       "<div>\n",
       "<style scoped>\n",
       "    .dataframe tbody tr th:only-of-type {\n",
       "        vertical-align: middle;\n",
       "    }\n",
       "\n",
       "    .dataframe tbody tr th {\n",
       "        vertical-align: top;\n",
       "    }\n",
       "\n",
       "    .dataframe thead th {\n",
       "        text-align: right;\n",
       "    }\n",
       "</style>\n",
       "<table border=\"1\" class=\"dataframe\">\n",
       "  <thead>\n",
       "    <tr style=\"text-align: right;\">\n",
       "      <th></th>\n",
       "      <th>Total Spent</th>\n",
       "    </tr>\n",
       "    <tr>\n",
       "      <th>Transaction Date</th>\n",
       "      <th></th>\n",
       "    </tr>\n",
       "  </thead>\n",
       "  <tbody>\n",
       "    <tr>\n",
       "      <th>3.0</th>\n",
       "      <td>12401.271231</td>\n",
       "    </tr>\n",
       "    <tr>\n",
       "      <th>4.0</th>\n",
       "      <td>12333.655296</td>\n",
       "    </tr>\n",
       "    <tr>\n",
       "      <th>6.0</th>\n",
       "      <td>12287.500000</td>\n",
       "    </tr>\n",
       "    <tr>\n",
       "      <th>0.0</th>\n",
       "      <td>12139.870907</td>\n",
       "    </tr>\n",
       "    <tr>\n",
       "      <th>5.0</th>\n",
       "      <td>12039.500000</td>\n",
       "    </tr>\n",
       "    <tr>\n",
       "      <th>1.0</th>\n",
       "      <td>12039.234347</td>\n",
       "    </tr>\n",
       "    <tr>\n",
       "      <th>2.0</th>\n",
       "      <td>11679.395760</td>\n",
       "    </tr>\n",
       "  </tbody>\n",
       "</table>\n",
       "</div>"
      ],
      "text/plain": [
       "                   Total Spent\n",
       "Transaction Date              \n",
       "3.0               12401.271231\n",
       "4.0               12333.655296\n",
       "6.0               12287.500000\n",
       "0.0               12139.870907\n",
       "5.0               12039.500000\n",
       "1.0               12039.234347\n",
       "2.0               11679.395760"
      ]
     },
     "execution_count": 236,
     "metadata": {},
     "output_type": "execute_result"
    }
   ],
   "source": [
    "day_with_high_revenue"
   ]
  },
  {
   "cell_type": "code",
   "execution_count": 237,
   "id": "88d29a3e-e433-45dd-ad2e-4927c3a7199e",
   "metadata": {},
   "outputs": [],
   "source": [
    "day_map = {0: 'Monday', 1: 'Tuesday', 2: 'Wednesday', 3: 'Thursday', 4: 'Friday', 5: 'Saturday', 6: 'Sunday'}"
   ]
  },
  {
   "cell_type": "code",
   "execution_count": 238,
   "id": "7cafb324-d535-4e75-8bd1-3d495f24e9a9",
   "metadata": {},
   "outputs": [],
   "source": [
    "day_with_high_revenue.index=day_with_high_revenue.index.map(day_map)"
   ]
  },
  {
   "cell_type": "code",
   "execution_count": 239,
   "id": "0b52933a-827a-45cb-898c-5e80f0a7fc00",
   "metadata": {},
   "outputs": [
    {
     "data": {
      "text/html": [
       "<div>\n",
       "<style scoped>\n",
       "    .dataframe tbody tr th:only-of-type {\n",
       "        vertical-align: middle;\n",
       "    }\n",
       "\n",
       "    .dataframe tbody tr th {\n",
       "        vertical-align: top;\n",
       "    }\n",
       "\n",
       "    .dataframe thead th {\n",
       "        text-align: right;\n",
       "    }\n",
       "</style>\n",
       "<table border=\"1\" class=\"dataframe\">\n",
       "  <thead>\n",
       "    <tr style=\"text-align: right;\">\n",
       "      <th></th>\n",
       "      <th>Total Spent</th>\n",
       "    </tr>\n",
       "    <tr>\n",
       "      <th>Transaction Date</th>\n",
       "      <th></th>\n",
       "    </tr>\n",
       "  </thead>\n",
       "  <tbody>\n",
       "    <tr>\n",
       "      <th>Thursday</th>\n",
       "      <td>12401.271231</td>\n",
       "    </tr>\n",
       "    <tr>\n",
       "      <th>Friday</th>\n",
       "      <td>12333.655296</td>\n",
       "    </tr>\n",
       "    <tr>\n",
       "      <th>Sunday</th>\n",
       "      <td>12287.500000</td>\n",
       "    </tr>\n",
       "    <tr>\n",
       "      <th>Monday</th>\n",
       "      <td>12139.870907</td>\n",
       "    </tr>\n",
       "    <tr>\n",
       "      <th>Saturday</th>\n",
       "      <td>12039.500000</td>\n",
       "    </tr>\n",
       "    <tr>\n",
       "      <th>Tuesday</th>\n",
       "      <td>12039.234347</td>\n",
       "    </tr>\n",
       "    <tr>\n",
       "      <th>Wednesday</th>\n",
       "      <td>11679.395760</td>\n",
       "    </tr>\n",
       "  </tbody>\n",
       "</table>\n",
       "</div>"
      ],
      "text/plain": [
       "                   Total Spent\n",
       "Transaction Date              \n",
       "Thursday          12401.271231\n",
       "Friday            12333.655296\n",
       "Sunday            12287.500000\n",
       "Monday            12139.870907\n",
       "Saturday          12039.500000\n",
       "Tuesday           12039.234347\n",
       "Wednesday         11679.395760"
      ]
     },
     "execution_count": 239,
     "metadata": {},
     "output_type": "execute_result"
    }
   ],
   "source": [
    "day_with_high_revenue"
   ]
  },
  {
   "cell_type": "markdown",
   "id": "a5148309-cd32-4f8b-9ef5-251ec98c6c49",
   "metadata": {},
   "source": [
    "### Day-wise Revenue Analysis\n",
    "\n",
    "* The day with the **highest total revenue** is **Thursday**.\n",
    "* The day with the **lowest total revenue** is **Wednesday**.\n"
   ]
  },
  {
   "cell_type": "markdown",
   "id": "ace501dc-32a9-4e08-8427-da48c0c1102f",
   "metadata": {},
   "source": [
    "\n",
    "\n",
    "### 6. Which payment method is used most often?"
   ]
  },
  {
   "cell_type": "code",
   "execution_count": 240,
   "id": "2c5c9b80-f046-41e0-8754-11a41086f04d",
   "metadata": {},
   "outputs": [],
   "source": [
    "freq_paym_meth=df[\"Payment Method\"].value_counts()"
   ]
  },
  {
   "cell_type": "code",
   "execution_count": 241,
   "id": "6bbb4f13-e965-40ed-8fa3-85db8244c00f",
   "metadata": {},
   "outputs": [
    {
     "data": {
      "text/plain": [
       "Payment Method\n",
       "UNKNOWN           2872\n",
       "Digital Wallet    2291\n",
       "Credit Card       2273\n",
       "Cash              2258\n",
       "ERROR              306\n",
       "Name: count, dtype: int64"
      ]
     },
     "execution_count": 241,
     "metadata": {},
     "output_type": "execute_result"
    }
   ],
   "source": [
    "freq_paym_meth"
   ]
  },
  {
   "cell_type": "markdown",
   "id": "bb2a77c2-ef84-4a07-acbb-b05385b14142",
   "metadata": {},
   "source": [
    "### Most Frequently Used Payment Method\n",
    "\n",
    "- `UNKNOWN` is the most frequently recorded payment method. However, this label likely includes entries where the actual method was missing, mislabeled, or not properly captured.\n",
    "\n",
    "- `Digital Wallet`, `Credit Card`, and `Cash` follow as the most common explicit payment methods, indicating a diverse range of customer preferences.\n",
    "\n",
    "- `ERROR` entries are minimal and may reflect system glitches or improperly logged transactions.\n",
    "\n",
    "**NOTICE**\n",
    "\n",
    "Just like with location data, the `UNKNOWN` and `ERROR` categories should be interpreted cautiously, as they represent data quality issues rather than true customer behavior.\n"
   ]
  },
  {
   "cell_type": "markdown",
   "id": "652c8dd3-3c2e-49e8-b391-b377675f9a98",
   "metadata": {},
   "source": [
    "### 7. Which items are most often purchased in bulk (highest average quantity)?"
   ]
  },
  {
   "cell_type": "code",
   "execution_count": 242,
   "id": "84180da4-ed0c-499f-baea-6b6b4a6451e9",
   "metadata": {},
   "outputs": [],
   "source": [
    "bulk_items = df[df[\"Quantity\"] > 0].groupby(\"Item\")[[\"Quantity\"]].mean().sort_values(by='Quantity',ascending=False)\n"
   ]
  },
  {
   "cell_type": "code",
   "execution_count": 243,
   "id": "c1b5dc66-e913-4a2c-8132-4047e72b22ad",
   "metadata": {},
   "outputs": [
    {
     "data": {
      "text/html": [
       "<div>\n",
       "<style scoped>\n",
       "    .dataframe tbody tr th:only-of-type {\n",
       "        vertical-align: middle;\n",
       "    }\n",
       "\n",
       "    .dataframe tbody tr th {\n",
       "        vertical-align: top;\n",
       "    }\n",
       "\n",
       "    .dataframe thead th {\n",
       "        text-align: right;\n",
       "    }\n",
       "</style>\n",
       "<table border=\"1\" class=\"dataframe\">\n",
       "  <thead>\n",
       "    <tr style=\"text-align: right;\">\n",
       "      <th></th>\n",
       "      <th>Quantity</th>\n",
       "    </tr>\n",
       "    <tr>\n",
       "      <th>Item</th>\n",
       "      <th></th>\n",
       "    </tr>\n",
       "  </thead>\n",
       "  <tbody>\n",
       "    <tr>\n",
       "      <th>Smoothie</th>\n",
       "      <td>3.049360</td>\n",
       "    </tr>\n",
       "    <tr>\n",
       "      <th>Coffee</th>\n",
       "      <td>3.048276</td>\n",
       "    </tr>\n",
       "    <tr>\n",
       "      <th>Cake</th>\n",
       "      <td>3.047452</td>\n",
       "    </tr>\n",
       "    <tr>\n",
       "      <th>Sandwich</th>\n",
       "      <td>3.042591</td>\n",
       "    </tr>\n",
       "    <tr>\n",
       "      <th>Tea</th>\n",
       "      <td>3.039522</td>\n",
       "    </tr>\n",
       "    <tr>\n",
       "      <th>Salad</th>\n",
       "      <td>3.027051</td>\n",
       "    </tr>\n",
       "    <tr>\n",
       "      <th>Unknown Item</th>\n",
       "      <td>3.004132</td>\n",
       "    </tr>\n",
       "    <tr>\n",
       "      <th>Juice</th>\n",
       "      <td>3.000856</td>\n",
       "    </tr>\n",
       "    <tr>\n",
       "      <th>Cookie</th>\n",
       "      <td>2.965138</td>\n",
       "    </tr>\n",
       "  </tbody>\n",
       "</table>\n",
       "</div>"
      ],
      "text/plain": [
       "              Quantity\n",
       "Item                  \n",
       "Smoothie      3.049360\n",
       "Coffee        3.048276\n",
       "Cake          3.047452\n",
       "Sandwich      3.042591\n",
       "Tea           3.039522\n",
       "Salad         3.027051\n",
       "Unknown Item  3.004132\n",
       "Juice         3.000856\n",
       "Cookie        2.965138"
      ]
     },
     "execution_count": 243,
     "metadata": {},
     "output_type": "execute_result"
    }
   ],
   "source": [
    "bulk_items"
   ]
  },
  {
   "cell_type": "markdown",
   "id": "cde33e10-88e8-4bbb-bc6d-bf72a38c2e73",
   "metadata": {},
   "source": [
    "**Note**\n",
    "All listed items have an average `Quantity` of around `3`, showing a consistent trend in bulk ordering behavior across product types. This may suggest frequent group or repeat purchases."
   ]
  },
  {
   "cell_type": "markdown",
   "id": "77e1c1ad-29c3-49aa-8582-30d953aa27c9",
   "metadata": {},
   "source": [
    "### 8. How has revenue trended over months? "
   ]
  },
  {
   "cell_type": "code",
   "execution_count": 244,
   "id": "80165f3e-9e7a-4a9a-ae49-6cb1818380dc",
   "metadata": {},
   "outputs": [],
   "source": [
    "highest_monthly_revenue=df.groupby(df[df[\"Transaction Date\"]!=\"1900-01-01\"][\"Transaction Date\"].dt.month)[[\"Total Spent\"]].sum().sort_values(by=\"Total Spent\", ascending=False)"
   ]
  },
  {
   "cell_type": "code",
   "execution_count": 245,
   "id": "49934874-2c68-4324-afc1-92bc32cb6615",
   "metadata": {},
   "outputs": [
    {
     "data": {
      "text/html": [
       "<div>\n",
       "<style scoped>\n",
       "    .dataframe tbody tr th:only-of-type {\n",
       "        vertical-align: middle;\n",
       "    }\n",
       "\n",
       "    .dataframe tbody tr th {\n",
       "        vertical-align: top;\n",
       "    }\n",
       "\n",
       "    .dataframe thead th {\n",
       "        text-align: right;\n",
       "    }\n",
       "</style>\n",
       "<table border=\"1\" class=\"dataframe\">\n",
       "  <thead>\n",
       "    <tr style=\"text-align: right;\">\n",
       "      <th></th>\n",
       "      <th>Total Spent</th>\n",
       "    </tr>\n",
       "    <tr>\n",
       "      <th>Transaction Date</th>\n",
       "      <th></th>\n",
       "    </tr>\n",
       "  </thead>\n",
       "  <tbody>\n",
       "    <tr>\n",
       "      <th>6.0</th>\n",
       "      <td>7352.870907</td>\n",
       "    </tr>\n",
       "    <tr>\n",
       "      <th>10.0</th>\n",
       "      <td>7313.655296</td>\n",
       "    </tr>\n",
       "    <tr>\n",
       "      <th>1.0</th>\n",
       "      <td>7254.000000</td>\n",
       "    </tr>\n",
       "    <tr>\n",
       "      <th>3.0</th>\n",
       "      <td>7216.000000</td>\n",
       "    </tr>\n",
       "    <tr>\n",
       "      <th>4.0</th>\n",
       "      <td>7178.734347</td>\n",
       "    </tr>\n",
       "    <tr>\n",
       "      <th>12.0</th>\n",
       "      <td>7177.000000</td>\n",
       "    </tr>\n",
       "    <tr>\n",
       "      <th>8.0</th>\n",
       "      <td>7111.395760</td>\n",
       "    </tr>\n",
       "    <tr>\n",
       "      <th>11.0</th>\n",
       "      <td>6967.000000</td>\n",
       "    </tr>\n",
       "    <tr>\n",
       "      <th>5.0</th>\n",
       "      <td>6957.500000</td>\n",
       "    </tr>\n",
       "    <tr>\n",
       "      <th>7.0</th>\n",
       "      <td>6877.500000</td>\n",
       "    </tr>\n",
       "    <tr>\n",
       "      <th>9.0</th>\n",
       "      <td>6871.000000</td>\n",
       "    </tr>\n",
       "    <tr>\n",
       "      <th>2.0</th>\n",
       "      <td>6643.771231</td>\n",
       "    </tr>\n",
       "  </tbody>\n",
       "</table>\n",
       "</div>"
      ],
      "text/plain": [
       "                  Total Spent\n",
       "Transaction Date             \n",
       "6.0               7352.870907\n",
       "10.0              7313.655296\n",
       "1.0               7254.000000\n",
       "3.0               7216.000000\n",
       "4.0               7178.734347\n",
       "12.0              7177.000000\n",
       "8.0               7111.395760\n",
       "11.0              6967.000000\n",
       "5.0               6957.500000\n",
       "7.0               6877.500000\n",
       "9.0               6871.000000\n",
       "2.0               6643.771231"
      ]
     },
     "execution_count": 245,
     "metadata": {},
     "output_type": "execute_result"
    }
   ],
   "source": [
    "highest_monthly_revenue"
   ]
  },
  {
   "cell_type": "code",
   "execution_count": 246,
   "id": "868b3584-5ec5-46b2-8dba-ad31df14fd43",
   "metadata": {},
   "outputs": [],
   "source": [
    "month_map = {1: \"January\",2: \"February\",3: \"March\",4: \"April\",5: \"May\",6: \"June\",7: \"July\",8: \"August\",9: \"September\",\n",
    "    10: \"October\",11: \"November\",12: \"December\"\n",
    "}"
   ]
  },
  {
   "cell_type": "code",
   "execution_count": 247,
   "id": "d586bce1-0c59-46c1-b4ec-935e919dfa4c",
   "metadata": {},
   "outputs": [],
   "source": [
    "highest_monthly_revenue.index=highest_monthly_revenue.index.map(month_map)"
   ]
  },
  {
   "cell_type": "code",
   "execution_count": 248,
   "id": "e3cacaa1-ae90-4243-9874-3a36013d8bd9",
   "metadata": {},
   "outputs": [
    {
     "data": {
      "text/html": [
       "<div>\n",
       "<style scoped>\n",
       "    .dataframe tbody tr th:only-of-type {\n",
       "        vertical-align: middle;\n",
       "    }\n",
       "\n",
       "    .dataframe tbody tr th {\n",
       "        vertical-align: top;\n",
       "    }\n",
       "\n",
       "    .dataframe thead th {\n",
       "        text-align: right;\n",
       "    }\n",
       "</style>\n",
       "<table border=\"1\" class=\"dataframe\">\n",
       "  <thead>\n",
       "    <tr style=\"text-align: right;\">\n",
       "      <th></th>\n",
       "      <th>Total Spent</th>\n",
       "    </tr>\n",
       "    <tr>\n",
       "      <th>Transaction Date</th>\n",
       "      <th></th>\n",
       "    </tr>\n",
       "  </thead>\n",
       "  <tbody>\n",
       "    <tr>\n",
       "      <th>June</th>\n",
       "      <td>7352.870907</td>\n",
       "    </tr>\n",
       "    <tr>\n",
       "      <th>October</th>\n",
       "      <td>7313.655296</td>\n",
       "    </tr>\n",
       "    <tr>\n",
       "      <th>January</th>\n",
       "      <td>7254.000000</td>\n",
       "    </tr>\n",
       "    <tr>\n",
       "      <th>March</th>\n",
       "      <td>7216.000000</td>\n",
       "    </tr>\n",
       "    <tr>\n",
       "      <th>April</th>\n",
       "      <td>7178.734347</td>\n",
       "    </tr>\n",
       "    <tr>\n",
       "      <th>December</th>\n",
       "      <td>7177.000000</td>\n",
       "    </tr>\n",
       "    <tr>\n",
       "      <th>August</th>\n",
       "      <td>7111.395760</td>\n",
       "    </tr>\n",
       "    <tr>\n",
       "      <th>November</th>\n",
       "      <td>6967.000000</td>\n",
       "    </tr>\n",
       "    <tr>\n",
       "      <th>May</th>\n",
       "      <td>6957.500000</td>\n",
       "    </tr>\n",
       "    <tr>\n",
       "      <th>July</th>\n",
       "      <td>6877.500000</td>\n",
       "    </tr>\n",
       "    <tr>\n",
       "      <th>September</th>\n",
       "      <td>6871.000000</td>\n",
       "    </tr>\n",
       "    <tr>\n",
       "      <th>February</th>\n",
       "      <td>6643.771231</td>\n",
       "    </tr>\n",
       "  </tbody>\n",
       "</table>\n",
       "</div>"
      ],
      "text/plain": [
       "                  Total Spent\n",
       "Transaction Date             \n",
       "June              7352.870907\n",
       "October           7313.655296\n",
       "January           7254.000000\n",
       "March             7216.000000\n",
       "April             7178.734347\n",
       "December          7177.000000\n",
       "August            7111.395760\n",
       "November          6967.000000\n",
       "May               6957.500000\n",
       "July              6877.500000\n",
       "September         6871.000000\n",
       "February          6643.771231"
      ]
     },
     "execution_count": 248,
     "metadata": {},
     "output_type": "execute_result"
    }
   ],
   "source": [
    "highest_monthly_revenue"
   ]
  },
  {
   "cell_type": "code",
   "execution_count": 249,
   "id": "5942cedf-0112-4c86-9754-f5947d6587b8",
   "metadata": {},
   "outputs": [
    {
     "data": {
      "text/plain": [
       "<matplotlib.legend.Legend at 0x1d7a5825b20>"
      ]
     },
     "execution_count": 249,
     "metadata": {},
     "output_type": "execute_result"
    },
    {
     "data": {
      "image/png": "[encoded data removed]",
      "text/plain": [
       "<Figure size 800x800 with 1 Axes>"
      ]
     },
     "metadata": {},
     "output_type": "display_data"
    }
   ],
   "source": [
    "highest_monthly_revenue.sort_values(by=\"Total Spent\",ascending=False).plot.bar(figsize=(8,8)).legend(bbox_to_anchor=(1.3,1))"
   ]
  },
  {
   "cell_type": "markdown",
   "id": "a27b5812-fc52-4106-bd94-c3f1b1ebacab",
   "metadata": {},
   "source": [
    "### Month-wise Revenue Analysis\n",
    "#### The bar chart above shows that the **total revenue per month is relatively consistent**, with no extreme fluctuations between most months. However, there are a few notable differences:\n",
    "* **June** appears to be the **best-performing month**, showing the highest revenue among all months.\n",
    "* In contrast, **February** records the **lowest revenue**, making it the weakest month in terms of performance.\n"
   ]
  },
  {
   "cell_type": "code",
   "execution_count": 250,
   "id": "20ccdbbc-1a69-4457-9cd7-bcf305f7c2d8",
   "metadata": {},
   "outputs": [
    {
     "data": {
      "text/html": [
       "<div>\n",
       "<style scoped>\n",
       "    .dataframe tbody tr th:only-of-type {\n",
       "        vertical-align: middle;\n",
       "    }\n",
       "\n",
       "    .dataframe tbody tr th {\n",
       "        vertical-align: top;\n",
       "    }\n",
       "\n",
       "    .dataframe thead th {\n",
       "        text-align: right;\n",
       "    }\n",
       "</style>\n",
       "<table border=\"1\" class=\"dataframe\">\n",
       "  <thead>\n",
       "    <tr style=\"text-align: right;\">\n",
       "      <th></th>\n",
       "      <th>Transaction ID</th>\n",
       "      <th>Item</th>\n",
       "      <th>Quantity</th>\n",
       "      <th>Price Per Unit</th>\n",
       "      <th>Total Spent</th>\n",
       "      <th>Payment Method</th>\n",
       "      <th>Location</th>\n",
       "      <th>Transaction Date</th>\n",
       "    </tr>\n",
       "  </thead>\n",
       "  <tbody>\n",
       "    <tr>\n",
       "      <th>0</th>\n",
       "      <td>TXN_1961373</td>\n",
       "      <td>Coffee</td>\n",
       "      <td>2</td>\n",
       "      <td>2.0</td>\n",
       "      <td>4.0</td>\n",
       "      <td>Credit Card</td>\n",
       "      <td>Takeaway</td>\n",
       "      <td>2023-09-08</td>\n",
       "    </tr>\n",
       "    <tr>\n",
       "      <th>1</th>\n",
       "      <td>TXN_4977031</td>\n",
       "      <td>Cake</td>\n",
       "      <td>4</td>\n",
       "      <td>3.0</td>\n",
       "      <td>12.0</td>\n",
       "      <td>Cash</td>\n",
       "      <td>In-store</td>\n",
       "      <td>2023-05-16</td>\n",
       "    </tr>\n",
       "    <tr>\n",
       "      <th>2</th>\n",
       "      <td>TXN_4271903</td>\n",
       "      <td>Cookie</td>\n",
       "      <td>4</td>\n",
       "      <td>1.0</td>\n",
       "      <td>4.0</td>\n",
       "      <td>Credit Card</td>\n",
       "      <td>In-store</td>\n",
       "      <td>2023-07-19</td>\n",
       "    </tr>\n",
       "    <tr>\n",
       "      <th>3</th>\n",
       "      <td>TXN_7034554</td>\n",
       "      <td>Salad</td>\n",
       "      <td>2</td>\n",
       "      <td>5.0</td>\n",
       "      <td>10.0</td>\n",
       "      <td>UNKNOWN</td>\n",
       "      <td>UNKNOWN</td>\n",
       "      <td>2023-04-27</td>\n",
       "    </tr>\n",
       "    <tr>\n",
       "      <th>4</th>\n",
       "      <td>TXN_3160411</td>\n",
       "      <td>Coffee</td>\n",
       "      <td>2</td>\n",
       "      <td>2.0</td>\n",
       "      <td>4.0</td>\n",
       "      <td>Digital Wallet</td>\n",
       "      <td>In-store</td>\n",
       "      <td>2023-06-11</td>\n",
       "    </tr>\n",
       "  </tbody>\n",
       "</table>\n",
       "</div>"
      ],
      "text/plain": [
       "  Transaction ID    Item  Quantity  Price Per Unit  Total Spent  \\\n",
       "0    TXN_1961373  Coffee         2             2.0          4.0   \n",
       "1    TXN_4977031    Cake         4             3.0         12.0   \n",
       "2    TXN_4271903  Cookie         4             1.0          4.0   \n",
       "3    TXN_7034554   Salad         2             5.0         10.0   \n",
       "4    TXN_3160411  Coffee         2             2.0          4.0   \n",
       "\n",
       "   Payment Method  Location Transaction Date  \n",
       "0     Credit Card  Takeaway       2023-09-08  \n",
       "1            Cash  In-store       2023-05-16  \n",
       "2     Credit Card  In-store       2023-07-19  \n",
       "3         UNKNOWN   UNKNOWN       2023-04-27  \n",
       "4  Digital Wallet  In-store       2023-06-11  "
      ]
     },
     "execution_count": 250,
     "metadata": {},
     "output_type": "execute_result"
    }
   ],
   "source": [
    "df.head()"
   ]
  },
  {
   "cell_type": "markdown",
   "id": "f09b35ea-420c-45ee-8e1b-8ddf17bb1b40",
   "metadata": {},
   "source": [
    "### 9. How do items contribute to the highest revenue-generating month?"
   ]
  },
  {
   "cell_type": "markdown",
   "id": "0cb1dd81-d3ae-4af0-84be-336c701aea89",
   "metadata": {},
   "source": [
    "* #### Setting the index of the dataframe will make it easier to work with time based analysis."
   ]
  },
  {
   "cell_type": "code",
   "execution_count": 252,
   "id": "2d97e628-cac6-4cb4-904d-99f6fc3c988a",
   "metadata": {},
   "outputs": [],
   "source": [
    "df2=df\n",
    "df2=df2.set_index(\"Transaction Date\").sort_index()\n"
   ]
  },
  {
   "cell_type": "markdown",
   "id": "cfe8e29f-e605-4298-b2d1-6094431bb8b3",
   "metadata": {},
   "source": [
    "* #### Removing `1900-01-01` because it's used as a placeholder and the actual time is not known."
   ]
  },
  {
   "cell_type": "code",
   "execution_count": 253,
   "id": "448396c7-67e3-4d4b-93e3-83cdfb36b44a",
   "metadata": {},
   "outputs": [],
   "source": [
    "df2=df2[df2.index!=\"1900-01-01\"]"
   ]
  },
  {
   "cell_type": "markdown",
   "id": "b1314717-8388-4602-9b7c-0d8320b27d26",
   "metadata": {},
   "source": [
    "* #### Because the highest revenue was generated in the month `June` the dataframe can be further filtered to month `6`."
   ]
  },
  {
   "cell_type": "code",
   "execution_count": 254,
   "id": "3a7aa140-8bd4-4524-b023-cd3c709063f8",
   "metadata": {},
   "outputs": [],
   "source": [
    "df2_june=df2[df2.index.month==6]"
   ]
  },
  {
   "cell_type": "markdown",
   "id": "e6da2acf-92e1-4f4b-bec9-a9fea4a998f1",
   "metadata": {},
   "source": [
    "* #### A pie chart to show how each items are distributed out of `100%` in the month `June`."
   ]
  },
  {
   "cell_type": "code",
   "execution_count": 255,
   "id": "8feea0f4-e5e3-435f-aa9c-d8563e28351c",
   "metadata": {},
   "outputs": [
    {
     "data": {
      "text/plain": [
       "<Axes: title={'center': \"June's Total Spent per Item out of 100%\"}>"
      ]
     },
     "execution_count": 255,
     "metadata": {},
     "output_type": "execute_result"
    },
    {
     "data": {
      "image/png": "[encoded data removed]",
      "text/plain": [
       "<Figure size 800x800 with 1 Axes>"
      ]
     },
     "metadata": {},
     "output_type": "display_data"
    }
   ],
   "source": [
    "df2_june.groupby(\"Item\")[[\"Total Spent\"]].sum().plot.pie(\n",
    "    y=\"Total Spent\",\n",
    "    title=\"June's Total Spent per Item out of 100%\",\n",
    "    legend=False,\n",
    "    ylabel=\"\",\n",
    "    figsize=(8,8),\n",
    "    autopct=\"%.1f%%\" #To create a peercentage with 1 decimal point\n",
    "    )"
   ]
  },
  {
   "cell_type": "markdown",
   "id": "9ae6348e-b281-49c6-aa58-ea4d837376d6",
   "metadata": {},
   "source": [
    "### Pie Chart Insights: Item Contribution in June\n",
    "\n",
    "* The pie chart shows that `Salad` accounts for **20.5%** of the total revenue in June, further supporting previous observations that it is a top-performing item.\n",
    "\n",
    "* On the other hand, `Cookie` contributes only **3.5%**, making it the **lowest revenue-generating item** during the month. This reinforces earlier insights that Cookie has minimal impact on overall sales.\n"
   ]
  },
  {
   "cell_type": "markdown",
   "id": "4dc09192-daf7-41d7-a88b-7a6f0e26eb9b",
   "metadata": {},
   "source": [
    "### 10. How does revenue vary by item and payment method?"
   ]
  },
  {
   "cell_type": "code",
   "execution_count": 256,
   "id": "b49ef14b-a7f0-4b10-9843-069d78ee7187",
   "metadata": {},
   "outputs": [
    {
     "data": {
      "text/html": [
       "<style type=\"text/css\">\n",
       "#T_073db_row0_col0 {\n",
       "  background-color: #91d068;\n",
       "  color: #000000;\n",
       "}\n",
       "#T_073db_row0_col1 {\n",
       "  background-color: #fee999;\n",
       "  color: #000000;\n",
       "}\n",
       "#T_073db_row0_col2 {\n",
       "  background-color: #f8fcb6;\n",
       "  color: #000000;\n",
       "}\n",
       "#T_073db_row0_col3 {\n",
       "  background-color: #ebf7a3;\n",
       "  color: #000000;\n",
       "}\n",
       "#T_073db_row1_col0, #T_073db_row7_col1 {\n",
       "  background-color: #db382b;\n",
       "  color: #f1f1f1;\n",
       "}\n",
       "#T_073db_row1_col1 {\n",
       "  background-color: #f47044;\n",
       "  color: #f1f1f1;\n",
       "}\n",
       "#T_073db_row1_col2, #T_073db_row8_col0 {\n",
       "  background-color: #fb9d59;\n",
       "  color: #000000;\n",
       "}\n",
       "#T_073db_row1_col3 {\n",
       "  background-color: #fdc574;\n",
       "  color: #000000;\n",
       "}\n",
       "#T_073db_row2_col0, #T_073db_row2_col1, #T_073db_row2_col2, #T_073db_row2_col3 {\n",
       "  background-color: #a50026;\n",
       "  color: #f1f1f1;\n",
       "}\n",
       "#T_073db_row3_col0 {\n",
       "  background-color: #fdc171;\n",
       "  color: #000000;\n",
       "}\n",
       "#T_073db_row3_col1 {\n",
       "  background-color: #fffebe;\n",
       "  color: #000000;\n",
       "}\n",
       "#T_073db_row3_col2 {\n",
       "  background-color: #fff7b2;\n",
       "  color: #000000;\n",
       "}\n",
       "#T_073db_row3_col3 {\n",
       "  background-color: #e0f295;\n",
       "  color: #000000;\n",
       "}\n",
       "#T_073db_row4_col0 {\n",
       "  background-color: #118848;\n",
       "  color: #f1f1f1;\n",
       "}\n",
       "#T_073db_row4_col1, #T_073db_row4_col2, #T_073db_row4_col3, #T_073db_row6_col0 {\n",
       "  background-color: #006837;\n",
       "  color: #f1f1f1;\n",
       "}\n",
       "#T_073db_row5_col0 {\n",
       "  background-color: #4bb05c;\n",
       "  color: #f1f1f1;\n",
       "}\n",
       "#T_073db_row5_col1 {\n",
       "  background-color: #84ca66;\n",
       "  color: #000000;\n",
       "}\n",
       "#T_073db_row5_col2 {\n",
       "  background-color: #6ec064;\n",
       "  color: #000000;\n",
       "}\n",
       "#T_073db_row5_col3 {\n",
       "  background-color: #addc6f;\n",
       "  color: #000000;\n",
       "}\n",
       "#T_073db_row6_col1 {\n",
       "  background-color: #d7ee8a;\n",
       "  color: #000000;\n",
       "}\n",
       "#T_073db_row6_col2 {\n",
       "  background-color: #bde379;\n",
       "  color: #000000;\n",
       "}\n",
       "#T_073db_row6_col3 {\n",
       "  background-color: #45ad5b;\n",
       "  color: #f1f1f1;\n",
       "}\n",
       "#T_073db_row7_col0 {\n",
       "  background-color: #d93429;\n",
       "  color: #f1f1f1;\n",
       "}\n",
       "#T_073db_row7_col2 {\n",
       "  background-color: #da362a;\n",
       "  color: #f1f1f1;\n",
       "}\n",
       "#T_073db_row7_col3 {\n",
       "  background-color: #e24731;\n",
       "  color: #f1f1f1;\n",
       "}\n",
       "#T_073db_row8_col1 {\n",
       "  background-color: #fdb96a;\n",
       "  color: #000000;\n",
       "}\n",
       "#T_073db_row8_col2 {\n",
       "  background-color: #fedc88;\n",
       "  color: #000000;\n",
       "}\n",
       "#T_073db_row8_col3 {\n",
       "  background-color: #fee593;\n",
       "  color: #000000;\n",
       "}\n",
       "</style>\n",
       "<table id=\"T_073db\">\n",
       "  <thead>\n",
       "    <tr>\n",
       "      <th class=\"index_name level0\" >Location</th>\n",
       "      <th id=\"T_073db_level0_col0\" class=\"col_heading level0 col0\" >ERROR</th>\n",
       "      <th id=\"T_073db_level0_col1\" class=\"col_heading level0 col1\" >In-store</th>\n",
       "      <th id=\"T_073db_level0_col2\" class=\"col_heading level0 col2\" >Takeaway</th>\n",
       "      <th id=\"T_073db_level0_col3\" class=\"col_heading level0 col3\" >UNKNOWN</th>\n",
       "    </tr>\n",
       "    <tr>\n",
       "      <th class=\"index_name level0\" >Item</th>\n",
       "      <th class=\"blank col0\" >&nbsp;</th>\n",
       "      <th class=\"blank col1\" >&nbsp;</th>\n",
       "      <th class=\"blank col2\" >&nbsp;</th>\n",
       "      <th class=\"blank col3\" >&nbsp;</th>\n",
       "    </tr>\n",
       "  </thead>\n",
       "  <tbody>\n",
       "    <tr>\n",
       "      <th id=\"T_073db_level0_row0\" class=\"row_heading level0 row0\" >Cake</th>\n",
       "      <td id=\"T_073db_row0_col0\" class=\"data row0 col0\" >480.000000</td>\n",
       "      <td id=\"T_073db_row0_col1\" class=\"data row0 col1\" >2973.000000</td>\n",
       "      <td id=\"T_073db_row0_col2\" class=\"data row0 col2\" >3143.730000</td>\n",
       "      <td id=\"T_073db_row0_col3\" class=\"data row0 col3\" >3807.000000</td>\n",
       "    </tr>\n",
       "    <tr>\n",
       "      <th id=\"T_073db_level0_row1\" class=\"row_heading level0 row1\" >Coffee</th>\n",
       "      <td id=\"T_073db_row1_col0\" class=\"data row1 col0\" >186.000000</td>\n",
       "      <td id=\"T_073db_row1_col1\" class=\"data row1 col1\" >1940.000000</td>\n",
       "      <td id=\"T_073db_row1_col2\" class=\"data row1 col2\" >2182.000000</td>\n",
       "      <td id=\"T_073db_row1_col3\" class=\"data row1 col3\" >2764.000000</td>\n",
       "    </tr>\n",
       "    <tr>\n",
       "      <th id=\"T_073db_level0_row2\" class=\"row_heading level0 row2\" >Cookie</th>\n",
       "      <td id=\"T_073db_row2_col0\" class=\"data row2 col0\" >130.000000</td>\n",
       "      <td id=\"T_073db_row2_col1\" class=\"data row2 col1\" >972.000000</td>\n",
       "      <td id=\"T_073db_row2_col2\" class=\"data row2 col2\" >1090.000000</td>\n",
       "      <td id=\"T_073db_row2_col3\" class=\"data row2 col3\" >1040.000000</td>\n",
       "    </tr>\n",
       "    <tr>\n",
       "      <th id=\"T_073db_level0_row3\" class=\"row_heading level0 row3\" >Juice</th>\n",
       "      <td id=\"T_073db_row3_col0\" class=\"data row3 col0\" >291.000000</td>\n",
       "      <td id=\"T_073db_row3_col1\" class=\"data row3 col1\" >3309.000000</td>\n",
       "      <td id=\"T_073db_row3_col2\" class=\"data row3 col2\" >2975.770000</td>\n",
       "      <td id=\"T_073db_row3_col3\" class=\"data row3 col3\" >3939.000000</td>\n",
       "    </tr>\n",
       "    <tr>\n",
       "      <th id=\"T_073db_level0_row4\" class=\"row_heading level0 row4\" >Salad</th>\n",
       "      <td id=\"T_073db_row4_col0\" class=\"data row4 col0\" >575.000000</td>\n",
       "      <td id=\"T_073db_row4_col1\" class=\"data row4 col1\" >5663.900000</td>\n",
       "      <td id=\"T_073db_row4_col2\" class=\"data row4 col2\" >5070.000000</td>\n",
       "      <td id=\"T_073db_row4_col3\" class=\"data row4 col3\" >6035.000000</td>\n",
       "    </tr>\n",
       "    <tr>\n",
       "      <th id=\"T_073db_level0_row5\" class=\"row_heading level0 row5\" >Sandwich</th>\n",
       "      <td id=\"T_073db_row5_col0\" class=\"data row5 col0\" >528.000000</td>\n",
       "      <td id=\"T_073db_row5_col1\" class=\"data row5 col1\" >4507.660000</td>\n",
       "      <td id=\"T_073db_row5_col2\" class=\"data row5 col2\" >4216.000000</td>\n",
       "      <td id=\"T_073db_row5_col3\" class=\"data row5 col3\" >4464.000000</td>\n",
       "    </tr>\n",
       "    <tr>\n",
       "      <th id=\"T_073db_level0_row6\" class=\"row_heading level0 row6\" >Smoothie</th>\n",
       "      <td id=\"T_073db_row6_col0\" class=\"data row6 col0\" >608.000000</td>\n",
       "      <td id=\"T_073db_row6_col1\" class=\"data row6 col1\" >3812.000000</td>\n",
       "      <td id=\"T_073db_row6_col2\" class=\"data row6 col2\" >3688.000000</td>\n",
       "      <td id=\"T_073db_row6_col3\" class=\"data row6 col3\" >5236.000000</td>\n",
       "    </tr>\n",
       "    <tr>\n",
       "      <th id=\"T_073db_level0_row7\" class=\"row_heading level0 row7\" >Tea</th>\n",
       "      <td id=\"T_073db_row7_col0\" class=\"data row7 col0\" >181.500000</td>\n",
       "      <td id=\"T_073db_row7_col1\" class=\"data row7 col1\" >1517.870000</td>\n",
       "      <td id=\"T_073db_row7_col2\" class=\"data row7 col2\" >1530.000000</td>\n",
       "      <td id=\"T_073db_row7_col3\" class=\"data row7 col3\" >1731.000000</td>\n",
       "    </tr>\n",
       "    <tr>\n",
       "      <th id=\"T_073db_level0_row8\" class=\"row_heading level0 row8\" >Unknown Item</th>\n",
       "      <td id=\"T_073db_row8_col0\" class=\"data row8 col0\" >262.000000</td>\n",
       "      <td id=\"T_073db_row8_col1\" class=\"data row8 col1\" >2477.000000</td>\n",
       "      <td id=\"T_073db_row8_col2\" class=\"data row8 col2\" >2656.500000</td>\n",
       "      <td id=\"T_073db_row8_col3\" class=\"data row8 col3\" >3112.000000</td>\n",
       "    </tr>\n",
       "  </tbody>\n",
       "</table>\n"
      ],
      "text/plain": [
       "<pandas.io.formats.style.Styler at 0x1d7a538cb00>"
      ]
     },
     "execution_count": 256,
     "metadata": {},
     "output_type": "execute_result"
    }
   ],
   "source": [
    "df.pivot_table(index=\"Item\",columns=\"Location\",values=\"Total Spent\",aggfunc=\"sum\").round(2).style.background_gradient(cmap=\"RdYlGn\")"
   ]
  },
  {
   "cell_type": "markdown",
   "id": "f32df561-7f5b-40e3-8b06-93a056b42693",
   "metadata": {},
   "source": [
    "#### Heatmap Insights: Locations vs. Items\n",
    "\n",
    "* The heatmap reveals a **strong relationship** between most locations and the item `Salad`. This supports the earlier conclusion that **Salad generates the highest revenue** among all items.\n",
    "\n",
    "* Additionally, the heatmap suggests that the item `Smoothie` may contain data inconsistencies or errors, as its relationship with `ERROR` is higher than the other items.\n",
    "\n",
    "* On the other hand, the item `Cookie` shows the weakest relationship with all locations, which stands in contrast to the strong relations observed for Salad.\n",
    "\n",
    "* These patterns highlight Salad as a key revenue driver, while also signaling areas (like Smoothie) that may require further data validation.\n"
   ]
  },
  {
   "cell_type": "markdown",
   "id": "1054174f-9496-41d6-8354-0962b63e29cd",
   "metadata": {},
   "source": [
    "##  Final Report: Cafe Sales Data Analysis"
   ]
  },
  {
   "cell_type": "markdown",
   "id": "e045ebb8-fd21-4834-8716-b9fc304251ff",
   "metadata": {},
   "source": [
    "### 1. Item with the Highest Revenue\n",
    "The item that generated the highest total revenue is `Salad`, with a total revenue of `$17,343.90`.\n",
    "\n",
    "### 2. Most Frequently Sold Item\n",
    "The most frequently sold item is `Coffee`, making it the most popular product by quantity.\n",
    "\n",
    "### 3. Average Total Spent per Transaction\n",
    "- The average amount spent per transaction is `$8.90`.\n",
    "\n",
    "- However, due to a high standard deviation, individual transaction totals vary significantly, generally ranging between `$2 and $14`.\n",
    "\n",
    "### 4. Location Generating the Most Revenue\n",
    "- The `Location` with the highest revenue is labeled `\"UNKNOWN\"`.\n",
    "\n",
    "- This category likely includes entries where the original location data was missing or unspecified.\n",
    "\n",
    "- It may represent online orders, third-party delivery apps, or other unclassified channels.\n",
    "\n",
    "- The \"ERROR\" location generated the lowest revenue.\n",
    "\n",
    "- This may reflect system logging issues, incomplete transactions, or exceptions during payment.\n",
    "\n",
    "### 5. Day of the Week with Most Transactions\n",
    "- The day with the highest number of transactions is `Thursday`.\n",
    "\n",
    "- The lowest total spent occurs on Wednesday.\n",
    "\n",
    "### 6. Most Used Payment Method\n",
    "- The most commonly used payment method is `\"UNKNOWN\"`, due to a large number of initially missing values replaced as such.\n",
    "\n",
    "- Excluding `\"UNKNOWN\"`, the most frequently used method is Digital Wallet.\n",
    "\n",
    "### 7. Items Purchased Most in Bulk\n",
    "- Items are typically purchased in similar quantities.\n",
    "\n",
    "- After calculating the average quantity per item, all items had an average of approximately 3 units per transaction.\n",
    "\n",
    "- This suggests that no item stands out significantly as being purchased in bulk more than others.\n",
    "\n",
    "### 8. Revenue Trend Over Time `Monthly`\n",
    "- The month with the highest revenue is June, followed by October.\n",
    "\n",
    "- The lowest revenue was recorded in February.\n",
    "\n",
    "### 9. Items distribution over the highest revenue-generating month?\n",
    "* `Salad` accounts for `20.5%` of `Junes` total revenue, making it the highest.\n",
    "\n",
    "* `Cookie` accounts for `3.5%` of `Junes` total revenue, making it the lowest.\n",
    "\n",
    "### 10. Items total revenue Over `Location`\n",
    "- `Salad` generates the highest revenue among all items.\n",
    "\n",
    "- `Smoothie` may require further data validation beecause of its strong relationship with `ERROR`.\n",
    "\n",
    "- `Cookie` shows the weakest relationship with all locations indicating it generates the lowest revenue among all items.\n"
   ]
  }
 ],
 "metadata": {
  "kernelspec": {
   "display_name": "Python 3 (ipykernel)",
   "language": "python",
   "name": "python3"
  },
  "language_info": {
   "codemirror_mode": {
    "name": "ipython",
    "version": 3
   },
   "file_extension": ".py",
   "mimetype": "text/x-python",
   "name": "python",
   "nbconvert_exporter": "python",
   "pygments_lexer": "ipython3",
   "version": "3.12.7"
  }
 },
 "nbformat": 4,
 "nbformat_minor": 5
}
